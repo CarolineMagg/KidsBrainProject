{
 "cells": [
  {
   "cell_type": "markdown",
   "metadata": {},
   "source": [
    "# Render Contours\n",
    "\n",
    "author = Caroline Magg <br>\n",
    "date = 01 April 2020 <br>\n",
    "test PatientData class and different segmentation algorithms <br>\n",
    "___________________________________\n",
    "history: <br>\n",
    "2020-04-12 <br>\n",
    "build PatientData wrapper with convient methods for data processing <br>\n",
    "2020-04-15 <br>\n",
    "refactor PatientData to have object for PatientData (contour, pre and post treatment) and DicomFileWrapper <br>\n",
    "first tests with active contour methods form skikit-image <br>\n",
    "2020-04-16 <br>\n",
    "refactor 2D slices functions <br>\n",
    "2020-04-20 <br>\n",
    "code clean up and correct mapping <br>\n",
    "2020-04-22,28,29 <br>\n",
    "test segmentation methods for struct='Brain' <br>\n",
    "2020-05-04 <br>\n",
    "test segmentation for struct='Corpus callosum' <br>\n",
    "2020-09-16, 2020-09-17 <br>\n",
    "generate plots for report <br>"
   ]
  },
  {
   "cell_type": "code",
   "execution_count": null,
   "metadata": {},
   "outputs": [],
   "source": [
    "import os\n",
    "import sys\n",
    "import numpy as np\n",
    "import matplotlib.pyplot as plt\n",
    "import pandas as pd\n",
    "import cv2\n",
    "import pydicom\n",
    "from natsort import natsorted\n",
    "import scipy\n",
    "import time\n",
    "import logging as log"
   ]
  },
  {
   "cell_type": "code",
   "execution_count": null,
   "metadata": {},
   "outputs": [],
   "source": [
    "log.basicConfig(format='%(levelname)s:%(message)s', level=log.INFO)"
   ]
  },
  {
   "cell_type": "markdown",
   "metadata": {},
   "source": [
    "### Add dependencies"
   ]
  },
  {
   "cell_type": "code",
   "execution_count": null,
   "metadata": {},
   "outputs": [],
   "source": [
    "# add KidsBrainProject main folder to paths\n",
    "sys.path.append(os.path.abspath('../../'))\n",
    "sys.path.append(os.path.abspath('../utils/'))"
   ]
  },
  {
   "cell_type": "code",
   "execution_count": null,
   "metadata": {},
   "outputs": [],
   "source": [
    "#from utils_explore import read_structure,read_contour,read_contour_names,read_contour_row\n",
    "from PatientData import PatientData\n",
    "from DicomWrapper import DicomWrapper"
   ]
  },
  {
   "cell_type": "code",
   "execution_count": null,
   "metadata": {},
   "outputs": [],
   "source": [
    "# add path to data here\n",
    "path_data = \"../../Data/\" "
   ]
  },
  {
   "cell_type": "markdown",
   "metadata": {},
   "source": [
    "### Explore folder structure and naming"
   ]
  },
  {
   "cell_type": "code",
   "execution_count": null,
   "metadata": {},
   "outputs": [],
   "source": [
    "idx = 1\n",
    "folder_name = os.path.join(path_data, str(idx))\n",
    "folder = os.listdir(folder_name)\n",
    "folder"
   ]
  },
  {
   "cell_type": "code",
   "execution_count": null,
   "metadata": {},
   "outputs": [],
   "source": [
    "contours_list = pd.read_csv(\"list_contours.csv\",delimiter=';')\n",
    "contours_list"
   ]
  },
  {
   "cell_type": "code",
   "execution_count": null,
   "metadata": {},
   "outputs": [],
   "source": [
    "contour_of_interest = [\"PTV\",\"GTV\",\"CTV\"]"
   ]
  },
  {
   "cell_type": "markdown",
   "metadata": {},
   "source": [
    "# PatientData"
   ]
  },
  {
   "cell_type": "code",
   "execution_count": null,
   "metadata": {},
   "outputs": [],
   "source": [
    "files = os.listdir(os.path.join(path_data, str(idx)))\n",
    "path_contour = os.path.join(path_data, str(idx), 'RS.Jacks1.dcm')\n",
    "path_preop = os.path.join(path_data, str(idx), 'CT')\n",
    "path_postop1 = [os.path.join(path_data, str(idx), fn) for fn in [x for x in files if 'T1' in x]]\n",
    "dcm = pydicom.dcmread(path_contour)\n",
    "path_contour, path_preop, path_postop1"
   ]
  },
  {
   "cell_type": "code",
   "execution_count": null,
   "metadata": {},
   "outputs": [],
   "source": [
    "data = PatientData(path_preop, path_postop1, path_contour)"
   ]
  },
  {
   "cell_type": "code",
   "execution_count": null,
   "metadata": {},
   "outputs": [],
   "source": [
    "data.get_all_contour_names()"
   ]
  },
  {
   "cell_type": "code",
   "execution_count": null,
   "metadata": {},
   "outputs": [],
   "source": [
    "struct = [\"Brain\",\"PTV1\",\"PTV2\",\"GTV\",\"CTV\",\"Scalp\",\"Corpus callosum\"]\n",
    "data.read_filtered_contour(roiname=struct,mode=\"exact\")"
   ]
  },
  {
   "cell_type": "code",
   "execution_count": null,
   "metadata": {},
   "outputs": [],
   "source": [
    "data.get_filtered_contour_names()"
   ]
  },
  {
   "cell_type": "code",
   "execution_count": null,
   "metadata": {},
   "outputs": [],
   "source": [
    "found = data.get_filtered_contour_names().values\n",
    "index = data.contour_list_names_filtered['first'].values\n",
    "found, index"
   ]
  },
  {
   "cell_type": "code",
   "execution_count": null,
   "metadata": {
    "scrolled": true
   },
   "outputs": [],
   "source": [
    "# visualise single segmentation in 2D in all dicom files\n",
    "data.show_overlays_init(\"Brain\", 122)"
   ]
  },
  {
   "cell_type": "code",
   "execution_count": null,
   "metadata": {},
   "outputs": [],
   "source": [
    "# visualize slices of pre op\n",
    "data.show_slices2D(data.get_pre_images())"
   ]
  },
  {
   "cell_type": "code",
   "execution_count": null,
   "metadata": {},
   "outputs": [],
   "source": [
    "#visualize slices of post op\n",
    "data.show_slices2D(data.get_post_images()[1])"
   ]
  },
  {
   "cell_type": "code",
   "execution_count": null,
   "metadata": {},
   "outputs": [],
   "source": [
    "# visualize slices of pre op with contours\n",
    "ind = 6\n",
    "print(found[ind])\n",
    "data.show_slices2D_contour(found[ind], show_every=3, start_with=index[ind])"
   ]
  },
  {
   "cell_type": "markdown",
   "metadata": {},
   "source": [
    "# Segmentation Draft"
   ]
  },
  {
   "cell_type": "code",
   "execution_count": null,
   "metadata": {},
   "outputs": [],
   "source": [
    "import skimage.segmentation as segmentation"
   ]
  },
  {
   "cell_type": "code",
   "execution_count": null,
   "metadata": {},
   "outputs": [],
   "source": [
    "import skimage\n",
    "skimage.__version__"
   ]
  },
  {
   "cell_type": "code",
   "execution_count": null,
   "metadata": {},
   "outputs": [],
   "source": [
    "# init structure to process\n",
    "ind = 72\n",
    "struct = \"Brain\"\n",
    "img_postop = data.get_post_images(ind)\n",
    "img_preop = data.get_pre_images(ind)[0]\n",
    "pts_init = data.get_contour_points(struct, ind)[0]\n",
    "contour_init = data.get_contour_overlay(struct, ind)[0]\n",
    "\n",
    "plt.show()\n",
    "data.show_overlay2D_pre(struct,ind)"
   ]
  },
  {
   "cell_type": "code",
   "execution_count": null,
   "metadata": {},
   "outputs": [],
   "source": [
    "img_postop[0].dtype, img_preop.dtype, contour_init.dtype"
   ]
  },
  {
   "cell_type": "code",
   "execution_count": null,
   "metadata": {},
   "outputs": [],
   "source": [
    "def plot_segmentation(img, pts_init=None, pts_dilated=None, pts_process=None):\n",
    "    fig, ax = plt.subplots(figsize=(7, 7))\n",
    "    ax.imshow(img, cmap=plt.cm.gray)\n",
    "    if pts_init is not None:\n",
    "        print(len(pts_init))\n",
    "        for pts in pts_init:\n",
    "            ax.plot(pts[:, 0], pts[:, 1], '--r', lw=2, label='init')\n",
    "    if pts_dilated is not None:        \n",
    "        print(len(pts_dilated))\n",
    "        for pts in pts_dilated:\n",
    "            ax.plot(pts[:, 0], pts[:, 1], '-g', lw=2, label='dilated')\n",
    "    if pts_process is not None:        \n",
    "        print(len(pts_process))\n",
    "        for pts in pts_process:\n",
    "            ax.plot(pts[:, 0], pts[:, 1], '-b', lw=3, label='processed')\n",
    "    ax.legend()\n",
    "    plt.show()"
   ]
  },
  {
   "cell_type": "code",
   "execution_count": null,
   "metadata": {},
   "outputs": [],
   "source": [
    "def plot_segmentation_only_init(img, pts_init=None, pts_dilated=None, pts_process=None):\n",
    "    fig, ax = plt.subplots(figsize=(7, 7))\n",
    "    ax.imshow(img, cmap=plt.cm.gray)\n",
    "    if pts_init is not None:\n",
    "        print(len(pts_init))\n",
    "        for pts in pts_init:\n",
    "            ax.plot(pts[:, 0], pts[:, 1], '--r', lw=2, label='init')\n",
    "    ax.legend()\n",
    "    plt.show()\n",
    "def plot_segmentation_only_dilated(img, pts_init=None, pts_dilated=None, pts_process=None):\n",
    "    fig, ax = plt.subplots(figsize=(7, 7))\n",
    "    ax.imshow(img, cmap=plt.cm.gray)\n",
    "    if pts_dilated is not None:        \n",
    "        print(len(pts_dilated))\n",
    "        for pts in pts_dilated:\n",
    "            ax.plot(pts[:, 0], pts[:, 1], '-g', lw=2, label='dilated')\n",
    "    ax.legend()\n",
    "    plt.show()\n",
    "def plot_segmentation_only_processed(img, pts_init=None, pts_dilated=None, pts_process=None):\n",
    "    fig, ax = plt.subplots(figsize=(7, 7))\n",
    "    ax.imshow(img, cmap=plt.cm.gray)\n",
    "    if pts_process is not None:        \n",
    "        print(len(pts_process))\n",
    "        for pts in pts_process:\n",
    "            ax.plot(pts[:, 0], pts[:, 1], '-b', lw=3, label='processed')\n",
    "    ax.legend()\n",
    "    plt.show()"
   ]
  },
  {
   "cell_type": "code",
   "execution_count": null,
   "metadata": {},
   "outputs": [],
   "source": [
    "def contour_to_pts(contour):\n",
    "    tmp = cv2.findContours(contour.astype(np.uint8),cv2.RETR_TREE, cv2.CHAIN_APPROX_SIMPLE)[1]\n",
    "    pts = []\n",
    "    for t in tmp:\n",
    "        tmp2 = t.reshape(t.shape[0], t.shape[2])\n",
    "        pts.append(tmp2)\n",
    "    return pts"
   ]
  },
  {
   "cell_type": "code",
   "execution_count": null,
   "metadata": {},
   "outputs": [],
   "source": [
    "def dilate_segmentation(contour_mask_init, kernel_size=(10,10), iteration=1, debug=False, image = None):\n",
    "    kernel = np.ones(kernel_size, np.uint8)\n",
    "    contour_dilated = cv2.dilate(contour_mask_init, kernel, iterations = iteration)\n",
    "    pts_dilated = contour_to_pts(contour_dilated)\n",
    "    pts_init = contour_to_pts(contour_mask_init)\n",
    "    if debug:\n",
    "        toshow = contour_mask_init + contour_dilated\n",
    "        plt.imshow(toshow)\n",
    "        plt.show()\n",
    "        if image is not None:\n",
    "            plot_segmentation(image, pts_init, pts_dilated)\n",
    "            plot_segmentation(image, pts_init, None)\n",
    "            plot_segmentation(image, None, pts_dilated)\n",
    "    return pts_dilated"
   ]
  },
  {
   "cell_type": "code",
   "execution_count": null,
   "metadata": {},
   "outputs": [],
   "source": [
    "def create_contour(img, pts):\n",
    "    contour_img = np.zeros_like(img, dtype=np.int16)\n",
    "    vertices = pts.astype(np.int32)\n",
    "    if len(vertices) != 0:\n",
    "        cv2.drawContours(contour_img, [vertices], -1, (255,0,0), -1)\n",
    "    return contour_img"
   ]
  },
  {
   "cell_type": "code",
   "execution_count": null,
   "metadata": {},
   "outputs": [],
   "source": [
    "def image_preprocessing(image):\n",
    "    img = image.copy()\n",
    "    clahe = cv2.createCLAHE(clipLimit=2.0, tileGridSize=(8,8))\n",
    "    img = clahe.apply(img)\n",
    "    return img"
   ]
  },
  {
   "cell_type": "code",
   "execution_count": null,
   "metadata": {},
   "outputs": [],
   "source": [
    "def segmentations_active_contour(stack_img, stack_contour, stack_pts):\n",
    "    contour_proc = []\n",
    "    pts_proc = []\n",
    "    pts_dilated2 = []\n",
    "    for idx in range(len(stack_img)):        \n",
    "        t = time.time()\n",
    "        image = stack_img[idx]\n",
    "        contour_init = stack_contour[idx]\n",
    "        pts_init = stack_pts[idx]\n",
    "        if pts_init is not None: \n",
    "            pts_dilated = dilate_segmentation(contour_init,kernel_size=(10,10),debug=False)\n",
    "            pts_proc2 = []\n",
    "            contour_proc2 = []\n",
    "            for pts_instance in pts_dilated:\n",
    "                pts = segmentation.active_contour(image, pts_instance,w_edge=150,beta=2)\n",
    "                pts_proc2.append(pts)\n",
    "                contour_proc2.append(create_contour(image, pts))\n",
    "            contour_proc.append(contour_proc2)\n",
    "            pts_proc.append(pts_proc2)\n",
    "            pts_dilated2.append(pts_dilated)\n",
    "        else:\n",
    "            contour_proc.append(contour_init)\n",
    "            pts_proc.append(pts_init)\n",
    "        elapsed = time.time() - t\n",
    "        print(' ...', idx, elapsed)\n",
    "    return pts_proc, contour_proc, pts_dilated2"
   ]
  },
  {
   "cell_type": "code",
   "execution_count": null,
   "metadata": {},
   "outputs": [],
   "source": [
    "contour_init = data.get_contour_overlay(struct)[72]\n",
    "plt.imshow(contour_init)"
   ]
  },
  {
   "cell_type": "code",
   "execution_count": null,
   "metadata": {},
   "outputs": [],
   "source": [
    "pts_dilated = dilate_segmentation(contour_init, debug=True, image=data.get_pre_images()[72])"
   ]
  },
  {
   "cell_type": "code",
   "execution_count": null,
   "metadata": {
    "scrolled": true
   },
   "outputs": [],
   "source": [
    "# apply contour segmentation to stack of images\n",
    "first = 72\n",
    "last = 72+5\n",
    "img_postop = data.get_post_images()[0]\n",
    "pts_init = data.get_contour_points(struct)\n",
    "contour_init = data.get_contour_overlay(struct)\n",
    "pts_proc, contour_proc, pts_dilated = segmentations_active_contour(img_postop[first:last], contour_init[first:last], pts_init[first:last])"
   ]
  },
  {
   "cell_type": "code",
   "execution_count": null,
   "metadata": {},
   "outputs": [],
   "source": [
    "np.shape(contour_proc), np.shape(pts_dilated)"
   ]
  },
  {
   "cell_type": "code",
   "execution_count": null,
   "metadata": {},
   "outputs": [],
   "source": [
    "first"
   ]
  },
  {
   "cell_type": "code",
   "execution_count": null,
   "metadata": {},
   "outputs": [],
   "source": [
    "ind = 0\n",
    "plot_segmentation(img_postop[first+ind], pts_init[first+ind], pts_dilated[ind], pts_proc[ind])"
   ]
  },
  {
   "cell_type": "code",
   "execution_count": null,
   "metadata": {},
   "outputs": [],
   "source": [
    "plot_segmentation(img_postop[first+ind], None, None, pts_proc[ind])"
   ]
  },
  {
   "cell_type": "code",
   "execution_count": null,
   "metadata": {},
   "outputs": [],
   "source": [
    "# apply contour segmentation to stack of images\n",
    "first = 72\n",
    "last = 73\n",
    "img_preop = data.get_pre_images()\n",
    "pts_init = data.get_contour_points(struct)\n",
    "contour_init = data.get_contour_overlay(struct)\n",
    "pts_proc, contour_proc, pts_dilated = segmentations_active_contour(img_preop[first:last], contour_init[first:last], pts_init[first:last])"
   ]
  },
  {
   "cell_type": "code",
   "execution_count": null,
   "metadata": {},
   "outputs": [],
   "source": [
    "ind = 0\n",
    "plot_segmentation(img_preop[first+ind], pts_init[first+ind], pts_dilated[ind], pts_proc[ind])"
   ]
  },
  {
   "cell_type": "code",
   "execution_count": null,
   "metadata": {},
   "outputs": [],
   "source": [
    "plot_segmentation(img_preop[first+ind], pts_init[first+ind], pts_dilated[ind], None)"
   ]
  },
  {
   "cell_type": "code",
   "execution_count": null,
   "metadata": {},
   "outputs": [],
   "source": []
  },
  {
   "cell_type": "markdown",
   "metadata": {},
   "source": [
    "### Test different segmentation methods"
   ]
  },
  {
   "cell_type": "code",
   "execution_count": null,
   "metadata": {},
   "outputs": [],
   "source": [
    "contour_init = data.get_contour_overlay(struct)[80]\n",
    "plt.imshow(contour_init)"
   ]
  },
  {
   "cell_type": "code",
   "execution_count": null,
   "metadata": {},
   "outputs": [],
   "source": [
    "img_postop = data.get_post_images()[0]\n",
    "image = img_postop[80]\n",
    "pts_init = data.get_contour_points(struct,80)[0]\n",
    "plt.imshow(image)"
   ]
  },
  {
   "cell_type": "code",
   "execution_count": null,
   "metadata": {},
   "outputs": [],
   "source": [
    "pts_dilated = dilate_segmentation(contour_init,kernel_size=(4,4),debug=False)[0]\n",
    "#image = image_preprocessing(image)\n",
    "pts_proc = segmentation.active_contour(image, pts_init[0],w_edge=150,beta=0.5,max_iterations=4)\n",
    "contour_proc = create_contour(image, pts_proc)\n",
    "plot_segmentation(image, pts_init, [pts_dilated], [pts_proc])"
   ]
  },
  {
   "cell_type": "code",
   "execution_count": null,
   "metadata": {},
   "outputs": [],
   "source": [
    "# Chan Vese\n",
    "# Active contour model by evolving a level set. Can be used to segment objects without clearly defined boundaries.\n",
    "#image = img_postop[1]\n",
    "pts_dilated = dilate_segmentation(contour_init,kernel_size=(10,10),debug=False)[0]\n",
    "contour_dilated = create_contour(image, pts_dilated).astype(np.int8)\n",
    "#image = image_preprocessing(image)\n",
    "contour_proc = ~segmentation.chan_vese(image, init_level_set=contour_dilated, lambda1=0.5, lambda2=1.5, mu=0.1)\n",
    "tmp = cv2.findContours(contour_proc.astype(np.uint8),cv2.RETR_TREE, cv2.CHAIN_APPROX_SIMPLE)[1][0]\n",
    "pts_proc = tmp.reshape((tmp.shape[0], tmp.shape[2]))\n",
    "#contour_proc = create_contour(image, pts_proc)\n",
    "plot_segmentation(image, pts_init, [pts_dilated], [pts_proc])"
   ]
  },
  {
   "cell_type": "code",
   "execution_count": null,
   "metadata": {},
   "outputs": [],
   "source": [
    "# Morphological Geodesic Active Contours (MorphGAC).\n",
    "# Geodesic active contours implemented with morphological operators. \n",
    "# It can be used to segment objects with visible but noisy, cluttered, broken borders.\n",
    "#image = img_postop[1]\n",
    "pts_dilated = dilate_segmentation(contour_init,kernel_size=(15,15),debug=False)[0]\n",
    "contour_dilated = create_contour(image, pts_dilated).astype(np.int8)\n",
    "image = skimage.img_as_float(image)\n",
    "gimage = segmentation.inverse_gaussian_gradient(image)\n",
    "contour_proc = segmentation.morphological_geodesic_active_contour(gimage, iterations=150,init_level_set=contour_dilated)"
   ]
  },
  {
   "cell_type": "code",
   "execution_count": null,
   "metadata": {},
   "outputs": [],
   "source": [
    "np.min(contour_proc), np.max(contour_proc)"
   ]
  },
  {
   "cell_type": "code",
   "execution_count": null,
   "metadata": {},
   "outputs": [],
   "source": [
    "plt.imshow(contour_proc)"
   ]
  },
  {
   "cell_type": "code",
   "execution_count": null,
   "metadata": {},
   "outputs": [],
   "source": [
    "# Morphological Active Contours without Edges (MorphACWE)\n",
    "# Active contours without edges implemented with morphological operators. \n",
    "# It can be used to segment objects in images and volumes without well defined borders. \n",
    "# It is required that the inside of the object looks different on average than the outside\n",
    "#image = img_postop[1]\n",
    "pts_dilated = dilate_segmentation(contour_init,kernel_size=(10,10),debug=False)[0]\n",
    "contour_dilated = create_contour(image, pts_dilated).astype(np.int8)\n",
    "image = skimage.img_as_float(image)\n",
    "contour_proc = segmentation.morphological_chan_vese(image, iterations=35,init_level_set='circle', smoothing=3)"
   ]
  },
  {
   "cell_type": "code",
   "execution_count": null,
   "metadata": {},
   "outputs": [],
   "source": [
    "plt.imshow(contour_proc)"
   ]
  },
  {
   "cell_type": "code",
   "execution_count": null,
   "metadata": {},
   "outputs": [],
   "source": []
  },
  {
   "cell_type": "code",
   "execution_count": null,
   "metadata": {},
   "outputs": [],
   "source": []
  }
 ],
 "metadata": {
  "kernelspec": {
   "display_name": "Python 3",
   "language": "python",
   "name": "python3"
  },
  "language_info": {
   "codemirror_mode": {
    "name": "ipython",
    "version": 3
   },
   "file_extension": ".py",
   "mimetype": "text/x-python",
   "name": "python",
   "nbconvert_exporter": "python",
   "pygments_lexer": "ipython3",
   "version": "3.6.10"
  }
 },
 "nbformat": 4,
 "nbformat_minor": 2
}
