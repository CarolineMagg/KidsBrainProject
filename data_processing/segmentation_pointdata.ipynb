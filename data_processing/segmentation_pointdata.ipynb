{
 "cells": [
  {
   "cell_type": "markdown",
   "metadata": {},
   "source": [
    "# Generate segmentation\n",
    "with optimal found parameters\n",
    "\n",
    "author = Caroline Magg <br>\n",
    "date = 09 Oktober 2020 <br>\n",
    "\n",
    "___________________________________\n",
    "history: <br>\n",
    "2020-10-09 Test if point data of segmentation can be extracted <br>"
   ]
  },
  {
   "cell_type": "code",
   "execution_count": null,
   "metadata": {},
   "outputs": [],
   "source": [
    "import os\n",
    "import sys\n",
    "import numpy as np\n",
    "import matplotlib.pyplot as plt\n",
    "import pandas as pd\n",
    "import cv2\n",
    "import pydicom\n",
    "from natsort import natsorted\n",
    "import scipy\n",
    "import time\n",
    "import logging as log\n",
    "import skimage.segmentation as segmentation\n",
    "import itertools"
   ]
  },
  {
   "cell_type": "code",
   "execution_count": null,
   "metadata": {},
   "outputs": [],
   "source": [
    "log.basicConfig(format='%(levelname)s:%(message)s', level=log.INFO)"
   ]
  },
  {
   "cell_type": "markdown",
   "metadata": {},
   "source": [
    "### Add dependencies"
   ]
  },
  {
   "cell_type": "code",
   "execution_count": null,
   "metadata": {},
   "outputs": [],
   "source": [
    "# add KidsBrainProject main folder to paths\n",
    "sys.path.append(os.path.abspath('../../'))\n",
    "sys.path.append(os.path.abspath('../utils/'))"
   ]
  },
  {
   "cell_type": "code",
   "execution_count": null,
   "metadata": {},
   "outputs": [],
   "source": [
    "from PatientData import PatientData\n",
    "from DicomWrapper import DicomWrapper\n",
    "from Segmentation import Segmentation\n",
    "from HyperparameterSearchSegmentation import HyperparameterSearchSegmentation as HyperparamSearch"
   ]
  },
  {
   "cell_type": "code",
   "execution_count": null,
   "metadata": {},
   "outputs": [],
   "source": [
    "# add path to data here\n",
    "path_data = \"../../Data/\" "
   ]
  },
  {
   "cell_type": "markdown",
   "metadata": {},
   "source": [
    "### Contour list"
   ]
  },
  {
   "cell_type": "code",
   "execution_count": null,
   "metadata": {},
   "outputs": [],
   "source": [
    "contours_list = pd.read_csv(\"list_contours.csv\",delimiter=',')\n",
    "contours_list"
   ]
  },
  {
   "cell_type": "markdown",
   "metadata": {},
   "source": [
    "### Review the hyperparameter search"
   ]
  },
  {
   "cell_type": "code",
   "execution_count": null,
   "metadata": {},
   "outputs": [],
   "source": [
    "contour_of_interest = contours_list['RoiName'].values\n",
    "values_of_interest = contours_list['Values'].values\n",
    "print(contour_of_interest)\n",
    "print(values_of_interest)\n",
    "len(contour_of_interest)"
   ]
  },
  {
   "cell_type": "raw",
   "metadata": {},
   "source": [
    "contour_of_interest = [\"Brain\",\n",
    "                        \"Cerebell POST YL\", \n",
    "                        \"Cingulum left\", \"Cingulum right\",\n",
    "                        \"Fornix\",\n",
    "                        \"Hypothalamus\",\n",
    "                        \"TemporalLobeLt\", \"TemporalLobeRt\",\n",
    "                        \"PTV1\",\"PTV2\",\"GTV\",\n",
    "                        \"CTV\", \"CTV1\", \"CTV2\",\n",
    "                        \"Scalp\",\n",
    "                        \"Corpus callosum\",\n",
    "                        \"Thalamus left\", \"Thalamus right\", \"Thalamus ant L\", \"Thalamus ant R\",\n",
    "                        \"PapezCircle\"]\n",
    "len(contour_of_interest)"
   ]
  },
  {
   "cell_type": "raw",
   "metadata": {},
   "source": [
    "df = [pd.read_csv(\"list_hyperparameter_search_folder{0}.csv\".format(idx)) for idx in range(2,10)]\n",
    "values = {}\n",
    "for struct in contour_of_interest:\n",
    "    tmp = []\n",
    "    for idx in range(2,10):\n",
    "        try:\n",
    "            tmp.append(df[idx].loc[df[idx]['Struct']==struct]['Values'].values[0])\n",
    "        except:\n",
    "            tmp.append(None)\n",
    "    values[struct] = tmp\n",
    "values"
   ]
  },
  {
   "cell_type": "code",
   "execution_count": null,
   "metadata": {},
   "outputs": [],
   "source": []
  },
  {
   "cell_type": "markdown",
   "metadata": {},
   "source": [
    "# Segmentation T0"
   ]
  },
  {
   "cell_type": "code",
   "execution_count": null,
   "metadata": {},
   "outputs": [],
   "source": [
    "compression_params = [cv2.IMWRITE_PNG_COMPRESSION, 0]"
   ]
  },
  {
   "cell_type": "code",
   "execution_count": null,
   "metadata": {
    "scrolled": true
   },
   "outputs": [],
   "source": [
    "for idx in range(20,21):\n",
    "    print(\"folder\", idx)\n",
    "    t = time.time()\n",
    "    files = os.listdir(os.path.join(path_data, str(idx)))\n",
    "    path_contour = os.path.join(path_data, str(idx), 'RS.Jacks{0}.dcm'.format(idx))\n",
    "    path_preop = os.path.join(path_data, str(idx), 'CT')\n",
    "    path_postop = [os.path.join(path_data, str(idx), fn) for fn in [x for x in files if 'T1' in x or 'MRT' in x]]\n",
    "    \n",
    "    data = PatientData(path_preop, path_postop, path_contour)\n",
    "    data.read_filtered_contour(roiname=contour_of_interest, mode=\"exact\")\n",
    "    segmentor = Segmentation(data, debug=True)\n",
    "    \n",
    "    directory = os.path.join(path_data, str(idx), 'Segmentation')\n",
    "    if not os.path.exists(directory):\n",
    "        os.makedirs(directory)\n",
    "    if not os.path.exists(os.path.join(directory, 'png')):\n",
    "        os.makedirs(os.path.join(directory, 'png'))\n",
    "    if not os.path.exists(os.path.join(directory, 'init')):\n",
    "        os.makedirs(os.path.join(directory, 'init'))\n",
    "    if not os.path.exists(os.path.join(directory, 't0')):\n",
    "        os.makedirs(os.path.join(directory, 't0'))\n",
    "        \n",
    "    # dicom image -> png\n",
    "    print(\"pngs images\")\n",
    "    img = data.get_pre_images()\n",
    "    [cv2.imwrite(os.path.join(directory, 'png', '{0}_slice{1}.png'.format(idx,i)), img[i].astype(np.uint8), compression_params) for i in range(len(img))]\n",
    "\n",
    "    # segmentations\n",
    "    found_struct = data.get_filtered_contour_names().values\n",
    "    first_index = data.contour_list_names_filtered['first'].values\n",
    "    last_index = data.contour_list_names_filtered['last'].values\n",
    "    # t0 segmentations\n",
    "    print(\"t0 segmentation\")\n",
    "    for struct, first, last in zip(found_struct, first_index, last_index):\n",
    "        tmp = contours_list[contours_list['RoiName'] == struct]['Values'].values[0]\n",
    "        values = [float(x) for x in tmp.replace('(','').replace(')','').split(',')]\n",
    "        cont = segmentor.active_contour(struct, postprocess=-1, first=first, last=last,\n",
    "                       kernel=(int(values[0]),int(values[0])), beta=values[1], max_iterations=int(values[2])) \n",
    "        break\n",
    "    break\n",
    "        #for i in range(len(cont)):\n",
    "            #cv2.imwrite(os.path.join(directory, 't0', '{0}_t0_{1}_slice{2}.png'.format(idx,struct,first+i)), \n",
    "            #            cont[i].astype(np.uint8), \n",
    "            #            compression_params)\n",
    "        \n",
    "    # init segmentation\n",
    "    #print(\"init segmentation\")\n",
    "    #for ind, first, last in zip(range(len(first_index)), first_index, last_index):\n",
    "    #    struct = found_struct[ind]\n",
    "        #for i in range(first, last+1):\n",
    "            #cv2.imwrite(os.path.join(directory, 'init', '{0}_init_{1}_slice{2}.png'.format(idx,struct,i)),\n",
    "            #            data.contour_list_names_filtered.iloc[ind]['mask'][i].astype(np.uint8),\n",
    "            #            compression_params)"
   ]
  },
  {
   "cell_type": "code",
   "execution_count": null,
   "metadata": {},
   "outputs": [],
   "source": [
    "np.shape(segmentor._stack_pts_segm[0])"
   ]
  },
  {
   "cell_type": "code",
   "execution_count": null,
   "metadata": {},
   "outputs": [],
   "source": [
    "np.shape(segmentor._stack_pts_dilated[0])"
   ]
  },
  {
   "cell_type": "code",
   "execution_count": null,
   "metadata": {},
   "outputs": [],
   "source": [
    "np.shape(Segmentation.contour_to_pts(segmentor._stack_contour_init[0])[1])"
   ]
  },
  {
   "cell_type": "code",
   "execution_count": null,
   "metadata": {},
   "outputs": [],
   "source": [
    "plt.imshow(segmentor._stack_contour_init[0])"
   ]
  },
  {
   "cell_type": "code",
   "execution_count": null,
   "metadata": {},
   "outputs": [],
   "source": []
  },
  {
   "cell_type": "code",
   "execution_count": null,
   "metadata": {},
   "outputs": [],
   "source": []
  },
  {
   "cell_type": "code",
   "execution_count": null,
   "metadata": {},
   "outputs": [],
   "source": []
  },
  {
   "cell_type": "code",
   "execution_count": null,
   "metadata": {},
   "outputs": [],
   "source": []
  },
  {
   "cell_type": "code",
   "execution_count": null,
   "metadata": {},
   "outputs": [],
   "source": []
  },
  {
   "cell_type": "code",
   "execution_count": null,
   "metadata": {},
   "outputs": [],
   "source": []
  },
  {
   "cell_type": "markdown",
   "metadata": {},
   "source": [
    "# Segmentation T1+"
   ]
  },
  {
   "cell_type": "raw",
   "metadata": {
    "scrolled": true
   },
   "source": [
    "for idx in range(15,21):\n",
    "    if idx == 19:\n",
    "        continue\n",
    "    print(\"folder\", idx)\n",
    "    t = time.time()\n",
    "    files = os.listdir(os.path.join(path_data, str(idx)))\n",
    "    path_contour = os.path.join(path_data, str(idx), 'RS.Jacks{0}.dcm'.format(idx))\n",
    "    path_preop = os.path.join(path_data, str(idx), 'CT')\n",
    "    path_postop = [os.path.join(path_data, str(idx), fn) for fn in [x for x in files if 'T1' in x or 'MRT1' in x]]\n",
    "    \n",
    "    data = PatientData(path_preop, path_postop, path_contour)\n",
    "    data.read_filtered_contour(roiname=contour_of_interest, mode=\"exact\")\n",
    "    segmentor = Segmentation(data, debug=True)\n",
    "    \n",
    "    # segmentations of t0\n",
    "    found_struct = data.get_filtered_contour_names().values\n",
    "    first_index = data.contour_list_names_filtered['first'].values\n",
    "    last_index = data.contour_list_names_filtered['last'].values\n",
    "    \n",
    "    directory = os.path.join(path_data, str(idx), 'Segmentation')  \n",
    "    \n",
    "    # t1+ segmentations and images\n",
    "    for postop in range(len(data._postop_dicoms)):\n",
    "        print(\"t{0} segmentations\".format(postop+1))\n",
    "        d = path_postop[postop].split('\\\\')[-1].split(' ')[-1]\n",
    "        name = 't1 '+ d\n",
    "        name02 = 'png ' + d\n",
    "        if not os.path.exists(os.path.join(directory, name)):\n",
    "            os.makedirs(os.path.join(directory, name))\n",
    "        if not os.path.exists(os.path.join(directory, name02)):\n",
    "            os.makedirs(os.path.join(directory, name02))\n",
    "        # segmentation\n",
    "        for struct, first, last in zip(found_struct, first_index, last_index):\n",
    "            tmp = contours_list[contours_list['RoiName'] == struct]['Values'].values[0]\n",
    "            values = [float(x) for x in tmp.replace('(','').replace(')','').split(',')]\n",
    "            cont = segmentor.active_contour(struct, postprocess=postop, first=first, last=last,\n",
    "                           kernel=(int(values[0]),int(values[0])), beta=values[1], max_iterations=int(values[2])) \n",
    "            for i in range(len(cont)):\n",
    "                cv2.imwrite(os.path.join(directory, name, '{0}_t1_{3}_{1}_slice{2}.png'.format(idx,struct,first+i,d)), \n",
    "                            cont[i].astype(np.uint8), \n",
    "                            compression_params)\n",
    "        # images\n",
    "        img = data.get_post_images()\n",
    "        [cv2.imwrite(os.path.join(directory, name02, '{0}_slice{1}.png'.format(idx,ix)), img[postop][ix].astype(np.uint8), compression_params) for ix in range(np.shape(img)[1])]"
   ]
  },
  {
   "cell_type": "code",
   "execution_count": null,
   "metadata": {},
   "outputs": [],
   "source": []
  },
  {
   "cell_type": "markdown",
   "metadata": {},
   "source": [
    "# Create csv"
   ]
  },
  {
   "cell_type": "raw",
   "metadata": {},
   "source": [
    "for contour in contours_list['RoiName']:\n",
    "    print(contour)\n",
    "    df = pd.DataFrame(columns=['PatientID','Img','Init','Segm','Slice','RoiName'])\n",
    "    for idx in range(15,21):\n",
    "        if idx==19:\n",
    "            continue\n",
    "        directory_segm = os.path.join(path_data, str(idx),'Segmentation','t0')  \n",
    "        directory_png = os.path.join(path_data, str(idx),'Segmentation','png')  \n",
    "        directory_init = os.path.join(path_data, str(idx),'Segmentation','init')  \n",
    "        files_segm = os.listdir(directory_segm)\n",
    "        files_pngs = os.listdir(directory_png)\n",
    "        files_init = os.listdir(directory_init)\n",
    "        slices = [int(files_pngs[ix].replace('{0}_slice'.format(idx),'').replace('.png','')) for ix in range(len(files_pngs))]\n",
    "        slices = sorted(slices)\n",
    "        for ix in slices:\n",
    "            fn = '{0}_slice{1}.png'.format(idx, ix)\n",
    "            ln = '{0}_t0_{1}_slice{2}.png'.format(idx, contour, ix)\n",
    "            ln2 = '{0}_init_{1}_slice{2}.png'.format(idx, contour, ix)\n",
    "            fn_idx = files_pngs.index(fn)\n",
    "            try:\n",
    "                ln_idx = files_segm.index(ln)\n",
    "            except:\n",
    "                ln_idx = None\n",
    "            try:\n",
    "                init_idx = files_init.index(ln2)\n",
    "            except:\n",
    "                init_idx = None\n",
    "            if init_idx is not None:\n",
    "                row = {'PatientID': idx,\n",
    "                      'Img': os.path.join(directory_png,files_pngs[fn_idx]).replace('\\\\','/'),\n",
    "                      'Init': os.path.join(directory_init, files_init[init_idx]).replace('\\\\','/') if init_idx is not None else None,\n",
    "                      'Segm': os.path.join(directory_segm,files_segm[ln_idx]).replace('\\\\','/') if ln_idx is not None else None, \n",
    "                      'Slice': ix,\n",
    "                      'RoiName': contour}\n",
    "                df = df.append(row, ignore_index=True)        \n",
    "    #df.to_csv('../../Data/data_{0}.csv'.format(contour.replace(' ','')), index=False, sep=';')\n",
    "    df.to_csv('../../Data/test_{0}.csv'.format(contour.replace(' ','')), index=False, sep=';')"
   ]
  },
  {
   "cell_type": "raw",
   "metadata": {},
   "source": [
    "df = pd.read_csv('../../Data/test_Brain.csv', sep=';')\n",
    "df"
   ]
  },
  {
   "cell_type": "raw",
   "metadata": {},
   "source": [
    "df.loc[8]"
   ]
  },
  {
   "cell_type": "raw",
   "metadata": {},
   "source": [
    "plt.imshow(cv2.imread(df.loc[88,'Segm'], cv2.IMREAD_GRAYSCALE))"
   ]
  },
  {
   "cell_type": "code",
   "execution_count": null,
   "metadata": {},
   "outputs": [],
   "source": []
  },
  {
   "cell_type": "code",
   "execution_count": null,
   "metadata": {},
   "outputs": [],
   "source": []
  }
 ],
 "metadata": {
  "kernelspec": {
   "display_name": "Python 3",
   "language": "python",
   "name": "python3"
  },
  "language_info": {
   "codemirror_mode": {
    "name": "ipython",
    "version": 3
   },
   "file_extension": ".py",
   "mimetype": "text/x-python",
   "name": "python",
   "nbconvert_exporter": "python",
   "pygments_lexer": "ipython3",
   "version": "3.6.10"
  }
 },
 "nbformat": 4,
 "nbformat_minor": 2
}
