{
 "cells": [
  {
   "cell_type": "markdown",
   "metadata": {},
   "source": [
    "# Hyperparameter search for T0 segmentation\n",
    "with sparse grid search\n",
    "\n",
    "author = Caroline Magg <br>\n",
    "date = 25 May 2020 <br>\n",
    "\n",
    "___________________________________\n",
    "history: <br>\n",
    "2020-25-05 Run first hyperparameter search <br>\n",
    "2020-25-05 Run hyperparameter search for CTV1, CTV2 <br>\n",
    "2020-01-07 Run hyperparametersearch for T0 for all structures with a more educated guess about the range of parameters (from frist run) <br>\n",
    "2020-27-07 Find best parameters for all structures independent of patient (use majority vote)"
   ]
  },
  {
   "cell_type": "code",
   "execution_count": 1,
   "metadata": {},
   "outputs": [],
   "source": [
    "import os\n",
    "import sys\n",
    "import numpy as np\n",
    "import matplotlib.pyplot as plt\n",
    "import pandas as pd\n",
    "import cv2\n",
    "import pydicom\n",
    "from natsort import natsorted\n",
    "import scipy\n",
    "import time\n",
    "import logging as log\n",
    "import skimage.segmentation as segmentation\n",
    "import itertools"
   ]
  },
  {
   "cell_type": "code",
   "execution_count": 2,
   "metadata": {},
   "outputs": [],
   "source": [
    "log.basicConfig(format='%(levelname)s:%(message)s', level=log.INFO)"
   ]
  },
  {
   "cell_type": "markdown",
   "metadata": {},
   "source": [
    "### Add dependencies"
   ]
  },
  {
   "cell_type": "code",
   "execution_count": 3,
   "metadata": {},
   "outputs": [],
   "source": [
    "# add KidsBrainProject main folder to paths\n",
    "sys.path.append(os.path.abspath('../../'))\n",
    "sys.path.append(os.path.abspath('../utils/'))"
   ]
  },
  {
   "cell_type": "code",
   "execution_count": 4,
   "metadata": {},
   "outputs": [],
   "source": [
    "#from utils_explore import read_structure,read_contour,read_contour_names,read_contour_row\n",
    "from PatientData import PatientData\n",
    "from DicomWrapper import DicomWrapper\n",
    "from Segmentation import Segmentation\n",
    "from HyperparameterSearchSegmentation import HyperparameterSearchSegmentation as HyperparamSearch"
   ]
  },
  {
   "cell_type": "code",
   "execution_count": 5,
   "metadata": {},
   "outputs": [],
   "source": [
    "# add path to data here\n",
    "path_data = \"../../Data/\" "
   ]
  },
  {
   "cell_type": "markdown",
   "metadata": {},
   "source": [
    "# Contour list"
   ]
  },
  {
   "cell_type": "code",
   "execution_count": 6,
   "metadata": {},
   "outputs": [
    {
     "data": {
      "text/html": [
       "<div>\n",
       "<style scoped>\n",
       "    .dataframe tbody tr th:only-of-type {\n",
       "        vertical-align: middle;\n",
       "    }\n",
       "\n",
       "    .dataframe tbody tr th {\n",
       "        vertical-align: top;\n",
       "    }\n",
       "\n",
       "    .dataframe thead th {\n",
       "        text-align: right;\n",
       "    }\n",
       "</style>\n",
       "<table border=\"1\" class=\"dataframe\">\n",
       "  <thead>\n",
       "    <tr style=\"text-align: right;\">\n",
       "      <th></th>\n",
       "      <th>Number</th>\n",
       "      <th>RoiName</th>\n",
       "      <th>Values</th>\n",
       "    </tr>\n",
       "  </thead>\n",
       "  <tbody>\n",
       "    <tr>\n",
       "      <th>0</th>\n",
       "      <td>1</td>\n",
       "      <td>Brain</td>\n",
       "      <td>(5, 0.05, 2)</td>\n",
       "    </tr>\n",
       "    <tr>\n",
       "      <th>1</th>\n",
       "      <td>2</td>\n",
       "      <td>Cerebell POST YL</td>\n",
       "      <td>(5, 0.05, 2)</td>\n",
       "    </tr>\n",
       "    <tr>\n",
       "      <th>2</th>\n",
       "      <td>3</td>\n",
       "      <td>Cingulum left</td>\n",
       "      <td>(10, 0.2, 5)</td>\n",
       "    </tr>\n",
       "    <tr>\n",
       "      <th>3</th>\n",
       "      <td>4</td>\n",
       "      <td>Cingulum right</td>\n",
       "      <td>(10, 0.2, 5)</td>\n",
       "    </tr>\n",
       "    <tr>\n",
       "      <th>4</th>\n",
       "      <td>5</td>\n",
       "      <td>Corpus callosum</td>\n",
       "      <td>(5, 0.05, 2)</td>\n",
       "    </tr>\n",
       "    <tr>\n",
       "      <th>5</th>\n",
       "      <td>6</td>\n",
       "      <td>CTV</td>\n",
       "      <td>(10, 0.05, 5)</td>\n",
       "    </tr>\n",
       "    <tr>\n",
       "      <th>6</th>\n",
       "      <td>7</td>\n",
       "      <td>CTV1</td>\n",
       "      <td>(10, 0.05, 5)</td>\n",
       "    </tr>\n",
       "    <tr>\n",
       "      <th>7</th>\n",
       "      <td>8</td>\n",
       "      <td>CTV2</td>\n",
       "      <td>(10, 0.2, 5)</td>\n",
       "    </tr>\n",
       "    <tr>\n",
       "      <th>8</th>\n",
       "      <td>9</td>\n",
       "      <td>Fornix</td>\n",
       "      <td>(10, 0.2, 5)</td>\n",
       "    </tr>\n",
       "    <tr>\n",
       "      <th>9</th>\n",
       "      <td>10</td>\n",
       "      <td>GTV</td>\n",
       "      <td>(10, 0.2, 5)</td>\n",
       "    </tr>\n",
       "    <tr>\n",
       "      <th>10</th>\n",
       "      <td>11</td>\n",
       "      <td>Hypothalamus</td>\n",
       "      <td>(10, 0.05, 5)</td>\n",
       "    </tr>\n",
       "    <tr>\n",
       "      <th>11</th>\n",
       "      <td>12</td>\n",
       "      <td>PapezCircle</td>\n",
       "      <td>(10, 0.05, 5)</td>\n",
       "    </tr>\n",
       "    <tr>\n",
       "      <th>12</th>\n",
       "      <td>13</td>\n",
       "      <td>PTV1</td>\n",
       "      <td>(10, 0.05, 5)</td>\n",
       "    </tr>\n",
       "    <tr>\n",
       "      <th>13</th>\n",
       "      <td>14</td>\n",
       "      <td>PTV2</td>\n",
       "      <td>(10, 0.05, 5)</td>\n",
       "    </tr>\n",
       "    <tr>\n",
       "      <th>14</th>\n",
       "      <td>15</td>\n",
       "      <td>Scalp</td>\n",
       "      <td>(5, 0.05, 2)</td>\n",
       "    </tr>\n",
       "    <tr>\n",
       "      <th>15</th>\n",
       "      <td>16</td>\n",
       "      <td>TemporalLobeLt</td>\n",
       "      <td>(10, 0.05, 5)</td>\n",
       "    </tr>\n",
       "    <tr>\n",
       "      <th>16</th>\n",
       "      <td>17</td>\n",
       "      <td>TemporalLobeRt</td>\n",
       "      <td>(10, 0.05, 5)</td>\n",
       "    </tr>\n",
       "    <tr>\n",
       "      <th>17</th>\n",
       "      <td>18</td>\n",
       "      <td>Thalamus ant L</td>\n",
       "      <td>(10, 0.05, 5)</td>\n",
       "    </tr>\n",
       "    <tr>\n",
       "      <th>18</th>\n",
       "      <td>19</td>\n",
       "      <td>Thalamus ant R</td>\n",
       "      <td>(10, 0.05, 5)</td>\n",
       "    </tr>\n",
       "    <tr>\n",
       "      <th>19</th>\n",
       "      <td>20</td>\n",
       "      <td>Thalamus left</td>\n",
       "      <td>(10, 0.2, 5)</td>\n",
       "    </tr>\n",
       "    <tr>\n",
       "      <th>20</th>\n",
       "      <td>21</td>\n",
       "      <td>Thalamus right</td>\n",
       "      <td>(10, 0.2, 5)</td>\n",
       "    </tr>\n",
       "  </tbody>\n",
       "</table>\n",
       "</div>"
      ],
      "text/plain": [
       "    Number           RoiName         Values\n",
       "0        1             Brain   (5, 0.05, 2)\n",
       "1        2  Cerebell POST YL   (5, 0.05, 2)\n",
       "2        3     Cingulum left   (10, 0.2, 5)\n",
       "3        4    Cingulum right   (10, 0.2, 5)\n",
       "4        5   Corpus callosum   (5, 0.05, 2)\n",
       "5        6               CTV  (10, 0.05, 5)\n",
       "6        7              CTV1  (10, 0.05, 5)\n",
       "7        8              CTV2   (10, 0.2, 5)\n",
       "8        9            Fornix   (10, 0.2, 5)\n",
       "9       10               GTV   (10, 0.2, 5)\n",
       "10      11      Hypothalamus  (10, 0.05, 5)\n",
       "11      12       PapezCircle  (10, 0.05, 5)\n",
       "12      13              PTV1  (10, 0.05, 5)\n",
       "13      14              PTV2  (10, 0.05, 5)\n",
       "14      15             Scalp   (5, 0.05, 2)\n",
       "15      16    TemporalLobeLt  (10, 0.05, 5)\n",
       "16      17    TemporalLobeRt  (10, 0.05, 5)\n",
       "17      18    Thalamus ant L  (10, 0.05, 5)\n",
       "18      19    Thalamus ant R  (10, 0.05, 5)\n",
       "19      20     Thalamus left   (10, 0.2, 5)\n",
       "20      21    Thalamus right   (10, 0.2, 5)"
      ]
     },
     "execution_count": 6,
     "metadata": {},
     "output_type": "execute_result"
    }
   ],
   "source": [
    "contours_list = pd.read_csv(\"list_contours_old01.csv\",delimiter=';')\n",
    "contours_list"
   ]
  },
  {
   "cell_type": "markdown",
   "metadata": {},
   "source": [
    "# HyperparameterSearch 1st Iteration"
   ]
  },
  {
   "cell_type": "code",
   "execution_count": 7,
   "metadata": {},
   "outputs": [
    {
     "data": {
      "text/plain": [
       "19"
      ]
     },
     "execution_count": 7,
     "metadata": {},
     "output_type": "execute_result"
    }
   ],
   "source": [
    "contour_of_interest = [\"Brain\",\n",
    "                        \"Cerebell POST YL\", \n",
    "                        \"Cingulum left\", \"Cingulum right\",\n",
    "                        \"Fornix\",\n",
    "                        \"Hypothalamus\",\n",
    "                        \"TemporalLobeLt\", \"TemporalLobeRt\",\n",
    "                        \"PTV1\",\"PTV2\",\"GTV\",\"CTV\",\n",
    "                        \"Scalp\",\n",
    "                        \"Corpus callosum\",\n",
    "                        \"Thalamus left\", \"Thalamus right\", \"Thalamus ant L\", \"Thalamus ant R\",\n",
    "                        \"PapezCircle\"]\n",
    "len(contour_of_interest)"
   ]
  },
  {
   "cell_type": "code",
   "execution_count": 8,
   "metadata": {},
   "outputs": [
    {
     "data": {
      "text/plain": [
       "2"
      ]
     },
     "execution_count": 8,
     "metadata": {},
     "output_type": "execute_result"
    }
   ],
   "source": [
    "contour_of_interest = [\"CTV1\",\n",
    "                        \"CTV2\"]\n",
    "len(contour_of_interest)"
   ]
  },
  {
   "cell_type": "code",
   "execution_count": 14,
   "metadata": {},
   "outputs": [],
   "source": [
    "params = {#'w_edge': np.arange(0.1,1.1,0.2),    \n",
    "         'kernel_size': np.arange(5,11,5),\n",
    "         'beta': np.arange(0.05, 0.2, 0.05),\n",
    "         'max_iteration': np.arange(2,30,3)}"
   ]
  },
  {
   "cell_type": "code",
   "execution_count": 15,
   "metadata": {},
   "outputs": [
    {
     "data": {
      "text/plain": [
       "{'kernel_size': array([ 5, 10]),\n",
       " 'beta': [0.05, 0.1, 0.2],\n",
       " 'max_iteration': [2, 5, 8, 15, 20, 30]}"
      ]
     },
     "execution_count": 15,
     "metadata": {},
     "output_type": "execute_result"
    }
   ],
   "source": [
    "params = {#'w_edge': np.arange(0.1,1.1,0.2),    \n",
    "         'kernel_size': np.arange(5,11,5),\n",
    "         'beta': [0.05, 0.1, 0.2],\n",
    "         'max_iteration': [2,5,8,15,20,30]}\n",
    "params"
   ]
  },
  {
   "cell_type": "code",
   "execution_count": 16,
   "metadata": {},
   "outputs": [
    {
     "name": "stdout",
     "output_type": "stream",
     "text": [
      "# combinations 36\n"
     ]
    }
   ],
   "source": [
    "liste = []\n",
    "for k in params.keys():\n",
    "    liste.append(params[k])\n",
    "combinations = list(itertools.product(liste[0], liste[1], liste[2]))\n",
    "print(\"# combinations\", len(combinations))"
   ]
  },
  {
   "cell_type": "code",
   "execution_count": null,
   "metadata": {
    "scrolled": true
   },
   "outputs": [],
   "source": [
    "for idx in range(2,10):\n",
    "    print(\"folder\", idx)\n",
    "    t = time.time()\n",
    "    files = os.listdir(os.path.join(path_data, str(idx)))\n",
    "    path_contour = os.path.join(path_data, str(idx), 'RS.Jacks{0}.dcm'.format(idx))\n",
    "    path_preop = os.path.join(path_data, str(idx), 'CT')\n",
    "    path_postop = [os.path.join(path_data, str(idx), fn) for fn in [x for x in files if 'T1' in x or 'MRT' in x]]\n",
    "    data = PatientData(path_preop, path_postop, path_contour)\n",
    "    data.read_filtered_contour(roiname=contour_of_interest, mode=\"exact\")\n",
    "    segmentor = Segmentation(data, debug=True)\n",
    "    search = HyperparamSearch(segmentor)\n",
    "    name = \"list_hyperparameter_search_folder{0}_ctv.csv\".format(idx)\n",
    "    result = search.eval(params, name)\n",
    "    elapsed = time.time() - t\n",
    "    print(elapsed)"
   ]
  },
  {
   "cell_type": "code",
   "execution_count": null,
   "metadata": {
    "scrolled": true
   },
   "outputs": [],
   "source": []
  },
  {
   "cell_type": "markdown",
   "metadata": {},
   "source": [
    "# Contour List"
   ]
  },
  {
   "cell_type": "code",
   "execution_count": null,
   "metadata": {},
   "outputs": [],
   "source": [
    "contours_list = pd.read_csv(\"list_contours_old01.csv\",delimiter=';')\n",
    "contours_list"
   ]
  },
  {
   "cell_type": "markdown",
   "metadata": {},
   "source": [
    "# HyperparameterSearch 1st Iteration"
   ]
  },
  {
   "cell_type": "code",
   "execution_count": 17,
   "metadata": {},
   "outputs": [],
   "source": [
    "def read_values_from_csv(df):\n",
    "    parameters = []\n",
    "    for idx in range(len(df)):\n",
    "        v = df.loc[idx]['Values'].replace('(','').replace(')','').split(',')\n",
    "        params = {'kernel_size': np.arange(int(v[0])-1, int(v[0])+2),\n",
    "                 'beta': np.arange(max(0.05,float(v[1])-0.05), float(v[1])+0.05,0.05),\n",
    "                 'max_iteration': np.arange(max(1,int(v[2])-2), int(v[2])+3),\n",
    "                 'struct': df.loc[idx]['Struct']}\n",
    "        parameters.append(params)\n",
    "        \n",
    "    return parameters"
   ]
  },
  {
   "cell_type": "code",
   "execution_count": 18,
   "metadata": {},
   "outputs": [
    {
     "data": {
      "text/plain": [
       "[{'kernel_size': array([4, 5, 6]),\n",
       "  'beta': array([0.05]),\n",
       "  'max_iteration': array([1, 2, 3, 4]),\n",
       "  'struct': 'Brain'},\n",
       " {'kernel_size': array([4, 5, 6]),\n",
       "  'beta': array([0.05]),\n",
       "  'max_iteration': array([1, 2, 3, 4]),\n",
       "  'struct': 'Cerebell POST YL'},\n",
       " {'kernel_size': array([ 9, 10, 11]),\n",
       "  'beta': array([0.05, 0.1 , 0.15]),\n",
       "  'max_iteration': array([3, 4, 5, 6, 7]),\n",
       "  'struct': 'Cingulum left'},\n",
       " {'kernel_size': array([ 9, 10, 11]),\n",
       "  'beta': array([0.05]),\n",
       "  'max_iteration': array([3, 4, 5, 6, 7]),\n",
       "  'struct': 'Cingulum right'},\n",
       " {'kernel_size': array([ 9, 10, 11]),\n",
       "  'beta': array([0.05, 0.1 , 0.15]),\n",
       "  'max_iteration': array([3, 4, 5, 6, 7]),\n",
       "  'struct': 'Fornix'},\n",
       " {'kernel_size': array([ 9, 10, 11]),\n",
       "  'beta': array([0.15, 0.2 ]),\n",
       "  'max_iteration': array([3, 4, 5, 6, 7]),\n",
       "  'struct': 'Hypothalamus'},\n",
       " {'kernel_size': array([4, 5, 6]),\n",
       "  'beta': array([0.05]),\n",
       "  'max_iteration': array([1, 2, 3, 4]),\n",
       "  'struct': 'TemporalLobeLt'},\n",
       " {'kernel_size': array([4, 5, 6]),\n",
       "  'beta': array([0.05]),\n",
       "  'max_iteration': array([1, 2, 3, 4]),\n",
       "  'struct': 'TemporalLobeRt'},\n",
       " {'kernel_size': array([ 9, 10, 11]),\n",
       "  'beta': array([0.05]),\n",
       "  'max_iteration': array([3, 4, 5, 6, 7]),\n",
       "  'struct': 'PTV1'},\n",
       " {'kernel_size': array([ 9, 10, 11]),\n",
       "  'beta': array([0.05]),\n",
       "  'max_iteration': array([3, 4, 5, 6, 7]),\n",
       "  'struct': 'PTV2'},\n",
       " {'kernel_size': array([ 9, 10, 11]),\n",
       "  'beta': array([0.15, 0.2 ]),\n",
       "  'max_iteration': array([3, 4, 5, 6, 7]),\n",
       "  'struct': 'GTV'},\n",
       " {'kernel_size': array([ 9, 10, 11]),\n",
       "  'beta': array([0.05]),\n",
       "  'max_iteration': array([3, 4, 5, 6, 7]),\n",
       "  'struct': 'CTV'},\n",
       " {'kernel_size': array([4, 5, 6]),\n",
       "  'beta': array([0.05]),\n",
       "  'max_iteration': array([1, 2, 3, 4]),\n",
       "  'struct': 'Scalp'},\n",
       " {'kernel_size': array([4, 5, 6]),\n",
       "  'beta': array([0.05]),\n",
       "  'max_iteration': array([1, 2, 3, 4]),\n",
       "  'struct': 'Corpus callosum'},\n",
       " {'kernel_size': array([ 9, 10, 11]),\n",
       "  'beta': array([0.15, 0.2 ]),\n",
       "  'max_iteration': array([3, 4, 5, 6, 7]),\n",
       "  'struct': 'Thalamus left'},\n",
       " {'kernel_size': array([ 9, 10, 11]),\n",
       "  'beta': array([0.15, 0.2 ]),\n",
       "  'max_iteration': array([3, 4, 5, 6, 7]),\n",
       "  'struct': 'Thalamus right'},\n",
       " {'kernel_size': array([ 9, 10, 11]),\n",
       "  'beta': array([0.05]),\n",
       "  'max_iteration': array([3, 4, 5, 6, 7]),\n",
       "  'struct': 'Thalamus ant L'},\n",
       " {'kernel_size': array([ 9, 10, 11]),\n",
       "  'beta': array([0.05]),\n",
       "  'max_iteration': array([3, 4, 5, 6, 7]),\n",
       "  'struct': 'Thalamus ant R'},\n",
       " {'kernel_size': array([ 9, 10, 11]),\n",
       "  'beta': array([0.05]),\n",
       "  'max_iteration': array([3, 4, 5, 6, 7]),\n",
       "  'struct': 'PapezCircle'}]"
      ]
     },
     "execution_count": 18,
     "metadata": {},
     "output_type": "execute_result"
    }
   ],
   "source": [
    "# example for finer grid search\n",
    "read_values_from_csv(pd.read_csv(\"list_hyperparameter_search_folder{0}.csv\".format(1)))"
   ]
  },
  {
   "cell_type": "code",
   "execution_count": null,
   "metadata": {},
   "outputs": [],
   "source": [
    "contours_of_interest = contours_list['RoiName'].values\n",
    "contours_of_interest, len(contours_of_interest)"
   ]
  },
  {
   "cell_type": "code",
   "execution_count": null,
   "metadata": {},
   "outputs": [],
   "source": [
    "for idx in range(1,10):\n",
    "    print(\"folder\", idx)\n",
    "    t = time.time()\n",
    "    files = os.listdir(os.path.join(path_data, str(idx)))\n",
    "    path_contour = os.path.join(path_data, str(idx), 'RS.Jacks{0}.dcm'.format(idx))\n",
    "    path_preop = os.path.join(path_data, str(idx), 'CT')\n",
    "    path_postop = [os.path.join(path_data, str(idx), fn) for fn in [x for x in files if 'T1' in x or 'MRT' in x]]\n",
    "    data = PatientData(path_preop, path_postop, path_contour)\n",
    "    data.read_filtered_contour(roiname=contours_of_interest, mode=\"exact\")\n",
    "    segmentor = Segmentation(data, debug=True)\n",
    "    params = read_values_from_csv(pd.read_csv(\"list_hyperparameter_search_folder{0}.csv\".format(idx)))\n",
    "    search = HyperparamSearch(segmentor)\n",
    "    name = \"list_hyperparameter_search_folder{0}_finer.csv\".format(idx)\n",
    "    result = search.eval(params, name)\n",
    "    elapsed = time.time() - t\n",
    "    print(elapsed)\n",
    "    break"
   ]
  },
  {
   "cell_type": "code",
   "execution_count": null,
   "metadata": {},
   "outputs": [],
   "source": [
    "for idx in range(2,10):\n",
    "    print(\"folder\", idx)\n",
    "    t = time.time()\n",
    "    files = os.listdir(os.path.join(path_data, str(idx)))\n",
    "    path_contour = os.path.join(path_data, str(idx), 'RS.Jacks{0}.dcm'.format(idx))\n",
    "    path_preop = os.path.join(path_data, str(idx), 'CT')\n",
    "    path_postop = [os.path.join(path_data, str(idx), fn) for fn in [x for x in files if 'T1' in x or 'MRT' in x]]\n",
    "    data = PatientData(path_preop, path_postop, path_contour)\n",
    "    data.read_filtered_contour(roiname=contours_of_interest, mode=\"exact\")\n",
    "    segmentor = Segmentation(data, debug=True)\n",
    "    params = read_values_from_csv(pd.read_csv(\"list_hyperparameter_search_folder{0}.csv\".format(idx)))\n",
    "    search = HyperparamSearch(segmentor)\n",
    "    name = \"list_hyperparameter_search_folder{0}_finer.csv\".format(idx)\n",
    "    result = search.eval(params, name)\n",
    "    elapsed = time.time() - t\n",
    "    print(elapsed)"
   ]
  },
  {
   "cell_type": "code",
   "execution_count": null,
   "metadata": {},
   "outputs": [],
   "source": []
  },
  {
   "cell_type": "markdown",
   "metadata": {},
   "source": [
    "# Find best parameters for all structures (independent of patient)"
   ]
  },
  {
   "cell_type": "code",
   "execution_count": null,
   "metadata": {},
   "outputs": [],
   "source": [
    "contours_list = pd.read_csv(\"list_contours_old01.csv\",delimiter=';')\n",
    "contours_list"
   ]
  },
  {
   "cell_type": "code",
   "execution_count": null,
   "metadata": {},
   "outputs": [],
   "source": [
    "def convert_string_to_params(s):\n",
    "    l = s.replace('(','').replace(')','').split(',')\n",
    "    return int(l[0]), float(l[1]), int(l[0])\n",
    "\n",
    "def get_majority_vote(val):\n",
    "    possibilities = set(val)\n",
    "    counts = []\n",
    "    for combi in possibilities:\n",
    "        counts.append(values.count(combi))\n",
    "    print(possibilities, counts)\n",
    "    return list(possibilities)[np.argmax(counts)], np.max(counts)"
   ]
  },
  {
   "cell_type": "code",
   "execution_count": null,
   "metadata": {
    "scrolled": true
   },
   "outputs": [],
   "source": [
    "for j, contour in enumerate(contours_list['RoiName']):\n",
    "    print(contour)\n",
    "    values = []\n",
    "    for idx in range(1,10):\n",
    "        gt = pd.read_csv(\"list_hyperparameter_search_folder{0}_finer.csv\".format(idx))\n",
    "        if contour in gt['Struct'].values:            \n",
    "            print(\"folder\", idx)\n",
    "            i = np.where(gt['Struct']==contour)[0][0]\n",
    "            values.append(convert_string_to_params(gt.loc[i]['Values']))\n",
    "        else:\n",
    "            print('folder {0}: not available'.format(idx))\n",
    "    best_value, best_counts = get_majority_vote(values)\n",
    "    print(best_value, best_counts)\n",
    "    contours_list.loc[j,'Values'] = str(best_value)"
   ]
  },
  {
   "cell_type": "code",
   "execution_count": null,
   "metadata": {},
   "outputs": [],
   "source": [
    "contours_list"
   ]
  },
  {
   "cell_type": "code",
   "execution_count": null,
   "metadata": {},
   "outputs": [],
   "source": [
    "contours_list.to_csv(\"list_contours.csv\", index=False)"
   ]
  },
  {
   "cell_type": "code",
   "execution_count": null,
   "metadata": {},
   "outputs": [],
   "source": []
  }
 ],
 "metadata": {
  "kernelspec": {
   "display_name": "Python 3",
   "language": "python",
   "name": "python3"
  },
  "language_info": {
   "codemirror_mode": {
    "name": "ipython",
    "version": 3
   },
   "file_extension": ".py",
   "mimetype": "text/x-python",
   "name": "python",
   "nbconvert_exporter": "python",
   "pygments_lexer": "ipython3",
   "version": "3.6.10"
  }
 },
 "nbformat": 4,
 "nbformat_minor": 2
}
