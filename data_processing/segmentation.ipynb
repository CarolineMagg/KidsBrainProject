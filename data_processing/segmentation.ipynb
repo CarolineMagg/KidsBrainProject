{
 "cells": [
  {
   "cell_type": "markdown",
   "metadata": {},
   "source": [
    "# Generate segmentation\n",
    "with optimal found parameters\n",
    "\n",
    "author = Caroline Magg <br>\n",
    "date = 28 May 2020 <br>\n",
    "\n",
    "___________________________________\n",
    "history: <br>\n",
    "2020-28-05 Run first segmentation <br>\n",
    "2020-01-06 Run segmentation and save images <br>\n",
    "2020-02-06 Run segmentation with correct params and save images T0<br>\n",
    "2020-27-07 Run segmentation with better params and save images (finer grid search) folder 1-10<br>\n",
    "2020-27-07 Run segmentation with params and save images T1 folder 1-10<br>\n",
    "2020-29-07 Run segmentation with params and save images T0, T1 folder 11-14 <br>\n",
    "2020-29-07 Create csv with structure-wise data <br>\n",
    "2020-20-08 Run segmentation again with k = 1 <br>\n",
    "2020-27-08 Run segmentation with fixed bug for last slice <br>\n",
    "2020-11-09 Run segmentation for 15-20 <br>"
   ]
  },
  {
   "cell_type": "code",
   "execution_count": 1,
   "metadata": {},
   "outputs": [],
   "source": [
    "import os\n",
    "import sys\n",
    "import numpy as np\n",
    "import matplotlib.pyplot as plt\n",
    "import pandas as pd\n",
    "import cv2\n",
    "import pydicom\n",
    "from natsort import natsorted\n",
    "import scipy\n",
    "import time\n",
    "import logging as log\n",
    "import skimage.segmentation as segmentation\n",
    "import itertools"
   ]
  },
  {
   "cell_type": "code",
   "execution_count": 2,
   "metadata": {},
   "outputs": [],
   "source": [
    "log.basicConfig(format='%(levelname)s:%(message)s', level=log.INFO)"
   ]
  },
  {
   "cell_type": "markdown",
   "metadata": {},
   "source": [
    "### Add dependencies"
   ]
  },
  {
   "cell_type": "code",
   "execution_count": 3,
   "metadata": {},
   "outputs": [],
   "source": [
    "# add KidsBrainProject main folder to paths\n",
    "sys.path.append(os.path.abspath('../../'))\n",
    "sys.path.append(os.path.abspath('../utils/'))"
   ]
  },
  {
   "cell_type": "code",
   "execution_count": 4,
   "metadata": {},
   "outputs": [],
   "source": [
    "from PatientData import PatientData\n",
    "from DicomWrapper import DicomWrapper\n",
    "from Segmentation import Segmentation\n",
    "from HyperparameterSearchSegmentation import HyperparameterSearchSegmentation as HyperparamSearch"
   ]
  },
  {
   "cell_type": "code",
   "execution_count": 5,
   "metadata": {},
   "outputs": [],
   "source": [
    "# add path to data here\n",
    "path_data = \"../../Data/\" "
   ]
  },
  {
   "cell_type": "markdown",
   "metadata": {},
   "source": [
    "### Contour list"
   ]
  },
  {
   "cell_type": "code",
   "execution_count": 6,
   "metadata": {},
   "outputs": [
    {
     "data": {
      "text/html": [
       "<div>\n",
       "<style scoped>\n",
       "    .dataframe tbody tr th:only-of-type {\n",
       "        vertical-align: middle;\n",
       "    }\n",
       "\n",
       "    .dataframe tbody tr th {\n",
       "        vertical-align: top;\n",
       "    }\n",
       "\n",
       "    .dataframe thead th {\n",
       "        text-align: right;\n",
       "    }\n",
       "</style>\n",
       "<table border=\"1\" class=\"dataframe\">\n",
       "  <thead>\n",
       "    <tr style=\"text-align: right;\">\n",
       "      <th></th>\n",
       "      <th>Number</th>\n",
       "      <th>RoiName</th>\n",
       "      <th>Values</th>\n",
       "    </tr>\n",
       "  </thead>\n",
       "  <tbody>\n",
       "    <tr>\n",
       "      <th>0</th>\n",
       "      <td>1</td>\n",
       "      <td>Brain</td>\n",
       "      <td>(4, 0.05, 4)</td>\n",
       "    </tr>\n",
       "    <tr>\n",
       "      <th>1</th>\n",
       "      <td>2</td>\n",
       "      <td>Cerebell POST YL</td>\n",
       "      <td>(4, 0.05, 4)</td>\n",
       "    </tr>\n",
       "    <tr>\n",
       "      <th>2</th>\n",
       "      <td>3</td>\n",
       "      <td>Cingulum left</td>\n",
       "      <td>(10, 0.1, 10)</td>\n",
       "    </tr>\n",
       "    <tr>\n",
       "      <th>3</th>\n",
       "      <td>4</td>\n",
       "      <td>Cingulum right</td>\n",
       "      <td>(10, 0.2, 10)</td>\n",
       "    </tr>\n",
       "    <tr>\n",
       "      <th>4</th>\n",
       "      <td>5</td>\n",
       "      <td>Corpus callosum</td>\n",
       "      <td>(4, 0.05, 4)</td>\n",
       "    </tr>\n",
       "    <tr>\n",
       "      <th>5</th>\n",
       "      <td>6</td>\n",
       "      <td>CTV</td>\n",
       "      <td>(10, 0.05, 10)</td>\n",
       "    </tr>\n",
       "    <tr>\n",
       "      <th>6</th>\n",
       "      <td>7</td>\n",
       "      <td>CTV1</td>\n",
       "      <td>(10, 0.05, 10)</td>\n",
       "    </tr>\n",
       "    <tr>\n",
       "      <th>7</th>\n",
       "      <td>8</td>\n",
       "      <td>CTV2</td>\n",
       "      <td>(10, 0.2, 10)</td>\n",
       "    </tr>\n",
       "    <tr>\n",
       "      <th>8</th>\n",
       "      <td>9</td>\n",
       "      <td>Fornix</td>\n",
       "      <td>(4, 0.05, 4)</td>\n",
       "    </tr>\n",
       "    <tr>\n",
       "      <th>9</th>\n",
       "      <td>10</td>\n",
       "      <td>GTV</td>\n",
       "      <td>(10, 0.2, 10)</td>\n",
       "    </tr>\n",
       "    <tr>\n",
       "      <th>10</th>\n",
       "      <td>11</td>\n",
       "      <td>Hypothalamus</td>\n",
       "      <td>(10, 0.05, 10)</td>\n",
       "    </tr>\n",
       "    <tr>\n",
       "      <th>11</th>\n",
       "      <td>12</td>\n",
       "      <td>PapezCircle</td>\n",
       "      <td>(10, 0.05, 10)</td>\n",
       "    </tr>\n",
       "    <tr>\n",
       "      <th>12</th>\n",
       "      <td>13</td>\n",
       "      <td>PTV1</td>\n",
       "      <td>(10, 0.05, 10)</td>\n",
       "    </tr>\n",
       "    <tr>\n",
       "      <th>13</th>\n",
       "      <td>14</td>\n",
       "      <td>PTV2</td>\n",
       "      <td>(10, 0.05, 10)</td>\n",
       "    </tr>\n",
       "    <tr>\n",
       "      <th>14</th>\n",
       "      <td>15</td>\n",
       "      <td>Scalp</td>\n",
       "      <td>(4, 0.05, 4)</td>\n",
       "    </tr>\n",
       "    <tr>\n",
       "      <th>15</th>\n",
       "      <td>16</td>\n",
       "      <td>TemporalLobeLt</td>\n",
       "      <td>(10, 0.05, 10)</td>\n",
       "    </tr>\n",
       "    <tr>\n",
       "      <th>16</th>\n",
       "      <td>17</td>\n",
       "      <td>TemporalLobeRt</td>\n",
       "      <td>(4, 0.05, 4)</td>\n",
       "    </tr>\n",
       "    <tr>\n",
       "      <th>17</th>\n",
       "      <td>18</td>\n",
       "      <td>Thalamus ant L</td>\n",
       "      <td>(10, 0.05, 10)</td>\n",
       "    </tr>\n",
       "    <tr>\n",
       "      <th>18</th>\n",
       "      <td>19</td>\n",
       "      <td>Thalamus ant R</td>\n",
       "      <td>(10, 0.05, 10)</td>\n",
       "    </tr>\n",
       "    <tr>\n",
       "      <th>19</th>\n",
       "      <td>20</td>\n",
       "      <td>Thalamus left</td>\n",
       "      <td>(10, 0.2, 10)</td>\n",
       "    </tr>\n",
       "    <tr>\n",
       "      <th>20</th>\n",
       "      <td>21</td>\n",
       "      <td>Thalamus right</td>\n",
       "      <td>(10, 0.2, 10)</td>\n",
       "    </tr>\n",
       "  </tbody>\n",
       "</table>\n",
       "</div>"
      ],
      "text/plain": [
       "    Number           RoiName          Values\n",
       "0        1             Brain    (4, 0.05, 4)\n",
       "1        2  Cerebell POST YL    (4, 0.05, 4)\n",
       "2        3     Cingulum left   (10, 0.1, 10)\n",
       "3        4    Cingulum right   (10, 0.2, 10)\n",
       "4        5   Corpus callosum    (4, 0.05, 4)\n",
       "5        6               CTV  (10, 0.05, 10)\n",
       "6        7              CTV1  (10, 0.05, 10)\n",
       "7        8              CTV2   (10, 0.2, 10)\n",
       "8        9            Fornix    (4, 0.05, 4)\n",
       "9       10               GTV   (10, 0.2, 10)\n",
       "10      11      Hypothalamus  (10, 0.05, 10)\n",
       "11      12       PapezCircle  (10, 0.05, 10)\n",
       "12      13              PTV1  (10, 0.05, 10)\n",
       "13      14              PTV2  (10, 0.05, 10)\n",
       "14      15             Scalp    (4, 0.05, 4)\n",
       "15      16    TemporalLobeLt  (10, 0.05, 10)\n",
       "16      17    TemporalLobeRt    (4, 0.05, 4)\n",
       "17      18    Thalamus ant L  (10, 0.05, 10)\n",
       "18      19    Thalamus ant R  (10, 0.05, 10)\n",
       "19      20     Thalamus left   (10, 0.2, 10)\n",
       "20      21    Thalamus right   (10, 0.2, 10)"
      ]
     },
     "execution_count": 6,
     "metadata": {},
     "output_type": "execute_result"
    }
   ],
   "source": [
    "contours_list = pd.read_csv(\"list_contours.csv\",delimiter=',')\n",
    "contours_list"
   ]
  },
  {
   "cell_type": "markdown",
   "metadata": {},
   "source": [
    "### Review the hyperparameter search"
   ]
  },
  {
   "cell_type": "code",
   "execution_count": 7,
   "metadata": {},
   "outputs": [
    {
     "name": "stdout",
     "output_type": "stream",
     "text": [
      "['Brain' 'Cerebell POST YL' 'Cingulum left' 'Cingulum right'\n",
      " 'Corpus callosum' 'CTV' 'CTV1' 'CTV2' 'Fornix' 'GTV' 'Hypothalamus'\n",
      " 'PapezCircle' 'PTV1' 'PTV2' 'Scalp' 'TemporalLobeLt' 'TemporalLobeRt'\n",
      " 'Thalamus ant L' 'Thalamus ant R' 'Thalamus left' 'Thalamus right']\n",
      "['(4, 0.05, 4)' '(4, 0.05, 4)' '(10, 0.1, 10)' '(10, 0.2, 10)'\n",
      " '(4, 0.05, 4)' '(10, 0.05, 10)' '(10, 0.05, 10)' '(10, 0.2, 10)'\n",
      " '(4, 0.05, 4)' '(10, 0.2, 10)' '(10, 0.05, 10)' '(10, 0.05, 10)'\n",
      " '(10, 0.05, 10)' '(10, 0.05, 10)' '(4, 0.05, 4)' '(10, 0.05, 10)'\n",
      " '(4, 0.05, 4)' '(10, 0.05, 10)' '(10, 0.05, 10)' '(10, 0.2, 10)'\n",
      " '(10, 0.2, 10)']\n"
     ]
    },
    {
     "data": {
      "text/plain": [
       "21"
      ]
     },
     "execution_count": 7,
     "metadata": {},
     "output_type": "execute_result"
    }
   ],
   "source": [
    "contour_of_interest = contours_list['RoiName'].values\n",
    "values_of_interest = contours_list['Values'].values\n",
    "print(contour_of_interest)\n",
    "print(values_of_interest)\n",
    "len(contour_of_interest)"
   ]
  },
  {
   "cell_type": "raw",
   "metadata": {},
   "source": [
    "contour_of_interest = [\"Brain\",\n",
    "                        \"Cerebell POST YL\", \n",
    "                        \"Cingulum left\", \"Cingulum right\",\n",
    "                        \"Fornix\",\n",
    "                        \"Hypothalamus\",\n",
    "                        \"TemporalLobeLt\", \"TemporalLobeRt\",\n",
    "                        \"PTV1\",\"PTV2\",\"GTV\",\n",
    "                        \"CTV\", \"CTV1\", \"CTV2\",\n",
    "                        \"Scalp\",\n",
    "                        \"Corpus callosum\",\n",
    "                        \"Thalamus left\", \"Thalamus right\", \"Thalamus ant L\", \"Thalamus ant R\",\n",
    "                        \"PapezCircle\"]\n",
    "len(contour_of_interest)"
   ]
  },
  {
   "cell_type": "raw",
   "metadata": {},
   "source": [
    "df = [pd.read_csv(\"list_hyperparameter_search_folder{0}.csv\".format(idx)) for idx in range(2,10)]\n",
    "values = {}\n",
    "for struct in contour_of_interest:\n",
    "    tmp = []\n",
    "    for idx in range(2,10):\n",
    "        try:\n",
    "            tmp.append(df[idx].loc[df[idx]['Struct']==struct]['Values'].values[0])\n",
    "        except:\n",
    "            tmp.append(None)\n",
    "    values[struct] = tmp\n",
    "values"
   ]
  },
  {
   "cell_type": "code",
   "execution_count": null,
   "metadata": {},
   "outputs": [],
   "source": []
  },
  {
   "cell_type": "markdown",
   "metadata": {},
   "source": [
    "# Segmentation T0"
   ]
  },
  {
   "cell_type": "code",
   "execution_count": 9,
   "metadata": {},
   "outputs": [],
   "source": [
    "compression_params = [cv2.IMWRITE_PNG_COMPRESSION, 0]"
   ]
  },
  {
   "cell_type": "code",
   "execution_count": 12,
   "metadata": {
    "scrolled": true
   },
   "outputs": [
    {
     "name": "stderr",
     "output_type": "stream",
     "text": [
      "INFO: Preop dicom\n"
     ]
    },
    {
     "name": "stdout",
     "output_type": "stream",
     "text": [
      "folder 20\n"
     ]
    },
    {
     "name": "stderr",
     "output_type": "stream",
     "text": [
      "INFO: Postop ../../Data/20\\T1 BRAVO 4-30-15\n",
      "INFO: Postop ../../Data/20\\T1_MPR 2-25-15\n",
      "INFO: Start reading contour list\n",
      "INFO: Start filtering contour list for RoiNames ['Brain' 'Cerebell POST YL' 'Cingulum left' 'Cingulum right'\n",
      " 'Corpus callosum' 'CTV' 'CTV1' 'CTV2' 'Fornix' 'GTV' 'Hypothalamus'\n",
      " 'PapezCircle' 'PTV1' 'PTV2' 'Scalp' 'TemporalLobeLt' 'TemporalLobeRt'\n",
      " 'Thalamus ant L' 'Thalamus ant R' 'Thalamus left' 'Thalamus right'] with mode exact\n"
     ]
    },
    {
     "name": "stdout",
     "output_type": "stream",
     "text": [
      "pngs images\n",
      "t0 segmentation\n"
     ]
    },
    {
     "name": "stderr",
     "output_type": "stream",
     "text": [
      "INFO: Start segmentation of Brain.\n",
      "INFO: Start segmentation of Cerebell POST YL.\n",
      "INFO: Start segmentation of Corpus callosum.\n",
      "INFO: Start segmentation of CTV.\n",
      "INFO: Start segmentation of Fornix.\n",
      "INFO: Start segmentation of GTV.\n",
      "INFO: Start segmentation of Hypothalamus.\n",
      "INFO: Start segmentation of PTV1.\n",
      "INFO: Start segmentation of PTV2.\n",
      "INFO: Start segmentation of Scalp.\n",
      "INFO: Start segmentation of TemporalLobeLt.\n",
      "INFO: Start segmentation of TemporalLobeRt.\n",
      "INFO: Start segmentation of Thalamus ant L.\n",
      "INFO: Start segmentation of Thalamus ant R.\n"
     ]
    },
    {
     "name": "stdout",
     "output_type": "stream",
     "text": [
      "init segmentation\n"
     ]
    }
   ],
   "source": [
    "for idx in range(20,21):\n",
    "    print(\"folder\", idx)\n",
    "    t = time.time()\n",
    "    files = os.listdir(os.path.join(path_data, str(idx)))\n",
    "    path_contour = os.path.join(path_data, str(idx), 'RS.Jacks{0}.dcm'.format(idx))\n",
    "    path_preop = os.path.join(path_data, str(idx), 'CT')\n",
    "    path_postop = [os.path.join(path_data, str(idx), fn) for fn in [x for x in files if 'T1' in x or 'MRT' in x]]\n",
    "    \n",
    "    data = PatientData(path_preop, path_postop, path_contour)\n",
    "    data.read_filtered_contour(roiname=contour_of_interest, mode=\"exact\")\n",
    "    segmentor = Segmentation(data, debug=True)\n",
    "    \n",
    "    directory = os.path.join(path_data, str(idx), 'Segmentation')\n",
    "    if not os.path.exists(directory):\n",
    "        os.makedirs(directory)\n",
    "    if not os.path.exists(os.path.join(directory, 'png')):\n",
    "        os.makedirs(os.path.join(directory, 'png'))\n",
    "    if not os.path.exists(os.path.join(directory, 'init')):\n",
    "        os.makedirs(os.path.join(directory, 'init'))\n",
    "    if not os.path.exists(os.path.join(directory, 't0')):\n",
    "        os.makedirs(os.path.join(directory, 't0'))\n",
    "        \n",
    "    # dicom image -> png\n",
    "    print(\"pngs images\")\n",
    "    img = data.get_pre_images()\n",
    "    [cv2.imwrite(os.path.join(directory, 'png', '{0}_slice{1}.png'.format(idx,i)), img[i].astype(np.uint8), compression_params) for i in range(len(img))]\n",
    "\n",
    "    # segmentations\n",
    "    found_struct = data.get_filtered_contour_names().values\n",
    "    first_index = data.contour_list_names_filtered['first'].values\n",
    "    last_index = data.contour_list_names_filtered['last'].values\n",
    "    # t0 segmentations\n",
    "    print(\"t0 segmentation\")\n",
    "    for struct, first, last in zip(found_struct, first_index, last_index):\n",
    "        tmp = contours_list[contours_list['RoiName'] == struct]['Values'].values[0]\n",
    "        values = [float(x) for x in tmp.replace('(','').replace(')','').split(',')]\n",
    "        cont = segmentor.active_contour(struct, postprocess=-1, first=first, last=last,\n",
    "                       kernel=(int(values[0]),int(values[0])), beta=values[1], max_iterations=int(values[2])) \n",
    "        for i in range(len(cont)):\n",
    "            cv2.imwrite(os.path.join(directory, 't0', '{0}_t0_{1}_slice{2}.png'.format(idx,struct,first+i)), \n",
    "                        cont[i].astype(np.uint8), \n",
    "                        compression_params)\n",
    "        \n",
    "    # init segmentation\n",
    "    print(\"init segmentation\")\n",
    "    for ind, first, last in zip(range(len(first_index)), first_index, last_index):\n",
    "        struct = found_struct[ind]\n",
    "        for i in range(first, last+1):\n",
    "            cv2.imwrite(os.path.join(directory, 'init', '{0}_init_{1}_slice{2}.png'.format(idx,struct,i)),\n",
    "                        data.contour_list_names_filtered.iloc[ind]['mask'][i].astype(np.uint8),\n",
    "                        compression_params)"
   ]
  },
  {
   "cell_type": "markdown",
   "metadata": {},
   "source": [
    "# Segmentation T1+"
   ]
  },
  {
   "cell_type": "code",
   "execution_count": 13,
   "metadata": {
    "scrolled": true
   },
   "outputs": [
    {
     "name": "stderr",
     "output_type": "stream",
     "text": [
      "INFO: Preop dicom\n"
     ]
    },
    {
     "name": "stdout",
     "output_type": "stream",
     "text": [
      "folder 15\n"
     ]
    },
    {
     "name": "stderr",
     "output_type": "stream",
     "text": [
      "INFO: Postop ../../Data/15\\T1 +C 12-31-15\n",
      "INFO: Postop ../../Data/15\\T1 AX 11-20-15\n",
      "INFO: Postop ../../Data/15\\T1 AX 12-31-15\n",
      "INFO: Postop ../../Data/15\\T1 COR 11-20-15\n",
      "INFO: Postop ../../Data/15\\T1 SAG 11-20-15\n",
      "INFO: Start reading contour list\n",
      "INFO: Start filtering contour list for RoiNames ['Brain' 'Cerebell POST YL' 'Cingulum left' 'Cingulum right'\n",
      " 'Corpus callosum' 'CTV' 'CTV1' 'CTV2' 'Fornix' 'GTV' 'Hypothalamus'\n",
      " 'PapezCircle' 'PTV1' 'PTV2' 'Scalp' 'TemporalLobeLt' 'TemporalLobeRt'\n",
      " 'Thalamus ant L' 'Thalamus ant R' 'Thalamus left' 'Thalamus right'] with mode exact\n"
     ]
    },
    {
     "name": "stdout",
     "output_type": "stream",
     "text": [
      "t1 segmentations\n"
     ]
    },
    {
     "name": "stderr",
     "output_type": "stream",
     "text": [
      "INFO: Start segmentation of Brain.\n",
      "INFO: Start segmentation of Cerebell POST YL.\n",
      "INFO: Start segmentation of Corpus callosum.\n",
      "INFO: Start segmentation of CTV.\n",
      "INFO: Start segmentation of Fornix.\n",
      "INFO: Start segmentation of GTV.\n",
      "INFO: Start segmentation of Hypothalamus.\n",
      "INFO: Start segmentation of PTV1.\n",
      "INFO: Start segmentation of PTV2.\n",
      "INFO: Start segmentation of Scalp.\n",
      "INFO: Start segmentation of TemporalLobeLt.\n",
      "INFO: Start segmentation of TemporalLobeRt.\n",
      "INFO: Start segmentation of Thalamus ant L.\n",
      "INFO: Start segmentation of Thalamus ant R.\n"
     ]
    },
    {
     "name": "stdout",
     "output_type": "stream",
     "text": [
      "t2 segmentations\n"
     ]
    },
    {
     "name": "stderr",
     "output_type": "stream",
     "text": [
      "INFO: Start segmentation of Brain.\n",
      "INFO: Start segmentation of Cerebell POST YL.\n",
      "INFO: Start segmentation of Corpus callosum.\n",
      "INFO: Start segmentation of CTV.\n",
      "INFO: Start segmentation of Fornix.\n",
      "INFO: Start segmentation of GTV.\n",
      "INFO: Start segmentation of Hypothalamus.\n",
      "INFO: Start segmentation of PTV1.\n",
      "INFO: Start segmentation of PTV2.\n",
      "INFO: Start segmentation of Scalp.\n",
      "INFO: Start segmentation of TemporalLobeLt.\n",
      "INFO: Start segmentation of TemporalLobeRt.\n",
      "INFO: Start segmentation of Thalamus ant L.\n",
      "INFO: Start segmentation of Thalamus ant R.\n"
     ]
    },
    {
     "name": "stdout",
     "output_type": "stream",
     "text": [
      "t3 segmentations\n"
     ]
    },
    {
     "name": "stderr",
     "output_type": "stream",
     "text": [
      "INFO: Start segmentation of Brain.\n",
      "INFO: Start segmentation of Cerebell POST YL.\n",
      "INFO: Start segmentation of Corpus callosum.\n",
      "INFO: Start segmentation of CTV.\n",
      "INFO: Start segmentation of Fornix.\n",
      "INFO: Start segmentation of GTV.\n",
      "INFO: Start segmentation of Hypothalamus.\n",
      "INFO: Start segmentation of PTV1.\n",
      "INFO: Start segmentation of PTV2.\n",
      "INFO: Start segmentation of Scalp.\n",
      "INFO: Start segmentation of TemporalLobeLt.\n",
      "INFO: Start segmentation of TemporalLobeRt.\n",
      "INFO: Start segmentation of Thalamus ant L.\n",
      "INFO: Start segmentation of Thalamus ant R.\n"
     ]
    },
    {
     "name": "stdout",
     "output_type": "stream",
     "text": [
      "t4 segmentations\n"
     ]
    },
    {
     "name": "stderr",
     "output_type": "stream",
     "text": [
      "INFO: Start segmentation of Brain.\n",
      "INFO: Start segmentation of Cerebell POST YL.\n",
      "INFO: Start segmentation of Corpus callosum.\n",
      "INFO: Start segmentation of CTV.\n",
      "INFO: Start segmentation of Fornix.\n",
      "INFO: Start segmentation of GTV.\n",
      "INFO: Start segmentation of Hypothalamus.\n",
      "INFO: Start segmentation of PTV1.\n",
      "INFO: Start segmentation of PTV2.\n",
      "INFO: Start segmentation of Scalp.\n",
      "INFO: Start segmentation of TemporalLobeLt.\n",
      "INFO: Start segmentation of TemporalLobeRt.\n",
      "INFO: Start segmentation of Thalamus ant L.\n",
      "INFO: Start segmentation of Thalamus ant R.\n"
     ]
    },
    {
     "name": "stdout",
     "output_type": "stream",
     "text": [
      "t5 segmentations\n"
     ]
    },
    {
     "name": "stderr",
     "output_type": "stream",
     "text": [
      "INFO: Start segmentation of Brain.\n",
      "INFO: Start segmentation of Cerebell POST YL.\n",
      "INFO: Start segmentation of Corpus callosum.\n",
      "INFO: Start segmentation of CTV.\n",
      "INFO: Start segmentation of Fornix.\n",
      "INFO: Start segmentation of GTV.\n",
      "INFO: Start segmentation of Hypothalamus.\n",
      "INFO: Start segmentation of PTV1.\n",
      "INFO: Start segmentation of PTV2.\n",
      "INFO: Start segmentation of Scalp.\n",
      "INFO: Start segmentation of TemporalLobeLt.\n",
      "INFO: Start segmentation of TemporalLobeRt.\n",
      "INFO: Start segmentation of Thalamus ant L.\n",
      "INFO: Start segmentation of Thalamus ant R.\n",
      "INFO: Preop dicom\n"
     ]
    },
    {
     "name": "stdout",
     "output_type": "stream",
     "text": [
      "folder 16\n"
     ]
    },
    {
     "name": "stderr",
     "output_type": "stream",
     "text": [
      "INFO: Postop ../../Data/16\\T1 11-26-15\n",
      "INFO: Postop ../../Data/16\\T1 Ax 09-13-15\n",
      "INFO: Postop ../../Data/16\\T1 Sag 09-18-15\n",
      "INFO: Postop ../../Data/16\\T1 Sag 10-09-15\n",
      "INFO: Start reading contour list\n",
      "INFO: Start filtering contour list for RoiNames ['Brain' 'Cerebell POST YL' 'Cingulum left' 'Cingulum right'\n",
      " 'Corpus callosum' 'CTV' 'CTV1' 'CTV2' 'Fornix' 'GTV' 'Hypothalamus'\n",
      " 'PapezCircle' 'PTV1' 'PTV2' 'Scalp' 'TemporalLobeLt' 'TemporalLobeRt'\n",
      " 'Thalamus ant L' 'Thalamus ant R' 'Thalamus left' 'Thalamus right'] with mode exact\n"
     ]
    },
    {
     "name": "stdout",
     "output_type": "stream",
     "text": [
      "t1 segmentations\n"
     ]
    },
    {
     "name": "stderr",
     "output_type": "stream",
     "text": [
      "INFO: Start segmentation of Brain.\n",
      "INFO: Start segmentation of Cerebell POST YL.\n",
      "INFO: Start segmentation of Corpus callosum.\n",
      "INFO: Start segmentation of CTV.\n",
      "INFO: Start segmentation of Fornix.\n",
      "INFO: Start segmentation of GTV.\n",
      "INFO: Start segmentation of Hypothalamus.\n",
      "INFO: Start segmentation of PTV1.\n",
      "INFO: Start segmentation of PTV2.\n",
      "INFO: Start segmentation of Scalp.\n",
      "INFO: Start segmentation of TemporalLobeLt.\n",
      "INFO: Start segmentation of TemporalLobeRt.\n"
     ]
    },
    {
     "name": "stdout",
     "output_type": "stream",
     "text": [
      "t2 segmentations\n"
     ]
    },
    {
     "name": "stderr",
     "output_type": "stream",
     "text": [
      "INFO: Start segmentation of Brain.\n",
      "INFO: Start segmentation of Cerebell POST YL.\n",
      "INFO: Start segmentation of Corpus callosum.\n",
      "INFO: Start segmentation of CTV.\n",
      "INFO: Start segmentation of Fornix.\n",
      "INFO: Start segmentation of GTV.\n",
      "INFO: Start segmentation of Hypothalamus.\n",
      "INFO: Start segmentation of PTV1.\n",
      "INFO: Start segmentation of PTV2.\n",
      "INFO: Start segmentation of Scalp.\n",
      "INFO: Start segmentation of TemporalLobeLt.\n",
      "INFO: Start segmentation of TemporalLobeRt.\n"
     ]
    },
    {
     "name": "stdout",
     "output_type": "stream",
     "text": [
      "t3 segmentations\n"
     ]
    },
    {
     "name": "stderr",
     "output_type": "stream",
     "text": [
      "INFO: Start segmentation of Brain.\n",
      "INFO: Start segmentation of Cerebell POST YL.\n",
      "INFO: Start segmentation of Corpus callosum.\n",
      "INFO: Start segmentation of CTV.\n",
      "INFO: Start segmentation of Fornix.\n",
      "INFO: Start segmentation of GTV.\n",
      "INFO: Start segmentation of Hypothalamus.\n",
      "INFO: Start segmentation of PTV1.\n",
      "INFO: Start segmentation of PTV2.\n",
      "INFO: Start segmentation of Scalp.\n",
      "INFO: Start segmentation of TemporalLobeLt.\n",
      "INFO: Start segmentation of TemporalLobeRt.\n"
     ]
    },
    {
     "name": "stdout",
     "output_type": "stream",
     "text": [
      "t4 segmentations\n"
     ]
    },
    {
     "name": "stderr",
     "output_type": "stream",
     "text": [
      "INFO: Start segmentation of Brain.\n",
      "INFO: Start segmentation of Cerebell POST YL.\n",
      "INFO: Start segmentation of Corpus callosum.\n",
      "INFO: Start segmentation of CTV.\n",
      "INFO: Start segmentation of Fornix.\n",
      "INFO: Start segmentation of GTV.\n",
      "INFO: Start segmentation of Hypothalamus.\n",
      "INFO: Start segmentation of PTV1.\n",
      "INFO: Start segmentation of PTV2.\n",
      "INFO: Start segmentation of Scalp.\n",
      "INFO: Start segmentation of TemporalLobeLt.\n",
      "INFO: Start segmentation of TemporalLobeRt.\n"
     ]
    },
    {
     "name": "stdout",
     "output_type": "stream",
     "text": [
      "folder 17\n"
     ]
    },
    {
     "name": "stderr",
     "output_type": "stream",
     "text": [
      "INFO: Preop dicom\n",
      "INFO: Postop ../../Data/17\\Ax T1+C 08-17-15\n",
      "INFO: Postop ../../Data/17\\T1 FLAIR +C 9-25-15\n",
      "INFO: Postop ../../Data/17\\T1+C 08-17-15\n",
      "INFO: Postop ../../Data/17\\T1+C 09-30-15\n",
      "INFO: Start reading contour list\n",
      "INFO: Start filtering contour list for RoiNames ['Brain' 'Cerebell POST YL' 'Cingulum left' 'Cingulum right'\n",
      " 'Corpus callosum' 'CTV' 'CTV1' 'CTV2' 'Fornix' 'GTV' 'Hypothalamus'\n",
      " 'PapezCircle' 'PTV1' 'PTV2' 'Scalp' 'TemporalLobeLt' 'TemporalLobeRt'\n",
      " 'Thalamus ant L' 'Thalamus ant R' 'Thalamus left' 'Thalamus right'] with mode exact\n"
     ]
    },
    {
     "name": "stdout",
     "output_type": "stream",
     "text": [
      "t1 segmentations\n"
     ]
    },
    {
     "name": "stderr",
     "output_type": "stream",
     "text": [
      "INFO: Start segmentation of Brain.\n",
      "INFO: Start segmentation of Cerebell POST YL.\n",
      "INFO: Start segmentation of Corpus callosum.\n",
      "INFO: Start segmentation of CTV.\n",
      "INFO: Start segmentation of Fornix.\n",
      "INFO: Start segmentation of GTV.\n",
      "INFO: Start segmentation of Hypothalamus.\n",
      "INFO: Start segmentation of PTV1.\n",
      "INFO: Start segmentation of PTV2.\n",
      "INFO: Start segmentation of Scalp.\n",
      "INFO: Start segmentation of TemporalLobeLt.\n",
      "INFO: Start segmentation of TemporalLobeRt.\n",
      "INFO: Start segmentation of Thalamus ant L.\n",
      "INFO: Start segmentation of Thalamus ant R.\n"
     ]
    },
    {
     "name": "stdout",
     "output_type": "stream",
     "text": [
      "t2 segmentations\n"
     ]
    },
    {
     "name": "stderr",
     "output_type": "stream",
     "text": [
      "INFO: Start segmentation of Brain.\n",
      "INFO: Start segmentation of Cerebell POST YL.\n",
      "INFO: Start segmentation of Corpus callosum.\n",
      "INFO: Start segmentation of CTV.\n",
      "INFO: Start segmentation of Fornix.\n",
      "INFO: Start segmentation of GTV.\n",
      "INFO: Start segmentation of Hypothalamus.\n",
      "INFO: Start segmentation of PTV1.\n",
      "INFO: Start segmentation of PTV2.\n",
      "INFO: Start segmentation of Scalp.\n",
      "INFO: Start segmentation of TemporalLobeLt.\n",
      "INFO: Start segmentation of TemporalLobeRt.\n",
      "INFO: Start segmentation of Thalamus ant L.\n",
      "INFO: Start segmentation of Thalamus ant R.\n"
     ]
    },
    {
     "name": "stdout",
     "output_type": "stream",
     "text": [
      "t3 segmentations\n"
     ]
    },
    {
     "name": "stderr",
     "output_type": "stream",
     "text": [
      "INFO: Start segmentation of Brain.\n",
      "INFO: Start segmentation of Cerebell POST YL.\n",
      "INFO: Start segmentation of Corpus callosum.\n",
      "INFO: Start segmentation of CTV.\n",
      "INFO: Start segmentation of Fornix.\n",
      "INFO: Start segmentation of GTV.\n",
      "INFO: Start segmentation of Hypothalamus.\n",
      "INFO: Start segmentation of PTV1.\n",
      "INFO: Start segmentation of PTV2.\n",
      "INFO: Start segmentation of Scalp.\n",
      "INFO: Start segmentation of TemporalLobeLt.\n",
      "INFO: Start segmentation of TemporalLobeRt.\n",
      "INFO: Start segmentation of Thalamus ant L.\n",
      "INFO: Start segmentation of Thalamus ant R.\n"
     ]
    },
    {
     "name": "stdout",
     "output_type": "stream",
     "text": [
      "t4 segmentations\n"
     ]
    },
    {
     "name": "stderr",
     "output_type": "stream",
     "text": [
      "INFO: Start segmentation of Brain.\n",
      "INFO: Start segmentation of Cerebell POST YL.\n",
      "INFO: Start segmentation of Corpus callosum.\n",
      "INFO: Start segmentation of CTV.\n",
      "INFO: Start segmentation of Fornix.\n",
      "INFO: Start segmentation of GTV.\n",
      "INFO: Start segmentation of Hypothalamus.\n",
      "INFO: Start segmentation of PTV1.\n",
      "INFO: Start segmentation of PTV2.\n",
      "INFO: Start segmentation of Scalp.\n",
      "INFO: Start segmentation of TemporalLobeLt.\n",
      "INFO: Start segmentation of TemporalLobeRt.\n",
      "INFO: Start segmentation of Thalamus ant L.\n",
      "INFO: Start segmentation of Thalamus ant R.\n",
      "INFO: Preop dicom\n"
     ]
    },
    {
     "name": "stdout",
     "output_type": "stream",
     "text": [
      "folder 18\n"
     ]
    },
    {
     "name": "stderr",
     "output_type": "stream",
     "text": [
      "INFO: Postop ../../Data/18\\T1 MPR 6-11-15\n",
      "INFO: Postop ../../Data/18\\T1 MPR 9-10-12\n",
      "INFO: Postop ../../Data/18\\T1 SE 8-20-15\n",
      "INFO: Start reading contour list\n",
      "INFO: Start filtering contour list for RoiNames ['Brain' 'Cerebell POST YL' 'Cingulum left' 'Cingulum right'\n",
      " 'Corpus callosum' 'CTV' 'CTV1' 'CTV2' 'Fornix' 'GTV' 'Hypothalamus'\n",
      " 'PapezCircle' 'PTV1' 'PTV2' 'Scalp' 'TemporalLobeLt' 'TemporalLobeRt'\n",
      " 'Thalamus ant L' 'Thalamus ant R' 'Thalamus left' 'Thalamus right'] with mode exact\n"
     ]
    },
    {
     "name": "stdout",
     "output_type": "stream",
     "text": [
      "t1 segmentations\n"
     ]
    },
    {
     "name": "stderr",
     "output_type": "stream",
     "text": [
      "INFO: Start segmentation of Brain.\n",
      "INFO: Start segmentation of Cerebell POST YL.\n",
      "INFO: Start segmentation of Corpus callosum.\n",
      "INFO: Start segmentation of CTV.\n",
      "INFO: Start segmentation of Fornix.\n",
      "INFO: Start segmentation of GTV.\n",
      "INFO: Start segmentation of Hypothalamus.\n",
      "INFO: Start segmentation of PTV1.\n",
      "INFO: Start segmentation of PTV2.\n",
      "INFO: Start segmentation of Scalp.\n",
      "INFO: Start segmentation of TemporalLobeLt.\n",
      "INFO: Start segmentation of TemporalLobeRt.\n"
     ]
    },
    {
     "name": "stdout",
     "output_type": "stream",
     "text": [
      "t2 segmentations\n"
     ]
    },
    {
     "name": "stderr",
     "output_type": "stream",
     "text": [
      "INFO: Start segmentation of Brain.\n",
      "INFO: Start segmentation of Cerebell POST YL.\n",
      "INFO: Start segmentation of Corpus callosum.\n",
      "INFO: Start segmentation of CTV.\n",
      "INFO: Start segmentation of Fornix.\n",
      "INFO: Start segmentation of GTV.\n",
      "INFO: Start segmentation of Hypothalamus.\n",
      "INFO: Start segmentation of PTV1.\n",
      "INFO: Start segmentation of PTV2.\n",
      "INFO: Start segmentation of Scalp.\n",
      "INFO: Start segmentation of TemporalLobeLt.\n",
      "INFO: Start segmentation of TemporalLobeRt.\n"
     ]
    },
    {
     "name": "stdout",
     "output_type": "stream",
     "text": [
      "t3 segmentations\n"
     ]
    },
    {
     "name": "stderr",
     "output_type": "stream",
     "text": [
      "INFO: Start segmentation of Brain.\n",
      "INFO: Start segmentation of Cerebell POST YL.\n",
      "INFO: Start segmentation of Corpus callosum.\n",
      "INFO: Start segmentation of CTV.\n",
      "INFO: Start segmentation of Fornix.\n",
      "INFO: Start segmentation of GTV.\n",
      "INFO: Start segmentation of Hypothalamus.\n",
      "INFO: Start segmentation of PTV1.\n",
      "INFO: Start segmentation of PTV2.\n",
      "INFO: Start segmentation of Scalp.\n",
      "INFO: Start segmentation of TemporalLobeLt.\n",
      "INFO: Start segmentation of TemporalLobeRt.\n",
      "INFO: Preop dicom\n"
     ]
    },
    {
     "name": "stdout",
     "output_type": "stream",
     "text": [
      "folder 20\n"
     ]
    },
    {
     "name": "stderr",
     "output_type": "stream",
     "text": [
      "INFO: Postop ../../Data/20\\T1 BRAVO 4-30-15\n",
      "INFO: Postop ../../Data/20\\T1_MPR 2-25-15\n",
      "INFO: Start reading contour list\n",
      "INFO: Start filtering contour list for RoiNames ['Brain' 'Cerebell POST YL' 'Cingulum left' 'Cingulum right'\n",
      " 'Corpus callosum' 'CTV' 'CTV1' 'CTV2' 'Fornix' 'GTV' 'Hypothalamus'\n",
      " 'PapezCircle' 'PTV1' 'PTV2' 'Scalp' 'TemporalLobeLt' 'TemporalLobeRt'\n",
      " 'Thalamus ant L' 'Thalamus ant R' 'Thalamus left' 'Thalamus right'] with mode exact\n"
     ]
    },
    {
     "name": "stdout",
     "output_type": "stream",
     "text": [
      "t1 segmentations\n"
     ]
    },
    {
     "name": "stderr",
     "output_type": "stream",
     "text": [
      "INFO: Start segmentation of Brain.\n",
      "INFO: Start segmentation of Cerebell POST YL.\n",
      "INFO: Start segmentation of Corpus callosum.\n",
      "INFO: Start segmentation of CTV.\n",
      "INFO: Start segmentation of Fornix.\n",
      "INFO: Start segmentation of GTV.\n",
      "INFO: Start segmentation of Hypothalamus.\n",
      "INFO: Start segmentation of PTV1.\n",
      "INFO: Start segmentation of PTV2.\n",
      "INFO: Start segmentation of Scalp.\n",
      "INFO: Start segmentation of TemporalLobeLt.\n",
      "INFO: Start segmentation of TemporalLobeRt.\n",
      "INFO: Start segmentation of Thalamus ant L.\n",
      "INFO: Start segmentation of Thalamus ant R.\n"
     ]
    },
    {
     "name": "stdout",
     "output_type": "stream",
     "text": [
      "t2 segmentations\n"
     ]
    },
    {
     "name": "stderr",
     "output_type": "stream",
     "text": [
      "INFO: Start segmentation of Brain.\n",
      "INFO: Start segmentation of Cerebell POST YL.\n",
      "INFO: Start segmentation of Corpus callosum.\n",
      "INFO: Start segmentation of CTV.\n",
      "INFO: Start segmentation of Fornix.\n",
      "INFO: Start segmentation of GTV.\n",
      "INFO: Start segmentation of Hypothalamus.\n",
      "INFO: Start segmentation of PTV1.\n",
      "INFO: Start segmentation of PTV2.\n",
      "INFO: Start segmentation of Scalp.\n",
      "INFO: Start segmentation of TemporalLobeLt.\n",
      "INFO: Start segmentation of TemporalLobeRt.\n",
      "INFO: Start segmentation of Thalamus ant L.\n",
      "INFO: Start segmentation of Thalamus ant R.\n"
     ]
    }
   ],
   "source": [
    "for idx in range(15,21):\n",
    "    if idx == 19:\n",
    "        continue\n",
    "    print(\"folder\", idx)\n",
    "    t = time.time()\n",
    "    files = os.listdir(os.path.join(path_data, str(idx)))\n",
    "    path_contour = os.path.join(path_data, str(idx), 'RS.Jacks{0}.dcm'.format(idx))\n",
    "    path_preop = os.path.join(path_data, str(idx), 'CT')\n",
    "    path_postop = [os.path.join(path_data, str(idx), fn) for fn in [x for x in files if 'T1' in x or 'MRT1' in x]]\n",
    "    \n",
    "    data = PatientData(path_preop, path_postop, path_contour)\n",
    "    data.read_filtered_contour(roiname=contour_of_interest, mode=\"exact\")\n",
    "    segmentor = Segmentation(data, debug=True)\n",
    "    \n",
    "    # segmentations of t0\n",
    "    found_struct = data.get_filtered_contour_names().values\n",
    "    first_index = data.contour_list_names_filtered['first'].values\n",
    "    last_index = data.contour_list_names_filtered['last'].values\n",
    "    \n",
    "    directory = os.path.join(path_data, str(idx), 'Segmentation')  \n",
    "    \n",
    "    # t1+ segmentations and images\n",
    "    for postop in range(len(data._postop_dicoms)):\n",
    "        print(\"t{0} segmentations\".format(postop+1))\n",
    "        d = path_postop[postop].split('\\\\')[-1].split(' ')[-1]\n",
    "        name = 't1 '+ d\n",
    "        name02 = 'png ' + d\n",
    "        if not os.path.exists(os.path.join(directory, name)):\n",
    "            os.makedirs(os.path.join(directory, name))\n",
    "        if not os.path.exists(os.path.join(directory, name02)):\n",
    "            os.makedirs(os.path.join(directory, name02))\n",
    "        # segmentation\n",
    "        for struct, first, last in zip(found_struct, first_index, last_index):\n",
    "            tmp = contours_list[contours_list['RoiName'] == struct]['Values'].values[0]\n",
    "            values = [float(x) for x in tmp.replace('(','').replace(')','').split(',')]\n",
    "            cont = segmentor.active_contour(struct, postprocess=postop, first=first, last=last,\n",
    "                           kernel=(int(values[0]),int(values[0])), beta=values[1], max_iterations=int(values[2])) \n",
    "            for i in range(len(cont)):\n",
    "                cv2.imwrite(os.path.join(directory, name, '{0}_t1_{3}_{1}_slice{2}.png'.format(idx,struct,first+i,d)), \n",
    "                            cont[i].astype(np.uint8), \n",
    "                            compression_params)\n",
    "        # images\n",
    "        img = data.get_post_images()\n",
    "        [cv2.imwrite(os.path.join(directory, name02, '{0}_slice{1}.png'.format(idx,ix)), img[postop][ix].astype(np.uint8), compression_params) for ix in range(np.shape(img)[1])]"
   ]
  },
  {
   "cell_type": "code",
   "execution_count": null,
   "metadata": {},
   "outputs": [],
   "source": []
  },
  {
   "cell_type": "markdown",
   "metadata": {},
   "source": [
    "# Create csv"
   ]
  },
  {
   "cell_type": "code",
   "execution_count": 18,
   "metadata": {},
   "outputs": [
    {
     "name": "stdout",
     "output_type": "stream",
     "text": [
      "Brain\n",
      "Cerebell POST YL\n",
      "Cingulum left\n",
      "Cingulum right\n",
      "Corpus callosum\n",
      "CTV\n",
      "CTV1\n",
      "CTV2\n",
      "Fornix\n",
      "GTV\n",
      "Hypothalamus\n",
      "PapezCircle\n",
      "PTV1\n",
      "PTV2\n",
      "Scalp\n",
      "TemporalLobeLt\n",
      "TemporalLobeRt\n",
      "Thalamus ant L\n",
      "Thalamus ant R\n",
      "Thalamus left\n",
      "Thalamus right\n"
     ]
    }
   ],
   "source": [
    "for contour in contours_list['RoiName']:\n",
    "    print(contour)\n",
    "    df = pd.DataFrame(columns=['PatientID','Img','Init','Segm','Slice','RoiName'])\n",
    "    for idx in range(15,21):\n",
    "        if idx==19:\n",
    "            continue\n",
    "        directory_segm = os.path.join(path_data, str(idx),'Segmentation','t0')  \n",
    "        directory_png = os.path.join(path_data, str(idx),'Segmentation','png')  \n",
    "        directory_init = os.path.join(path_data, str(idx),'Segmentation','init')  \n",
    "        files_segm = os.listdir(directory_segm)\n",
    "        files_pngs = os.listdir(directory_png)\n",
    "        files_init = os.listdir(directory_init)\n",
    "        slices = [int(files_pngs[ix].replace('{0}_slice'.format(idx),'').replace('.png','')) for ix in range(len(files_pngs))]\n",
    "        slices = sorted(slices)\n",
    "        for ix in slices:\n",
    "            fn = '{0}_slice{1}.png'.format(idx, ix)\n",
    "            ln = '{0}_t0_{1}_slice{2}.png'.format(idx, contour, ix)\n",
    "            ln2 = '{0}_init_{1}_slice{2}.png'.format(idx, contour, ix)\n",
    "            fn_idx = files_pngs.index(fn)\n",
    "            try:\n",
    "                ln_idx = files_segm.index(ln)\n",
    "            except:\n",
    "                ln_idx = None\n",
    "            try:\n",
    "                init_idx = files_init.index(ln2)\n",
    "            except:\n",
    "                init_idx = None\n",
    "            if init_idx is not None:\n",
    "                row = {'PatientID': idx,\n",
    "                      'Img': os.path.join(directory_png,files_pngs[fn_idx]).replace('\\\\','/'),\n",
    "                      'Init': os.path.join(directory_init, files_init[init_idx]).replace('\\\\','/') if init_idx is not None else None,\n",
    "                      'Segm': os.path.join(directory_segm,files_segm[ln_idx]).replace('\\\\','/') if ln_idx is not None else None, \n",
    "                      'Slice': ix,\n",
    "                      'RoiName': contour}\n",
    "                df = df.append(row, ignore_index=True)        \n",
    "    #df.to_csv('../../Data/data_{0}.csv'.format(contour.replace(' ','')), index=False, sep=';')\n",
    "    df.to_csv('../../Data/test_{0}.csv'.format(contour.replace(' ','')), index=False, sep=';')"
   ]
  },
  {
   "cell_type": "code",
   "execution_count": 22,
   "metadata": {},
   "outputs": [
    {
     "data": {
      "text/html": [
       "<div>\n",
       "<style scoped>\n",
       "    .dataframe tbody tr th:only-of-type {\n",
       "        vertical-align: middle;\n",
       "    }\n",
       "\n",
       "    .dataframe tbody tr th {\n",
       "        vertical-align: top;\n",
       "    }\n",
       "\n",
       "    .dataframe thead th {\n",
       "        text-align: right;\n",
       "    }\n",
       "</style>\n",
       "<table border=\"1\" class=\"dataframe\">\n",
       "  <thead>\n",
       "    <tr style=\"text-align: right;\">\n",
       "      <th></th>\n",
       "      <th>PatientID</th>\n",
       "      <th>Img</th>\n",
       "      <th>Init</th>\n",
       "      <th>Segm</th>\n",
       "      <th>Slice</th>\n",
       "      <th>RoiName</th>\n",
       "    </tr>\n",
       "  </thead>\n",
       "  <tbody>\n",
       "    <tr>\n",
       "      <th>0</th>\n",
       "      <td>15</td>\n",
       "      <td>../../Data/15/Segmentation/png/15_slice34.png</td>\n",
       "      <td>../../Data/15/Segmentation/init/15_init_Brain_...</td>\n",
       "      <td>../../Data/15/Segmentation/t0/15_t0_Brain_slic...</td>\n",
       "      <td>34</td>\n",
       "      <td>Brain</td>\n",
       "    </tr>\n",
       "    <tr>\n",
       "      <th>1</th>\n",
       "      <td>15</td>\n",
       "      <td>../../Data/15/Segmentation/png/15_slice35.png</td>\n",
       "      <td>../../Data/15/Segmentation/init/15_init_Brain_...</td>\n",
       "      <td>../../Data/15/Segmentation/t0/15_t0_Brain_slic...</td>\n",
       "      <td>35</td>\n",
       "      <td>Brain</td>\n",
       "    </tr>\n",
       "    <tr>\n",
       "      <th>2</th>\n",
       "      <td>15</td>\n",
       "      <td>../../Data/15/Segmentation/png/15_slice36.png</td>\n",
       "      <td>../../Data/15/Segmentation/init/15_init_Brain_...</td>\n",
       "      <td>../../Data/15/Segmentation/t0/15_t0_Brain_slic...</td>\n",
       "      <td>36</td>\n",
       "      <td>Brain</td>\n",
       "    </tr>\n",
       "    <tr>\n",
       "      <th>3</th>\n",
       "      <td>15</td>\n",
       "      <td>../../Data/15/Segmentation/png/15_slice37.png</td>\n",
       "      <td>../../Data/15/Segmentation/init/15_init_Brain_...</td>\n",
       "      <td>../../Data/15/Segmentation/t0/15_t0_Brain_slic...</td>\n",
       "      <td>37</td>\n",
       "      <td>Brain</td>\n",
       "    </tr>\n",
       "    <tr>\n",
       "      <th>4</th>\n",
       "      <td>15</td>\n",
       "      <td>../../Data/15/Segmentation/png/15_slice38.png</td>\n",
       "      <td>../../Data/15/Segmentation/init/15_init_Brain_...</td>\n",
       "      <td>../../Data/15/Segmentation/t0/15_t0_Brain_slic...</td>\n",
       "      <td>38</td>\n",
       "      <td>Brain</td>\n",
       "    </tr>\n",
       "    <tr>\n",
       "      <th>...</th>\n",
       "      <td>...</td>\n",
       "      <td>...</td>\n",
       "      <td>...</td>\n",
       "      <td>...</td>\n",
       "      <td>...</td>\n",
       "      <td>...</td>\n",
       "    </tr>\n",
       "    <tr>\n",
       "      <th>650</th>\n",
       "      <td>20</td>\n",
       "      <td>../../Data/20/Segmentation/png/20_slice145.png</td>\n",
       "      <td>../../Data/20/Segmentation/init/20_init_Brain_...</td>\n",
       "      <td>../../Data/20/Segmentation/t0/20_t0_Brain_slic...</td>\n",
       "      <td>145</td>\n",
       "      <td>Brain</td>\n",
       "    </tr>\n",
       "    <tr>\n",
       "      <th>651</th>\n",
       "      <td>20</td>\n",
       "      <td>../../Data/20/Segmentation/png/20_slice146.png</td>\n",
       "      <td>../../Data/20/Segmentation/init/20_init_Brain_...</td>\n",
       "      <td>../../Data/20/Segmentation/t0/20_t0_Brain_slic...</td>\n",
       "      <td>146</td>\n",
       "      <td>Brain</td>\n",
       "    </tr>\n",
       "    <tr>\n",
       "      <th>652</th>\n",
       "      <td>20</td>\n",
       "      <td>../../Data/20/Segmentation/png/20_slice147.png</td>\n",
       "      <td>../../Data/20/Segmentation/init/20_init_Brain_...</td>\n",
       "      <td>../../Data/20/Segmentation/t0/20_t0_Brain_slic...</td>\n",
       "      <td>147</td>\n",
       "      <td>Brain</td>\n",
       "    </tr>\n",
       "    <tr>\n",
       "      <th>653</th>\n",
       "      <td>20</td>\n",
       "      <td>../../Data/20/Segmentation/png/20_slice148.png</td>\n",
       "      <td>../../Data/20/Segmentation/init/20_init_Brain_...</td>\n",
       "      <td>../../Data/20/Segmentation/t0/20_t0_Brain_slic...</td>\n",
       "      <td>148</td>\n",
       "      <td>Brain</td>\n",
       "    </tr>\n",
       "    <tr>\n",
       "      <th>654</th>\n",
       "      <td>20</td>\n",
       "      <td>../../Data/20/Segmentation/png/20_slice149.png</td>\n",
       "      <td>../../Data/20/Segmentation/init/20_init_Brain_...</td>\n",
       "      <td>../../Data/20/Segmentation/t0/20_t0_Brain_slic...</td>\n",
       "      <td>149</td>\n",
       "      <td>Brain</td>\n",
       "    </tr>\n",
       "  </tbody>\n",
       "</table>\n",
       "<p>655 rows × 6 columns</p>\n",
       "</div>"
      ],
      "text/plain": [
       "     PatientID                                             Img  \\\n",
       "0           15   ../../Data/15/Segmentation/png/15_slice34.png   \n",
       "1           15   ../../Data/15/Segmentation/png/15_slice35.png   \n",
       "2           15   ../../Data/15/Segmentation/png/15_slice36.png   \n",
       "3           15   ../../Data/15/Segmentation/png/15_slice37.png   \n",
       "4           15   ../../Data/15/Segmentation/png/15_slice38.png   \n",
       "..         ...                                             ...   \n",
       "650         20  ../../Data/20/Segmentation/png/20_slice145.png   \n",
       "651         20  ../../Data/20/Segmentation/png/20_slice146.png   \n",
       "652         20  ../../Data/20/Segmentation/png/20_slice147.png   \n",
       "653         20  ../../Data/20/Segmentation/png/20_slice148.png   \n",
       "654         20  ../../Data/20/Segmentation/png/20_slice149.png   \n",
       "\n",
       "                                                  Init  \\\n",
       "0    ../../Data/15/Segmentation/init/15_init_Brain_...   \n",
       "1    ../../Data/15/Segmentation/init/15_init_Brain_...   \n",
       "2    ../../Data/15/Segmentation/init/15_init_Brain_...   \n",
       "3    ../../Data/15/Segmentation/init/15_init_Brain_...   \n",
       "4    ../../Data/15/Segmentation/init/15_init_Brain_...   \n",
       "..                                                 ...   \n",
       "650  ../../Data/20/Segmentation/init/20_init_Brain_...   \n",
       "651  ../../Data/20/Segmentation/init/20_init_Brain_...   \n",
       "652  ../../Data/20/Segmentation/init/20_init_Brain_...   \n",
       "653  ../../Data/20/Segmentation/init/20_init_Brain_...   \n",
       "654  ../../Data/20/Segmentation/init/20_init_Brain_...   \n",
       "\n",
       "                                                  Segm  Slice RoiName  \n",
       "0    ../../Data/15/Segmentation/t0/15_t0_Brain_slic...     34   Brain  \n",
       "1    ../../Data/15/Segmentation/t0/15_t0_Brain_slic...     35   Brain  \n",
       "2    ../../Data/15/Segmentation/t0/15_t0_Brain_slic...     36   Brain  \n",
       "3    ../../Data/15/Segmentation/t0/15_t0_Brain_slic...     37   Brain  \n",
       "4    ../../Data/15/Segmentation/t0/15_t0_Brain_slic...     38   Brain  \n",
       "..                                                 ...    ...     ...  \n",
       "650  ../../Data/20/Segmentation/t0/20_t0_Brain_slic...    145   Brain  \n",
       "651  ../../Data/20/Segmentation/t0/20_t0_Brain_slic...    146   Brain  \n",
       "652  ../../Data/20/Segmentation/t0/20_t0_Brain_slic...    147   Brain  \n",
       "653  ../../Data/20/Segmentation/t0/20_t0_Brain_slic...    148   Brain  \n",
       "654  ../../Data/20/Segmentation/t0/20_t0_Brain_slic...    149   Brain  \n",
       "\n",
       "[655 rows x 6 columns]"
      ]
     },
     "execution_count": 22,
     "metadata": {},
     "output_type": "execute_result"
    }
   ],
   "source": [
    "df = pd.read_csv('../../Data/test_Brain.csv', sep=';')\n",
    "df"
   ]
  },
  {
   "cell_type": "code",
   "execution_count": 23,
   "metadata": {},
   "outputs": [
    {
     "data": {
      "text/plain": [
       "PatientID                                                   15\n",
       "Img              ../../Data/15/Segmentation/png/15_slice42.png\n",
       "Init         ../../Data/15/Segmentation/init/15_init_Brain_...\n",
       "Segm         ../../Data/15/Segmentation/t0/15_t0_Brain_slic...\n",
       "Slice                                                       42\n",
       "RoiName                                                  Brain\n",
       "Name: 8, dtype: object"
      ]
     },
     "execution_count": 23,
     "metadata": {},
     "output_type": "execute_result"
    }
   ],
   "source": [
    "df.loc[8]"
   ]
  },
  {
   "cell_type": "code",
   "execution_count": 24,
   "metadata": {},
   "outputs": [
    {
     "data": {
      "text/plain": [
       "<matplotlib.image.AxesImage at 0x6529112a20>"
      ]
     },
     "execution_count": 24,
     "metadata": {},
     "output_type": "execute_result"
    },
    {
     "data": {
      "image/png": "[encoded data removed]",
      "text/plain": [
       "<Figure size 432x288 with 1 Axes>"
      ]
     },
     "metadata": {
      "needs_background": "light"
     },
     "output_type": "display_data"
    }
   ],
   "source": [
    "plt.imshow(cv2.imread(df.loc[88,'Segm'], cv2.IMREAD_GRAYSCALE))"
   ]
  },
  {
   "cell_type": "code",
   "execution_count": null,
   "metadata": {},
   "outputs": [],
   "source": []
  },
  {
   "cell_type": "code",
   "execution_count": null,
   "metadata": {},
   "outputs": [],
   "source": []
  }
 ],
 "metadata": {
  "kernelspec": {
   "display_name": "Python 3",
   "language": "python",
   "name": "python3"
  },
  "language_info": {
   "codemirror_mode": {
    "name": "ipython",
    "version": 3
   },
   "file_extension": ".py",
   "mimetype": "text/x-python",
   "name": "python",
   "nbconvert_exporter": "python",
   "pygments_lexer": "ipython3",
   "version": "3.6.10"
  }
 },
 "nbformat": 4,
 "nbformat_minor": 2
}
