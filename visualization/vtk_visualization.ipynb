{
 "cells": [
  {
   "cell_type": "markdown",
   "metadata": {},
   "source": [
    "# VKT visualization\n",
    "time gradient for brain structure <br>\n",
    "date = October 17, 2020 <br>"
   ]
  },
  {
   "cell_type": "code",
   "execution_count": 1,
   "metadata": {},
   "outputs": [],
   "source": [
    "import vtk\n",
    "from vtk.util import numpy_support"
   ]
  },
  {
   "cell_type": "code",
   "execution_count": 2,
   "metadata": {},
   "outputs": [],
   "source": [
    "import os\n",
    "import numpy as np\n",
    "import cv2\n",
    "import sys\n",
    "import matplotlib.pyplot as plt"
   ]
  },
  {
   "cell_type": "code",
   "execution_count": 3,
   "metadata": {},
   "outputs": [],
   "source": [
    "sys.path.append(os.path.abspath('../../'))\n",
    "sys.path.append(os.path.abspath('../utils'))"
   ]
  },
  {
   "cell_type": "code",
   "execution_count": 4,
   "metadata": {},
   "outputs": [],
   "source": [
    "from SliceText import SliceText\n",
    "from VTKSegmentationMask import VTKSegmentationMask\n",
    "from VTKSegmentationActors import VTKSegmentationActors"
   ]
  },
  {
   "cell_type": "markdown",
   "metadata": {},
   "source": [
    "# Prepare data folder"
   ]
  },
  {
   "cell_type": "code",
   "execution_count": 5,
   "metadata": {},
   "outputs": [],
   "source": [
    "structure = \"Brain\"\n",
    "path_data_t0 = os.path.join(\"../../Data/Test/Segmentation/t0/\")#, structure)\n",
    "path_data_t1 = os.path.join(\"../../Data/Test/Segmentation/t1 10-10-2020/\")#,  structure)#3-15-16\n",
    "path_data_t2 = os.path.join(\"../../Data/test/Segmentation/t1 18-10-2020/\")#,  structure)#3-23-16\n",
    "#path_data_t0_img = \"../../Data/Test/Segmentation/png 18-10-2020/\"#3-15-16\n",
    "path_data_mask = [path_data_t0,\n",
    "                 path_data_t1, \n",
    "                 path_data_t2]"
   ]
  },
  {
   "cell_type": "code",
   "execution_count": 6,
   "metadata": {},
   "outputs": [
    {
     "data": {
      "text/plain": [
       "['../../Data/Test/Segmentation/t0',\n",
       " '../../Data/Test/Segmentation/t1 10-10-2020',\n",
       " '../../Data/Test/Segmentation/t1 18-10-2020']"
      ]
     },
     "execution_count": 6,
     "metadata": {},
     "output_type": "execute_result"
    }
   ],
   "source": [
    "[os.path.join(\"../../Data/Test/Segmentation/\",x) for x in os.listdir(\"../../Data/Test/Segmentation/\") if 't0' in x or 't1' in x]"
   ]
  },
  {
   "cell_type": "markdown",
   "metadata": {},
   "source": [
    "# Dicom Data"
   ]
  },
  {
   "cell_type": "code",
   "execution_count": 7,
   "metadata": {},
   "outputs": [
    {
     "data": {
      "text/plain": [
       "0"
      ]
     },
     "execution_count": 7,
     "metadata": {},
     "output_type": "execute_result"
    }
   ],
   "source": [
    "# convert filepath\n",
    "path_data_t0_img = \"../../Data/Test/Segmentation/png 18-10-2020/\"\n",
    "pngfiles_t0_img = [os.path.join(path_data_t0_img,x) for x in os.listdir(path_data_t0_img)]\n",
    "pngfiles_t0_img = sorted(pngfiles_t0_img, key=lambda x: int(x.split('slice')[-1].split('.')[0]))\n",
    "\n",
    "filePath_t0_img = vtk.vtkStringArray()\n",
    "filePath_t0_img.SetNumberOfValues(len(pngfiles_t0_img))\n",
    "for i in range(0,len(pngfiles_t0_img),1):\n",
    "    filePath_t0_img.SetValue(i,pngfiles_t0_img[i])\n",
    "\n",
    "# Read png t0\n",
    "png_reader_img = vtk.vtkPNGReader()\n",
    "png_reader_img.SetFileNames(filePath_t0_img)\n",
    "png_reader_img.Update()\n",
    "\n",
    "dicom = vtk.vtkImageSlice()\n",
    "dicom.SetMapper(vtk.vtkImageSliceMapper())\n",
    "dicom.GetMapper().SetSliceNumber(0)\n",
    "dicom.GetMapper().SetInputConnection(png_reader_img.GetOutputPort())\n",
    "dicom.GetProperty().SetOpacity(0.5)\n",
    "slice_number = dicom.GetMapper().GetSliceNumber()\n",
    "slice_number_max = dicom.GetMapper().GetSliceNumberMaxValue()\n",
    "\n",
    "slice_number"
   ]
  },
  {
   "cell_type": "markdown",
   "metadata": {},
   "source": [
    "# VTK Segmentation Mask Generation"
   ]
  },
  {
   "cell_type": "code",
   "execution_count": 8,
   "metadata": {},
   "outputs": [
    {
     "data": {
      "text/plain": [
       "['../../Data/Test/Segmentation/t0/',\n",
       " '../../Data/Test/Segmentation/t1 10-10-2020/',\n",
       " '../../Data/test/Segmentation/t1 18-10-2020/']"
      ]
     },
     "execution_count": 8,
     "metadata": {},
     "output_type": "execute_result"
    }
   ],
   "source": [
    "path_data_mask"
   ]
  },
  {
   "cell_type": "code",
   "execution_count": 9,
   "metadata": {},
   "outputs": [
    {
     "data": {
      "text/plain": [
       "([(vtkCommonDataModelPython.vtkImageData)0000009DF105A228,\n",
       "  (vtkCommonDataModelPython.vtkImageData)0000009DF105AD08],\n",
       " [(vtkCommonDataModelPython.vtkImageData)0000009DF10AA7C8,\n",
       "  (vtkCommonDataModelPython.vtkImageData)0000009DF10AA768,\n",
       "  (vtkCommonDataModelPython.vtkImageData)0000009DF10AA828])"
      ]
     },
     "execution_count": 9,
     "metadata": {},
     "output_type": "execute_result"
    }
   ],
   "source": [
    "vtkConverter = VTKSegmentationMask(path_data_mask, fill=False)\n",
    "vtk_mask, vtk_contour = vtkConverter.generate()\n",
    "vtk_mask, vtk_contour"
   ]
  },
  {
   "cell_type": "code",
   "execution_count": 10,
   "metadata": {},
   "outputs": [],
   "source": [
    "number_time_steps = vtkConverter.number_time_steps\n",
    "bg_color = vtkConverter.bg_color"
   ]
  },
  {
   "cell_type": "markdown",
   "metadata": {},
   "source": [
    "# VTK Segmentation Actors"
   ]
  },
  {
   "cell_type": "code",
   "execution_count": 11,
   "metadata": {},
   "outputs": [],
   "source": [
    "actorsGenerator = VTKSegmentationActors(vtk_mask, vtk_contour)\n",
    "actors_mask, actors_contour = actorsGenerator.UpdateActors()"
   ]
  },
  {
   "cell_type": "code",
   "execution_count": null,
   "metadata": {},
   "outputs": [],
   "source": []
  },
  {
   "cell_type": "markdown",
   "metadata": {},
   "source": [
    "# Rendering"
   ]
  },
  {
   "cell_type": "code",
   "execution_count": 12,
   "metadata": {},
   "outputs": [],
   "source": [
    "# Slice status message\n",
    "sliceText = SliceText(slice_number, slice_number_max)"
   ]
  },
  {
   "cell_type": "code",
   "execution_count": 13,
   "metadata": {},
   "outputs": [],
   "source": [
    "def MoveSliceFoward(obj, event):\n",
    "    current_slice = dicom.GetMapper().GetSliceNumber()\n",
    "    MoveSlice(current_slice + 1)\n",
    "\n",
    "def MoveSliceBackward(obj, event):\n",
    "    current_slice = dicom.GetMapper().GetSliceNumber()\n",
    "    MoveSlice(current_slice - 1)\n",
    "\n",
    "def MoveSlice(new_slice):\n",
    "    new_slice = max(min(dicom.GetMapper().GetSliceNumberMaxValue(), new_slice), dicom.GetMapper().GetSliceNumberMinValue())\n",
    "    print('setting new slice', new_slice)\n",
    "    dicom.GetMapper().SetSliceNumber(new_slice)\n",
    "    slice_number = dicom.GetMapper().GetSliceNumber()\n",
    "    #segmentation_actors.SetSliceNumber(slice_number)\n",
    "    #print('setting new mask slice', segmentation_actors.GetSliceNumber())\n",
    "    for idx in range(len(actors_contour)):\n",
    "        actors_contour[idx].GetMapper().SetSliceNumber(slice_number)\n",
    "    for idx in range(len(actors_mask)):\n",
    "        actors_mask[idx].GetMapper().SetSliceNumber(slice_number)\n",
    "    sliceText.SetInput(new_slice, dicom.GetMapper().GetSliceNumberMaxValue())\n",
    "    window.Render()"
   ]
  },
  {
   "cell_type": "raw",
   "metadata": {},
   "source": [
    "# Create an image actor\n",
    "#actor_single = vtk.vtkImageActor()\n",
    "actor_single = vtk.vtkImageSlice()\n",
    "actor_single.SetMapper(vtk.vtkImageSliceMapper())\n",
    "actor_single.GetMapper().SetSliceNumber(slice_number)\n",
    "actor_single.GetMapper().SetInputData(vtk_mask[-1])"
   ]
  },
  {
   "cell_type": "code",
   "execution_count": 14,
   "metadata": {},
   "outputs": [],
   "source": [
    "# Create renderer\n",
    "renderer = vtk.vtkRenderer()\n",
    "renderer.SetBackground(*bg_color)\n",
    "renderer.ResetCamera()\n",
    "renderer.AddActor2D(sliceText.sliceTextActor)\n",
    "renderer.AddViewProp(dicom)\n",
    "for idx in range(len(actors_mask)):\n",
    "    renderer.AddViewProp(actors_mask[idx])\n",
    "for idx in range(len(actors_contour)):\n",
    "    renderer.AddActor(actors_contour[idx])\n",
    "\n",
    "# Create interactor (customized)\n",
    "interactorStyle = vtk.vtkInteractorStyleImage()\n",
    "interactorStyle.SetInteractionModeToImageSlicing()\n",
    "    \n",
    "# Create interactor\n",
    "interactor = vtk.vtkRenderWindowInteractor()\n",
    "interactor.SetInteractorStyle(interactorStyle)\n",
    "interactorStyle.AddObserver(\"MouseWheelForwardEvent\", MoveSliceFoward)\n",
    "interactorStyle.AddObserver(\"MouseWheelBackwardEvent\", MoveSliceBackward)\n",
    "\n",
    "# Create renderwindow\n",
    "window = vtk.vtkRenderWindow()\n",
    "window.SetSize(500,500)\n",
    "window.AddRenderer(renderer)\n",
    "window.SetInteractor(interactor)"
   ]
  },
  {
   "cell_type": "code",
   "execution_count": 15,
   "metadata": {},
   "outputs": [
    {
     "name": "stdout",
     "output_type": "stream",
     "text": [
      "setting new slice 1\n",
      "setting new slice 2\n",
      "setting new slice 3\n",
      "setting new slice 4\n",
      "setting new slice 5\n",
      "setting new slice 6\n",
      "setting new slice 7\n",
      "setting new slice 8\n",
      "setting new slice 9\n",
      "setting new slice 10\n",
      "setting new slice 11\n",
      "setting new slice 12\n",
      "setting new slice 13\n",
      "setting new slice 14\n",
      "setting new slice 15\n",
      "setting new slice 16\n",
      "setting new slice 17\n",
      "setting new slice 18\n",
      "setting new slice 19\n",
      "setting new slice 19\n",
      "setting new slice 19\n",
      "setting new slice 19\n",
      "setting new slice 18\n",
      "setting new slice 17\n",
      "setting new slice 16\n",
      "setting new slice 15\n",
      "setting new slice 14\n",
      "setting new slice 13\n",
      "setting new slice 12\n",
      "setting new slice 11\n",
      "setting new slice 10\n",
      "setting new slice 9\n",
      "setting new slice 8\n",
      "setting new slice 7\n",
      "setting new slice 6\n",
      "setting new slice 5\n",
      "setting new slice 4\n",
      "setting new slice 3\n",
      "setting new slice 4\n",
      "setting new slice 5\n",
      "setting new slice 6\n",
      "setting new slice 7\n",
      "setting new slice 8\n",
      "setting new slice 9\n",
      "setting new slice 10\n",
      "setting new slice 11\n",
      "setting new slice 12\n",
      "setting new slice 13\n",
      "setting new slice 14\n",
      "setting new slice 15\n",
      "setting new slice 16\n",
      "setting new slice 17\n",
      "setting new slice 18\n",
      "setting new slice 19\n",
      "setting new slice 19\n",
      "setting new slice 19\n",
      "setting new slice 19\n",
      "setting new slice 19\n",
      "setting new slice 19\n",
      "setting new slice 19\n",
      "setting new slice 19\n",
      "setting new slice 19\n",
      "setting new slice 19\n",
      "setting new slice 19\n",
      "setting new slice 19\n",
      "setting new slice 19\n",
      "setting new slice 19\n",
      "setting new slice 19\n",
      "setting new slice 19\n",
      "setting new slice 18\n",
      "setting new slice 17\n",
      "setting new slice 16\n",
      "setting new slice 15\n",
      "setting new slice 14\n",
      "setting new slice 13\n",
      "setting new slice 12\n",
      "setting new slice 11\n",
      "setting new slice 10\n",
      "setting new slice 9\n",
      "setting new slice 8\n",
      "setting new slice 7\n"
     ]
    }
   ],
   "source": [
    "# Render composite. In default mode.\n",
    "window.Render()\n",
    "interactor.Start()"
   ]
  },
  {
   "cell_type": "code",
   "execution_count": null,
   "metadata": {},
   "outputs": [],
   "source": []
  },
  {
   "cell_type": "code",
   "execution_count": null,
   "metadata": {},
   "outputs": [],
   "source": []
  },
  {
   "cell_type": "code",
   "execution_count": null,
   "metadata": {},
   "outputs": [],
   "source": []
  }
 ],
 "metadata": {
  "kernelspec": {
   "display_name": "Python 3",
   "language": "python",
   "name": "python3"
  },
  "language_info": {
   "codemirror_mode": {
    "name": "ipython",
    "version": 3
   },
   "file_extension": ".py",
   "mimetype": "text/x-python",
   "name": "python",
   "nbconvert_exporter": "python",
   "pygments_lexer": "ipython3",
   "version": "3.6.10"
  }
 },
 "nbformat": 4,
 "nbformat_minor": 4
}
