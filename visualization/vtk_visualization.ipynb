{
 "cells": [
  {
   "cell_type": "markdown",
   "metadata": {},
   "source": [
    "# VKT visualization\n",
    "time gradient for brain structure <br>\n",
    "date = October 17, 2020 <br>"
   ]
  },
  {
   "cell_type": "code",
   "execution_count": 1,
   "metadata": {},
   "outputs": [],
   "source": [
    "import vtk\n",
    "from vtk.util import numpy_support"
   ]
  },
  {
   "cell_type": "code",
   "execution_count": 2,
   "metadata": {},
   "outputs": [
    {
     "data": {
      "text/plain": [
       "'vtk version 9.0.1'"
      ]
     },
     "execution_count": 2,
     "metadata": {},
     "output_type": "execute_result"
    }
   ],
   "source": [
    "vtk.vtkVersion.GetVTKSourceVersion()"
   ]
  },
  {
   "cell_type": "code",
   "execution_count": null,
   "metadata": {},
   "outputs": [],
   "source": []
  },
  {
   "cell_type": "code",
   "execution_count": 3,
   "metadata": {},
   "outputs": [],
   "source": [
    "import os\n",
    "import numpy as np\n",
    "import cv2\n",
    "import sys\n",
    "import matplotlib.pyplot as plt"
   ]
  },
  {
   "cell_type": "code",
   "execution_count": 4,
   "metadata": {},
   "outputs": [
    {
     "data": {
      "text/plain": [
       "3"
      ]
     },
     "execution_count": 4,
     "metadata": {},
     "output_type": "execute_result"
    }
   ],
   "source": [
    "int(cv2.__version__.split('.')[0])"
   ]
  },
  {
   "cell_type": "code",
   "execution_count": null,
   "metadata": {},
   "outputs": [],
   "source": []
  },
  {
   "cell_type": "code",
   "execution_count": 5,
   "metadata": {},
   "outputs": [],
   "source": [
    "sys.path.append(os.path.abspath('../../'))\n",
    "sys.path.append(os.path.abspath('../utils'))"
   ]
  },
  {
   "cell_type": "code",
   "execution_count": 6,
   "metadata": {},
   "outputs": [],
   "source": [
    "from SliceText import SliceText\n",
    "from VTKSegmentationMask import VTKSegmentationMask\n",
    "from VTKSegmentationActors import VTKSegmentationActors"
   ]
  },
  {
   "cell_type": "markdown",
   "metadata": {},
   "source": [
    "# Prepare data folder"
   ]
  },
  {
   "cell_type": "code",
   "execution_count": 7,
   "metadata": {},
   "outputs": [],
   "source": [
    "structure = \"Brain\"\n",
    "path_data_t0 = os.path.join(\"../../Data/Test/Segmentation/t0/\", structure)\n",
    "path_data_t1 = os.path.join(\"../../Data/Test/Segmentation/t1 10-10-2020/\",  structure)#3-15-16\n",
    "path_data_t2 = os.path.join(\"../../Data/test/Segmentation/t1 18-10-2020/\",  structure)#3-23-16\n",
    "#path_data_t0_img = \"../../Data/Test/Segmentation/png 18-10-2020/\"#3-15-16\n",
    "path_data_mask = [path_data_t0,\n",
    "                 path_data_t1, \n",
    "                 path_data_t2]"
   ]
  },
  {
   "cell_type": "code",
   "execution_count": 8,
   "metadata": {},
   "outputs": [
    {
     "data": {
      "text/plain": [
       "['../../Data/Test/Segmentation/t0',\n",
       " '../../Data/Test/Segmentation/t1 10-10-2020',\n",
       " '../../Data/Test/Segmentation/t1 18-10-2020']"
      ]
     },
     "execution_count": 8,
     "metadata": {},
     "output_type": "execute_result"
    }
   ],
   "source": [
    "[os.path.join(\"../../Data/Test/Segmentation/\",x) for x in os.listdir(\"../../Data/Test/Segmentation/\") if 't0' in x or 't1' in x]"
   ]
  },
  {
   "cell_type": "markdown",
   "metadata": {},
   "source": [
    "# Dicom Data"
   ]
  },
  {
   "cell_type": "code",
   "execution_count": 9,
   "metadata": {},
   "outputs": [
    {
     "data": {
      "text/plain": [
       "0"
      ]
     },
     "execution_count": 9,
     "metadata": {},
     "output_type": "execute_result"
    }
   ],
   "source": [
    "# convert filepath\n",
    "path_data_t0_img = \"../../Data/Test/Segmentation/png 18-10-2020/\"\n",
    "pngfiles_t0_img = [os.path.join(path_data_t0_img,x) for x in os.listdir(path_data_t0_img)]\n",
    "pngfiles_t0_img = sorted(pngfiles_t0_img, key=lambda x: int(x.split('slice')[-1].split('.')[0]))\n",
    "\n",
    "filePath_t0_img = vtk.vtkStringArray()\n",
    "filePath_t0_img.SetNumberOfValues(len(pngfiles_t0_img))\n",
    "for i in range(0,len(pngfiles_t0_img),1):\n",
    "    filePath_t0_img.SetValue(i,pngfiles_t0_img[i])\n",
    "\n",
    "# Read png t0\n",
    "png_reader_img = vtk.vtkPNGReader()\n",
    "png_reader_img.SetFileNames(filePath_t0_img)\n",
    "png_reader_img.Update()\n",
    "\n",
    "dicom = vtk.vtkImageSlice()\n",
    "dicom.SetMapper(vtk.vtkImageSliceMapper())\n",
    "dicom.GetMapper().SetSliceNumber(0)\n",
    "dicom.GetMapper().SetInputConnection(png_reader_img.GetOutputPort())\n",
    "dicom.GetProperty().SetOpacity(0.2)\n",
    "dicom.SetPosition(0, 0, 0)\n",
    "slice_number = dicom.GetMapper().GetSliceNumber()\n",
    "slice_number_max = dicom.GetMapper().GetSliceNumberMaxValue()\n",
    "\n",
    "slice_number"
   ]
  },
  {
   "cell_type": "code",
   "execution_count": 10,
   "metadata": {},
   "outputs": [
    {
     "data": {
      "text/plain": [
       "(0.0, 240.0)"
      ]
     },
     "execution_count": 10,
     "metadata": {},
     "output_type": "execute_result"
    }
   ],
   "source": [
    "png_reader_img.GetOutput().GetScalarRange()"
   ]
  },
  {
   "cell_type": "code",
   "execution_count": 11,
   "metadata": {},
   "outputs": [
    {
     "data": {
      "text/plain": [
       "19"
      ]
     },
     "execution_count": 11,
     "metadata": {},
     "output_type": "execute_result"
    }
   ],
   "source": [
    "dicom.GetMapper().GetSliceNumberMaxValue()"
   ]
  },
  {
   "cell_type": "markdown",
   "metadata": {},
   "source": [
    "# VTK Segmentation Mask Generation"
   ]
  },
  {
   "cell_type": "code",
   "execution_count": 12,
   "metadata": {},
   "outputs": [
    {
     "data": {
      "text/plain": [
       "['../../Data/Test/Segmentation/t0/Brain',\n",
       " '../../Data/Test/Segmentation/t1 10-10-2020/Brain',\n",
       " '../../Data/test/Segmentation/t1 18-10-2020/Brain']"
      ]
     },
     "execution_count": 12,
     "metadata": {},
     "output_type": "execute_result"
    }
   ],
   "source": [
    "path_data_mask"
   ]
  },
  {
   "cell_type": "code",
   "execution_count": 13,
   "metadata": {},
   "outputs": [
    {
     "name": "stdout",
     "output_type": "stream",
     "text": [
      "first, last index 1 18\n",
      "slice number 20\n"
     ]
    },
    {
     "data": {
      "text/plain": [
       "([(vtkmodules.vtkCommonDataModel.vtkImageData)0000008AC27B7468,\n",
       "  (vtkmodules.vtkCommonDataModel.vtkImageData)0000008AC27B74C8],\n",
       " [(vtkmodules.vtkCommonDataModel.vtkImageData)0000008AC27D7A68,\n",
       "  (vtkmodules.vtkCommonDataModel.vtkImageData)0000008AC27D7A08,\n",
       "  (vtkmodules.vtkCommonDataModel.vtkImageData)0000008AC27D7AC8])"
      ]
     },
     "execution_count": 13,
     "metadata": {},
     "output_type": "execute_result"
    }
   ],
   "source": [
    "vtkConverter = VTKSegmentationMask(path_data_mask, fill=False)\n",
    "vtk_mask, vtk_contour = vtkConverter.generate()\n",
    "vtk_mask, vtk_contour"
   ]
  },
  {
   "cell_type": "code",
   "execution_count": 14,
   "metadata": {},
   "outputs": [],
   "source": [
    "number_time_steps = vtkConverter.number_time_steps\n",
    "bg_color = vtkConverter.bg_color"
   ]
  },
  {
   "cell_type": "code",
   "execution_count": 15,
   "metadata": {},
   "outputs": [],
   "source": [
    "pngfiles = []\n",
    "for path_mask in path_data_mask:\n",
    "    pngfiles_tmp = [os.path.join(path_mask, x) for x in os.listdir(path_mask)]\n",
    "    pngfiles_tmp = sorted(pngfiles_tmp, key=lambda x: int(x.split('slice')[-1].split('.')[0]))\n",
    "    pngfiles.append(pngfiles_tmp)"
   ]
  },
  {
   "cell_type": "code",
   "execution_count": 16,
   "metadata": {},
   "outputs": [],
   "source": [
    "first_idx = int(pngfiles[0][0].split('slice')[-1].split('.')[0])\n",
    "last_idx = int(pngfiles[0][-1].split('slice')[-1].split('.')[0])"
   ]
  },
  {
   "cell_type": "markdown",
   "metadata": {},
   "source": [
    "# VTK Segmentation Actors"
   ]
  },
  {
   "cell_type": "code",
   "execution_count": 17,
   "metadata": {},
   "outputs": [],
   "source": [
    "actorsGenerator = VTKSegmentationActors(vtk_mask, vtk_contour)\n",
    "actors_mask, actors_contour = actorsGenerator.UpdateActors()"
   ]
  },
  {
   "cell_type": "raw",
   "metadata": {},
   "source": [
    "actors = []\n",
    "res = []\n",
    "for idx in range(actorsGenerator.number_time_steps - 1):\n",
    "    scalarValuesToColors = vtk.vtkImageMapToColors()\n",
    "    scalarValuesToColors.SetLookupTable(actorsGenerator.lut[idx])\n",
    "    scalarValuesToColors.SetInputData(actorsGenerator.vtk_mask[idx])\n",
    "    scalarValuesToColors.GetOutput()\n",
    "    res.append(scalarValuesToColors)\n",
    "\n",
    "blend = vtk.vtkImageBlend()\n",
    "blend.SetOpacity(0,0.5) # 0=1st image, 0.5 alpha of 1st image\n",
    "blend.SetOpacity(1,0.5) # 1=2nd image, 0.5 alpha of 2nd image\n",
    "blend.SetBlendModeToCompound() # images compounded together and each component is scaled by the sum of the alpha/opacity values\n",
    "blend.AddInputConnection(res[1].GetOutputPort())\n",
    "blend.AddInputConnection(res[0].GetOutputPort())\n",
    "\n",
    "actors_mask = vtk.vtkImageSlice()\n",
    "actors_mask.SetMapper(vtk.vtkImageSliceMapper())\n",
    "actors_mask.GetMapper().SetSliceNumber(0)\n",
    "actors_mask.GetMapper().SetInputConnection(blend.GetOutputPort())\n",
    "actors_mask.GetProperty().SetOpacity(1)\n",
    "actors_mask.SetPosition(0, 1, 0)\n",
    "#actors_mask.GetProperty().SetColorWindow(350)\n",
    "#actors_mask.GetProperty().SetColorLevel(122)"
   ]
  },
  {
   "cell_type": "code",
   "execution_count": 18,
   "metadata": {},
   "outputs": [
    {
     "data": {
      "text/plain": [
       "(255.0, 127.5)"
      ]
     },
     "execution_count": 18,
     "metadata": {},
     "output_type": "execute_result"
    }
   ],
   "source": [
    "actors_mask.GetProperty().GetColorWindow(), actors_mask.GetProperty().GetColorLevel()"
   ]
  },
  {
   "cell_type": "code",
   "execution_count": null,
   "metadata": {},
   "outputs": [],
   "source": []
  },
  {
   "cell_type": "markdown",
   "metadata": {},
   "source": [
    "# Rendering"
   ]
  },
  {
   "cell_type": "code",
   "execution_count": 19,
   "metadata": {},
   "outputs": [],
   "source": [
    "# Slice status message\n",
    "sliceText = SliceText(slice_number, slice_number_max)"
   ]
  },
  {
   "cell_type": "code",
   "execution_count": 20,
   "metadata": {},
   "outputs": [],
   "source": [
    "def MoveSliceFoward(obj, event):\n",
    "    current_slice = dicom.GetMapper().GetSliceNumber()\n",
    "    MoveSlice(current_slice + 1)\n",
    "\n",
    "def MoveSliceBackward(obj, event):\n",
    "    current_slice = dicom.GetMapper().GetSliceNumber()\n",
    "    MoveSlice(current_slice - 1)\n",
    "\n",
    "def MoveSlice(new_slice):\n",
    "    new_slice = max(min(dicom.GetMapper().GetSliceNumberMaxValue(), new_slice), dicom.GetMapper().GetSliceNumberMinValue())\n",
    "    print('setting new slice', new_slice)\n",
    "    dicom.GetMapper().SetSliceNumber(new_slice)\n",
    "    slice_number = dicom.GetMapper().GetSliceNumber()\n",
    "    #segmentation_actors.SetSliceNumber(slice_number)\n",
    "    #print('setting new mask slice', segmentation_actors.GetSliceNumber())\n",
    "    for idx in range(len(actors_contour)):\n",
    "        actors_contour[idx].GetMapper().SetSliceNumber(slice_number)\n",
    "    #for idx in range(len(actors_mask)):\n",
    "    actors_mask.GetMapper().SetSliceNumber(slice_number)\n",
    "    sliceText.SetInput(new_slice, dicom.GetMapper().GetSliceNumberMaxValue())\n",
    "    window.Render()"
   ]
  },
  {
   "cell_type": "raw",
   "metadata": {},
   "source": [
    "# Create an image actor\n",
    "#actor_single = vtk.vtkImageActor()\n",
    "actor_single = vtk.vtkImageSlice()\n",
    "actor_single.SetMapper(vtk.vtkImageSliceMapper())\n",
    "actor_single.GetMapper().SetSliceNumber(slice_number)\n",
    "actor_single.GetMapper().SetInputData(vtk_mask[-1])"
   ]
  },
  {
   "cell_type": "code",
   "execution_count": 21,
   "metadata": {},
   "outputs": [
    {
     "data": {
      "text/plain": [
       "(15.0, 10.0)"
      ]
     },
     "execution_count": 21,
     "metadata": {},
     "output_type": "execute_result"
    }
   ],
   "source": [
    "sliceText.sliceTextActor.GetPosition()"
   ]
  },
  {
   "cell_type": "code",
   "execution_count": 22,
   "metadata": {},
   "outputs": [],
   "source": [
    "# Create renderer\n",
    "renderer = vtk.vtkRenderer()\n",
    "renderer.SetBackground(*bg_color)\n",
    "renderer.ResetCamera()\n",
    "renderer.AddActor2D(sliceText.sliceTextActor)\n",
    "renderer.AddViewProp(dicom)\n",
    "renderer.AddViewProp(actors_mask)\n",
    "\n",
    "#for idx in range(len(actors_mask)):\n",
    "#    actors_mask[idx].SetPosition(0,+1,0)\n",
    "#    renderer.AddViewProp(actors_mask[idx])\n",
    "for idx in range(len(actors_contour)):\n",
    "    actors_contour[idx].SetPosition(0,+1,0)\n",
    "    renderer.AddActor(actors_contour[idx])\n",
    "#renderer.SetUseDepthPeeling(1)\n",
    "# 20 layers of translucency\n",
    "#renderer.SetMaximumNumberOfPeels(20)\n",
    "# 2 out of 1000 pixels\n",
    "#renderer.SetOcclusionRatio(0.2)\n",
    "\n",
    "# Create interactor (customized)\n",
    "interactorStyle = vtk.vtkInteractorStyleImage()\n",
    "interactorStyle.SetInteractionModeToImageSlicing()\n",
    "    \n",
    "# Create interactor\n",
    "interactor = vtk.vtkRenderWindowInteractor()\n",
    "interactor.SetInteractorStyle(interactorStyle)\n",
    "interactorStyle.AddObserver(\"MouseWheelForwardEvent\", MoveSliceFoward)\n",
    "interactorStyle.AddObserver(\"MouseWheelBackwardEvent\", MoveSliceBackward)\n",
    "\n",
    "# Create renderwindow\n",
    "window = vtk.vtkRenderWindow()\n",
    "window.SetSize(500,500)\n",
    "#window.SetMultiSamples(0)\n",
    "#window.SetAlphaBitPlanes(1)\n",
    "window.AddRenderer(renderer)\n",
    "window.SetInteractor(interactor)"
   ]
  },
  {
   "cell_type": "code",
   "execution_count": 23,
   "metadata": {},
   "outputs": [
    {
     "name": "stdout",
     "output_type": "stream",
     "text": [
      "setting new slice 1\n",
      "setting new slice 2\n",
      "setting new slice 3\n",
      "setting new slice 4\n",
      "setting new slice 5\n",
      "setting new slice 6\n",
      "setting new slice 7\n",
      "setting new slice 8\n",
      "setting new slice 9\n",
      "setting new slice 10\n",
      "setting new slice 11\n"
     ]
    }
   ],
   "source": [
    "# Render composite. In default mode.\n",
    "window.Render()\n",
    "interactor.Start()"
   ]
  },
  {
   "cell_type": "raw",
   "metadata": {},
   "source": [
    "print(renderer.GetLastRenderingUsedDepthPeeling())\n",
    "if (renderer.GetLastRenderingUsedDepthPeeling()):\n",
    "    print(\"depth peeling was used\")\n",
    "else:\n",
    "    print(\"depth peeling was not used (alpha blending instead)\")"
   ]
  },
  {
   "cell_type": "code",
   "execution_count": 24,
   "metadata": {},
   "outputs": [
    {
     "data": {
      "text/plain": [
       "(255.0, 127.5)"
      ]
     },
     "execution_count": 24,
     "metadata": {},
     "output_type": "execute_result"
    }
   ],
   "source": [
    "actors_mask.GetProperty().GetColorWindow(), actors_mask.GetProperty().GetColorLevel()"
   ]
  },
  {
   "cell_type": "code",
   "execution_count": 25,
   "metadata": {},
   "outputs": [
    {
     "data": {
      "text/plain": [
       "(255.0, 127.5)"
      ]
     },
     "execution_count": 25,
     "metadata": {},
     "output_type": "execute_result"
    }
   ],
   "source": [
    "dicom.GetProperty().GetColorWindow(), dicom.GetProperty().GetColorLevel()"
   ]
  },
  {
   "cell_type": "code",
   "execution_count": null,
   "metadata": {},
   "outputs": [],
   "source": []
  }
 ],
 "metadata": {
  "kernelspec": {
   "display_name": "Python 3",
   "language": "python",
   "name": "python3"
  },
  "language_info": {
   "codemirror_mode": {
    "name": "ipython",
    "version": 3
   },
   "file_extension": ".py",
   "mimetype": "text/x-python",
   "name": "python",
   "nbconvert_exporter": "python",
   "pygments_lexer": "ipython3",
   "version": "3.6.10"
  }
 },
 "nbformat": 4,
 "nbformat_minor": 4
}
