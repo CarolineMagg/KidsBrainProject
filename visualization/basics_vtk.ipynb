{
 "cells": [
  {
   "cell_type": "markdown",
   "metadata": {},
   "source": [
    "# Getting used to VTK\n",
    "\n",
    "date = 30 September, 2020 <br>\n",
    "\n",
    "history <br>\n",
    "2020-30-09 Basic VTK Pipeline <br>\n",
    "2020-30-09 Read dicoms and visualize in 3D and 2D - with ImageViewer2, ImageActor, other Actors<br>\n",
    "2020-30-09 Read pns and visualize in 2D - with ImageViewer2, ImageActor, Actor<br>"
   ]
  },
  {
   "cell_type": "code",
   "execution_count": null,
   "metadata": {},
   "outputs": [],
   "source": [
    "import vtk\n",
    "from vtk.util import numpy_support\n",
    "import os\n",
    "import numpy as np\n",
    "import cv2\n",
    "import sys\n",
    "import matplotlib.pyplot as plt"
   ]
  },
  {
   "cell_type": "code",
   "execution_count": null,
   "metadata": {},
   "outputs": [],
   "source": [
    "sys.path.append(os.path.abspath('../../'))"
   ]
  },
  {
   "cell_type": "markdown",
   "metadata": {},
   "source": [
    "### Basic VTK Pipeline\n",
    "render sphere to see basic VTK pipeline"
   ]
  },
  {
   "cell_type": "code",
   "execution_count": null,
   "metadata": {},
   "outputs": [],
   "source": [
    "# Create source\n",
    "source = vtk.vtkSphereSource()\n",
    "source.SetCenter(0, 0, 0)\n",
    "source.SetRadius(5.0)\n",
    "\n",
    "# Create a mapper\n",
    "mapper = vtk.vtkPolyDataMapper()\n",
    "mapper.SetInputConnection(source.GetOutputPort())\n",
    "\n",
    "# Create an actor\n",
    "actor = vtk.vtkActor()\n",
    "actor.SetMapper(mapper)\n",
    "\n",
    "# Create renderer\n",
    "renderer = vtk.vtkRenderer()\n",
    "renderer.SetBackground(1.0, 1.0, 1.0)\n",
    "renderer.AddActor(actor)\n",
    "\n",
    "# Create window\n",
    "window = vtk.vtkRenderWindow()\n",
    "# Sets the pixel width, length of the window.\n",
    "window.SetSize(500, 500)\n",
    "window.AddRenderer(renderer)\n",
    "\n",
    "# Create interactor\n",
    "interactor = vtk.vtkRenderWindowInteractor()\n",
    "interactor.SetRenderWindow(window)"
   ]
  },
  {
   "cell_type": "raw",
   "metadata": {},
   "source": [
    "# Start renderering\n",
    "window.Render()\n",
    "interactor.Start()"
   ]
  },
  {
   "cell_type": "markdown",
   "metadata": {},
   "source": [
    "### Read Dicoms and visualize 3D data\n",
    "render dicom images in 3D scene"
   ]
  },
  {
   "cell_type": "code",
   "execution_count": null,
   "metadata": {},
   "outputs": [],
   "source": [
    "folder = \"../../Data/1/CT\""
   ]
  },
  {
   "cell_type": "code",
   "execution_count": null,
   "metadata": {},
   "outputs": [],
   "source": [
    "# Read all the DICOM files in the specified directory.\n",
    "reader = vtk.vtkDICOMImageReader()\n",
    "reader.SetDirectoryName(folder)\n",
    "reader.Update()\n",
    "imageData = reader.GetOutput()\n",
    "\n",
    "# Create a mapper\n",
    "volumeMapper = vtk.vtkSmartVolumeMapper()\n",
    "volumeMapper.SetInputData(imageData)\n",
    "\n",
    "# Create volume property\n",
    "# - opacity\n",
    "# - color transfer function\n",
    "volumeProperty = vtk.vtkVolumeProperty()\n",
    "volumeProperty.ShadeOff()\n",
    "volumeProperty.SetInterpolationType(vtk.VTK_LINEAR_INTERPOLATION)\n",
    "\n",
    "compositeOpacity = vtk.vtkPiecewiseFunction()\n",
    "compositeOpacity.AddPoint(0.0,0.0)\n",
    "compositeOpacity.AddPoint(80.0,1.0)\n",
    "compositeOpacity.AddPoint(80.1,0.0)\n",
    "compositeOpacity.AddPoint(255.0,0.0)\n",
    "volumeProperty.SetScalarOpacity(compositeOpacity)\n",
    "\n",
    "color = vtk.vtkColorTransferFunction()\n",
    "color.AddRGBPoint(0.0  ,0.0,0.0,1.0)\n",
    "color.AddRGBPoint(100.0  ,0.0,1.0,0.0)\n",
    "color.AddRGBPoint(255.0,1.0,1.0,1.0)\n",
    "volumeProperty.SetColor(color)\n",
    "\n",
    "# Create volume\n",
    "volume = vtk.vtkVolume()\n",
    "volume.SetMapper(volumeMapper)\n",
    "volume.SetProperty(volumeProperty)\n",
    "\n",
    "# Create renderer\n",
    "renderer = vtk.vtkRenderer();\n",
    "renderer.SetBackground(0, 0, 0);\n",
    "renderer.AddViewProp(volume)\n",
    "renderer.ResetCamera()\n",
    "\n",
    "# Create renderwindow\n",
    "window = vtk.vtkRenderWindow();\n",
    "window.AddRenderer(renderer);\n",
    "window.SetSize(600,600);\n",
    "\n",
    "# Create interactor\n",
    "interactor = vtk.vtkRenderWindowInteractor();\n",
    "interactor.SetRenderWindow(window);"
   ]
  },
  {
   "cell_type": "raw",
   "metadata": {},
   "source": [
    "# Render composite. In default mode.\n",
    "window.Render()\n",
    "interactor.Start()"
   ]
  },
  {
   "cell_type": "markdown",
   "metadata": {},
   "source": [
    "### Read Dicoms and visualize 2D data\n",
    "render dicom images in 2D planes with slicing through volume"
   ]
  },
  {
   "cell_type": "code",
   "execution_count": null,
   "metadata": {},
   "outputs": [],
   "source": [
    "folder = \"../../Data/1/T1 +C 3-15-16\""
   ]
  },
  {
   "cell_type": "code",
   "execution_count": null,
   "metadata": {},
   "outputs": [],
   "source": [
    "# Read all the DICOM files in the specified directory.\n",
    "reader = vtk.vtkDICOMImageReader()\n",
    "reader.SetDirectoryName(folder)\n",
    "reader.Update()\n",
    "\n",
    "# Calculate the center of the volume\n",
    "xMin, xMax, yMin, yMax, zMin, zMax = reader.GetDataExtent()\n",
    "xSpacing, ySpacing, zSpacing = reader.GetOutput().GetSpacing()\n",
    "x0, y0, z0 = reader.GetOutput().GetOrigin()\n",
    "center = [x0 + xSpacing * 0.5 * (xMin + xMax),\n",
    "          y0 + ySpacing * 0.5 * (yMin + yMax),\n",
    "          z0 + zSpacing * 0.5 * (zMin + zMax)]\n",
    "    \n",
    "# Matrices for axial, coronal, sagittal, oblique view orientations\n",
    "axial = vtk.vtkMatrix4x4()\n",
    "axial.DeepCopy((1, 0, 0, center[0],\n",
    "                0, 1, 0, center[1],\n",
    "                0, 0, 1, center[2],\n",
    "                0, 0, 0, 1))\n",
    "\n",
    "# Extract a slice in the desired orientation\n",
    "reslice = vtk.vtkImageReslice()\n",
    "reslice.SetInputConnection(reader.GetOutputPort())\n",
    "reslice.SetOutputDimensionality(2)\n",
    "reslice.SetResliceAxes(axial)\n",
    "reslice.SetInterpolationModeToCubic()\n",
    "\n",
    "# Create a greyscale lookup table\n",
    "table = vtk.vtkLookupTable()\n",
    "table.SetRange(0, 2000) # image intensity range\n",
    "table.SetValueRange(0.0, 1.0) # from black to white\n",
    "table.SetSaturationRange(0.0, 0.0) # no color saturation\n",
    "table.SetRampToLinear()\n",
    "table.Build()\n",
    "\n",
    "# Map the image through the lookup table\n",
    "color = vtk.vtkImageMapToColors()\n",
    "color.SetLookupTable(table)\n",
    "color.SetInputConnection(reslice.GetOutputPort())\n",
    "\n",
    "# Display the image\n",
    "actor = vtk.vtkImageActor()\n",
    "actor.GetMapper().SetInputConnection(color.GetOutputPort())\n",
    "\n",
    "# Create renderer\n",
    "renderer = vtk.vtkRenderer();\n",
    "renderer.SetBackground(0, 0, 0);\n",
    "renderer.AddActor(actor)\n",
    "renderer.ResetCamera()\n",
    "\n",
    "# Create renderwindow\n",
    "window = vtk.vtkRenderWindow();\n",
    "window.AddRenderer(renderer);\n",
    "window.SetSize(400,400);\n",
    "window.SetWindowName(\"Test\")\n",
    "\n",
    "# Create interactor\n",
    "interactor = vtk.vtkRenderWindowInteractor();\n",
    "interactor.SetRenderWindow(window);"
   ]
  },
  {
   "cell_type": "code",
   "execution_count": null,
   "metadata": {},
   "outputs": [],
   "source": [
    "def ButtonCallback(obj, event):\n",
    "    if event == \"LeftButtonPressEvent\":\n",
    "        actions[\"Slicing\"] = 1\n",
    "    else:\n",
    "        actions[\"Slicing\"] = 0\n",
    "\n",
    "def MouseMoveCallback(obj, event):\n",
    "    (lastX, lastY) = interactor.GetLastEventPosition()\n",
    "    (mouseX, mouseY) = interactor.GetEventPosition()\n",
    "    if actions[\"Slicing\"] == 1:\n",
    "        deltaY = mouseY - lastY\n",
    "        reslice.Update()\n",
    "        sliceSpacing = reslice.GetOutput().GetSpacing()[2]\n",
    "        matrix = reslice.GetResliceAxes()\n",
    "        # move the center point that we are slicing through\n",
    "        center = matrix.MultiplyPoint((0, 0, sliceSpacing*deltaY, 1))\n",
    "        matrix.SetElement(0, 3, center[0])\n",
    "        matrix.SetElement(1, 3, center[1])\n",
    "        matrix.SetElement(2, 3, center[2])\n",
    "        window.Render()\n",
    "    else:\n",
    "        interactorStyle.OnMouseMove()"
   ]
  },
  {
   "cell_type": "code",
   "execution_count": null,
   "metadata": {},
   "outputs": [],
   "source": [
    "# Create interactor style\n",
    "interactorStyle = vtk.vtkInteractorStyleImage()\n",
    "interactor.SetInteractorStyle(interactorStyle)\n",
    "window.SetInteractor(interactor)\n",
    "\n",
    "# Create callbacks for slicing the image\n",
    "actions = {}\n",
    "actions[\"Slicing\"] = 0\n",
    " \n",
    "interactorStyle.AddObserver(\"MouseMoveEvent\", MouseMoveCallback)\n",
    "interactorStyle.AddObserver(\"LeftButtonPressEvent\", ButtonCallback)\n",
    "interactorStyle.AddObserver(\"LeftButtonReleaseEvent\", ButtonCallback)"
   ]
  },
  {
   "cell_type": "raw",
   "metadata": {},
   "source": [
    "# Render composite. In default mode.\n",
    "window.Render()\n",
    "interactor.Start()"
   ]
  },
  {
   "cell_type": "markdown",
   "metadata": {},
   "source": [
    "### ImageViewer with Dicom reader\n",
    "only first slide shown "
   ]
  },
  {
   "cell_type": "raw",
   "metadata": {},
   "source": [
    "# Read data\n",
    "pathDicomDir = \"../../Data/1/CT\"\n",
    "reader = vtk.vtkDICOMImageReader()\n",
    "reader.SetDirectoryName(pathDicomDir)\n",
    "reader.Update()\n",
    "\n",
    "# Create image viewer\n",
    "viewer = vtk.vtkImageViewer2()\n",
    "viewer.SetInputData(reader.GetOutput())\n",
    "\n",
    "# Create renderer\n",
    "renderer = vtk.vtkRenderer();\n",
    "renderer.SetBackground(0, 0, 0);\n",
    "renderer.AddActor(actor)\n",
    "renderer.ResetCamera()\n",
    "\n",
    "# Create renderwindow\n",
    "window = vtk.vtkRenderWindow();\n",
    "window.AddRenderer(renderer);\n",
    "window.SetSize(400,400)\n",
    "\n",
    "# Create interactor\n",
    "interactor = vtk.vtkRenderWindowInteractor();\n",
    "\n",
    "viewer.SetupInteractor(interactor)\n",
    "viewer.SetRenderWindow(window)"
   ]
  },
  {
   "cell_type": "raw",
   "metadata": {},
   "source": [
    "viewer.Render()\n",
    "interactor.Start()"
   ]
  },
  {
   "cell_type": "code",
   "execution_count": null,
   "metadata": {},
   "outputs": [],
   "source": []
  },
  {
   "cell_type": "markdown",
   "metadata": {},
   "source": [
    "### Read png image\n",
    "not showing anything"
   ]
  },
  {
   "cell_type": "code",
   "execution_count": null,
   "metadata": {},
   "outputs": [],
   "source": [
    "path_data = \"../../Data/1/Segmentation/png/\""
   ]
  },
  {
   "cell_type": "code",
   "execution_count": null,
   "metadata": {},
   "outputs": [],
   "source": [
    "# List of png files - choose one\n",
    "pngfiles = [os.path.join(path_data,x) for x in os.listdir(path_data)]\n",
    "png_path = pngfiles[10]\n",
    "print(png_path)\n",
    "plt.imshow(cv2.imread(png_path))"
   ]
  },
  {
   "cell_type": "code",
   "execution_count": null,
   "metadata": {},
   "outputs": [],
   "source": [
    "# Read png\n",
    "png_reader = vtk.vtkPNGReader()\n",
    "png_reader.SetFileName(png_path)\n",
    "png_reader.Update()\n",
    "png_data = png_reader.GetOutputPort()\n",
    "\n",
    "# Create a mapper\n",
    "mapper = vtk.vtkPolyDataMapper()\n",
    "mapper.SetInputConnection(png_data)\n",
    "\n",
    "# Create an actor\n",
    "actor = vtk.vtkActor()\n",
    "actor.SetMapper(mapper)\n",
    "\n",
    "# Create renderer\n",
    "renderer = vtk.vtkRenderer()\n",
    "renderer.SetBackground(1.0, 1.0, 1.0)\n",
    "renderer.AddActor(actor)\n",
    "\n",
    "# Create window\n",
    "window = vtk.vtkRenderWindow()\n",
    "# Sets the pixel width, length of the window.\n",
    "window.SetSize(500, 500)\n",
    "window.AddRenderer(renderer)\n",
    "\n",
    "# Create interactor\n",
    "interactor = vtk.vtkRenderWindowInteractor()\n",
    "interactor.SetRenderWindow(window)"
   ]
  },
  {
   "cell_type": "raw",
   "metadata": {},
   "source": [
    "# Render composite. In default mode.\n",
    "window.Render()\n",
    "interactor.Start()"
   ]
  },
  {
   "cell_type": "markdown",
   "metadata": {},
   "source": [
    "### Read png image with ImageSliceMapper\n",
    "showing one slice"
   ]
  },
  {
   "cell_type": "code",
   "execution_count": null,
   "metadata": {},
   "outputs": [],
   "source": [
    "# Read png\n",
    "png_reader = vtk.vtkPNGReader()\n",
    "png_reader.SetFileName(png_path)\n",
    "png_reader.Update()\n",
    "png_data = png_reader.GetOutputPort()\n",
    "\n",
    "# Create a image slice mapper\n",
    "mapper = vtk.vtkImageSliceMapper()\n",
    "mapper.SetInputConnection(png_data)\n",
    "\n",
    "# Create an image slice\n",
    "imgslice = vtk.vtkImageSlice()\n",
    "imgslice.SetMapper(mapper)\n",
    "\n",
    "# Create renderer\n",
    "renderer = vtk.vtkRenderer()\n",
    "renderer.SetBackground(1.0, 1.0, 1.0)\n",
    "renderer.AddViewProp(imgslice)\n",
    "\n",
    "# Create window\n",
    "window = vtk.vtkRenderWindow()\n",
    "# Sets the pixel width, length of the window.\n",
    "window.SetSize(500, 500)\n",
    "window.AddRenderer(renderer)\n",
    "\n",
    "# Create interactor\n",
    "interactor = vtk.vtkRenderWindowInteractor()\n",
    "interactor.SetRenderWindow(window)"
   ]
  },
  {
   "cell_type": "raw",
   "metadata": {},
   "source": [
    "# Render composite. In default mode.\n",
    "window.Render()\n",
    "interactor.Start()"
   ]
  },
  {
   "cell_type": "markdown",
   "metadata": {},
   "source": [
    "### Read png with ImageActor\n",
    "showing one slide"
   ]
  },
  {
   "cell_type": "code",
   "execution_count": null,
   "metadata": {},
   "outputs": [],
   "source": [
    "path_data = \"../../Data/1/Segmentation/png/\"\n",
    "# List of png files - choose one\n",
    "pngfiles = [os.path.join(path_data,x) for x in os.listdir(path_data)]\n",
    "png_path = pngfiles[10]"
   ]
  },
  {
   "cell_type": "code",
   "execution_count": null,
   "metadata": {},
   "outputs": [],
   "source": [
    "filePath = vtk.vtkStringArray()\n",
    "filePath.SetNumberOfValues(len(pngfiles))\n",
    "for i in range(0,len(pngfiles),1):\n",
    "    filePath.SetValue(i,pngfiles[i])\n",
    "filePath"
   ]
  },
  {
   "cell_type": "code",
   "execution_count": null,
   "metadata": {},
   "outputs": [],
   "source": [
    "# Read png\n",
    "png_reader = vtk.vtkPNGReader()\n",
    "#png_reader.SetFileName(pngfile)\n",
    "png_reader.SetFileNames(filePath)\n",
    "png_reader.Update()\n",
    "png_data = png_reader.GetOutput()\n",
    "\n",
    "# Create an image actor\n",
    "actor = vtk.vtkImageActor()\n",
    "actor.SetInputData(png_data)\n",
    "\n",
    "# Create renderer\n",
    "renderer = vtk.vtkRenderer()\n",
    "renderer.SetBackground(1.0, 1.0, 1.0)\n",
    "renderer.AddViewProp(actor)\n",
    "\n",
    "# Create interactor\n",
    "interactorStyle = vtk.vtkInteractorStyleImage()\n",
    "interactorStyle.SetInteractionModeToImageSlicing()\n",
    "interactor = vtk.vtkRenderWindowInteractor()\n",
    "interactor.SetInteractorStyle(interactorStyle)\n",
    "\n",
    "# Create window\n",
    "window = vtk.vtkRenderWindow()\n",
    "# Sets the pixel width, length of the window.\n",
    "window.SetSize(500, 500)\n",
    "window.AddRenderer(renderer)\n",
    "window.SetInteractor(interactor)"
   ]
  },
  {
   "cell_type": "raw",
   "metadata": {},
   "source": [
    "# Render composite. In default mode.\n",
    "window.Render()\n",
    "interactor.Start()"
   ]
  },
  {
   "cell_type": "code",
   "execution_count": null,
   "metadata": {},
   "outputs": [],
   "source": []
  },
  {
   "cell_type": "markdown",
   "metadata": {},
   "source": [
    "### Read png series with numpy converting\n",
    "showing one slice"
   ]
  },
  {
   "cell_type": "code",
   "execution_count": null,
   "metadata": {},
   "outputs": [],
   "source": [
    "# List of png files\n",
    "pngfiles = [os.path.join(path_data,x) for x in os.listdir(path_data)]\n",
    "\n",
    "# Get dimensions of pngs\n",
    "png_reader = vtk.vtkPNGReader()\n",
    "png_reader.SetFileName(pngfiles[0])\n",
    "png_reader.Update()\n",
    "x,y,z = png_reader.GetOutput().GetDimensions()\n",
    "print('size', x, y, z)\n",
    "\n",
    "# Read png files and store as numpy array\n",
    "png_reader = vtk.vtkPNGReader()\n",
    "data_3Dnp = []\n",
    "for i,p in enumerate(pngfiles):\n",
    "    png_reader.SetFileName(p)\n",
    "    png_reader.Update()\n",
    "    img_data = png_reader.GetOutput()\n",
    "    vtk_data = img_data.GetPointData().GetScalars()\n",
    "    numpy_data = np.flip(numpy_support.vtk_to_numpy(vtk_data).reshape(x,y))\n",
    "    data_3Dnp.append(numpy_data)\n",
    "    \n",
    "# Convert numpy array to vtk data\n",
    "data_3D = np.stack(data_3Dnp, axis=0)\n",
    "data_3Dvtk = numpy_support.numpy_to_vtk(data_3D.ravel())"
   ]
  },
  {
   "cell_type": "code",
   "execution_count": null,
   "metadata": {},
   "outputs": [],
   "source": [
    "# Create image data\n",
    "imageData = vtk.vtkImageData()\n",
    "imageData.GetPointData().SetScalars(data_3Dvtk)\n",
    "imageData.SetDimensions(x,y,len(pngfiles))\n",
    "imageData.SetSpacing(1.0, 1.0, 1.0 )\n",
    "imageData.SetOrigin(0.0, 0.0, 0.0 )\n",
    "\n",
    "# Create an image actor\n",
    "actor = vtk.vtkImageActor()\n",
    "actor.SetInputData(imageData)\n",
    "\n",
    "# Create renderer\n",
    "renderer = vtk.vtkRenderer()\n",
    "renderer.SetBackground(1.0, 1.0, 1.0)\n",
    "renderer.AddViewProp(actor)\n",
    "\n",
    "# Create window\n",
    "window = vtk.vtkRenderWindow()\n",
    "# Sets the pixel width, length of the window.\n",
    "window.SetSize(500, 500)\n",
    "window.AddRenderer(renderer)\n",
    "\n",
    "# Create interactor\n",
    "interactor = vtk.vtkRenderWindowInteractor()\n",
    "interactor.SetRenderWindow(window)"
   ]
  },
  {
   "cell_type": "raw",
   "metadata": {},
   "source": [
    "# Render composite. In default mode.\n",
    "window.Render()\n",
    "interactor.Start()"
   ]
  },
  {
   "cell_type": "code",
   "execution_count": null,
   "metadata": {},
   "outputs": [],
   "source": []
  },
  {
   "cell_type": "markdown",
   "metadata": {},
   "source": [
    "### Read png series via png reader and imageviewer2"
   ]
  },
  {
   "cell_type": "code",
   "execution_count": null,
   "metadata": {},
   "outputs": [],
   "source": [
    "path_data = \"../../Data/1/Segmentation/t0/Brain\"\n",
    "pngfiles = [os.path.join(path_data,x) for x in os.listdir(path_data)][:11]\n",
    "len(pngfiles)"
   ]
  },
  {
   "cell_type": "code",
   "execution_count": null,
   "metadata": {},
   "outputs": [],
   "source": [
    "pngfiles"
   ]
  },
  {
   "cell_type": "code",
   "execution_count": null,
   "metadata": {},
   "outputs": [],
   "source": [
    "plt.imshow(cv2.imread(pngfiles[10], cv2.IMREAD_GRAYSCALE))"
   ]
  },
  {
   "cell_type": "raw",
   "metadata": {},
   "source": [
    "filePath = vtk.vtkStringArray()\n",
    "filePath.SetNumberOfValues(len(pngfiles))\n",
    "for i in range(0,len(pngfiles),1):\n",
    "    filePath.SetValue(i,pngfiles[i])\n",
    "filePath\n",
    "\n",
    "png_reader = vtk.vtkPNGReader()\n",
    "png_reader.SetFileNames(filePath)\n",
    "png_reader.Update()\n",
    "\n",
    "# Create image viewer\n",
    "viewer = vtk.vtkImageViewer2()\n",
    "viewer.SetInputData(png_reader.GetOutput())\n",
    "viewer.SetSlice(10)\n",
    "viewer.SetColorLevel(1)\n",
    "viewer.SetColorWindow(2)\n",
    "\n",
    "# Create renderer\n",
    "renderer = vtk.vtkRenderer();\n",
    "renderer.SetBackground(0, 0, 0);\n",
    "#renderer.AddActor(actor)\n",
    "renderer.ResetCamera()\n",
    "\n",
    "# Create renderwindow\n",
    "window = vtk.vtkRenderWindow();\n",
    "window.AddRenderer(renderer);\n",
    "window.SetSize(400,400)\n",
    "\n",
    "# Create interactor\n",
    "interactor = vtk.vtkRenderWindowInteractor();\n",
    "\n",
    "window.SetInteractor(interactor)\n",
    "viewer.SetRenderWindow(window)"
   ]
  },
  {
   "cell_type": "raw",
   "metadata": {},
   "source": [
    "# Render composite. In default mode.\n",
    "window.Render()\n",
    "interactor.Start()"
   ]
  },
  {
   "cell_type": "markdown",
   "metadata": {},
   "source": [
    "## Plot contour of mask"
   ]
  },
  {
   "cell_type": "code",
   "execution_count": null,
   "metadata": {},
   "outputs": [],
   "source": [
    "import math"
   ]
  },
  {
   "cell_type": "code",
   "execution_count": null,
   "metadata": {},
   "outputs": [],
   "source": [
    "def stencilData(pd, inval):\n",
    "    \n",
    "    bounds = pd.GetBounds()\n",
    "    print(bounds)\n",
    "    \n",
    "    whiteImage = vtk.vtkImageData()\n",
    "    spacing = [0]*3\n",
    "    # 0.25 by rr, 0.7->16, 1.5->8,\n",
    "    spacing[0] = 0.5\n",
    "    spacing[1] = 0.5\n",
    "    spacing[2] = 0.5\n",
    "    whiteImage.SetSpacing(spacing)\n",
    "\n",
    "    dim = [0]*3\n",
    "    for i in range(3):\n",
    "        dim[i] = int(math.ceil((bounds[i * 2 + 1] - bounds[i * 2]) / spacing[i])) + 1\n",
    "        if (dim[i] < 1):\n",
    "            dim[i] = 1\n",
    "    whiteImage.SetDimensions(dim)\n",
    "    whiteImage.SetExtent(0, dim[0] - 1, 0, dim[1] - 1, 0, dim[2] - 1)\n",
    "    print(\"dims\", dim)\n",
    "\n",
    "    origin = [0]*3\n",
    "    origin[0] = bounds[0]\n",
    "    origin[1] = bounds[2]\n",
    "    origin[2] = bounds[4]\n",
    "    whiteImage.SetOrigin(origin)\n",
    "    whiteImage.AllocateScalars(vtk.VTK_UNSIGNED_CHAR, 1)\n",
    "    print(\"origin\", origin)\n",
    "\n",
    "    outval = 0\n",
    "    count = whiteImage.GetNumberOfPoints()\n",
    "    for i in range(count):\n",
    "        whiteImage.GetPointData().GetScalars().SetTuple1(i, inval)\n",
    "\n",
    "    pol2stenc = vtk.vtkPolyDataToImageStencil()\n",
    "    pol2stenc.SetTolerance(0)\n",
    "    pol2stenc.SetInputData(pd)\n",
    "    pol2stenc.SetOutputOrigin(origin)\n",
    "    pol2stenc.SetOutputSpacing(spacing)\n",
    "    pol2stenc.SetOutputWholeExtent(whiteImage.GetExtent())\n",
    "    pol2stenc.Update()\n",
    "\n",
    "    imgstenc = vtk.vtkImageStencil()\n",
    "    imgstenc.SetInputData(whiteImage)\n",
    "    imgstenc.SetStencilConnection(pol2stenc.GetOutputPort())\n",
    "    imgstenc.ReverseStencilOff()\n",
    "    imgstenc.SetBackgroundValue(outval)\n",
    "    imgstenc.Update()\n",
    "\n",
    "    # print(\"stencil: \", imgstenc.GetOutput())\n",
    "\n",
    "    changeInformation = vtk.vtkImageChangeInformation()\n",
    "    changeInformation.SetInputData(imgstenc.GetOutput())\n",
    "    changeInformation.CenterImageOn()\n",
    "    changeInformation.Update()\n",
    "\n",
    "    # print(\"stencil centered: \", changeInformation.GetOutput())\n",
    "    return changeInformation"
   ]
  },
  {
   "cell_type": "code",
   "execution_count": null,
   "metadata": {},
   "outputs": [],
   "source": [
    "filePath = vtk.vtkStringArray()\n",
    "len(pngfiles)\n",
    "filePath.SetNumberOfValues(len(pngfiles))\n",
    "for i in range(0,len(pngfiles),1):\n",
    "    filePath.SetValue(i,pngfiles[i])\n",
    "filePath\n",
    "\n",
    "png_reader = vtk.vtkPNGReader()\n",
    "png_reader.SetFileNames(filePath)\n",
    "png_reader.Update()\n",
    "print(\"dim png\", png_reader.GetOutput().GetExtent())\n",
    "\n",
    "# Contour\n",
    "iso = vtk.vtkContourFilter()\n",
    "iso.SetInputData(png_reader.GetOutput())\n",
    "iso.GenerateValues(1, 1, 255)\n",
    "\n",
    "pd = iso.GetOutput()\n",
    "print(\"pd bounds\", pd.GetBounds())"
   ]
  },
  {
   "cell_type": "code",
   "execution_count": null,
   "metadata": {},
   "outputs": [],
   "source": [
    "png_reader.GetOutput(), iso.GetOutput()"
   ]
  },
  {
   "cell_type": "code",
   "execution_count": null,
   "metadata": {},
   "outputs": [],
   "source": [
    "imageContour = stencilData(iso.GetOutput(), 125)\n",
    "imageContour.GetOutputPort()"
   ]
  },
  {
   "cell_type": "code",
   "execution_count": null,
   "metadata": {},
   "outputs": [],
   "source": [
    "imageContour.GetOutput().GetDimensions()"
   ]
  },
  {
   "cell_type": "code",
   "execution_count": null,
   "metadata": {},
   "outputs": [],
   "source": []
  },
  {
   "cell_type": "code",
   "execution_count": null,
   "metadata": {},
   "outputs": [],
   "source": [
    "# Create an image actor\n",
    "actor = vtk.vtkImageSlice()\n",
    "actor.SetMapper(vtk.vtkImageSliceMapper())\n",
    "actor.GetMapper().SetInputConnection(imageContour.GetOutputPort())\n",
    "#actor.GetMapper().SetSliceNumber(0)"
   ]
  },
  {
   "cell_type": "code",
   "execution_count": null,
   "metadata": {},
   "outputs": [],
   "source": [
    "# Create renderer\n",
    "renderer = vtk.vtkRenderer()\n",
    "renderer.SetBackground(1.0, 1.0, 1.0)\n",
    "renderer.AddActor(actor)\n",
    "\n",
    "# Create window\n",
    "window = vtk.vtkRenderWindow()\n",
    "# Sets the pixel width, length of the window.\n",
    "window.SetSize(500, 500)\n",
    "window.AddRenderer(renderer)\n",
    "\n",
    "# Create interactor\n",
    "interactor = vtk.vtkRenderWindowInteractor()\n",
    "interactor.SetRenderWindow(window)"
   ]
  },
  {
   "cell_type": "code",
   "execution_count": null,
   "metadata": {},
   "outputs": [],
   "source": [
    "window.Render()\n",
    "interactor.Start()"
   ]
  },
  {
   "cell_type": "code",
   "execution_count": null,
   "metadata": {},
   "outputs": [],
   "source": []
  },
  {
   "cell_type": "code",
   "execution_count": null,
   "metadata": {},
   "outputs": [],
   "source": [
    "normals = vtk.vtkPolyDataNormals()\n",
    "normals.SetInputConnection(iso.GetOutputPort())\n",
    "normals.SetFeatureAngle(45)\n",
    "\n",
    "isoMapper = vtk.vtkPolyDataMapper()\n",
    "isoMapper.SetInputConnection(normals.GetOutputPort())\n",
    "isoMapper.ScalarVisibilityOn()\n",
    "isoMapper.SetScalarRange(0, 255)\n",
    "#isoMapper.SetScalarModeToUsePointFieldData()\n",
    "#isoMapper.ColorByArrayComponent(\"VelocityMagnitude\", 0)\n",
    "\n",
    "# Create an actor\n",
    "isoActor = vtk.vtkActor()\n",
    "isoActor.SetMapper(isoMapper)\n",
    "isoActor.GetProperty().SetColor(0,255,0)\n",
    "isoActor.GetProperty().SetLineWidth(25)\n",
    "\n",
    "# Create renderer\n",
    "renderer = vtk.vtkRenderer()\n",
    "renderer.SetBackground(1.0, 1.0, 1.0)\n",
    "renderer.AddActor(isoActor)\n",
    "\n",
    "# Create window\n",
    "window = vtk.vtkRenderWindow()\n",
    "# Sets the pixel width, length of the window.\n",
    "window.SetSize(500, 500)\n",
    "window.AddRenderer(renderer)\n",
    "\n",
    "# Create interactor\n",
    "interactor = vtk.vtkRenderWindowInteractor()\n",
    "interactor.SetRenderWindow(window)"
   ]
  },
  {
   "cell_type": "code",
   "execution_count": null,
   "metadata": {},
   "outputs": [],
   "source": []
  }
 ],
 "metadata": {
  "kernelspec": {
   "display_name": "Python 3",
   "language": "python",
   "name": "python3"
  },
  "language_info": {
   "codemirror_mode": {
    "name": "ipython",
    "version": 3
   },
   "file_extension": ".py",
   "mimetype": "text/x-python",
   "name": "python",
   "nbconvert_exporter": "python",
   "pygments_lexer": "ipython3",
   "version": "3.6.10"
  }
 },
 "nbformat": 4,
 "nbformat_minor": 4
}
