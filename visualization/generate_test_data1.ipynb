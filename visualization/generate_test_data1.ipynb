{
 "cells": [
  {
   "cell_type": "markdown",
   "metadata": {},
   "source": [
    "# Generate test data1\n",
    "circles with different sizes and multiple \"time steps\" <br> \n",
    "4 time steps with 20 slices<br>\n",
    "\n",
    "\n",
    "author = c.magg<br>\n",
    "date = October 18, 2020 <br>"
   ]
  },
  {
   "cell_type": "code",
   "execution_count": null,
   "metadata": {},
   "outputs": [],
   "source": [
    "import numpy as np\n",
    "import cv2\n",
    "import matplotlib.pyplot as plt\n",
    "import sys\n",
    "import os"
   ]
  },
  {
   "cell_type": "code",
   "execution_count": null,
   "metadata": {},
   "outputs": [],
   "source": [
    "sys.path.append(os.path.abspath('../../'))"
   ]
  },
  {
   "cell_type": "code",
   "execution_count": null,
   "metadata": {},
   "outputs": [],
   "source": [
    "# add path to data here\n",
    "path_data = \"../../Data/Test1/Segmentation/\" "
   ]
  },
  {
   "cell_type": "code",
   "execution_count": null,
   "metadata": {},
   "outputs": [],
   "source": [
    "color = (240,128,128)"
   ]
  },
  {
   "cell_type": "code",
   "execution_count": null,
   "metadata": {},
   "outputs": [],
   "source": []
  },
  {
   "cell_type": "markdown",
   "metadata": {},
   "source": [
    "## time step 1"
   ]
  },
  {
   "cell_type": "code",
   "execution_count": null,
   "metadata": {},
   "outputs": [],
   "source": [
    "radii = np.linspace(100,120,20)\n",
    "img1 = []\n",
    "for idx, r in enumerate(radii):\n",
    "    fn = os.path.join(path_data, \"t0\", \"test_slice{0}.png\".format(idx))\n",
    "    fn1 = os.path.join(path_data, \"png\", \"test_slice{0}.png\".format(idx))\n",
    "    img = np.zeros((512,512))\n",
    "    img_ = np.zeros((512,512))\n",
    "    cv2.circle(img_, (256,256), int(r), color, -1)\n",
    "    cv2.imwrite(fn1, img_)\n",
    "    cv2.circle(img, (256,256), int(r), 255, -1)\n",
    "    cv2.imwrite(fn, img)    \n",
    "    img1.append(img)"
   ]
  },
  {
   "cell_type": "code",
   "execution_count": null,
   "metadata": {
    "scrolled": true
   },
   "outputs": [],
   "source": [
    "plt.imshow(img1[0]+img1[-1])\n",
    "plt.show()\n",
    "plt.imshow(img_)\n",
    "plt.show()"
   ]
  },
  {
   "cell_type": "markdown",
   "metadata": {},
   "source": [
    "## time step 2"
   ]
  },
  {
   "cell_type": "code",
   "execution_count": null,
   "metadata": {},
   "outputs": [],
   "source": [
    "radii = np.linspace(150,190,20)\n",
    "img2 = []\n",
    "for idx, r in enumerate(radii):\n",
    "    fn = os.path.join(path_data, \"t1 10-10-2020\", \"test_slice{0}.png\".format(idx))\n",
    "    fn1 = os.path.join(path_data, \"png 10-10-2020\", \"test_slice{0}.png\".format(idx))\n",
    "    img = np.zeros((512,512))\n",
    "    img_ = np.zeros((512,512))\n",
    "    cv2.circle(img_, (256,256), int(r), color, -1)\n",
    "    cv2.imwrite(fn1, img_)\n",
    "    cv2.circle(img, (256,256), int(r), 255, -1)\n",
    "    cv2.imwrite(fn, img)    \n",
    "    img2.append(img)"
   ]
  },
  {
   "cell_type": "code",
   "execution_count": null,
   "metadata": {},
   "outputs": [],
   "source": [
    "plt.imshow(img2[0]+img2[-1])"
   ]
  },
  {
   "cell_type": "markdown",
   "metadata": {},
   "source": [
    "## time step 3"
   ]
  },
  {
   "cell_type": "code",
   "execution_count": null,
   "metadata": {},
   "outputs": [],
   "source": [
    "radii = np.linspace(160,230,20)\n",
    "img3 = []\n",
    "for idx, r in enumerate(radii):\n",
    "    fn = os.path.join(path_data, \"t1 18-10-2020\", \"test_slice{0}.png\".format(idx))\n",
    "    fn1 = os.path.join(path_data, \"png 18-10-2020\", \"test_slice{0}.png\".format(idx))\n",
    "    img = np.zeros((512,512))  \n",
    "    img_ = np.zeros((512,512))\n",
    "    cv2.ellipse(img_, (256,256), (int(r), int(r)-20), 0, 0, 360, color, -1)\n",
    "    cv2.imwrite(fn1, img_)\n",
    "    cv2.ellipse(img, (256,256), (int(r), int(r)-20), 0, 0, 360, 255, -1)\n",
    "    cv2.imwrite(fn, img)    \n",
    "    img3.append(img)"
   ]
  },
  {
   "cell_type": "code",
   "execution_count": null,
   "metadata": {
    "scrolled": false
   },
   "outputs": [],
   "source": [
    "plt.imshow(img3[0]+img3[-1])"
   ]
  },
  {
   "cell_type": "code",
   "execution_count": null,
   "metadata": {},
   "outputs": [],
   "source": []
  },
  {
   "cell_type": "code",
   "execution_count": null,
   "metadata": {},
   "outputs": [],
   "source": [
    "idx = 0\n",
    "plt.imshow(img1[idx]+img2[idx]+img3[idx])"
   ]
  },
  {
   "cell_type": "code",
   "execution_count": null,
   "metadata": {},
   "outputs": [],
   "source": [
    "idx = -1\n",
    "plt.imshow(img1[idx]+img2[idx]+img3[idx])"
   ]
  },
  {
   "cell_type": "markdown",
   "metadata": {},
   "source": [
    "## time step 4"
   ]
  },
  {
   "cell_type": "code",
   "execution_count": null,
   "metadata": {},
   "outputs": [],
   "source": [
    "radii = np.linspace(180,250,20)\n",
    "img4 = []\n",
    "for idx, r in enumerate(radii):\n",
    "    fn = os.path.join(path_data, \"t1 20-10-2020\", \"test_slice{0}.png\".format(idx))\n",
    "    fn1 = os.path.join(path_data, \"png 20-10-2020\", \"test_slice{0}.png\".format(idx))\n",
    "    img = np.zeros((512,512))  \n",
    "    img_ = np.zeros((512,512))\n",
    "    cv2.ellipse(img_, (256,256), (int(r), int(r)-10), 0, 0, 360, color, -1)\n",
    "    cv2.imwrite(fn1, img_)\n",
    "    cv2.ellipse(img, (256,256), (int(r), int(r)-10), 0, 0, 360, 255, -1)\n",
    "    cv2.imwrite(fn, img)    \n",
    "    img4.append(img)"
   ]
  },
  {
   "cell_type": "code",
   "execution_count": null,
   "metadata": {},
   "outputs": [],
   "source": [
    "plt.imshow(img4[-1]+img3[-1])"
   ]
  },
  {
   "cell_type": "code",
   "execution_count": null,
   "metadata": {},
   "outputs": [],
   "source": []
  }
 ],
 "metadata": {
  "kernelspec": {
   "display_name": "Python 3",
   "language": "python",
   "name": "python3"
  },
  "language_info": {
   "codemirror_mode": {
    "name": "ipython",
    "version": 3
   },
   "file_extension": ".py",
   "mimetype": "text/x-python",
   "name": "python",
   "nbconvert_exporter": "python",
   "pygments_lexer": "ipython3",
   "version": "3.6.10"
  }
 },
 "nbformat": 4,
 "nbformat_minor": 4
}
