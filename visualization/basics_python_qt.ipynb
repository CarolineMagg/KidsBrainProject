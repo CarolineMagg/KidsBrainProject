{
 "cells": [
  {
   "cell_type": "markdown",
   "metadata": {},
   "source": [
    "# Getting used to PythonQT\n",
    "\n",
    "date = 30 September, 2020 <br>\n",
    "\n",
    "history <br>\n",
    "2020-30-09 Get first PythonQt window <br>\n",
    "2020-30-09 Combination PythonQT + VTK content <br>\n",
    "2020-04-10 Change Directory and Time Step and toogle background button <br>"
   ]
  },
  {
   "cell_type": "code",
   "execution_count": null,
   "metadata": {},
   "outputs": [],
   "source": [
    "import sys\n",
    "from PyQt5.QtWidgets import QApplication, QLabel, QMainWindow, QToolBar, QAction, QStatusBar, QCheckBox\n",
    "from PyQt5.QtCore import Qt, QSize\n",
    "from PyQt5.QtGui import QIcon"
   ]
  },
  {
   "cell_type": "markdown",
   "metadata": {},
   "source": [
    "### First example"
   ]
  },
  {
   "cell_type": "code",
   "execution_count": null,
   "metadata": {},
   "outputs": [],
   "source": [
    "class MainWindow(QMainWindow):\n",
    "\n",
    "    def __init__(self, *args, **kwargs):\n",
    "        super(MainWindow, self).__init__(*args, **kwargs)\n",
    "        \n",
    "        self.setWindowTitle(\"My Awesome App\")\n",
    "        \n",
    "        label = QLabel(\"THIS IS AWESOME!!!\")\n",
    "        label.setAlignment(Qt.AlignCenter)\n",
    "        \n",
    "        self.setCentralWidget(label)\n",
    "        \n",
    "        toolbar = QToolBar(\"My main toolbar\")\n",
    "        toolbar.setIconSize(QSize(16,16))\n",
    "        self.addToolBar(toolbar)\n",
    "        \n",
    "        button_action = QAction(QIcon(\"bug.png\"), \"Your button\", self)\n",
    "        button_action.setStatusTip(\"This is your button\")\n",
    "        button_action.triggered.connect(self.onMyToolBarButtonClick)\n",
    "        button_action.setCheckable(True)\n",
    "        toolbar.addAction(button_action)\n",
    "        \n",
    "        toolbar.addSeparator()\n",
    "        \n",
    "        button_action2 = QAction(QIcon(\"bug.png\"), \"Your button2\", self)\n",
    "        button_action2.setStatusTip(\"This is your button2\")\n",
    "        button_action2.triggered.connect(self.onMyToolBarButtonClick)\n",
    "        button_action2.setCheckable(True)\n",
    "        toolbar.addAction(button_action2)\n",
    "        \n",
    "        toolbar.addWidget(QLabel(\"Hello\"))\n",
    "        toolbar.addWidget(QCheckBox())\n",
    "        \n",
    "        self.setStatusBar(QStatusBar(self))\n",
    "        \n",
    "    def onMyToolBarButtonClick(self, s):\n",
    "        print(\"click\", s)"
   ]
  },
  {
   "cell_type": "markdown",
   "metadata": {},
   "source": [
    "app = QApplication(sys.argv)\n",
    "window = MainWindow()\n",
    "window.show()\n",
    "\n",
    "app.exec_()"
   ]
  },
  {
   "cell_type": "code",
   "execution_count": null,
   "metadata": {},
   "outputs": [],
   "source": []
  },
  {
   "cell_type": "markdown",
   "metadata": {},
   "source": [
    "## First Python QT + VTK"
   ]
  },
  {
   "cell_type": "code",
   "execution_count": null,
   "metadata": {},
   "outputs": [],
   "source": [
    "import vtk\n",
    "from vtk.qt.QVTKRenderWindowInteractor import QVTKRenderWindowInteractor\n",
    "from PyQt5.QtWidgets import QFrame, QVBoxLayout"
   ]
  },
  {
   "cell_type": "code",
   "execution_count": null,
   "metadata": {},
   "outputs": [],
   "source": [
    "class MainWindow(QMainWindow):\n",
    "\n",
    "    def __init__(self, parent = None):\n",
    "        QMainWindow.__init__(self, parent)\n",
    "        \n",
    "        self.setWindowTitle(\"KidsBrainProject\")\n",
    "        \n",
    "        # add vtk widget\n",
    "        self.frame = QFrame()\n",
    "        self.vtkWidget = QVTKRenderWindowInteractor(self.frame)\n",
    "        self.vl = QVBoxLayout()\n",
    "        self.vl.addWidget(self.vtkWidget)\n",
    "        \n",
    "        # create and add renderer\n",
    "        self.renderer = vtk.vtkRenderer()  \n",
    "        self.vtkWidget.GetRenderWindow().AddRenderer(self.renderer)\n",
    "        self.interactor = self.vtkWidget.GetRenderWindow().GetInteractor() \n",
    "        \n",
    "        # Create source\n",
    "        source = vtk.vtkSphereSource()\n",
    "        source.SetCenter(0, 0, 0)\n",
    "        source.SetRadius(5.0)\n",
    "        # Create a mapper\n",
    "        mapper = vtk.vtkPolyDataMapper()\n",
    "        mapper.SetInputConnection(source.GetOutputPort())\n",
    "        # Create an actor\n",
    "        actor = vtk.vtkActor()\n",
    "        actor.SetMapper(mapper)\n",
    "        \n",
    "        self.renderer.AddActor(actor)\n",
    "        self.renderer.ResetCamera()\n",
    "        \n",
    "        self.frame.setLayout(self.vl)\n",
    "        self.setCentralWidget(self.frame)\n",
    "        \n",
    "        self.show()\n",
    "        self.interactor.Initialize() \n",
    "        "
   ]
  },
  {
   "cell_type": "raw",
   "metadata": {},
   "source": [
    "app = QApplication(sys.argv)\n",
    "window = MainWindow()\n",
    "sys.exit(app.exec_()) "
   ]
  },
  {
   "cell_type": "markdown",
   "metadata": {},
   "source": [
    "# Python QT + VTK + ImageViewer"
   ]
  },
  {
   "cell_type": "code",
   "execution_count": null,
   "metadata": {},
   "outputs": [],
   "source": [
    "class MainWindow(QMainWindow):\n",
    "\n",
    "    def __init__(self, parent = None):\n",
    "        QMainWindow.__init__(self, parent)\n",
    "        \n",
    "        self.setWindowTitle(\"KidsBrainProject\")\n",
    "        \n",
    "        # add vtk widget\n",
    "        self.frame = QFrame()\n",
    "        self.vtkWidget = QVTKRenderWindowInteractor(self.frame)\n",
    "        self.vl = QVBoxLayout()\n",
    "        self.vl.addWidget(self.vtkWidget)\n",
    "                \n",
    "        # Read data\n",
    "        pathDicomDir = \"../../Data/1/CT\"\n",
    "        reader = vtk.vtkDICOMImageReader()\n",
    "        reader.SetDirectoryName(pathDicomDir)\n",
    "        reader.Update()\n",
    "\n",
    "        # Create image viewer\n",
    "        self.viewer = vtk.vtkImageViewer2()\n",
    "        self.viewer.SetInputData(reader.GetOutput())\n",
    "        self.viewer.SetSlice(100)\n",
    "                \n",
    "        self.viewer.SetupInteractor(self.vtkWidget)\n",
    "        self.viewer.SetRenderWindow(self.vtkWidget.GetRenderWindow())\n",
    "        self.viewer.Render()\n",
    "        self.frame.setLayout(self.vl)\n",
    "        self.setCentralWidget(self.frame)\n",
    "        \n",
    "        self.show()\n",
    "        self.vtkWidget.Initialize()\n",
    "        \n",
    "    def keyPressEvent(self, event):\n",
    "        print(event.key())\n",
    "        if event.key() == QtCore.Qt.Key_Escape: \n",
    "            self.lastWindowClosed()\n",
    "        "
   ]
  },
  {
   "cell_type": "raw",
   "metadata": {},
   "source": [
    "app = QApplication(sys.argv)\n",
    "window = MainWindow()\n",
    "sys.exit(app.exec_()) "
   ]
  },
  {
   "cell_type": "markdown",
   "metadata": {},
   "source": [
    "# PythonQT + VTK + ImageViewer + Change Directory/TimeStep"
   ]
  },
  {
   "cell_type": "code",
   "execution_count": null,
   "metadata": {},
   "outputs": [],
   "source": [
    "from PyQt5.QtWidgets import QPushButton, QFileDialog, QSlider"
   ]
  },
  {
   "cell_type": "raw",
   "metadata": {},
   "source": [
    "\n",
    "# Toolbar\n",
    "#toolbar = QToolBar(\"My main toolbar\")\n",
    "#toolbar.setIconSize(QSize(16,16))\n",
    "#self.addToolBar(toolbar)\n",
    "\n",
    "#exit_button = QAction(\"Quit\", self)\n",
    "#exit_button.setStatusTip(\"Exit application\")\n",
    "#exit_button.triggered.connect(self.closeWindow)\n",
    "#toolbar.addAction(exit_button)"
   ]
  },
  {
   "cell_type": "code",
   "execution_count": null,
   "metadata": {},
   "outputs": [],
   "source": [
    "import os"
   ]
  },
  {
   "cell_type": "code",
   "execution_count": null,
   "metadata": {},
   "outputs": [],
   "source": [
    "path_dir = \"../../Data/1/\"\n",
    "time_steps = [x for x in os.listdir(path_dir) if 'CT' in x or 'T1' in x]"
   ]
  },
  {
   "cell_type": "code",
   "execution_count": null,
   "metadata": {},
   "outputs": [],
   "source": []
  },
  {
   "cell_type": "code",
   "execution_count": null,
   "metadata": {},
   "outputs": [],
   "source": [
    "class MainWindow(QMainWindow):\n",
    "\n",
    "    def __init__(self, parent = None):\n",
    "        QMainWindow.__init__(self, parent)\n",
    "        \n",
    "        init_time_step = 0\n",
    "              \n",
    "        # Set up frame\n",
    "        self.frame = QFrame()\n",
    "        self.layout = QVBoxLayout()\n",
    "                              \n",
    "         # VTK widget\n",
    "        self.vtkWidget = QVTKRenderWindowInteractor(self.frame)\n",
    "        self.layout.addWidget(self.vtkWidget)\n",
    "               \n",
    "        # Read data\n",
    "        self.path_dir = \"../../Data/1/\"\n",
    "        self.reader = vtk.vtkDICOMImageReader()\n",
    "        self.changeReader(nr_time_step=0)\n",
    "\n",
    "        # Create image viewer\n",
    "        self.viewer = vtk.vtkImageViewer2()\n",
    "        self.viewer.SetInputData(self.reader.GetOutput())\n",
    "        self.viewer.SetSlice(100)\n",
    "        #self.viewer.SetColorWindow(0)\n",
    "        #self.viewer.SetColorLevel(0)\n",
    "        self.colorWindow = self.viewer.GetColorWindow()\n",
    "        self.colorLevel = self.viewer.GetColorLevel()\n",
    "                \n",
    "        # Connect VTK + QT\n",
    "        self.viewer.SetupInteractor(self.vtkWidget)\n",
    "        self.viewer.SetRenderWindow(self.vtkWidget.GetRenderWindow())\n",
    "        self.viewer.Render()\n",
    "        self.frame.setLayout(self.layout)\n",
    "        self.setCentralWidget(self.frame)\n",
    "        \n",
    "        # Toolbar with Slider\n",
    "        self.toolbar = QToolBar(\"Time slider\") \n",
    "        self.addToolBar(self.toolbar)\n",
    "        self.createSliderToolbar()        \n",
    "        \n",
    "        # Menu Bar\n",
    "        bar = self.menuBar()\n",
    "        file = bar.addMenu(\"File\")\n",
    "        \n",
    "        new_folder = QAction(\"New Patient\",self)\n",
    "        new_folder.triggered.connect(self.openFolder)\n",
    "        #new_folder.setShortcut(\"Ctrl+N\")\n",
    "        file.addAction(new_folder)\n",
    "        \n",
    "        quit = QAction(\"Quit\",self) \n",
    "        quit.triggered.connect(self.closeWindow)\n",
    "        file.addAction(quit)\n",
    "        \n",
    "        # Show and initialize\n",
    "        self.show()\n",
    "        self.vtkWidget.Initialize()\n",
    "        \n",
    "    def closeWindow(self, s):\n",
    "        self.close()\n",
    "        \n",
    "    def createSliderToolbar(self, init_value=0):\n",
    "        self.removeToolBar(self.toolbar)\n",
    "        self.toolbar = QToolBar(\"Time slider\") \n",
    "        \n",
    "        self.slider = QSlider(Qt.Horizontal)\n",
    "        self.slider.valueChanged.connect(self.timeStepChange)\n",
    "        self.slider.setMinimum(0)\n",
    "        self.slider.setMaximum(len(self.time_steps)-1)\n",
    "        if init_value > len(self.time_steps)-1:\n",
    "            init_value = len(self.time_steps)-1\n",
    "        self.slider.setValue(init_value)\n",
    "        self.slider.setTickPosition(QSlider.TicksBelow)\n",
    "        self.slider.setTickInterval(1)    \n",
    "        print('Create slider {0}/{1}'.format(init_value, len(self.time_steps)-1))\n",
    "        self.toolbar.addWidget(self.slider)\n",
    "        \n",
    "        self.toolbar.addSeparator()\n",
    "        \n",
    "        background_toggle = QCheckBox()\n",
    "        background_toggle.setText(\"Background Toggle\")\n",
    "        background_toggle.setChecked(True)\n",
    "        background_toggle.stateChanged.connect(self.backgroundToogleChange)\n",
    "        \n",
    "        self.toolbar.addWidget(background_toggle)\n",
    "        self.addToolBar(self.toolbar)\n",
    "        \n",
    "    def backgroundToogleChange(self, s):\n",
    "        if s == 0:\n",
    "            print('no background')\n",
    "            self.colorWindow = self.viewer.GetColorWindow()\n",
    "            self.colorLevel = self.viewer.GetColorLevel()\n",
    "            self.viewer.SetColorLevel(255)\n",
    "            self.viewer.SetColorWindow(0)\n",
    "            self.viewer.Render()\n",
    "        elif s == 2:\n",
    "            print('background')\n",
    "            self.viewer.SetColorLevel(self.colorLevel)\n",
    "            self.viewer.SetColorWindow(self.colorWindow)\n",
    "            self.viewer.Render()\n",
    "        \n",
    "    def openFolder(self, s):\n",
    "        \n",
    "        file_dialog = QFileDialog()\n",
    "        file_dialog.setFileMode(QFileDialog.DirectoryOnly)\n",
    "        file_dialog.setViewMode(QFileDialog.Detail)\n",
    "        \n",
    "        if file_dialog.exec_():\n",
    "            self.path_dir = file_dialog.selectedFiles()[0]\n",
    "            print('Open folder', self.path_dir)\n",
    "            self.changeReader()\n",
    "            self.createSliderToolbar(init_value=self.slider.value())\n",
    "            \n",
    "    def changeReader(self, nr_time_step=None):\n",
    "        self.time_steps = [x for x in os.listdir(self.path_dir) if 'CT' in x or 'T1' in x]\n",
    "        if nr_time_step is None:\n",
    "            nr_time_step = min(len(self.time_steps)-1,self.slider.value())\n",
    "            self.slider.setValue(nr_time_step)\n",
    "        self.path_dicom_dir = os.path.join(self.path_dir, self.time_steps[nr_time_step]) \n",
    "        self.reader.SetDirectoryName(self.path_dicom_dir)\n",
    "        self.reader.Update()\n",
    "        print('Change folder', self.path_dicom_dir)\n",
    "\n",
    "            \n",
    "    def timeStepChange(self,s):\n",
    "        print('Change step {0}/{1}'.format(self.slider.value(),len(self.time_steps)-1))\n",
    "        self.changeReader()        "
   ]
  },
  {
   "cell_type": "code",
   "execution_count": null,
   "metadata": {},
   "outputs": [],
   "source": [
    "app = QApplication(sys.argv)\n",
    "window = MainWindow()\n",
    "window.show()\n",
    "\n",
    "app.exec_()"
   ]
  },
  {
   "cell_type": "code",
   "execution_count": null,
   "metadata": {},
   "outputs": [],
   "source": [
    "window.viewer.GetColorLevel(), window.viewer.GetColorWindow()"
   ]
  },
  {
   "cell_type": "code",
   "execution_count": null,
   "metadata": {},
   "outputs": [],
   "source": []
  },
  {
   "cell_type": "code",
   "execution_count": null,
   "metadata": {},
   "outputs": [],
   "source": []
  },
  {
   "cell_type": "raw",
   "metadata": {},
   "source": [
    "window.time_steps, window.slider.value()"
   ]
  },
  {
   "cell_type": "raw",
   "metadata": {},
   "source": [
    "window.viewer.GetWindowLevel().GetWindow()"
   ]
  },
  {
   "cell_type": "code",
   "execution_count": null,
   "metadata": {},
   "outputs": [],
   "source": []
  }
 ],
 "metadata": {
  "kernelspec": {
   "display_name": "Python 3",
   "language": "python",
   "name": "python3"
  },
  "language_info": {
   "codemirror_mode": {
    "name": "ipython",
    "version": 3
   },
   "file_extension": ".py",
   "mimetype": "text/x-python",
   "name": "python",
   "nbconvert_exporter": "python",
   "pygments_lexer": "ipython3",
   "version": "3.6.10"
  }
 },
 "nbformat": 4,
 "nbformat_minor": 4
}
