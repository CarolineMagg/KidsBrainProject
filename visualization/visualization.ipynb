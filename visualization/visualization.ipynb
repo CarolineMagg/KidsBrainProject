{
 "cells": [
  {
   "cell_type": "markdown",
   "metadata": {},
   "source": [
    "# Python visualization with Python QT and VTK\n",
    "\n",
    "date = Oktober 18, 2020 <br>\n",
    "author = c.magg <br>"
   ]
  },
  {
   "cell_type": "code",
   "execution_count": null,
   "metadata": {},
   "outputs": [],
   "source": [
    "import os\n",
    "import numpy as np\n",
    "import cv2\n",
    "import sys\n",
    "import matplotlib.pyplot as plt\n",
    "import logging"
   ]
  },
  {
   "cell_type": "code",
   "execution_count": null,
   "metadata": {},
   "outputs": [],
   "source": [
    "logging.basicConfig(level=logging.DEBUG)"
   ]
  },
  {
   "cell_type": "code",
   "execution_count": null,
   "metadata": {},
   "outputs": [],
   "source": [
    "sys.path.append(os.path.abspath('../../'))\n",
    "sys.path.append(os.path.abspath('../utils'))"
   ]
  },
  {
   "cell_type": "code",
   "execution_count": null,
   "metadata": {},
   "outputs": [],
   "source": [
    "import vtk\n",
    "from vtk.qt.QVTKRenderWindowInteractor import QVTKRenderWindowInteractor"
   ]
  },
  {
   "cell_type": "code",
   "execution_count": null,
   "metadata": {},
   "outputs": [],
   "source": [
    "import sys\n",
    "from PyQt5.QtWidgets import QApplication, QLabel, QMainWindow, QToolBar \n",
    "from PyQt5.QtWidgets import QStatusBar, QCheckBox, QAction\n",
    "from PyQt5.QtWidgets import QFrame, QVBoxLayout, QWidget\n",
    "from PyQt5.QtWidgets import QPushButton, QFileDialog, QSlider, QComboBox\n",
    "from PyQt5.QtCore import Qt"
   ]
  },
  {
   "cell_type": "code",
   "execution_count": null,
   "metadata": {},
   "outputs": [],
   "source": [
    "from SliceText import SliceText\n",
    "from VTKSegmentationMask import VTKSegmentationMask\n",
    "from VTKSegmentationActors import VTKSegmentationActors\n",
    "from HelpingWindow import HelpingWindow\n",
    "from TimeText import TimeText\n",
    "from VTKPipeline import VTKPipeline"
   ]
  },
  {
   "cell_type": "raw",
   "metadata": {},
   "source": [
    "path_dir = \"../../Data/Test/Segmentation\"\n",
    "time_steps = [x for x in os.listdir(path_dir) if 'png' in x]\n",
    "time_steps"
   ]
  },
  {
   "cell_type": "raw",
   "metadata": {},
   "source": [
    "path_dicom_dir = \"../../Data/1/Segmentation/png\"\n",
    "path_dicom_files = [os.path.join(path_dicom_dir,x) for x in os.listdir(path_dicom_dir)]"
   ]
  },
  {
   "cell_type": "code",
   "execution_count": null,
   "metadata": {},
   "outputs": [],
   "source": [
    "class MainWindow(QMainWindow):\n",
    "\n",
    "    def __init__(self, switch = True, parent = None):\n",
    "        QMainWindow.__init__(self, parent)\n",
    "        \n",
    "        init_time_step = 0\n",
    "        self.switch = switch\n",
    "              \n",
    "        # Set up frame\n",
    "        self.frame = QFrame()\n",
    "        self.layout = QVBoxLayout()\n",
    "                              \n",
    "         # VTK widget\n",
    "        self.vtkWidget = QVTKRenderWindowInteractor(self.frame)\n",
    "        self.layout.addWidget(self.vtkWidget)\n",
    "        \n",
    "        self.path_dir = \"../../Data/Test/Segmentation/\"\n",
    "        self.structure = 'Brain'\n",
    "        self.time_steps = [x for x in os.listdir(self.path_dir) if 'png' in x]\n",
    "        self.nr_time_steps = len(self.time_steps)-1\n",
    "        self.vtkPipeline = VTKPipeline(self.nr_time_steps, self.path_dir, self.structure, fill=False)\n",
    "        #self.changeReader(nr_time_step=0)\n",
    "        self.vtkPipeline.SetWindow(self.vtkWidget)\n",
    "        self.renderer = self.vtkPipeline.renderer\n",
    "        self.vtkWidget.GetRenderWindow().AddRenderer(self.renderer)\n",
    "        self.renderer.SetUseDepthPeeling(1)\n",
    "        self.renderer.SetMaximumNumberOfPeels(100)\n",
    "        self.renderer.SetOcclusionRatio(0.1)\n",
    "        self.vtkWidget.GetRenderWindow().SetAlphaBitPlanes(1)\n",
    "        self.vtkWidget.GetRenderWindow().SetMultiSamples(0)\n",
    "        self.interactor = self.vtkWidget.GetRenderWindow().GetInteractor() \n",
    "        self.interactor.SetInteractorStyle(self.vtkPipeline.interactorStyle)\n",
    "        \n",
    "        self.frame.setLayout(self.layout)\n",
    "        self.setCentralWidget(self.frame)\n",
    "        \n",
    "        # Toolbar with Slider\n",
    "        self.toolbar = QToolBar(\"Time slider\") \n",
    "        self.addToolBar(self.toolbar)\n",
    "        self.createSliderToolbar()     \n",
    "        \n",
    "        # Menu Bar\n",
    "        bar = self.menuBar()        \n",
    "        new_folder = QAction(\"New Patient\",self)\n",
    "        new_folder.triggered.connect(self.openFolder)\n",
    "        bar.addAction(new_folder)\n",
    "              \n",
    "        helping = QAction(\"Help\", self)\n",
    "        helping.triggered.connect(self.helping_button)\n",
    "        bar.addAction(helping)\n",
    "        \n",
    "        quit = QAction(\"Quit\",self) \n",
    "        quit.triggered.connect(self.closeWindow)\n",
    "        bar.addAction(quit)\n",
    "        \n",
    "        # Show and initialize\n",
    "        self.show()\n",
    "        self.vtkWidget.Initialize()\n",
    "        \n",
    "    def closeWindow(self, s):\n",
    "        logging.debug(\"MainWindow: Close window.\")\n",
    "        self.close()\n",
    "        \n",
    "    def createSliderToolbar(self, init_value=0):\n",
    "        logging.debug(\"MainWindow: Create slider toolbar.\")\n",
    "        self.removeToolBar(self.toolbar)\n",
    "        self.toolbar = QToolBar(\"Time slider\") \n",
    "        \n",
    "        self.slider = QSlider(Qt.Horizontal)\n",
    "        self.slider.valueChanged.connect(self.timeStepChange)\n",
    "        self.slider.setMinimum(0)\n",
    "        self.slider.setMaximum(len(self.time_steps)-1)\n",
    "        if init_value > len(self.time_steps)-1:\n",
    "            init_value = len(self.time_steps)-1\n",
    "        self.slider.setValue(init_value)\n",
    "        self.slider.setTickPosition(QSlider.TicksBelow)\n",
    "        self.slider.setTickInterval(1)    \n",
    "        logging.debug('MainWindow: Create slider {0}/{1}'.format(init_value, len(self.time_steps)-1))\n",
    "        self.toolbar.addWidget(self.slider)\n",
    "        \n",
    "        self.toolbar.addSeparator()\n",
    "        \n",
    "        background_toggle = QCheckBox()\n",
    "        background_toggle.setText(\"Background Toggle\")\n",
    "        background_toggle.setChecked(True)\n",
    "        background_toggle.stateChanged.connect(self.backgroundToogleChange)        \n",
    "        self.toolbar.addWidget(background_toggle)\n",
    "        \n",
    "        self.toolbar.addSeparator()\n",
    "        \n",
    "        self.cb = QComboBox()\n",
    "        items = os.listdir(os.path.join(self.path_dir, 't0'))\n",
    "        logging.debug('MainWindow: Available structures {0}'.format(items))\n",
    "        self.cb.addItems(items)\n",
    "        self.cb.currentIndexChanged.connect(self.selectStructure)\n",
    "        self.toolbar.addWidget(self.cb)\n",
    "        \n",
    "        self.toolbar.addSeparator()\n",
    "        \n",
    "        fill_mask_toggle = QCheckBox()\n",
    "        fill_mask_toggle.setText(\"Fill mask\")\n",
    "        fill_mask_toggle.setChecked(False)\n",
    "        fill_mask_toggle.stateChanged.connect(self.fillMaskToggleChange)\n",
    "        self.toolbar.addWidget(fill_mask_toggle)\n",
    "        \n",
    "        self.addToolBar(self.toolbar)\n",
    "        \n",
    "    def backgroundToogleChange(self, s):\n",
    "        if s == 0:\n",
    "            logging.debug('MainWindow: no background')\n",
    "            self.vtkPipeline.RemoveDicomActor()\n",
    "        elif s == 2:\n",
    "            logging.debug('MainWindow: background')\n",
    "            self.vtkPipeline.AddDicomActor()\n",
    "            \n",
    "    def fillMaskToggleChange(self, s):\n",
    "        if s == 0:\n",
    "            logging.debug(\"MainWindow: not fill mask\")\n",
    "            path_data_mask = [os.path.join(self.path_dir,x) for x in os.listdir(self.path_dir) if 't0' in x or 't1' in x]\n",
    "            self.vtkPipeline.UpdateMask(path_data_mask, self.structure, False)\n",
    "        elif s == 2:\n",
    "            logging.debug(\"MainWindow: fill mask\")\n",
    "            path_data_mask = [os.path.join(self.path_dir,x) for x in os.listdir(self.path_dir) if 't0' in x or 't1' in x]\n",
    "            self.vtkPipeline.UpdateMask(path_data_mask, self.structure, True)\n",
    "            \n",
    "    def selectStructure(self, s):\n",
    "        logging.debug(\"MainWindow: Change structure to {0}\".format(s))\n",
    "        self.structure = self.cb.itemText(s)\n",
    "        self.changeMask()\n",
    "        \n",
    "    def openFolder(self, s):        \n",
    "        file_dialog = QFileDialog()\n",
    "        file_dialog.setFileMode(QFileDialog.DirectoryOnly)\n",
    "        file_dialog.setViewMode(QFileDialog.Detail)\n",
    "        \n",
    "        if file_dialog.exec_():\n",
    "            self.path_dir = file_dialog.selectedFiles()[0]\n",
    "            logging.debug('MainWindow: Open folder {0}'.format(self.path_dir))\n",
    "            self.vtkPipeline.MoveSlice(0)\n",
    "            self.changeReader()\n",
    "            self.changeMask()\n",
    "            self.createSliderToolbar(init_value=self.slider.value())\n",
    "            self.vtkPipeline.MoveSlice(0)\n",
    "            \n",
    "    def changeReader(self, nr_time_step=None):\n",
    "        # png files\n",
    "        self.time_steps = [x for x in os.listdir(self.path_dir) if 'png' in x]\n",
    "        self.nr_time_steps = len(self.time_steps)-1\n",
    "        if nr_time_step is None:\n",
    "            nr_time_step = min(self.nr_time_steps,self.slider.value())\n",
    "            self.slider.setValue(nr_time_step)\n",
    "            self.vtkPipeline.SetTimeText(self.slider.value(), self.nr_time_steps)\n",
    "        path_dicom_dir = os.path.join(self.path_dir, self.time_steps[nr_time_step]) \n",
    "        path_dicom_files = [os.path.join(path_dicom_dir,x) for x in os.listdir(path_dicom_dir)]\n",
    "        path_dicom_files = sorted(path_dicom_files, key=lambda x: int(x.split('slice')[-1].split('.')[0]))\n",
    "        self.vtkPipeline.UpdateReader(path_dicom_files)\n",
    "        logging.debug('MainWindow: Change png folder {0}'.format(path_dicom_dir))\n",
    "    \n",
    "    def changeMask(self):        \n",
    "        # segmentation files\n",
    "        path_data_mask = [os.path.join(self.path_dir,x) for x in os.listdir(self.path_dir) if 't0' in x or 't1' in x]\n",
    "        self.vtkPipeline.UpdateMask(path_data_mask, self.structure)        \n",
    "        logging.debug('MainWindow: Change mask folder {0}'.format(path_data_mask))\n",
    "        \n",
    "    def helping_button(self):\n",
    "        logging.debug(\"MainWindow: Open help window.\")\n",
    "        self.helpingWindow = HelpingWindow()\n",
    "        self.helpingWindow.show()\n",
    "            \n",
    "    def timeStepChange(self,s):\n",
    "        logging.debug('MainWindow: Change step {0}/{1}'.format(self.slider.value(),self.nr_time_steps))\n",
    "        self.vtkPipeline.SetTimeText(self.slider.value(), self.nr_time_steps)\n",
    "        self.changeReader()       "
   ]
  },
  {
   "cell_type": "code",
   "execution_count": null,
   "metadata": {
    "scrolled": true
   },
   "outputs": [],
   "source": [
    "app = QApplication(sys.argv)\n",
    "window = MainWindow(True)\n",
    "window.show()\n",
    "\n",
    "app.exec_()"
   ]
  },
  {
   "cell_type": "code",
   "execution_count": null,
   "metadata": {},
   "outputs": [],
   "source": []
  },
  {
   "cell_type": "code",
   "execution_count": null,
   "metadata": {},
   "outputs": [],
   "source": [
    "import numpy as np"
   ]
  },
  {
   "cell_type": "code",
   "execution_count": null,
   "metadata": {},
   "outputs": [],
   "source": [
    "np.array([228,26,28,\n",
    "55,126,184,\n",
    "77,175,74,\n",
    "255,127,0])/254"
   ]
  },
  {
   "cell_type": "code",
   "execution_count": null,
   "metadata": {},
   "outputs": [],
   "source": []
  }
 ],
 "metadata": {
  "kernelspec": {
   "display_name": "Python 3",
   "language": "python",
   "name": "python3"
  },
  "language_info": {
   "codemirror_mode": {
    "name": "ipython",
    "version": 3
   },
   "file_extension": ".py",
   "mimetype": "text/x-python",
   "name": "python",
   "nbconvert_exporter": "python",
   "pygments_lexer": "ipython3",
   "version": "3.6.10"
  }
 },
 "nbformat": 4,
 "nbformat_minor": 4
}
