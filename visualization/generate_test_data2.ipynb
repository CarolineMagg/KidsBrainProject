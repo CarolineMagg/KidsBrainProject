{
 "cells": [
  {
   "cell_type": "markdown",
   "metadata": {},
   "source": [
    "# Generate test data1\n",
    "take patient 1 init data and modify it to generate artifical data <br> \n",
    "3 time steps with 20 slices<br>\n",
    "\n",
    "\n",
    "author = c.magg<br>\n",
    "date = October 29, 2020 <br>"
   ]
  },
  {
   "cell_type": "code",
   "execution_count": null,
   "metadata": {},
   "outputs": [],
   "source": [
    "import numpy as np\n",
    "import cv2\n",
    "import matplotlib.pyplot as plt\n",
    "import sys\n",
    "import os"
   ]
  },
  {
   "cell_type": "code",
   "execution_count": null,
   "metadata": {},
   "outputs": [],
   "source": [
    "sys.path.append(os.path.abspath('../../'))"
   ]
  },
  {
   "cell_type": "code",
   "execution_count": null,
   "metadata": {},
   "outputs": [],
   "source": [
    "# add path to data here\n",
    "path_data = \"../../Data/Test2/Segmentation/\" "
   ]
  },
  {
   "cell_type": "code",
   "execution_count": null,
   "metadata": {},
   "outputs": [],
   "source": []
  },
  {
   "cell_type": "markdown",
   "metadata": {},
   "source": [
    "# two time steps with dilation -> structure Brain"
   ]
  },
  {
   "cell_type": "code",
   "execution_count": null,
   "metadata": {},
   "outputs": [],
   "source": [
    "files = [os.path.join(path_data, \"init/Brain\", x) for x in os.listdir(os.path.join(path_data, \"init/Brain\"))]"
   ]
  },
  {
   "cell_type": "code",
   "execution_count": null,
   "metadata": {},
   "outputs": [],
   "source": [
    "for f in files:\n",
    "    img = cv2.imread(f, cv2.IMREAD_GRAYSCALE)\n",
    "    kernel2 = np.ones((10,10), np.uint8)\n",
    "    img2 = cv2.dilate(img, kernel2)\n",
    "    cv2.imwrite(f.replace('_t0_','_t1_').replace('init','t1 10-10-2020'), img2)\n",
    "    kernel3 = np.ones((20,20), np.uint8)\n",
    "    img3 = cv2.dilate(img, kernel3)\n",
    "    cv2.imwrite(f.replace('_t0_','_t1_').replace('init','t1 20-10-2020'), img3)"
   ]
  },
  {
   "cell_type": "code",
   "execution_count": null,
   "metadata": {},
   "outputs": [],
   "source": []
  },
  {
   "cell_type": "code",
   "execution_count": null,
   "metadata": {},
   "outputs": [],
   "source": []
  }
 ],
 "metadata": {
  "kernelspec": {
   "display_name": "Python 3",
   "language": "python",
   "name": "python3"
  },
  "language_info": {
   "codemirror_mode": {
    "name": "ipython",
    "version": 3
   },
   "file_extension": ".py",
   "mimetype": "text/x-python",
   "name": "python",
   "nbconvert_exporter": "python",
   "pygments_lexer": "ipython3",
   "version": "3.6.10"
  }
 },
 "nbformat": 4,
 "nbformat_minor": 4
}
