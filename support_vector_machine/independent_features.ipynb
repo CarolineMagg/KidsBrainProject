{
 "cells": [
  {
   "cell_type": "markdown",
   "metadata": {},
   "source": [
    "# Support Vector Machine - Test Features\n",
    "This notebook tests feature and ideas from 'Evaluating Segmentation Error Without Ground Truth' by Kohlberger et al.\n",
    "\n",
    "author = Caroline Magg <br>\n",
    "date = 18 August 2020 <br> \n",
    "\n",
    "______________________________________\n",
    "history: <br>\n",
    "2020-18-08, 19-08, 26-08, 27-08 Features <br>\n",
    "2020-27-08 Testing SVM independent Features"
   ]
  },
  {
   "cell_type": "code",
   "execution_count": 1,
   "metadata": {},
   "outputs": [],
   "source": [
    "import os\n",
    "import sys\n",
    "import numpy as np\n",
    "import matplotlib.pyplot as plt\n",
    "import pandas as pd\n",
    "import cv2\n",
    "import scipy\n",
    "import logging as log\n",
    "import skimage.segmentation as segmentation\n",
    "from scipy.spatial.distance import cdist"
   ]
  },
  {
   "cell_type": "code",
   "execution_count": 2,
   "metadata": {},
   "outputs": [],
   "source": [
    "log.basicConfig(format='%(levelname)s:%(message)s', level=log.INFO)"
   ]
  },
  {
   "cell_type": "markdown",
   "metadata": {},
   "source": [
    "### Add dependencies"
   ]
  },
  {
   "cell_type": "code",
   "execution_count": 3,
   "metadata": {},
   "outputs": [],
   "source": [
    "# add KidsBrainProject main folder to paths\n",
    "sys.path.append(os.path.abspath('../../'))\n",
    "sys.path.append(os.path.abspath('../utils/'))"
   ]
  },
  {
   "cell_type": "code",
   "execution_count": 4,
   "metadata": {},
   "outputs": [],
   "source": [
    "# add path to data here\n",
    "path_data = \"../../Data/\" "
   ]
  },
  {
   "cell_type": "markdown",
   "metadata": {},
   "source": [
    "data_brain = pd.read_csv(\"../../Data/data_Brain.csv\")"
   ]
  },
  {
   "cell_type": "markdown",
   "metadata": {},
   "source": [
    "# Features"
   ]
  },
  {
   "cell_type": "markdown",
   "metadata": {},
   "source": [
    "## Synthetic data"
   ]
  },
  {
   "cell_type": "code",
   "execution_count": 5,
   "metadata": {},
   "outputs": [
    {
     "data": {
      "image/png": "[encoded data removed]",
      "text/plain": [
       "<Figure size 432x288 with 1 Axes>"
      ]
     },
     "metadata": {
      "needs_background": "light"
     },
     "output_type": "display_data"
    },
    {
     "data": {
      "text/plain": [
       "<matplotlib.image.AxesImage at 0xfc012eb5c0>"
      ]
     },
     "execution_count": 5,
     "metadata": {},
     "output_type": "execute_result"
    },
    {
     "data": {
      "image/png": "[encoded data removed]",
      "text/plain": [
       "<Figure size 432x288 with 1 Axes>"
      ]
     },
     "metadata": {
      "needs_background": "light"
     },
     "output_type": "display_data"
    }
   ],
   "source": [
    "test = np.zeros((10,10))\n",
    "test[:8,:8] = 2\n",
    "test[3:5,:2] = 5\n",
    "test[:2,:2] = 3\n",
    "test_segm = np.zeros((10,10))\n",
    "test_segm[:5,:5]=1\n",
    "plt.imshow(test), np.sum(test)\n",
    "plt.show()\n",
    "plt.imshow(test_segm)"
   ]
  },
  {
   "cell_type": "markdown",
   "metadata": {},
   "source": [
    "## Real Test data"
   ]
  },
  {
   "cell_type": "code",
   "execution_count": 6,
   "metadata": {},
   "outputs": [
    {
     "data": {
      "text/html": [
       "<div>\n",
       "<style scoped>\n",
       "    .dataframe tbody tr th:only-of-type {\n",
       "        vertical-align: middle;\n",
       "    }\n",
       "\n",
       "    .dataframe tbody tr th {\n",
       "        vertical-align: top;\n",
       "    }\n",
       "\n",
       "    .dataframe thead th {\n",
       "        text-align: right;\n",
       "    }\n",
       "</style>\n",
       "<table border=\"1\" class=\"dataframe\">\n",
       "  <thead>\n",
       "    <tr style=\"text-align: right;\">\n",
       "      <th></th>\n",
       "      <th>PatientID</th>\n",
       "      <th>Img</th>\n",
       "      <th>Init</th>\n",
       "      <th>Segm</th>\n",
       "      <th>Slice</th>\n",
       "      <th>RoiName</th>\n",
       "    </tr>\n",
       "  </thead>\n",
       "  <tbody>\n",
       "    <tr>\n",
       "      <th>0</th>\n",
       "      <td>1</td>\n",
       "      <td>../../Data/1/Segmentation/png/1_slice28.png</td>\n",
       "      <td>../../Data/1/Segmentation/init/1_init_Brain_sl...</td>\n",
       "      <td>../../Data/1/Segmentation/t0/1_t0_Brain_slice2...</td>\n",
       "      <td>28</td>\n",
       "      <td>Brain</td>\n",
       "    </tr>\n",
       "    <tr>\n",
       "      <th>1</th>\n",
       "      <td>1</td>\n",
       "      <td>../../Data/1/Segmentation/png/1_slice29.png</td>\n",
       "      <td>../../Data/1/Segmentation/init/1_init_Brain_sl...</td>\n",
       "      <td>../../Data/1/Segmentation/t0/1_t0_Brain_slice2...</td>\n",
       "      <td>29</td>\n",
       "      <td>Brain</td>\n",
       "    </tr>\n",
       "    <tr>\n",
       "      <th>2</th>\n",
       "      <td>1</td>\n",
       "      <td>../../Data/1/Segmentation/png/1_slice30.png</td>\n",
       "      <td>../../Data/1/Segmentation/init/1_init_Brain_sl...</td>\n",
       "      <td>../../Data/1/Segmentation/t0/1_t0_Brain_slice3...</td>\n",
       "      <td>30</td>\n",
       "      <td>Brain</td>\n",
       "    </tr>\n",
       "    <tr>\n",
       "      <th>3</th>\n",
       "      <td>1</td>\n",
       "      <td>../../Data/1/Segmentation/png/1_slice31.png</td>\n",
       "      <td>../../Data/1/Segmentation/init/1_init_Brain_sl...</td>\n",
       "      <td>../../Data/1/Segmentation/t0/1_t0_Brain_slice3...</td>\n",
       "      <td>31</td>\n",
       "      <td>Brain</td>\n",
       "    </tr>\n",
       "    <tr>\n",
       "      <th>4</th>\n",
       "      <td>1</td>\n",
       "      <td>../../Data/1/Segmentation/png/1_slice32.png</td>\n",
       "      <td>../../Data/1/Segmentation/init/1_init_Brain_sl...</td>\n",
       "      <td>../../Data/1/Segmentation/t0/1_t0_Brain_slice3...</td>\n",
       "      <td>32</td>\n",
       "      <td>Brain</td>\n",
       "    </tr>\n",
       "  </tbody>\n",
       "</table>\n",
       "</div>"
      ],
      "text/plain": [
       "   PatientID                                          Img  \\\n",
       "0          1  ../../Data/1/Segmentation/png/1_slice28.png   \n",
       "1          1  ../../Data/1/Segmentation/png/1_slice29.png   \n",
       "2          1  ../../Data/1/Segmentation/png/1_slice30.png   \n",
       "3          1  ../../Data/1/Segmentation/png/1_slice31.png   \n",
       "4          1  ../../Data/1/Segmentation/png/1_slice32.png   \n",
       "\n",
       "                                                Init  \\\n",
       "0  ../../Data/1/Segmentation/init/1_init_Brain_sl...   \n",
       "1  ../../Data/1/Segmentation/init/1_init_Brain_sl...   \n",
       "2  ../../Data/1/Segmentation/init/1_init_Brain_sl...   \n",
       "3  ../../Data/1/Segmentation/init/1_init_Brain_sl...   \n",
       "4  ../../Data/1/Segmentation/init/1_init_Brain_sl...   \n",
       "\n",
       "                                                Segm  Slice RoiName  \n",
       "0  ../../Data/1/Segmentation/t0/1_t0_Brain_slice2...     28   Brain  \n",
       "1  ../../Data/1/Segmentation/t0/1_t0_Brain_slice2...     29   Brain  \n",
       "2  ../../Data/1/Segmentation/t0/1_t0_Brain_slice3...     30   Brain  \n",
       "3  ../../Data/1/Segmentation/t0/1_t0_Brain_slice3...     31   Brain  \n",
       "4  ../../Data/1/Segmentation/t0/1_t0_Brain_slice3...     32   Brain  "
      ]
     },
     "execution_count": 6,
     "metadata": {},
     "output_type": "execute_result"
    }
   ],
   "source": [
    "df = pd.read_csv(\"../../Data/data_Brain.csv\", delimiter=';')\n",
    "df.head()"
   ]
  },
  {
   "cell_type": "code",
   "execution_count": 7,
   "metadata": {},
   "outputs": [
    {
     "data": {
      "text/html": [
       "<div>\n",
       "<style scoped>\n",
       "    .dataframe tbody tr th:only-of-type {\n",
       "        vertical-align: middle;\n",
       "    }\n",
       "\n",
       "    .dataframe tbody tr th {\n",
       "        vertical-align: top;\n",
       "    }\n",
       "\n",
       "    .dataframe thead th {\n",
       "        text-align: right;\n",
       "    }\n",
       "</style>\n",
       "<table border=\"1\" class=\"dataframe\">\n",
       "  <thead>\n",
       "    <tr style=\"text-align: right;\">\n",
       "      <th></th>\n",
       "      <th>PatientID</th>\n",
       "      <th>Img</th>\n",
       "      <th>Init</th>\n",
       "      <th>Segm</th>\n",
       "      <th>Slice</th>\n",
       "      <th>RoiName</th>\n",
       "    </tr>\n",
       "  </thead>\n",
       "  <tbody>\n",
       "    <tr>\n",
       "      <th>124</th>\n",
       "      <td>1</td>\n",
       "      <td>../../Data/1/Segmentation/png/1_slice152.png</td>\n",
       "      <td>../../Data/1/Segmentation/init/1_init_Brain_sl...</td>\n",
       "      <td>../../Data/1/Segmentation/t0/1_t0_Brain_slice1...</td>\n",
       "      <td>152</td>\n",
       "      <td>Brain</td>\n",
       "    </tr>\n",
       "    <tr>\n",
       "      <th>125</th>\n",
       "      <td>1</td>\n",
       "      <td>../../Data/1/Segmentation/png/1_slice153.png</td>\n",
       "      <td>../../Data/1/Segmentation/init/1_init_Brain_sl...</td>\n",
       "      <td>../../Data/1/Segmentation/t0/1_t0_Brain_slice1...</td>\n",
       "      <td>153</td>\n",
       "      <td>Brain</td>\n",
       "    </tr>\n",
       "    <tr>\n",
       "      <th>126</th>\n",
       "      <td>1</td>\n",
       "      <td>../../Data/1/Segmentation/png/1_slice154.png</td>\n",
       "      <td>../../Data/1/Segmentation/init/1_init_Brain_sl...</td>\n",
       "      <td>../../Data/1/Segmentation/t0/1_t0_Brain_slice1...</td>\n",
       "      <td>154</td>\n",
       "      <td>Brain</td>\n",
       "    </tr>\n",
       "    <tr>\n",
       "      <th>127</th>\n",
       "      <td>1</td>\n",
       "      <td>../../Data/1/Segmentation/png/1_slice155.png</td>\n",
       "      <td>../../Data/1/Segmentation/init/1_init_Brain_sl...</td>\n",
       "      <td>../../Data/1/Segmentation/t0/1_t0_Brain_slice1...</td>\n",
       "      <td>155</td>\n",
       "      <td>Brain</td>\n",
       "    </tr>\n",
       "    <tr>\n",
       "      <th>128</th>\n",
       "      <td>1</td>\n",
       "      <td>../../Data/1/Segmentation/png/1_slice156.png</td>\n",
       "      <td>../../Data/1/Segmentation/init/1_init_Brain_sl...</td>\n",
       "      <td>../../Data/1/Segmentation/t0/1_t0_Brain_slice1...</td>\n",
       "      <td>156</td>\n",
       "      <td>Brain</td>\n",
       "    </tr>\n",
       "  </tbody>\n",
       "</table>\n",
       "</div>"
      ],
      "text/plain": [
       "     PatientID                                           Img  \\\n",
       "124          1  ../../Data/1/Segmentation/png/1_slice152.png   \n",
       "125          1  ../../Data/1/Segmentation/png/1_slice153.png   \n",
       "126          1  ../../Data/1/Segmentation/png/1_slice154.png   \n",
       "127          1  ../../Data/1/Segmentation/png/1_slice155.png   \n",
       "128          1  ../../Data/1/Segmentation/png/1_slice156.png   \n",
       "\n",
       "                                                  Init  \\\n",
       "124  ../../Data/1/Segmentation/init/1_init_Brain_sl...   \n",
       "125  ../../Data/1/Segmentation/init/1_init_Brain_sl...   \n",
       "126  ../../Data/1/Segmentation/init/1_init_Brain_sl...   \n",
       "127  ../../Data/1/Segmentation/init/1_init_Brain_sl...   \n",
       "128  ../../Data/1/Segmentation/init/1_init_Brain_sl...   \n",
       "\n",
       "                                                  Segm  Slice RoiName  \n",
       "124  ../../Data/1/Segmentation/t0/1_t0_Brain_slice1...    152   Brain  \n",
       "125  ../../Data/1/Segmentation/t0/1_t0_Brain_slice1...    153   Brain  \n",
       "126  ../../Data/1/Segmentation/t0/1_t0_Brain_slice1...    154   Brain  \n",
       "127  ../../Data/1/Segmentation/t0/1_t0_Brain_slice1...    155   Brain  \n",
       "128  ../../Data/1/Segmentation/t0/1_t0_Brain_slice1...    156   Brain  "
      ]
     },
     "execution_count": 7,
     "metadata": {},
     "output_type": "execute_result"
    }
   ],
   "source": [
    "df2 = df[df['PatientID']==1][:-1]\n",
    "df2.tail()"
   ]
  },
  {
   "cell_type": "code",
   "execution_count": 8,
   "metadata": {},
   "outputs": [],
   "source": [
    "list_of_segm_mask = [cv2.imread(x, cv2.IMREAD_GRAYSCALE) for x in df2['Init']]\n",
    "list_of_img = [cv2.imread(x, cv2.IMREAD_GRAYSCALE) for x in df2['Img']]"
   ]
  },
  {
   "cell_type": "code",
   "execution_count": 9,
   "metadata": {},
   "outputs": [
    {
     "data": {
      "text/plain": [
       "<matplotlib.image.AxesImage at 0xfc01362908>"
      ]
     },
     "execution_count": 9,
     "metadata": {},
     "output_type": "execute_result"
    },
    {
     "data": {
      "image/png": "[encoded data removed]",
      "text/plain": [
       "<Figure size 432x288 with 1 Axes>"
      ]
     },
     "metadata": {
      "needs_background": "light"
     },
     "output_type": "display_data"
    }
   ],
   "source": [
    "plt.imshow(list_of_img[2])"
   ]
  },
  {
   "cell_type": "code",
   "execution_count": 10,
   "metadata": {},
   "outputs": [
    {
     "data": {
      "image/png": "[encoded data removed]",
      "text/plain": [
       "<Figure size 432x288 with 1 Axes>"
      ]
     },
     "metadata": {
      "needs_background": "light"
     },
     "output_type": "display_data"
    },
    {
     "data": {
      "text/plain": [
       "<matplotlib.image.AxesImage at 0xfc013de2e8>"
      ]
     },
     "execution_count": 10,
     "metadata": {},
     "output_type": "execute_result"
    },
    {
     "data": {
      "image/png": "[encoded data removed]",
      "text/plain": [
       "<Figure size 432x288 with 1 Axes>"
      ]
     },
     "metadata": {
      "needs_background": "light"
     },
     "output_type": "display_data"
    }
   ],
   "source": [
    "idx = 2\n",
    "segm = list_of_segm_mask[idx]\n",
    "img = list_of_img[idx].copy()\n",
    "plt.imshow(img, cmap='gray')\n",
    "plt.show()\n",
    "img[segm==0] = 0\n",
    "plt.imshow(img, cmap='gray')"
   ]
  },
  {
   "cell_type": "code",
   "execution_count": 11,
   "metadata": {},
   "outputs": [
    {
     "data": {
      "text/plain": [
       "array([  0, 110, 111, 112, 113, 114, 115, 116], dtype=uint8)"
      ]
     },
     "execution_count": 11,
     "metadata": {},
     "output_type": "execute_result"
    }
   ],
   "source": [
    "np.unique(img)"
   ]
  },
  {
   "cell_type": "code",
   "execution_count": 12,
   "metadata": {},
   "outputs": [],
   "source": [
    "mask = img.copy()"
   ]
  },
  {
   "cell_type": "markdown",
   "metadata": {},
   "source": [
    "## Geometric features - 3 Features\n",
    "measure of size of the segmentation masks"
   ]
  },
  {
   "cell_type": "markdown",
   "metadata": {},
   "source": [
    "#### Volume\n",
    "number of voxels in mask"
   ]
  },
  {
   "cell_type": "code",
   "execution_count": 13,
   "metadata": {},
   "outputs": [
    {
     "data": {
      "text/plain": [
       "25"
      ]
     },
     "execution_count": 13,
     "metadata": {},
     "output_type": "execute_result"
    }
   ],
   "source": [
    "volume = np.sum(test_segm==1)\n",
    "volume"
   ]
  },
  {
   "cell_type": "code",
   "execution_count": 14,
   "metadata": {},
   "outputs": [
    {
     "data": {
      "text/plain": [
       "<matplotlib.image.AxesImage at 0xfc011c2908>"
      ]
     },
     "execution_count": 14,
     "metadata": {},
     "output_type": "execute_result"
    },
    {
     "data": {
      "image/png": "[encoded data removed]",
      "text/plain": [
       "<Figure size 432x288 with 1 Axes>"
      ]
     },
     "metadata": {
      "needs_background": "light"
     },
     "output_type": "display_data"
    }
   ],
   "source": [
    "plt.imshow(test_segm)"
   ]
  },
  {
   "cell_type": "markdown",
   "metadata": {},
   "source": [
    "#### Surface Area \n",
    "number of edges on boundary of segmentation (assuming a graph structure with a 6-connected lattice) <br>\n",
    "~ number of pixels at contour"
   ]
  },
  {
   "cell_type": "code",
   "execution_count": 15,
   "metadata": {},
   "outputs": [
    {
     "name": "stdout",
     "output_type": "stream",
     "text": [
      "16\n"
     ]
    },
    {
     "data": {
      "text/plain": [
       "<matplotlib.image.AxesImage at 0xfc0142c978>"
      ]
     },
     "execution_count": 15,
     "metadata": {},
     "output_type": "execute_result"
    },
    {
     "data": {
      "image/png": "[encoded data removed]",
      "text/plain": [
       "<Figure size 432x288 with 1 Axes>"
      ]
     },
     "metadata": {
      "needs_background": "light"
     },
     "output_type": "display_data"
    }
   ],
   "source": [
    "im3, contours, hierarchy = cv2.findContours(test_segm.astype(np.uint8), cv2.RETR_TREE, cv2.CHAIN_APPROX_NONE)\n",
    "processed = cv2.drawContours(np.zeros_like(im3), contours, -1, 1, 1)\n",
    "print(np.sum(processed==1))\n",
    "plt.imshow(processed)"
   ]
  },
  {
   "cell_type": "markdown",
   "metadata": {},
   "source": [
    "#### Total Curvature\n",
    "sum of mean curvature on surface <br>\n",
    "mean curvature "
   ]
  },
  {
   "cell_type": "code",
   "execution_count": 16,
   "metadata": {},
   "outputs": [
    {
     "data": {
      "text/plain": [
       "<matplotlib.image.AxesImage at 0xfc05495ba8>"
      ]
     },
     "execution_count": 16,
     "metadata": {},
     "output_type": "execute_result"
    },
    {
     "data": {
      "image/png": "[encoded data removed]",
      "text/plain": [
       "<Figure size 432x288 with 1 Axes>"
      ]
     },
     "metadata": {
      "needs_background": "light"
     },
     "output_type": "display_data"
    }
   ],
   "source": [
    "test2 = np.zeros((100,100))\n",
    "cv2.circle(test2, (50,50), 36, (1,0,0), -1)\n",
    "plt.imshow(test2)"
   ]
  },
  {
   "cell_type": "code",
   "execution_count": 17,
   "metadata": {},
   "outputs": [
    {
     "data": {
      "text/plain": [
       "<matplotlib.image.AxesImage at 0xfc054f46d8>"
      ]
     },
     "execution_count": 17,
     "metadata": {},
     "output_type": "execute_result"
    },
    {
     "data": {
      "image/png": "[encoded data removed]",
      "text/plain": [
       "<Figure size 432x288 with 1 Axes>"
      ]
     },
     "metadata": {
      "needs_background": "light"
     },
     "output_type": "display_data"
    }
   ],
   "source": [
    "im3, contours, hierarchy = cv2.findContours(test2.astype(np.uint8),cv2.RETR_TREE, cv2.CHAIN_APPROX_NONE)\n",
    "processed = cv2.drawContours(np.zeros_like(im3), contours, -1, 255, 1)\n",
    "plt.imshow(processed)"
   ]
  },
  {
   "cell_type": "code",
   "execution_count": 18,
   "metadata": {},
   "outputs": [
    {
     "data": {
      "text/plain": [
       "<matplotlib.image.AxesImage at 0xfc05557080>"
      ]
     },
     "execution_count": 18,
     "metadata": {},
     "output_type": "execute_result"
    },
    {
     "data": {
      "image/png": "[encoded data removed]",
      "text/plain": [
       "<Figure size 432x288 with 1 Axes>"
      ]
     },
     "metadata": {
      "needs_background": "light"
     },
     "output_type": "display_data"
    }
   ],
   "source": [
    "im3, contours, hierarchy = cv2.findContours(test.astype(np.uint8),cv2.RETR_TREE, cv2.CHAIN_APPROX_NONE)\n",
    "processed = cv2.drawContours(np.zeros_like(im3), contours, -1, 255, 1)\n",
    "plt.imshow(processed)"
   ]
  },
  {
   "cell_type": "code",
   "execution_count": 19,
   "metadata": {},
   "outputs": [],
   "source": [
    "points = []\n",
    "for i in range(contours[0].shape[1]):\n",
    "    points.append(contours[0][:,i,:])"
   ]
  },
  {
   "cell_type": "code",
   "execution_count": 20,
   "metadata": {},
   "outputs": [
    {
     "data": {
      "text/plain": [
       "5.742640687119285"
      ]
     },
     "execution_count": 20,
     "metadata": {},
     "output_type": "execute_result"
    }
   ],
   "source": [
    "#first derivatives \n",
    "dx= np.gradient(points[0][:,0])\n",
    "dy = np.gradient(points[0][:,1])\n",
    "\n",
    "#second derivatives \n",
    "d2x = np.gradient(dx)\n",
    "d2y = np.gradient(dy)\n",
    "\n",
    "mean_curvature = np.abs(d2x * dy - dx * d2y) / (dx * dx + dy * dy)**1.5\n",
    "curvature = np.sum(mean_curvature)\n",
    "curvature"
   ]
  },
  {
   "cell_type": "code",
   "execution_count": 21,
   "metadata": {},
   "outputs": [
    {
     "data": {
      "text/plain": [
       "array([0.        , 0.        , 0.        , 0.        , 0.        ,\n",
       "       0.        , 0.25      , 1.41421356, 0.25      , 0.        ,\n",
       "       0.        , 0.        , 0.        , 0.25      , 1.41421356,\n",
       "       0.25      , 0.        , 0.        , 0.        , 0.        ,\n",
       "       0.25      , 1.41421356, 0.25      , 0.        , 0.        ,\n",
       "       0.        , 0.        , 0.        ])"
      ]
     },
     "execution_count": 21,
     "metadata": {},
     "output_type": "execute_result"
    }
   ],
   "source": [
    "mean_curvature"
   ]
  },
  {
   "cell_type": "code",
   "execution_count": 22,
   "metadata": {},
   "outputs": [
    {
     "name": "stderr",
     "output_type": "stream",
     "text": [
      "C:\\Users\\Caroline\\Anaconda3\\lib\\site-packages\\ipykernel_launcher.py:4: RuntimeWarning: invalid value encountered in true_divide\n",
      "  after removing the cwd from sys.path.\n"
     ]
    },
    {
     "data": {
      "text/plain": [
       "<matplotlib.image.AxesImage at 0xfc055ac828>"
      ]
     },
     "execution_count": 22,
     "metadata": {},
     "output_type": "execute_result"
    },
    {
     "data": {
      "image/png": "[encoded data removed]",
      "text/plain": [
       "<Figure size 432x288 with 1 Axes>"
      ]
     },
     "metadata": {
      "needs_background": "light"
     },
     "output_type": "display_data"
    }
   ],
   "source": [
    "dx, dy = np.gradient(processed)\n",
    "d2x, dxy = np.gradient(dx)\n",
    "dyx, d2y = np.gradient(dy)\n",
    "mean_curvature = np.abs(d2x * dy - dx * d2y) / ((dx * dx + dy * dy)**1.5)\n",
    "mean_curvature[np.isnan(mean_curvature)] = 0\n",
    "\n",
    "plt.imshow(mean_curvature)"
   ]
  },
  {
   "cell_type": "code",
   "execution_count": 23,
   "metadata": {},
   "outputs": [
    {
     "data": {
      "text/plain": [
       "array([[0.        , 0.        , 0.        , 0.        , 0.        ,\n",
       "        0.        , 0.00098039, 0.        , 0.        , 0.        ],\n",
       "       [0.        , 0.        , 0.00392157, 0.        , 0.        ,\n",
       "        0.00392157, 0.00277297, 0.        , 0.        , 0.        ],\n",
       "       [0.        , 0.00392157, 0.        , 0.        , 0.        ,\n",
       "        0.        , 0.00392157, 0.        , 0.        , 0.        ],\n",
       "       [0.        , 0.        , 0.        , 0.        , 0.        ,\n",
       "        0.        , 0.        , 0.        , 0.        , 0.        ],\n",
       "       [0.        , 0.        , 0.        , 0.        , 0.        ,\n",
       "        0.        , 0.        , 0.        , 0.        , 0.        ],\n",
       "       [0.        , 0.00392157, 0.        , 0.        , 0.        ,\n",
       "        0.        , 0.00392157, 0.        , 0.        , 0.        ],\n",
       "       [0.00098039, 0.00277297, 0.00392157, 0.        , 0.        ,\n",
       "        0.00392157, 0.        , 0.        , 0.        , 0.        ],\n",
       "       [0.        , 0.        , 0.        , 0.        , 0.        ,\n",
       "        0.        , 0.        , 0.        , 0.        , 0.        ],\n",
       "       [0.        , 0.        , 0.        , 0.        , 0.        ,\n",
       "        0.        , 0.        , 0.        , 0.        , 0.        ],\n",
       "       [0.        , 0.        , 0.        , 0.        , 0.        ,\n",
       "        0.        , 0.        , 0.        , 0.        , 0.        ]])"
      ]
     },
     "execution_count": 23,
     "metadata": {},
     "output_type": "execute_result"
    }
   ],
   "source": [
    "mean_curvature"
   ]
  },
  {
   "cell_type": "code",
   "execution_count": 24,
   "metadata": {},
   "outputs": [
    {
     "data": {
      "text/plain": [
       "0.03887926887205135"
      ]
     },
     "execution_count": 24,
     "metadata": {},
     "output_type": "execute_result"
    }
   ],
   "source": [
    "np.sum(mean_curvature)"
   ]
  },
  {
   "cell_type": "code",
   "execution_count": null,
   "metadata": {},
   "outputs": [],
   "source": []
  },
  {
   "cell_type": "markdown",
   "metadata": {},
   "source": [
    "## Weighted geometric features\n",
    "locally emphasized when intensity values are similar to each other, suppressed when local intensity values are dissimilar to each other"
   ]
  },
  {
   "cell_type": "code",
   "execution_count": null,
   "metadata": {},
   "outputs": [],
   "source": [
    "from numpy.linalg import norm"
   ]
  },
  {
   "cell_type": "code",
   "execution_count": null,
   "metadata": {},
   "outputs": [],
   "source": [
    "def cauchy_function(i1, i2, M, beta=10^4):\n",
    "    return 1/(1+beta*((i1-i2)/M)**2)\n",
    "def cauchy_function_plus(i1, i2, M, beta=10^4):\n",
    "    if i1 > i2:\n",
    "        return cauchy_function(i1, i2, M, beta)\n",
    "    else:\n",
    "        return 1\n",
    "def cauchy_function_minus(i1, i2, M, beta=10^4):\n",
    "    if i1 > i2:\n",
    "        return 1\n",
    "    else:\n",
    "        return cauchy_function(i1, i2, M, beta)"
   ]
  },
  {
   "cell_type": "markdown",
   "metadata": {},
   "source": [
    "### Test data"
   ]
  },
  {
   "cell_type": "code",
   "execution_count": null,
   "metadata": {},
   "outputs": [],
   "source": [
    "plt.imshow(test), test"
   ]
  },
  {
   "cell_type": "code",
   "execution_count": null,
   "metadata": {},
   "outputs": [],
   "source": [
    "gradients = np.abs(np.gradient(test)[0])+np.abs(np.gradient(test)[1])\n",
    "gradients"
   ]
  },
  {
   "cell_type": "code",
   "execution_count": null,
   "metadata": {},
   "outputs": [],
   "source": [
    "plt.imshow(gradients)"
   ]
  },
  {
   "cell_type": "code",
   "execution_count": null,
   "metadata": {},
   "outputs": [],
   "source": [
    "M = max((np.abs(np.gradient(test)[0]) + np.abs(np.gradient(test)[1]))[test_segm==1])\n",
    "M"
   ]
  },
  {
   "cell_type": "code",
   "execution_count": null,
   "metadata": {},
   "outputs": [],
   "source": [
    "3/M, 2/M, 1/M"
   ]
  },
  {
   "cell_type": "code",
   "execution_count": null,
   "metadata": {},
   "outputs": [],
   "source": [
    "cauchy_function(0,1,M), cauchy_function(0,2,M), cauchy_function(0,3,M)"
   ]
  },
  {
   "cell_type": "code",
   "execution_count": null,
   "metadata": {},
   "outputs": [],
   "source": [
    "cauchy_function_plus(0,2,M), cauchy_function_plus(2,0,M), cauchy_function_minus(0,2,M), cauchy_function_minus(2,0,M)"
   ]
  },
  {
   "cell_type": "code",
   "execution_count": null,
   "metadata": {},
   "outputs": [],
   "source": []
  },
  {
   "cell_type": "code",
   "execution_count": null,
   "metadata": {},
   "outputs": [],
   "source": [
    "def weight_edges_full_neighborhood(batch, M, i=1, j=1):\n",
    "    s = 0\n",
    "    counter = 0\n",
    "    v = batch[i,j]\n",
    "    for r in range(0,batch.shape[0]):\n",
    "        for c in range(0,batch.shape[1]):\n",
    "            if r == i and c == j:\n",
    "                continue \n",
    "            else:\n",
    "                s = s + cauchy_function(v,batch[r,c],M)\n",
    "                counter += 1\n",
    "    #print(counter)\n",
    "    return s/counter"
   ]
  },
  {
   "cell_type": "code",
   "execution_count": null,
   "metadata": {},
   "outputs": [],
   "source": [
    "def weight_edges_4neighborhood(batch, M, i=1, j=1):\n",
    "    s = 0\n",
    "    v = batch[i,j]\n",
    "    counter = 0\n",
    "    for r in range(0,batch.shape[0]):\n",
    "        for c in range(0,batch.shape[1]):\n",
    "            if r == i and c == j:\n",
    "                continue \n",
    "            elif r == i or c == j:\n",
    "                s = s + cauchy_function(v,batch[r,c],M)\n",
    "                counter += 1\n",
    "    #print(counter)\n",
    "    return s/counter"
   ]
  },
  {
   "cell_type": "code",
   "execution_count": null,
   "metadata": {},
   "outputs": [],
   "source": [
    "def weight_edges_4neighborhood_boundary(batch, batch_segm, M, i=1, j=1):\n",
    "    s = 0\n",
    "    v = batch[i,j]\n",
    "    counter = 0\n",
    "    for r in range(0,batch.shape[0]):\n",
    "        for c in range(0,batch.shape[1]):\n",
    "            if r == i and c == j:\n",
    "                continue \n",
    "            elif (r == i or c == j) and ~batch_segm[r,c]:\n",
    "                s = s + cauchy_function(v,batch[r,c],M)\n",
    "                counter += 1\n",
    "    if counter == 0:\n",
    "        return counter\n",
    "    else:\n",
    "        return s/counter"
   ]
  },
  {
   "cell_type": "code",
   "execution_count": null,
   "metadata": {},
   "outputs": [],
   "source": [
    "weight_edges_full_neighborhood(test[:3,:3],M,i=1,j=1)"
   ]
  },
  {
   "cell_type": "code",
   "execution_count": null,
   "metadata": {},
   "outputs": [],
   "source": [
    "weight_edges_4neighborhood(test[:3,:3],M,i=1,j=1)"
   ]
  },
  {
   "cell_type": "code",
   "execution_count": null,
   "metadata": {},
   "outputs": [],
   "source": [
    "(cauchy_function(3,3,M)*3+cauchy_function(3,2,M)*5)/8, (cauchy_function(3,3,M)*2+cauchy_function(3,2,M)*2)/4"
   ]
  },
  {
   "cell_type": "code",
   "execution_count": null,
   "metadata": {},
   "outputs": [],
   "source": [
    "blub = np.zeros((3,3))\n",
    "blub[:2,:2] = 1\n",
    "blub[:2,:2] = 1\n",
    "plt.imshow(blub)"
   ]
  },
  {
   "cell_type": "code",
   "execution_count": null,
   "metadata": {},
   "outputs": [],
   "source": [
    "test[:3,:3], blub"
   ]
  },
  {
   "cell_type": "code",
   "execution_count": null,
   "metadata": {},
   "outputs": [],
   "source": [
    "print(weight_edges_4neighborhood_boundary(test[:3,:3],blub==1,M,i=1,j=1))\n",
    "print(weight_edges_4neighborhood_boundary(test[:2,:3],blub==1,M,i=0,j=1))\n",
    "print(weight_edges_4neighborhood_boundary(test[:2,:2],blub==1,M,i=0,j=0))"
   ]
  },
  {
   "cell_type": "code",
   "execution_count": null,
   "metadata": {},
   "outputs": [],
   "source": [
    "(cauchy_function(3,2,M)*2)/2, (cauchy_function(3,2,M))"
   ]
  },
  {
   "cell_type": "code",
   "execution_count": null,
   "metadata": {},
   "outputs": [],
   "source": []
  },
  {
   "cell_type": "markdown",
   "metadata": {},
   "source": [
    "#### weighted volume\n",
    "sum over the weights of all voxels"
   ]
  },
  {
   "cell_type": "code",
   "execution_count": null,
   "metadata": {},
   "outputs": [],
   "source": [
    "def _calc_weighted_volume(batch, batch_segm, M):\n",
    "    weighted_volume = 0\n",
    "    for i in range(batch.shape[0]):\n",
    "        for j in range(batch.shape[1]):\n",
    "            if batch_segm[i,j]:  # voxel inside segmentation\n",
    "                # 3x3 or 2x2 or 2x3 or 3x2 part of batch\n",
    "                idx1 = max(0,i-1)\n",
    "                idx2 = min(batch.shape[0], i+2)\n",
    "                idx3 = max(0,j-1)\n",
    "                idx4 = min(batch.shape[1], j+2)                \n",
    "                if i==batch.shape[0]:\n",
    "                    idx1=i-2\n",
    "                if j==batch.shape[1]:\n",
    "                    idx3=i-2                    \n",
    "                b = batch[idx1:idx2, idx3:idx4]\n",
    "                # sum up edges weights\n",
    "                if (i==0 and j==batch.shape[1]) or (i==batch.shape[0] and j==0) or (i==0 and j==0) or (i==batch.shape[0] and j==batch.shape[1]): # corner\n",
    "                    weighted_volume += weight_edges_4neighborhood(b, M, min(i,1), min(j,1))\n",
    "                elif i == 0 or j == 0 or i == batch.shape[0] or j == batch.shape[1]: # border\n",
    "                    weighted_volume += weight_edges_4neighborhood(b, M, min(i,1), min(j,1))\n",
    "                else:  # interior\n",
    "                    weighted_volume += weight_edges_4neighborhood(b, M, 1, 1)\n",
    "    return weighted_volume"
   ]
  },
  {
   "cell_type": "code",
   "execution_count": null,
   "metadata": {},
   "outputs": [],
   "source": [
    "weighted_volume = _calc_weighted_volume(test, test_segm==1, M)\n",
    "weighted_volume"
   ]
  },
  {
   "cell_type": "markdown",
   "metadata": {},
   "source": [
    "##### testing"
   ]
  },
  {
   "cell_type": "code",
   "execution_count": null,
   "metadata": {},
   "outputs": [],
   "source": [
    "test_segm=np.zeros_like(test_segm)\n",
    "test_segm[:3,:3] = 1\n",
    "plt.imshow(test_segm[:4,:4])"
   ]
  },
  {
   "cell_type": "code",
   "execution_count": null,
   "metadata": {},
   "outputs": [],
   "source": [
    "_calc_weighted_volume(test[:4,:4], test_segm[:4,:4], M)"
   ]
  },
  {
   "cell_type": "code",
   "execution_count": null,
   "metadata": {},
   "outputs": [],
   "source": [
    "test[:4,:4]"
   ]
  },
  {
   "cell_type": "code",
   "execution_count": null,
   "metadata": {},
   "outputs": [],
   "source": [
    "# control\n",
    "s = 0\n",
    "s+=cauchy_function(3,3,M)*2/2 #00\n",
    "print(s)\n",
    "s+=(cauchy_function(3,3,M)*2+cauchy_function(2,3,M))/3 # 01\n",
    "print(s)\n",
    "s+=(cauchy_function(2,3,M)+cauchy_function(2,2,M)*2)/3 # 02\n",
    "print(s)\n",
    "s+=(cauchy_function(3,3,M)*2+cauchy_function(3,2,M))/3 # 10\n",
    "print(s)\n",
    "s+=(cauchy_function(3,3,M)*2+cauchy_function(3,2,M)*2)/4 # 11\n",
    "print(s)\n",
    "s+=(cauchy_function(2,2,M)*3+cauchy_function(3,2,M))/4 # 12\n",
    "print(s)\n",
    "s+=(cauchy_function(3,2,M)+cauchy_function(2,2,M)+cauchy_function(2,5,M))/3 # 20 \n",
    "print(s)\n",
    "s+=(cauchy_function(2,2,M)*2+cauchy_function(3,2,M)+cauchy_function(2,5,M))/4 # 21\n",
    "print(s)\n",
    "s+=(cauchy_function(2,2,M)*4)/4 # 22\n",
    "s"
   ]
  },
  {
   "cell_type": "code",
   "execution_count": null,
   "metadata": {},
   "outputs": [],
   "source": [
    "test_segm=np.zeros_like(test_segm)\n",
    "test_segm[:5,:5] = 1"
   ]
  },
  {
   "cell_type": "markdown",
   "metadata": {},
   "source": [
    "#### weighted cut\n",
    "sum over all edge weights along boundary of segmentation"
   ]
  },
  {
   "cell_type": "raw",
   "metadata": {},
   "source": [
    "# full neighborhood\n",
    "def _calc_weighted_cut(batch, batch_boundary, batch_segm, M):\n",
    "    weighted_cut = 0\n",
    "    for i in range(batch.shape[0]):\n",
    "        for j in range(batch.shape[1]):\n",
    "            if batch_segm[i,j]==1:  # voxel inside segmentation & on boundary\n",
    "                idx1 = max(0,i-1)\n",
    "                idx2 = min(batch.shape[0], i+2)\n",
    "                idx3 = max(0,j-1)\n",
    "                idx4 = min(batch.shape[1], j+2)                \n",
    "                if i==batch.shape[0]:\n",
    "                    idx1=i-2\n",
    "                if j==batch.shape[1]:\n",
    "                    idx3=i-2            \n",
    "                for r in range(idx1,idx2):\n",
    "                    for c in range(idx3,idx4):\n",
    "                        if r != i and j != c and batch_segm[r,c]==0 and batch_boundary[r,c]==1:  # not vertex and not inside segmentation\n",
    "                            print(i, j, r, c)\n",
    "                            weighted_cut += cauchy_function(batch[i,j],batch[r,c],M)\n",
    "                            #print(weighted_cut)\n",
    "    return weighted_cut"
   ]
  },
  {
   "cell_type": "code",
   "execution_count": null,
   "metadata": {},
   "outputs": [],
   "source": [
    "# 4-neighborhood\n",
    "def _calc_weighted_cut(batch, batch_segm, M):\n",
    "    weighted_cut = 0\n",
    "    for i in range(batch.shape[0]):\n",
    "        for j in range(batch.shape[1]):\n",
    "            if batch_segm[i,j]==1:  # voxel inside segmentation & on boundary\n",
    "                idx1 = max(0,i-1)\n",
    "                idx2 = min(batch.shape[0], i+2)\n",
    "                idx3 = max(0,j-1)\n",
    "                idx4 = min(batch.shape[1], j+2)                \n",
    "                if i==batch.shape[0]:\n",
    "                    idx1=i-2\n",
    "                if j==batch.shape[1]:\n",
    "                    idx3=i-2            \n",
    "                for r in range(idx1,idx2):\n",
    "                    for c in range(idx3,idx4):\n",
    "                        if r != i and j != c:\n",
    "                            continue\n",
    "                        elif (r==i or j==c) and batch_segm[r,c]==0:  # not vertex and not inside segmentation\n",
    "                            weighted_cut += cauchy_function(batch[i,j],batch[r,c],M)\n",
    "                            #print(weighted_cut)\n",
    "    return weighted_cut"
   ]
  },
  {
   "cell_type": "code",
   "execution_count": null,
   "metadata": {},
   "outputs": [],
   "source": [
    "weighted_cut = _calc_weighted_cut(test, test_segm==1, M)\n",
    "weighted_cut"
   ]
  },
  {
   "cell_type": "markdown",
   "metadata": {},
   "source": [
    "##### testing"
   ]
  },
  {
   "cell_type": "code",
   "execution_count": null,
   "metadata": {},
   "outputs": [],
   "source": [
    "test_segm=np.zeros_like(test_segm)\n",
    "test_segm[:3,:3] = 1\n",
    "plt.imshow(test_segm[:4,:4])\n",
    "plt.show()"
   ]
  },
  {
   "cell_type": "code",
   "execution_count": null,
   "metadata": {},
   "outputs": [],
   "source": [
    "im3, contours, hierarchy = cv2.findContours(test[:4,:4].astype(np.uint8),cv2.RETR_TREE, cv2.CHAIN_APPROX_NONE)\n",
    "processed = cv2.drawContours(np.zeros_like(im3), contours, -1, 1, 1)\n",
    "plt.imshow(processed)"
   ]
  },
  {
   "cell_type": "code",
   "execution_count": null,
   "metadata": {},
   "outputs": [],
   "source": [
    "_calc_weighted_cut(test[:4,:4], test_segm[:4,:4]==1, M)"
   ]
  },
  {
   "cell_type": "code",
   "execution_count": null,
   "metadata": {},
   "outputs": [],
   "source": [
    "test[:4,:4], test_segm[:4,:4], processed"
   ]
  },
  {
   "cell_type": "code",
   "execution_count": null,
   "metadata": {},
   "outputs": [],
   "source": [
    "# control\n",
    "s=0\n",
    "s+=cauchy_function(2,2,M) # 0\n",
    "print(s)\n",
    "s+=cauchy_function(2,2,M) # 1\n",
    "print(s)\n",
    "s+=cauchy_function(2,5,M) # 20\n",
    "print(s)\n",
    "s+=cauchy_function(2,5,M) # 21\n",
    "print(s)\n",
    "s+=cauchy_function(2,2,M) # 22\n",
    "print(s)\n",
    "s+=cauchy_function(2,2,M) # 22\n",
    "s"
   ]
  },
  {
   "cell_type": "code",
   "execution_count": null,
   "metadata": {},
   "outputs": [],
   "source": [
    "test_segm=np.zeros_like(test_segm)\n",
    "test_segm[:5,:5] = 1"
   ]
  },
  {
   "cell_type": "markdown",
   "metadata": {},
   "source": [
    "#### weighted curvature\n",
    "sum of mean curvature weighted by local edge weight"
   ]
  },
  {
   "cell_type": "code",
   "execution_count": null,
   "metadata": {},
   "outputs": [],
   "source": [
    "im3, contours, hierarchy = cv2.findContours(test.astype(np.uint8),cv2.RETR_TREE, cv2.CHAIN_APPROX_NONE)\n",
    "processed = cv2.drawContours(np.zeros_like(im3), contours, -1, 255, 1)\n",
    "plt.imshow(processed)"
   ]
  },
  {
   "cell_type": "code",
   "execution_count": null,
   "metadata": {},
   "outputs": [],
   "source": [
    "dx, dy = np.gradient(processed)\n",
    "d2x, dxy = np.gradient(dx)\n",
    "dyx, d2y = np.gradient(dy)\n",
    "mean_curvature = np.abs(d2x * dy - dx * d2y) / ((dx * dx + dy * dy)**1.5)\n",
    "mean_curvature[np.isnan(mean_curvature)] = 0\n",
    "\n",
    "plt.imshow(mean_curvature)"
   ]
  },
  {
   "cell_type": "code",
   "execution_count": null,
   "metadata": {},
   "outputs": [],
   "source": [
    "def _calc_weighted_curvature(batch, batch_segm, M):\n",
    "    # mean curvature matrix\n",
    "    im3, contours, hierarchy = cv2.findContours(batch.astype(np.uint8),cv2.RETR_TREE, cv2.CHAIN_APPROX_NONE)\n",
    "    processed = cv2.drawContours(np.zeros_like(im3), contours, -1, 1, 1)\n",
    "    dx, dy = np.gradient(processed)\n",
    "    d2x, dxy = np.gradient(dx)\n",
    "    dyx, d2y = np.gradient(dy)\n",
    "    mean_curvature = np.abs(d2x * dy - dx * d2y) / ((dx * dx + dy * dy)**1.5)\n",
    "    mean_curvature[np.isnan(mean_curvature)] = 0\n",
    "    # sum and weighted but component\n",
    "    weighted_cut = 0\n",
    "    for i in range(batch.shape[0]):\n",
    "        for j in range(batch.shape[1]):\n",
    "            if batch_segm[i,j]==1:  # voxel inside segmentation & on boundary\n",
    "                idx1 = max(0,i-1)\n",
    "                idx2 = min(batch.shape[0], i+2)\n",
    "                idx3 = max(0,j-1)\n",
    "                idx4 = min(batch.shape[1], j+2)                \n",
    "                if i==batch.shape[0]:\n",
    "                    idx1=i-2\n",
    "                if j==batch.shape[1]:\n",
    "                    idx3=i-2            \n",
    "                for r in range(idx1,idx2):\n",
    "                    for c in range(idx3,idx4):\n",
    "                        if r != i and j != c and batch_segm[r,c]==0:  # not vertex and not inside segmentation\n",
    "                            weighted_cut += cauchy_function(batch[i,j],batch[r,c],M)*mean_curvature[r,c]\n",
    "                            #print(weighted_cut)\n",
    "    return weighted_cut"
   ]
  },
  {
   "cell_type": "code",
   "execution_count": null,
   "metadata": {},
   "outputs": [],
   "source": [
    "im3, contours, hierarchy = cv2.findContours(test.astype(np.uint8),cv2.RETR_TREE, cv2.CHAIN_APPROX_NONE)\n",
    "processed = cv2.drawContours(np.zeros_like(im3), contours, -1, 1, 1)\n",
    "dx, dy = np.gradient(processed)\n",
    "d2x, dxy = np.gradient(dx)\n",
    "dyx, d2y = np.gradient(dy)\n",
    "mean_curvature = np.abs(d2x * dy - dx * d2y) / ((dx * dx + dy * dy)**1.5)\n",
    "mean_curvature[np.isnan(mean_curvature)] = 0"
   ]
  },
  {
   "cell_type": "code",
   "execution_count": null,
   "metadata": {},
   "outputs": [],
   "source": [
    "plt.imshow(mean_curvature*test_segm==1)"
   ]
  },
  {
   "cell_type": "code",
   "execution_count": null,
   "metadata": {},
   "outputs": [],
   "source": [
    "np.where(mean_curvature*test_segm==1)"
   ]
  },
  {
   "cell_type": "code",
   "execution_count": null,
   "metadata": {},
   "outputs": [],
   "source": [
    "test_segm[2,1]"
   ]
  },
  {
   "cell_type": "code",
   "execution_count": null,
   "metadata": {},
   "outputs": [],
   "source": [
    "weighted_curvature = _calc_weighted_curvature(test, test_segm==1, M)"
   ]
  },
  {
   "cell_type": "code",
   "execution_count": null,
   "metadata": {},
   "outputs": [],
   "source": [
    "weighted_curvature"
   ]
  },
  {
   "cell_type": "code",
   "execution_count": null,
   "metadata": {},
   "outputs": [],
   "source": []
  },
  {
   "cell_type": "markdown",
   "metadata": {},
   "source": [
    "#### low-hi weighted cut and hi-low weighted cut\n",
    "along segmentation boundary edges"
   ]
  },
  {
   "cell_type": "code",
   "execution_count": null,
   "metadata": {},
   "outputs": [],
   "source": [
    "# 4-neighborhood\n",
    "def _calc_low_hi_weighted_cut(batch, batch_segm, M):\n",
    "    weighted_cut = 0\n",
    "    for i in range(batch.shape[0]):\n",
    "        for j in range(batch.shape[1]):\n",
    "            if batch_segm[i,j]==1:  # voxel inside segmentation & on boundary\n",
    "                idx1 = max(0,i-1)\n",
    "                idx2 = min(batch.shape[0], i+2)\n",
    "                idx3 = max(0,j-1)\n",
    "                idx4 = min(batch.shape[1], j+2)                \n",
    "                if i==batch.shape[0]:\n",
    "                    idx1=i-2\n",
    "                if j==batch.shape[1]:\n",
    "                    idx3=i-2            \n",
    "                for r in range(idx1,idx2):\n",
    "                    for c in range(idx3,idx4):\n",
    "                        if r != i and j != c:\n",
    "                            continue\n",
    "                        elif (r==i or j==c) and batch_segm[r,c]==0:  # not vertex and not inside segmentation\n",
    "                            weighted_cut += cauchy_function_plus(batch[i,j],batch[r,c],M)\n",
    "                            #print(weighted_cut)\n",
    "    return weighted_cut"
   ]
  },
  {
   "cell_type": "code",
   "execution_count": null,
   "metadata": {},
   "outputs": [],
   "source": [
    "# 4-neighborhood\n",
    "def _calc_hi_low_weighted_cut(batch, batch_segm, M):\n",
    "    weighted_cut = 0\n",
    "    for i in range(batch.shape[0]):\n",
    "        for j in range(batch.shape[1]):\n",
    "            if batch_segm[i,j]==1:  # voxel inside segmentation & on boundary\n",
    "                idx1 = max(0,i-1)\n",
    "                idx2 = min(batch.shape[0], i+2)\n",
    "                idx3 = max(0,j-1)\n",
    "                idx4 = min(batch.shape[1], j+2)                \n",
    "                if i==batch.shape[0]:\n",
    "                    idx1=i-2\n",
    "                if j==batch.shape[1]:\n",
    "                    idx3=i-2            \n",
    "                for r in range(idx1,idx2):\n",
    "                    for c in range(idx3,idx4):\n",
    "                        if r != i and j != c:\n",
    "                            continue\n",
    "                        elif (r==i or j==c) and batch_segm[r,c]==0:  # not vertex and not inside segmentation\n",
    "                            weighted_cut += cauchy_function_minus(batch[i,j],batch[r,c],M)\n",
    "                            #print(weighted_cut)\n",
    "    return weighted_cut"
   ]
  },
  {
   "cell_type": "code",
   "execution_count": null,
   "metadata": {},
   "outputs": [],
   "source": [
    "_calc_low_hi_weighted_cut(test, test_segm==1, M), _calc_hi_low_weighted_cut(test, test_segm==1, M)"
   ]
  },
  {
   "cell_type": "markdown",
   "metadata": {},
   "source": [
    "#### testing"
   ]
  },
  {
   "cell_type": "code",
   "execution_count": null,
   "metadata": {},
   "outputs": [],
   "source": [
    "test_segm=np.zeros_like(test_segm)\n",
    "test_segm[:3,:3] = 1\n",
    "plt.imshow(test_segm[:4,:4])\n",
    "plt.show()"
   ]
  },
  {
   "cell_type": "code",
   "execution_count": null,
   "metadata": {},
   "outputs": [],
   "source": [
    "test[:4,:4], test_segm[:4,:4]"
   ]
  },
  {
   "cell_type": "code",
   "execution_count": null,
   "metadata": {},
   "outputs": [],
   "source": [
    "_calc_low_hi_weighted_cut(test[:4,:4], test_segm[:4,:4]==1, M), _calc_hi_low_weighted_cut(test[:4,:4], test_segm[:4,:4]==1, M)"
   ]
  },
  {
   "cell_type": "code",
   "execution_count": null,
   "metadata": {},
   "outputs": [],
   "source": [
    "# control\n",
    "s=0\n",
    "s+=cauchy_function_plus(2,2,M) # 0\n",
    "print(s)\n",
    "s+=cauchy_function_plus(2,2,M) # 1\n",
    "print(s)\n",
    "s+=cauchy_function_plus(2,5,M) # 20\n",
    "print(s)\n",
    "s+=cauchy_function_plus(2,5,M) # 21\n",
    "print(s)\n",
    "s+=cauchy_function_plus(2,2,M) # 22\n",
    "print(s)\n",
    "s+=cauchy_function_plus(2,2,M) # 22\n",
    "s"
   ]
  },
  {
   "cell_type": "code",
   "execution_count": null,
   "metadata": {},
   "outputs": [],
   "source": [
    "# control\n",
    "s=0\n",
    "s+=cauchy_function_minus(2,2,M) # 0\n",
    "print(s)\n",
    "s+=cauchy_function_minus(2,2,M) # 1\n",
    "print(s)\n",
    "s+=cauchy_function_minus(2,5,M) # 20\n",
    "print(s)\n",
    "s+=cauchy_function_minus(2,5,M) # 21\n",
    "print(s)\n",
    "s+=cauchy_function_minus(2,2,M) # 22\n",
    "print(s)\n",
    "s+=cauchy_function_minus(2,2,M) # 22\n",
    "s"
   ]
  },
  {
   "cell_type": "code",
   "execution_count": null,
   "metadata": {},
   "outputs": [],
   "source": [
    "test_segm=np.zeros_like(test_segm)\n",
    "test_segm[:5,:5] = 1"
   ]
  },
  {
   "cell_type": "markdown",
   "metadata": {},
   "source": [
    "## Intensity - 7 Features"
   ]
  },
  {
   "cell_type": "markdown",
   "metadata": {},
   "source": [
    "### Test data"
   ]
  },
  {
   "cell_type": "markdown",
   "metadata": {},
   "source": [
    "#### mean, median, max, min, sum intensity"
   ]
  },
  {
   "cell_type": "code",
   "execution_count": null,
   "metadata": {},
   "outputs": [],
   "source": [
    "mean_intensity = np.mean(test[test_segm==1])\n",
    "median_intensity = np.median(test[test_segm==1])\n",
    "min_intensity = np.min(test[test_segm==1])\n",
    "max_intensity = np.max(test[test_segm==1])\n",
    "sum_intensity = np.sum(test[test_segm==1])\n",
    "mean_intensity, median_intensity, min_intensity, max_intensity, sum_intensity"
   ]
  },
  {
   "cell_type": "code",
   "execution_count": null,
   "metadata": {},
   "outputs": [],
   "source": [
    "test[test_segm==1]"
   ]
  },
  {
   "cell_type": "markdown",
   "metadata": {},
   "source": [
    "#### interquartile distance and standard deviation"
   ]
  },
  {
   "cell_type": "code",
   "execution_count": null,
   "metadata": {},
   "outputs": [],
   "source": [
    "iqr_distance = np.subtract(*np.percentile(test[test_segm==1], [75, 25]))/2\n",
    "std = np.std(test[test_segm==1])\n",
    "iqr_distance, std, np.percentile(test[test_segm==1], [75, 25])"
   ]
  },
  {
   "cell_type": "markdown",
   "metadata": {},
   "source": [
    "### Real data"
   ]
  },
  {
   "cell_type": "markdown",
   "metadata": {},
   "source": [
    "#### mean, median, max, min, sum intensity"
   ]
  },
  {
   "cell_type": "code",
   "execution_count": null,
   "metadata": {},
   "outputs": [],
   "source": [
    "mean_intensity = np.mean(mask[segm==1])\n",
    "median_intensity = np.median(mask[segm==1])\n",
    "min_intensity = np.min(mask[segm==1])\n",
    "max_intensity = np.max(mask[segm==1])\n",
    "mean_intensity, median_intensity, min_intensity, max_intensity, sum_intensity"
   ]
  },
  {
   "cell_type": "markdown",
   "metadata": {},
   "source": [
    "#### interquartile distance and standard deviation"
   ]
  },
  {
   "cell_type": "code",
   "execution_count": null,
   "metadata": {},
   "outputs": [],
   "source": [
    "iqr_distance = np.subtract(*np.percentile(mask[segm==1], [75, 25]))/2\n",
    "std = np.std(mask[segm==1])\n",
    "iqr_distance, std"
   ]
  },
  {
   "cell_type": "markdown",
   "metadata": {},
   "source": [
    "## Gradient - 10 Features"
   ]
  },
  {
   "cell_type": "markdown",
   "metadata": {},
   "source": [
    "### Test data"
   ]
  },
  {
   "cell_type": "markdown",
   "metadata": {},
   "source": [
    "#### L1 norm of intensities"
   ]
  },
  {
   "cell_type": "code",
   "execution_count": null,
   "metadata": {},
   "outputs": [],
   "source": [
    "sum_l1 = np.sum(np.abs(np.gradient(test)[0])+np.abs(np.gradient(test)[1]))\n",
    "sum_l1, np.sum(np.abs(np.gradient(test)[0].flatten()) + np.abs(np.gradient(test)[1].flatten()))"
   ]
  },
  {
   "cell_type": "code",
   "execution_count": null,
   "metadata": {},
   "outputs": [],
   "source": [
    "np.sum((np.abs(np.gradient(test)[0])+np.abs(np.gradient(test)[1]))[test_segm==1])"
   ]
  },
  {
   "cell_type": "code",
   "execution_count": null,
   "metadata": {},
   "outputs": [],
   "source": [
    "mean_l1 = np.sum((np.abs(np.gradient(test)[0])+np.abs(np.gradient(test)[1]))[test_segm==1])/np.sum(test_segm)\n",
    "median_l1 = np.median((np.abs(np.gradient(test)[0])+np.abs(np.gradient(test)[1]))[test_segm==1])\n",
    "min_l1 = np.min((np.abs(np.gradient(test)[0])+np.abs(np.gradient(test)[1]))[test_segm==1])\n",
    "max_l1 = np.max((np.abs(np.gradient(test)[0])+np.abs(np.gradient(test)[1]))[test_segm==1])\n",
    "mean_l1, median_l1, min_l1, max_l1,"
   ]
  },
  {
   "cell_type": "code",
   "execution_count": null,
   "metadata": {},
   "outputs": [],
   "source": [
    "std_l1 = np.std((np.abs(np.gradient(test)[0])+np.abs(np.gradient(test)[1]))[test_segm==1])\n",
    "iqd_l1 = np.subtract(*np.percentile((np.abs(np.gradient(test)[0])+np.abs(np.gradient(test)[1]))[test_segm==1], [75, 25]))/2\n",
    "std_l1, iqd_l1"
   ]
  },
  {
   "cell_type": "markdown",
   "metadata": {},
   "source": [
    "#### L2 norm of intensities"
   ]
  },
  {
   "cell_type": "code",
   "execution_count": null,
   "metadata": {},
   "outputs": [],
   "source": [
    "sum_l2 = np.sum(np.sqrt((np.gradient(test)[0])**2+(np.gradient(test)[1])**2))\n",
    "sum_l2, np.sum(np.sqrt((np.gradient(test)[0].flatten())**2+(np.gradient(test)[1].flatten())**2))"
   ]
  },
  {
   "cell_type": "code",
   "execution_count": null,
   "metadata": {},
   "outputs": [],
   "source": [
    "np.sum(np.sqrt((np.gradient(test)[0])**2+(np.gradient(test)[1])**2)[test_segm==1])"
   ]
  },
  {
   "cell_type": "code",
   "execution_count": null,
   "metadata": {},
   "outputs": [],
   "source": [
    "mean_l2 = np.sum(np.sqrt((np.gradient(test)[0])**2+(np.gradient(test)[1])**2))/np.sum(test_segm)\n",
    "std_l2 = np.std(np.sqrt((np.gradient(test)[0])**2+(np.gradient(test)[1])**2)[test_segm==1])\n",
    "mean_l2, std_l2"
   ]
  },
  {
   "cell_type": "code",
   "execution_count": null,
   "metadata": {},
   "outputs": [],
   "source": [
    "np.linalg.norm(np.array([np.gradient(test)[0].flatten(), np.gradient(test)[1].flatten()])) # sum"
   ]
  },
  {
   "cell_type": "markdown",
   "metadata": {},
   "source": [
    "### Real data"
   ]
  },
  {
   "cell_type": "code",
   "execution_count": null,
   "metadata": {},
   "outputs": [],
   "source": [
    "gradients = np.abs(np.gradient(mask)[0])+np.abs(np.gradient(mask)[1])\n",
    "gradients[segm==0] = 0\n",
    "plt.imshow(gradients)"
   ]
  },
  {
   "cell_type": "code",
   "execution_count": null,
   "metadata": {},
   "outputs": [],
   "source": [
    "np.unique(np.gradient(mask)[0]), np.unique(np.gradient(mask)[1]) "
   ]
  },
  {
   "cell_type": "code",
   "execution_count": null,
   "metadata": {},
   "outputs": [],
   "source": [
    "np.unique(gradients)"
   ]
  },
  {
   "cell_type": "code",
   "execution_count": null,
   "metadata": {},
   "outputs": [],
   "source": [
    "gradients"
   ]
  },
  {
   "cell_type": "markdown",
   "metadata": {},
   "source": [
    "#### L1 intensity gradients"
   ]
  },
  {
   "cell_type": "code",
   "execution_count": null,
   "metadata": {},
   "outputs": [],
   "source": [
    "sum_l1 = np.sum(np.abs(np.gradient(mask)[0])+np.abs(np.gradient(mask)[1]))\n",
    "sum_l1"
   ]
  },
  {
   "cell_type": "code",
   "execution_count": null,
   "metadata": {},
   "outputs": [],
   "source": [
    "mean_l1 = np.sum(np.abs(np.gradient(mask)[0])+np.abs(np.gradient(mask)[1]))/np.sum(segm==1)\n",
    "median_l1 = np.median((np.abs(np.gradient(mask)[0])+np.abs(np.gradient(mask)[1]))[segm==1])\n",
    "mean_l1, median_l1"
   ]
  },
  {
   "cell_type": "code",
   "execution_count": null,
   "metadata": {},
   "outputs": [],
   "source": [
    "max_l1 = np.max(np.abs(np.gradient(mask)[0])+np.abs(np.gradient(mask)[1]))\n",
    "min_l1 = np.min((np.abs(np.gradient(mask)[0])+np.abs(np.gradient(mask)[1]))[segm==1])\n",
    "max_l1, min_l1"
   ]
  },
  {
   "cell_type": "code",
   "execution_count": null,
   "metadata": {},
   "outputs": [],
   "source": [
    "std_l1 = np.std((np.abs(np.gradient(mask)[0])+np.abs(np.gradient(mask)[1]))[segm==1])\n",
    "iqr_l1 = np.subtract(*np.percentile((np.abs(np.gradient(mask)[0])+np.abs(np.gradient(mask)[1]))[segm==1], [75, 25]))/2\n",
    "std_l1, iqr_l1"
   ]
  },
  {
   "cell_type": "markdown",
   "metadata": {},
   "source": [
    "#### L2 intensity gradients"
   ]
  },
  {
   "cell_type": "code",
   "execution_count": null,
   "metadata": {},
   "outputs": [],
   "source": [
    "sum_l2 = np.sum(np.sqrt((np.gradient(mask)[0])**2+(np.gradient(mask)[1])**2))\n",
    "sum_l2"
   ]
  },
  {
   "cell_type": "code",
   "execution_count": null,
   "metadata": {},
   "outputs": [],
   "source": [
    "mean_l2 = np.sum(np.sqrt((np.gradient(mask)[0])**2+(np.gradient(mask)[1])**2))/np.sum(segm)\n",
    "std_l2 = np.std(np.sqrt((np.gradient(mask)[0])**2+(np.gradient(mask)[1])**2)[segm==1])\n",
    "mean_l2, std_l2"
   ]
  },
  {
   "cell_type": "code",
   "execution_count": null,
   "metadata": {},
   "outputs": [],
   "source": []
  },
  {
   "cell_type": "markdown",
   "metadata": {},
   "source": [
    "### Test SVMFeatures with synthetic data"
   ]
  },
  {
   "cell_type": "code",
   "execution_count": null,
   "metadata": {},
   "outputs": [],
   "source": [
    "from SVMFeatures import SVMFeatures"
   ]
  },
  {
   "cell_type": "code",
   "execution_count": null,
   "metadata": {},
   "outputs": [],
   "source": [
    "features = SVMFeatures([test],[test_segm], [test_segm])"
   ]
  },
  {
   "cell_type": "code",
   "execution_count": null,
   "metadata": {},
   "outputs": [],
   "source": [
    "features.calculate_independent_features()"
   ]
  },
  {
   "cell_type": "code",
   "execution_count": null,
   "metadata": {},
   "outputs": [],
   "source": [
    "features._calc_unweighted_geometry([test_segm])"
   ]
  },
  {
   "cell_type": "code",
   "execution_count": null,
   "metadata": {},
   "outputs": [],
   "source": [
    "features._calc_weighted_geometry([test],[test_segm])"
   ]
  },
  {
   "cell_type": "code",
   "execution_count": null,
   "metadata": {},
   "outputs": [],
   "source": [
    "features._calc_intensity([test],[test_segm])"
   ]
  },
  {
   "cell_type": "code",
   "execution_count": null,
   "metadata": {},
   "outputs": [],
   "source": [
    "features._calc_gradients([test],[test_segm])"
   ]
  },
  {
   "cell_type": "code",
   "execution_count": null,
   "metadata": {},
   "outputs": [],
   "source": []
  },
  {
   "cell_type": "code",
   "execution_count": null,
   "metadata": {},
   "outputs": [],
   "source": []
  }
 ],
 "metadata": {
  "kernelspec": {
   "display_name": "Python 3",
   "language": "python",
   "name": "python3"
  },
  "language_info": {
   "codemirror_mode": {
    "name": "ipython",
    "version": 3
   },
   "file_extension": ".py",
   "mimetype": "text/x-python",
   "name": "python",
   "nbconvert_exporter": "python",
   "pygments_lexer": "ipython3",
   "version": "3.6.10"
  }
 },
 "nbformat": 4,
 "nbformat_minor": 4
}
