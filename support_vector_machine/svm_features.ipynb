{
 "cells": [
  {
   "cell_type": "markdown",
   "metadata": {},
   "source": [
    "# Support Vector Machine - Generate Features\n",
    "This notebook generates features from 'Evaluating Segmentation Error Without Ground Truth' by Kohlberger et al.\n",
    "\n",
    "author = Caroline Magg <br>\n",
    "date = 27 August 2020 <br> \n",
    "\n",
    "______________________________________\n",
    "history: <br>\n",
    "2020-27-08 Generate SVM Features <br>\n",
    "2020-29-08 Generate SVM Features csv <br>\n",
    "2020-03-09 Generate standardized SVM Features <br>\n",
    "2020-11-09 Generate standardized SVM Features for 15-20 <br>"
   ]
  },
  {
   "cell_type": "code",
   "execution_count": 1,
   "metadata": {},
   "outputs": [],
   "source": [
    "import os\n",
    "import sys\n",
    "import numpy as np\n",
    "import matplotlib.pyplot as plt\n",
    "import pandas as pd\n",
    "import cv2\n",
    "import scipy\n",
    "import logging as log\n",
    "import skimage.segmentation as segmentation\n",
    "from scipy.spatial.distance import cdist"
   ]
  },
  {
   "cell_type": "code",
   "execution_count": 2,
   "metadata": {},
   "outputs": [],
   "source": [
    "log.basicConfig(format='%(levelname)s:%(message)s', level=log.INFO)"
   ]
  },
  {
   "cell_type": "markdown",
   "metadata": {},
   "source": [
    "### Add dependencies"
   ]
  },
  {
   "cell_type": "code",
   "execution_count": 3,
   "metadata": {},
   "outputs": [],
   "source": [
    "# add KidsBrainProject main folder to paths\n",
    "sys.path.append(os.path.abspath('../../'))\n",
    "sys.path.append(os.path.abspath('../utils/'))"
   ]
  },
  {
   "cell_type": "code",
   "execution_count": 4,
   "metadata": {},
   "outputs": [],
   "source": [
    "# add path to data here\n",
    "path_data = \"../../Data/\" "
   ]
  },
  {
   "cell_type": "markdown",
   "metadata": {},
   "source": [
    "data_brain = pd.read_csv(\"../../Data/data_Brain.csv\")"
   ]
  },
  {
   "cell_type": "markdown",
   "metadata": {},
   "source": [
    "# Data"
   ]
  },
  {
   "cell_type": "raw",
   "metadata": {},
   "source": [
    "all_files = [ filename for filename in os.listdir(\"../../Data/\") if filename.endswith( \"csv\" )]\n",
    "all_files"
   ]
  },
  {
   "cell_type": "code",
   "execution_count": 5,
   "metadata": {},
   "outputs": [
    {
     "data": {
      "text/plain": [
       "['test_Brain.csv',\n",
       " 'test_CerebellPOSTYL.csv',\n",
       " 'test_Cingulumleft.csv',\n",
       " 'test_Cingulumright.csv',\n",
       " 'test_Corpuscallosum.csv',\n",
       " 'test_CTV.csv',\n",
       " 'test_CTV1.csv',\n",
       " 'test_CTV2.csv',\n",
       " 'test_Fornix.csv',\n",
       " 'test_GTV.csv',\n",
       " 'test_Hypothalamus.csv',\n",
       " 'test_PapezCircle.csv',\n",
       " 'test_PTV1.csv',\n",
       " 'test_PTV2.csv',\n",
       " 'test_Scalp.csv',\n",
       " 'test_TemporalLobeLt.csv',\n",
       " 'test_TemporalLobeRt.csv',\n",
       " 'test_ThalamusantL.csv',\n",
       " 'test_ThalamusantR.csv',\n",
       " 'test_Thalamusleft.csv',\n",
       " 'test_Thalamusright.csv']"
      ]
     },
     "execution_count": 5,
     "metadata": {},
     "output_type": "execute_result"
    }
   ],
   "source": [
    "all_files = [ filename for filename in os.listdir(\"../../Data/\") if filename.endswith( \"csv\" ) and 'test' in filename ]\n",
    "all_files"
   ]
  },
  {
   "cell_type": "code",
   "execution_count": 6,
   "metadata": {},
   "outputs": [
    {
     "data": {
      "text/html": [
       "<div>\n",
       "<style scoped>\n",
       "    .dataframe tbody tr th:only-of-type {\n",
       "        vertical-align: middle;\n",
       "    }\n",
       "\n",
       "    .dataframe tbody tr th {\n",
       "        vertical-align: top;\n",
       "    }\n",
       "\n",
       "    .dataframe thead th {\n",
       "        text-align: right;\n",
       "    }\n",
       "</style>\n",
       "<table border=\"1\" class=\"dataframe\">\n",
       "  <thead>\n",
       "    <tr style=\"text-align: right;\">\n",
       "      <th></th>\n",
       "      <th>PatientID</th>\n",
       "      <th>Img</th>\n",
       "      <th>Init</th>\n",
       "      <th>Segm</th>\n",
       "      <th>Slice</th>\n",
       "      <th>RoiName</th>\n",
       "    </tr>\n",
       "  </thead>\n",
       "  <tbody>\n",
       "    <tr>\n",
       "      <th>650</th>\n",
       "      <td>20</td>\n",
       "      <td>../../Data/20/Segmentation/png/20_slice145.png</td>\n",
       "      <td>../../Data/20/Segmentation/init/20_init_Brain_...</td>\n",
       "      <td>../../Data/20/Segmentation/t0/20_t0_Brain_slic...</td>\n",
       "      <td>145</td>\n",
       "      <td>Brain</td>\n",
       "    </tr>\n",
       "    <tr>\n",
       "      <th>651</th>\n",
       "      <td>20</td>\n",
       "      <td>../../Data/20/Segmentation/png/20_slice146.png</td>\n",
       "      <td>../../Data/20/Segmentation/init/20_init_Brain_...</td>\n",
       "      <td>../../Data/20/Segmentation/t0/20_t0_Brain_slic...</td>\n",
       "      <td>146</td>\n",
       "      <td>Brain</td>\n",
       "    </tr>\n",
       "    <tr>\n",
       "      <th>652</th>\n",
       "      <td>20</td>\n",
       "      <td>../../Data/20/Segmentation/png/20_slice147.png</td>\n",
       "      <td>../../Data/20/Segmentation/init/20_init_Brain_...</td>\n",
       "      <td>../../Data/20/Segmentation/t0/20_t0_Brain_slic...</td>\n",
       "      <td>147</td>\n",
       "      <td>Brain</td>\n",
       "    </tr>\n",
       "    <tr>\n",
       "      <th>653</th>\n",
       "      <td>20</td>\n",
       "      <td>../../Data/20/Segmentation/png/20_slice148.png</td>\n",
       "      <td>../../Data/20/Segmentation/init/20_init_Brain_...</td>\n",
       "      <td>../../Data/20/Segmentation/t0/20_t0_Brain_slic...</td>\n",
       "      <td>148</td>\n",
       "      <td>Brain</td>\n",
       "    </tr>\n",
       "    <tr>\n",
       "      <th>654</th>\n",
       "      <td>20</td>\n",
       "      <td>../../Data/20/Segmentation/png/20_slice149.png</td>\n",
       "      <td>../../Data/20/Segmentation/init/20_init_Brain_...</td>\n",
       "      <td>../../Data/20/Segmentation/t0/20_t0_Brain_slic...</td>\n",
       "      <td>149</td>\n",
       "      <td>Brain</td>\n",
       "    </tr>\n",
       "  </tbody>\n",
       "</table>\n",
       "</div>"
      ],
      "text/plain": [
       "     PatientID                                             Img  \\\n",
       "650         20  ../../Data/20/Segmentation/png/20_slice145.png   \n",
       "651         20  ../../Data/20/Segmentation/png/20_slice146.png   \n",
       "652         20  ../../Data/20/Segmentation/png/20_slice147.png   \n",
       "653         20  ../../Data/20/Segmentation/png/20_slice148.png   \n",
       "654         20  ../../Data/20/Segmentation/png/20_slice149.png   \n",
       "\n",
       "                                                  Init  \\\n",
       "650  ../../Data/20/Segmentation/init/20_init_Brain_...   \n",
       "651  ../../Data/20/Segmentation/init/20_init_Brain_...   \n",
       "652  ../../Data/20/Segmentation/init/20_init_Brain_...   \n",
       "653  ../../Data/20/Segmentation/init/20_init_Brain_...   \n",
       "654  ../../Data/20/Segmentation/init/20_init_Brain_...   \n",
       "\n",
       "                                                  Segm  Slice RoiName  \n",
       "650  ../../Data/20/Segmentation/t0/20_t0_Brain_slic...    145   Brain  \n",
       "651  ../../Data/20/Segmentation/t0/20_t0_Brain_slic...    146   Brain  \n",
       "652  ../../Data/20/Segmentation/t0/20_t0_Brain_slic...    147   Brain  \n",
       "653  ../../Data/20/Segmentation/t0/20_t0_Brain_slic...    148   Brain  \n",
       "654  ../../Data/20/Segmentation/t0/20_t0_Brain_slic...    149   Brain  "
      ]
     },
     "execution_count": 6,
     "metadata": {},
     "output_type": "execute_result"
    }
   ],
   "source": [
    "#df = pd.read_csv(\"../../Data/data_Brain.csv\", delimiter=';')\n",
    "df = pd.read_csv(\"../../Data/test_Brain.csv\", delimiter=';')\n",
    "df.tail()"
   ]
  },
  {
   "cell_type": "code",
   "execution_count": 7,
   "metadata": {},
   "outputs": [
    {
     "data": {
      "text/plain": [
       "PatientID                                                   15\n",
       "Img             ../../Data/15/Segmentation/png/15_slice164.png\n",
       "Init         ../../Data/15/Segmentation/init/15_init_Brain_...\n",
       "Segm         ../../Data/15/Segmentation/t0/15_t0_Brain_slic...\n",
       "Slice                                                      164\n",
       "RoiName                                                  Brain\n",
       "Name: 130, dtype: object"
      ]
     },
     "execution_count": 7,
     "metadata": {},
     "output_type": "execute_result"
    }
   ],
   "source": [
    "df.loc[130]"
   ]
  },
  {
   "cell_type": "raw",
   "metadata": {},
   "source": [
    "df2 = df[df['PatientID']==1]\n",
    "df2.tail()"
   ]
  },
  {
   "cell_type": "code",
   "execution_count": 8,
   "metadata": {},
   "outputs": [
    {
     "data": {
      "text/html": [
       "<div>\n",
       "<style scoped>\n",
       "    .dataframe tbody tr th:only-of-type {\n",
       "        vertical-align: middle;\n",
       "    }\n",
       "\n",
       "    .dataframe tbody tr th {\n",
       "        vertical-align: top;\n",
       "    }\n",
       "\n",
       "    .dataframe thead th {\n",
       "        text-align: right;\n",
       "    }\n",
       "</style>\n",
       "<table border=\"1\" class=\"dataframe\">\n",
       "  <thead>\n",
       "    <tr style=\"text-align: right;\">\n",
       "      <th></th>\n",
       "      <th>PatientID</th>\n",
       "      <th>Img</th>\n",
       "      <th>Init</th>\n",
       "      <th>Segm</th>\n",
       "      <th>Slice</th>\n",
       "      <th>RoiName</th>\n",
       "    </tr>\n",
       "  </thead>\n",
       "  <tbody>\n",
       "    <tr>\n",
       "      <th>126</th>\n",
       "      <td>15</td>\n",
       "      <td>../../Data/15/Segmentation/png/15_slice160.png</td>\n",
       "      <td>../../Data/15/Segmentation/init/15_init_Brain_...</td>\n",
       "      <td>../../Data/15/Segmentation/t0/15_t0_Brain_slic...</td>\n",
       "      <td>160</td>\n",
       "      <td>Brain</td>\n",
       "    </tr>\n",
       "    <tr>\n",
       "      <th>127</th>\n",
       "      <td>15</td>\n",
       "      <td>../../Data/15/Segmentation/png/15_slice161.png</td>\n",
       "      <td>../../Data/15/Segmentation/init/15_init_Brain_...</td>\n",
       "      <td>../../Data/15/Segmentation/t0/15_t0_Brain_slic...</td>\n",
       "      <td>161</td>\n",
       "      <td>Brain</td>\n",
       "    </tr>\n",
       "    <tr>\n",
       "      <th>128</th>\n",
       "      <td>15</td>\n",
       "      <td>../../Data/15/Segmentation/png/15_slice162.png</td>\n",
       "      <td>../../Data/15/Segmentation/init/15_init_Brain_...</td>\n",
       "      <td>../../Data/15/Segmentation/t0/15_t0_Brain_slic...</td>\n",
       "      <td>162</td>\n",
       "      <td>Brain</td>\n",
       "    </tr>\n",
       "    <tr>\n",
       "      <th>129</th>\n",
       "      <td>15</td>\n",
       "      <td>../../Data/15/Segmentation/png/15_slice163.png</td>\n",
       "      <td>../../Data/15/Segmentation/init/15_init_Brain_...</td>\n",
       "      <td>../../Data/15/Segmentation/t0/15_t0_Brain_slic...</td>\n",
       "      <td>163</td>\n",
       "      <td>Brain</td>\n",
       "    </tr>\n",
       "    <tr>\n",
       "      <th>130</th>\n",
       "      <td>15</td>\n",
       "      <td>../../Data/15/Segmentation/png/15_slice164.png</td>\n",
       "      <td>../../Data/15/Segmentation/init/15_init_Brain_...</td>\n",
       "      <td>../../Data/15/Segmentation/t0/15_t0_Brain_slic...</td>\n",
       "      <td>164</td>\n",
       "      <td>Brain</td>\n",
       "    </tr>\n",
       "  </tbody>\n",
       "</table>\n",
       "</div>"
      ],
      "text/plain": [
       "     PatientID                                             Img  \\\n",
       "126         15  ../../Data/15/Segmentation/png/15_slice160.png   \n",
       "127         15  ../../Data/15/Segmentation/png/15_slice161.png   \n",
       "128         15  ../../Data/15/Segmentation/png/15_slice162.png   \n",
       "129         15  ../../Data/15/Segmentation/png/15_slice163.png   \n",
       "130         15  ../../Data/15/Segmentation/png/15_slice164.png   \n",
       "\n",
       "                                                  Init  \\\n",
       "126  ../../Data/15/Segmentation/init/15_init_Brain_...   \n",
       "127  ../../Data/15/Segmentation/init/15_init_Brain_...   \n",
       "128  ../../Data/15/Segmentation/init/15_init_Brain_...   \n",
       "129  ../../Data/15/Segmentation/init/15_init_Brain_...   \n",
       "130  ../../Data/15/Segmentation/init/15_init_Brain_...   \n",
       "\n",
       "                                                  Segm  Slice RoiName  \n",
       "126  ../../Data/15/Segmentation/t0/15_t0_Brain_slic...    160   Brain  \n",
       "127  ../../Data/15/Segmentation/t0/15_t0_Brain_slic...    161   Brain  \n",
       "128  ../../Data/15/Segmentation/t0/15_t0_Brain_slic...    162   Brain  \n",
       "129  ../../Data/15/Segmentation/t0/15_t0_Brain_slic...    163   Brain  \n",
       "130  ../../Data/15/Segmentation/t0/15_t0_Brain_slic...    164   Brain  "
      ]
     },
     "execution_count": 8,
     "metadata": {},
     "output_type": "execute_result"
    }
   ],
   "source": [
    "df2 = df[df['PatientID']==15]\n",
    "df2.tail()"
   ]
  },
  {
   "cell_type": "code",
   "execution_count": 9,
   "metadata": {},
   "outputs": [],
   "source": [
    "list_of_gt_mask = [cv2.imread(x, cv2.IMREAD_GRAYSCALE) for x in df2['Init']]\n",
    "list_of_pred_mask = [cv2.imread(x, cv2.IMREAD_GRAYSCALE) for x in df2['Segm']]\n",
    "list_of_img = [cv2.imread(x, cv2.IMREAD_GRAYSCALE) for x in df2['Img']]"
   ]
  },
  {
   "cell_type": "code",
   "execution_count": 10,
   "metadata": {},
   "outputs": [
    {
     "data": {
      "text/plain": [
       "(131, 131, 131)"
      ]
     },
     "execution_count": 10,
     "metadata": {},
     "output_type": "execute_result"
    }
   ],
   "source": [
    "len(list_of_gt_mask), len(list_of_img), len(list_of_pred_mask)"
   ]
  },
  {
   "cell_type": "code",
   "execution_count": 11,
   "metadata": {},
   "outputs": [
    {
     "data": {
      "text/plain": [
       "<matplotlib.image.AxesImage at 0x40d7089d68>"
      ]
     },
     "execution_count": 11,
     "metadata": {},
     "output_type": "execute_result"
    },
    {
     "data": {
      "image/png": "[encoded data removed]",
      "text/plain": [
       "<Figure size 432x288 with 1 Axes>"
      ]
     },
     "metadata": {
      "needs_background": "light"
     },
     "output_type": "display_data"
    }
   ],
   "source": [
    "plt.imshow(list_of_img[2])"
   ]
  },
  {
   "cell_type": "code",
   "execution_count": 12,
   "metadata": {},
   "outputs": [
    {
     "data": {
      "image/png": "[encoded data removed]",
      "text/plain": [
       "<Figure size 432x288 with 1 Axes>"
      ]
     },
     "metadata": {
      "needs_background": "light"
     },
     "output_type": "display_data"
    },
    {
     "data": {
      "text/plain": [
       "<matplotlib.image.AxesImage at 0x40d71a6710>"
      ]
     },
     "execution_count": 12,
     "metadata": {},
     "output_type": "execute_result"
    },
    {
     "data": {
      "image/png": "[encoded data removed]",
      "text/plain": [
       "<Figure size 432x288 with 1 Axes>"
      ]
     },
     "metadata": {
      "needs_background": "light"
     },
     "output_type": "display_data"
    }
   ],
   "source": [
    "idx = 2\n",
    "segm = list_of_gt_mask[idx]\n",
    "img = list_of_img[idx].copy()\n",
    "plt.imshow(img, cmap='gray')\n",
    "plt.show()\n",
    "img[segm==0] = 0\n",
    "plt.imshow(img, cmap='gray')"
   ]
  },
  {
   "cell_type": "code",
   "execution_count": 13,
   "metadata": {},
   "outputs": [
    {
     "data": {
      "text/plain": [
       "array([  0, 109, 110, 111, 112, 113, 114, 115, 116, 117, 118, 119, 120,\n",
       "       121], dtype=uint8)"
      ]
     },
     "execution_count": 13,
     "metadata": {},
     "output_type": "execute_result"
    }
   ],
   "source": [
    "np.unique(img)"
   ]
  },
  {
   "cell_type": "code",
   "execution_count": 14,
   "metadata": {},
   "outputs": [],
   "source": [
    "mask = img.copy()"
   ]
  },
  {
   "cell_type": "markdown",
   "metadata": {},
   "source": [
    "# Features"
   ]
  },
  {
   "cell_type": "code",
   "execution_count": 15,
   "metadata": {},
   "outputs": [],
   "source": [
    "from SVMFeatures import SVMFeatures"
   ]
  },
  {
   "cell_type": "raw",
   "metadata": {},
   "source": [
    "all_files = [ filename for filename in os.listdir(\"../../Data/\") if filename.endswith( \"csv\" ) ]"
   ]
  },
  {
   "cell_type": "code",
   "execution_count": 16,
   "metadata": {},
   "outputs": [
    {
     "data": {
      "text/plain": [
       "['test_Brain.csv',\n",
       " 'test_CerebellPOSTYL.csv',\n",
       " 'test_Cingulumleft.csv',\n",
       " 'test_Cingulumright.csv',\n",
       " 'test_Corpuscallosum.csv',\n",
       " 'test_CTV.csv',\n",
       " 'test_CTV1.csv',\n",
       " 'test_CTV2.csv',\n",
       " 'test_Fornix.csv',\n",
       " 'test_GTV.csv',\n",
       " 'test_Hypothalamus.csv',\n",
       " 'test_PapezCircle.csv',\n",
       " 'test_PTV1.csv',\n",
       " 'test_PTV2.csv',\n",
       " 'test_Scalp.csv',\n",
       " 'test_TemporalLobeLt.csv',\n",
       " 'test_TemporalLobeRt.csv',\n",
       " 'test_ThalamusantL.csv',\n",
       " 'test_ThalamusantR.csv',\n",
       " 'test_Thalamusleft.csv',\n",
       " 'test_Thalamusright.csv']"
      ]
     },
     "execution_count": 16,
     "metadata": {},
     "output_type": "execute_result"
    }
   ],
   "source": [
    "all_files = [ filename for filename in os.listdir(\"../../Data/\") if filename.endswith( \"csv\" ) and 'test' in filename ]\n",
    "all_files"
   ]
  },
  {
   "cell_type": "code",
   "execution_count": 17,
   "metadata": {
    "scrolled": true
   },
   "outputs": [
    {
     "name": "stdout",
     "output_type": "stream",
     "text": [
      "test_Brain.csv\n"
     ]
    },
    {
     "name": "stderr",
     "output_type": "stream",
     "text": [
      "INFO: unweighted geometry features\n",
      "INFO: weighted geometry features\n",
      "C:\\Users\\Caroline\\Documents\\KidsBrainProject\\KidsBrainProject\\utils\\SVMFeatures.py:335: RuntimeWarning: overflow encountered in ubyte_scalars\n",
      "  return 1 / (1 + beta * ((i1 - i2) / M) ** 2)\n",
      "INFO: intensity features\n",
      "INFO: gradient features\n",
      "INFO: ratio features\n",
      "INFO:NumExpr defaulting to 4 threads.\n",
      "INFO: dice coefficient\n",
      "INFO: jaccard distance\n",
      "INFO: modified hausdorff distance\n",
      "INFO: average surface error\n"
     ]
    },
    {
     "name": "stdout",
     "output_type": "stream",
     "text": [
      "test_CerebellPOSTYL.csv\n"
     ]
    },
    {
     "name": "stderr",
     "output_type": "stream",
     "text": [
      "INFO: unweighted geometry features\n",
      "INFO: weighted geometry features\n",
      "C:\\Users\\Caroline\\Documents\\KidsBrainProject\\KidsBrainProject\\utils\\SVMFeatures.py:335: RuntimeWarning: invalid value encountered in true_divide\n",
      "  return 1 / (1 + beta * ((i1 - i2) / M) ** 2)\n",
      "C:\\Users\\Caroline\\Documents\\KidsBrainProject\\KidsBrainProject\\utils\\SVMFeatures.py:335: RuntimeWarning: divide by zero encountered in true_divide\n",
      "  return 1 / (1 + beta * ((i1 - i2) / M) ** 2)\n",
      "INFO: intensity features\n",
      "INFO: gradient features\n",
      "INFO: ratio features\n",
      "INFO: dice coefficient\n",
      "INFO: jaccard distance\n",
      "INFO: modified hausdorff distance\n",
      "INFO: average surface error\n",
      "INFO: unweighted geometry features\n",
      "INFO: weighted geometry features\n",
      "INFO: intensity features\n",
      "INFO: gradient features\n",
      "INFO: ratio features\n",
      "INFO: dice coefficient\n",
      "INFO: jaccard distance\n",
      "INFO: modified hausdorff distance\n",
      "INFO: average surface error\n",
      "INFO: unweighted geometry features\n",
      "INFO: weighted geometry features\n",
      "INFO: intensity features\n",
      "INFO: gradient features\n",
      "INFO: ratio features\n",
      "INFO: dice coefficient\n",
      "INFO: jaccard distance\n",
      "INFO: modified hausdorff distance\n"
     ]
    },
    {
     "name": "stdout",
     "output_type": "stream",
     "text": [
      "test_Cingulumleft.csv\n",
      "test_Cingulumright.csv\n"
     ]
    },
    {
     "name": "stderr",
     "output_type": "stream",
     "text": [
      "INFO: average surface error\n"
     ]
    },
    {
     "name": "stdout",
     "output_type": "stream",
     "text": [
      "test_Corpuscallosum.csv\n"
     ]
    },
    {
     "name": "stderr",
     "output_type": "stream",
     "text": [
      "INFO: unweighted geometry features\n",
      "INFO: weighted geometry features\n",
      "INFO: intensity features\n",
      "INFO: gradient features\n",
      "INFO: ratio features\n",
      "INFO: dice coefficient\n",
      "INFO: jaccard distance\n",
      "INFO: modified hausdorff distance\n",
      "INFO: average surface error\n"
     ]
    },
    {
     "name": "stdout",
     "output_type": "stream",
     "text": [
      "test_CTV.csv\n"
     ]
    },
    {
     "name": "stderr",
     "output_type": "stream",
     "text": [
      "INFO: unweighted geometry features\n",
      "INFO: weighted geometry features\n",
      "INFO: intensity features\n",
      "INFO: gradient features\n",
      "INFO: ratio features\n",
      "INFO: dice coefficient\n",
      "INFO: jaccard distance\n",
      "INFO: modified hausdorff distance\n",
      "INFO: average surface error\n",
      "INFO: unweighted geometry features\n",
      "INFO: weighted geometry features\n",
      "INFO: intensity features\n",
      "INFO: gradient features\n",
      "INFO: ratio features\n",
      "INFO: dice coefficient\n",
      "INFO: jaccard distance\n",
      "INFO: modified hausdorff distance\n",
      "INFO: average surface error\n",
      "INFO: unweighted geometry features\n",
      "INFO: weighted geometry features\n",
      "INFO: intensity features\n",
      "INFO: gradient features\n",
      "INFO: ratio features\n"
     ]
    },
    {
     "name": "stdout",
     "output_type": "stream",
     "text": [
      "test_CTV1.csv\n",
      "test_CTV2.csv\n"
     ]
    },
    {
     "name": "stderr",
     "output_type": "stream",
     "text": [
      "INFO: dice coefficient\n",
      "INFO: jaccard distance\n",
      "INFO: modified hausdorff distance\n",
      "INFO: average surface error\n"
     ]
    },
    {
     "name": "stdout",
     "output_type": "stream",
     "text": [
      "test_Fornix.csv\n"
     ]
    },
    {
     "name": "stderr",
     "output_type": "stream",
     "text": [
      "INFO: unweighted geometry features\n",
      "INFO: weighted geometry features\n",
      "INFO: intensity features\n",
      "INFO: gradient features\n",
      "INFO: ratio features\n",
      "INFO: dice coefficient\n",
      "INFO: jaccard distance\n",
      "INFO: modified hausdorff distance\n",
      "INFO: average surface error\n"
     ]
    },
    {
     "name": "stdout",
     "output_type": "stream",
     "text": [
      "test_GTV.csv\n"
     ]
    },
    {
     "name": "stderr",
     "output_type": "stream",
     "text": [
      "INFO: unweighted geometry features\n",
      "INFO: weighted geometry features\n",
      "INFO: intensity features\n",
      "INFO: gradient features\n",
      "INFO: ratio features\n",
      "INFO: dice coefficient\n",
      "INFO: jaccard distance\n",
      "INFO: modified hausdorff distance\n",
      "INFO: average surface error\n"
     ]
    },
    {
     "name": "stdout",
     "output_type": "stream",
     "text": [
      "test_Hypothalamus.csv\n"
     ]
    },
    {
     "name": "stderr",
     "output_type": "stream",
     "text": [
      "INFO: unweighted geometry features\n",
      "INFO: weighted geometry features\n",
      "INFO: intensity features\n",
      "INFO: gradient features\n",
      "INFO: ratio features\n",
      "INFO: dice coefficient\n",
      "INFO: jaccard distance\n",
      "INFO: modified hausdorff distance\n",
      "INFO: average surface error\n",
      "INFO: unweighted geometry features\n",
      "INFO: weighted geometry features\n",
      "INFO: intensity features\n",
      "INFO: gradient features\n",
      "INFO: ratio features\n",
      "INFO: dice coefficient\n",
      "INFO: jaccard distance\n",
      "INFO: modified hausdorff distance\n",
      "INFO: average surface error\n"
     ]
    },
    {
     "name": "stdout",
     "output_type": "stream",
     "text": [
      "test_PapezCircle.csv\n",
      "test_PTV1.csv\n"
     ]
    },
    {
     "name": "stderr",
     "output_type": "stream",
     "text": [
      "INFO: unweighted geometry features\n",
      "INFO: weighted geometry features\n",
      "INFO: intensity features\n",
      "INFO: gradient features\n",
      "INFO: ratio features\n",
      "INFO: dice coefficient\n",
      "INFO: jaccard distance\n",
      "INFO: modified hausdorff distance\n",
      "INFO: average surface error\n"
     ]
    },
    {
     "name": "stdout",
     "output_type": "stream",
     "text": [
      "test_PTV2.csv\n"
     ]
    },
    {
     "name": "stderr",
     "output_type": "stream",
     "text": [
      "INFO: unweighted geometry features\n",
      "INFO: weighted geometry features\n",
      "INFO: intensity features\n",
      "INFO: gradient features\n",
      "INFO: ratio features\n",
      "INFO: dice coefficient\n",
      "INFO: jaccard distance\n",
      "INFO: modified hausdorff distance\n",
      "INFO: average surface error\n"
     ]
    },
    {
     "name": "stdout",
     "output_type": "stream",
     "text": [
      "test_Scalp.csv\n"
     ]
    },
    {
     "name": "stderr",
     "output_type": "stream",
     "text": [
      "INFO: unweighted geometry features\n",
      "INFO: weighted geometry features\n",
      "INFO: intensity features\n",
      "INFO: gradient features\n",
      "INFO: ratio features\n",
      "INFO: dice coefficient\n",
      "INFO: jaccard distance\n",
      "INFO: modified hausdorff distance\n",
      "INFO: average surface error\n"
     ]
    },
    {
     "name": "stdout",
     "output_type": "stream",
     "text": [
      "test_TemporalLobeLt.csv\n"
     ]
    },
    {
     "name": "stderr",
     "output_type": "stream",
     "text": [
      "INFO: unweighted geometry features\n",
      "INFO: weighted geometry features\n",
      "INFO: intensity features\n",
      "INFO: gradient features\n",
      "INFO: ratio features\n",
      "INFO: dice coefficient\n",
      "INFO: jaccard distance\n",
      "INFO: modified hausdorff distance\n",
      "INFO: average surface error\n"
     ]
    },
    {
     "name": "stdout",
     "output_type": "stream",
     "text": [
      "test_TemporalLobeRt.csv\n"
     ]
    },
    {
     "name": "stderr",
     "output_type": "stream",
     "text": [
      "INFO: unweighted geometry features\n",
      "INFO: weighted geometry features\n",
      "INFO: intensity features\n",
      "INFO: gradient features\n",
      "INFO: ratio features\n",
      "INFO: dice coefficient\n",
      "INFO: jaccard distance\n",
      "INFO: modified hausdorff distance\n",
      "INFO: average surface error\n"
     ]
    },
    {
     "name": "stdout",
     "output_type": "stream",
     "text": [
      "test_ThalamusantL.csv\n"
     ]
    },
    {
     "name": "stderr",
     "output_type": "stream",
     "text": [
      "INFO: unweighted geometry features\n",
      "INFO: weighted geometry features\n",
      "INFO: intensity features\n",
      "INFO: gradient features\n",
      "INFO: ratio features\n",
      "INFO: dice coefficient\n",
      "INFO: jaccard distance\n",
      "INFO: modified hausdorff distance\n",
      "INFO: average surface error\n"
     ]
    },
    {
     "name": "stdout",
     "output_type": "stream",
     "text": [
      "test_ThalamusantR.csv\n"
     ]
    },
    {
     "name": "stderr",
     "output_type": "stream",
     "text": [
      "INFO: unweighted geometry features\n",
      "INFO: weighted geometry features\n",
      "INFO: intensity features\n",
      "INFO: gradient features\n",
      "INFO: ratio features\n",
      "INFO: dice coefficient\n",
      "INFO: jaccard distance\n",
      "INFO: modified hausdorff distance\n",
      "INFO: average surface error\n",
      "INFO: unweighted geometry features\n",
      "INFO: weighted geometry features\n",
      "INFO: intensity features\n",
      "INFO: gradient features\n",
      "INFO: ratio features\n",
      "INFO: dice coefficient\n",
      "INFO: jaccard distance\n",
      "INFO: modified hausdorff distance\n",
      "INFO: average surface error\n",
      "INFO: unweighted geometry features\n",
      "INFO: weighted geometry features\n",
      "INFO: intensity features\n",
      "INFO: gradient features\n",
      "INFO: ratio features\n",
      "INFO: dice coefficient\n",
      "INFO: jaccard distance\n",
      "INFO: modified hausdorff distance\n",
      "INFO: average surface error\n"
     ]
    },
    {
     "name": "stdout",
     "output_type": "stream",
     "text": [
      "test_Thalamusleft.csv\n",
      "test_Thalamusright.csv\n"
     ]
    }
   ],
   "source": [
    "for file in all_files:\n",
    "    df = pd.read_csv(os.path.join(\"../../Data/\",file), delimiter=';')\n",
    "    print(file)\n",
    "    list_of_gt_mask = [cv2.imread(x, cv2.IMREAD_GRAYSCALE) for x in df['Init']]\n",
    "    list_of_pred_mask = [cv2.imread(x, cv2.IMREAD_GRAYSCALE) for x in df['Segm']]\n",
    "    list_of_img = [cv2.imread(x, cv2.IMREAD_GRAYSCALE) for x in df['Img']]\n",
    "    indep_features, dep_features = SVMFeatures(list_of_img, list_of_gt_mask, list_of_pred_mask, 1).calculate(standardize=False)\n",
    "    indep_features.to_csv(os.path.join(\"../../Data/features_standardized_test\",file.replace('test','features')), index=False, sep=';')  \n",
    "    dep_features.to_csv(os.path.join(\"../../Data/features_standardized_test\",file.replace('test','error_metrics')), index=False, sep=';')\n",
    "    #indep_features.to_csv(os.path.join(\"../../Data/features_standardized\",file.replace('data','features')), index=False, sep=';')  \n",
    "    #dep_features.to_csv(os.path.join(\"../../Data/features_standardized\",file.replace('data','error_metrics')), index=False, sep=';')"
   ]
  },
  {
   "cell_type": "code",
   "execution_count": 18,
   "metadata": {},
   "outputs": [
    {
     "data": {
      "text/html": [
       "<div>\n",
       "<style scoped>\n",
       "    .dataframe tbody tr th:only-of-type {\n",
       "        vertical-align: middle;\n",
       "    }\n",
       "\n",
       "    .dataframe tbody tr th {\n",
       "        vertical-align: top;\n",
       "    }\n",
       "\n",
       "    .dataframe thead th {\n",
       "        text-align: right;\n",
       "    }\n",
       "</style>\n",
       "<table border=\"1\" class=\"dataframe\">\n",
       "  <thead>\n",
       "    <tr style=\"text-align: right;\">\n",
       "      <th></th>\n",
       "      <th>volume</th>\n",
       "      <th>surface_area</th>\n",
       "      <th>weighted_volume</th>\n",
       "      <th>weighted_cut</th>\n",
       "      <th>lh_weighted_cut</th>\n",
       "      <th>hl_weighted_cut</th>\n",
       "      <th>mean_intensity</th>\n",
       "      <th>median_intensity</th>\n",
       "      <th>sum_intensity</th>\n",
       "      <th>min_intensity</th>\n",
       "      <th>...</th>\n",
       "      <th>lh_weighted_volume_ratio</th>\n",
       "      <th>hl_volume_ratio</th>\n",
       "      <th>hl_weighted_volume_ratio</th>\n",
       "      <th>lh_weighted_cut_ratio</th>\n",
       "      <th>lh_surface_area_ratio</th>\n",
       "      <th>hl_weighted_cut_ratio</th>\n",
       "      <th>hl_surface_area_ratio</th>\n",
       "      <th>weighted_cut_unweighted_cut_ratio</th>\n",
       "      <th>weighted_cut_volume_ratio</th>\n",
       "      <th>surface_area_volume_ratio</th>\n",
       "    </tr>\n",
       "  </thead>\n",
       "  <tbody>\n",
       "  </tbody>\n",
       "</table>\n",
       "<p>0 rows × 35 columns</p>\n",
       "</div>"
      ],
      "text/plain": [
       "Empty DataFrame\n",
       "Columns: [volume, surface_area, weighted_volume, weighted_cut, lh_weighted_cut, hl_weighted_cut, mean_intensity, median_intensity, sum_intensity, min_intensity, max_intensity, iqr_distance, std, sum_l1, sum_l2, mean_l1, mean_l2, std_l1, std_l2, median_l1, min_l1, max_l1, iqr_l1, blur_index_ratio, lh_volume_ratio, lh_weighted_volume_ratio, hl_volume_ratio, hl_weighted_volume_ratio, lh_weighted_cut_ratio, lh_surface_area_ratio, hl_weighted_cut_ratio, hl_surface_area_ratio, weighted_cut_unweighted_cut_ratio, weighted_cut_volume_ratio, surface_area_volume_ratio]\n",
       "Index: []\n",
       "\n",
       "[0 rows x 35 columns]"
      ]
     },
     "execution_count": 18,
     "metadata": {},
     "output_type": "execute_result"
    }
   ],
   "source": [
    "indep_features"
   ]
  },
  {
   "cell_type": "code",
   "execution_count": 19,
   "metadata": {},
   "outputs": [
    {
     "data": {
      "text/plain": [
       "Index(['volume', 'surface_area', 'weighted_volume', 'weighted_cut',\n",
       "       'lh_weighted_cut', 'hl_weighted_cut', 'mean_intensity',\n",
       "       'median_intensity', 'sum_intensity', 'min_intensity', 'max_intensity',\n",
       "       'iqr_distance', 'std', 'sum_l1', 'sum_l2', 'mean_l1', 'mean_l2',\n",
       "       'std_l1', 'std_l2', 'median_l1', 'min_l1', 'max_l1', 'iqr_l1',\n",
       "       'blur_index_ratio', 'lh_volume_ratio', 'lh_weighted_volume_ratio',\n",
       "       'hl_volume_ratio', 'hl_weighted_volume_ratio', 'lh_weighted_cut_ratio',\n",
       "       'lh_surface_area_ratio', 'hl_weighted_cut_ratio',\n",
       "       'hl_surface_area_ratio', 'weighted_cut_unweighted_cut_ratio',\n",
       "       'weighted_cut_volume_ratio', 'surface_area_volume_ratio'],\n",
       "      dtype='object')"
      ]
     },
     "execution_count": 19,
     "metadata": {},
     "output_type": "execute_result"
    }
   ],
   "source": [
    "indep_features.columns"
   ]
  },
  {
   "cell_type": "code",
   "execution_count": 20,
   "metadata": {},
   "outputs": [
    {
     "data": {
      "text/plain": [
       "(0, 0, 0)"
      ]
     },
     "execution_count": 20,
     "metadata": {},
     "output_type": "execute_result"
    }
   ],
   "source": [
    "len(list_of_gt_mask), len(list_of_img), len(list_of_pred_mask)"
   ]
  },
  {
   "cell_type": "code",
   "execution_count": null,
   "metadata": {},
   "outputs": [],
   "source": []
  },
  {
   "cell_type": "code",
   "execution_count": null,
   "metadata": {},
   "outputs": [],
   "source": []
  },
  {
   "cell_type": "code",
   "execution_count": 21,
   "metadata": {},
   "outputs": [],
   "source": [
    "test = pd.read_csv(os.path.join(\"../../Data/features_standardized_test\",file.replace('test','features')), sep=';')\n",
    "#test = pd.read_csv(os.path.join(\"../../Data/features_standardized\",file.replace('data','features')), sep=';')"
   ]
  },
  {
   "cell_type": "code",
   "execution_count": 22,
   "metadata": {},
   "outputs": [
    {
     "data": {
      "text/plain": [
       "(0, 35)"
      ]
     },
     "execution_count": 22,
     "metadata": {},
     "output_type": "execute_result"
    }
   ],
   "source": [
    "np.shape(test)"
   ]
  },
  {
   "cell_type": "code",
   "execution_count": null,
   "metadata": {},
   "outputs": [],
   "source": []
  }
 ],
 "metadata": {
  "kernelspec": {
   "display_name": "Python 3",
   "language": "python",
   "name": "python3"
  },
  "language_info": {
   "codemirror_mode": {
    "name": "ipython",
    "version": 3
   },
   "file_extension": ".py",
   "mimetype": "text/x-python",
   "name": "python",
   "nbconvert_exporter": "python",
   "pygments_lexer": "ipython3",
   "version": "3.6.10"
  }
 },
 "nbformat": 4,
 "nbformat_minor": 4
}
