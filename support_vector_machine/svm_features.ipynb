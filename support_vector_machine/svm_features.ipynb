{
 "cells": [
  {
   "cell_type": "markdown",
   "metadata": {},
   "source": [
    "# Support Vector Machine - Generate Features\n",
    "This notebook generates features from 'Evaluating Segmentation Error Without Ground Truth' by Kohlberger et al.\n",
    "\n",
    "author = Caroline Magg <br>\n",
    "date = 27 August 2020 <br> \n",
    "\n",
    "______________________________________\n",
    "history: <br>\n",
    "2020-27-08 Generate SVM Features <br>\n",
    "2020-29-08 Generate SVM Features csv <br>\n",
    "2020-03-09 Generate standardized SVM Features <br>\n",
    "2020-11-09 Generate standardized SVM Features for 15-20 <br>"
   ]
  },
  {
   "cell_type": "code",
   "execution_count": null,
   "metadata": {},
   "outputs": [],
   "source": [
    "import os\n",
    "import sys\n",
    "import numpy as np\n",
    "import matplotlib.pyplot as plt\n",
    "import pandas as pd\n",
    "import cv2\n",
    "import scipy\n",
    "import logging as log\n",
    "import skimage.segmentation as segmentation\n",
    "from scipy.spatial.distance import cdist"
   ]
  },
  {
   "cell_type": "code",
   "execution_count": null,
   "metadata": {},
   "outputs": [],
   "source": [
    "log.basicConfig(format='%(levelname)s:%(message)s', level=log.INFO)"
   ]
  },
  {
   "cell_type": "markdown",
   "metadata": {},
   "source": [
    "### Add dependencies"
   ]
  },
  {
   "cell_type": "code",
   "execution_count": null,
   "metadata": {},
   "outputs": [],
   "source": [
    "# add KidsBrainProject main folder to paths\n",
    "sys.path.append(os.path.abspath('../../'))\n",
    "sys.path.append(os.path.abspath('../utils/'))"
   ]
  },
  {
   "cell_type": "code",
   "execution_count": null,
   "metadata": {},
   "outputs": [],
   "source": [
    "# add path to data here\n",
    "path_data = \"../../Data/\" "
   ]
  },
  {
   "cell_type": "markdown",
   "metadata": {},
   "source": [
    "data_brain = pd.read_csv(\"../../Data/data_Brain.csv\")"
   ]
  },
  {
   "cell_type": "markdown",
   "metadata": {},
   "source": [
    "# Data"
   ]
  },
  {
   "cell_type": "raw",
   "metadata": {},
   "source": [
    "all_files = [ filename for filename in os.listdir(\"../../Data/\") if filename.endswith( \"csv\" )]\n",
    "all_files"
   ]
  },
  {
   "cell_type": "code",
   "execution_count": null,
   "metadata": {},
   "outputs": [],
   "source": [
    "all_files = [ filename for filename in os.listdir(\"../../Data/\") if filename.endswith( \"csv\" ) and 'test' in filename ]\n",
    "all_files"
   ]
  },
  {
   "cell_type": "code",
   "execution_count": null,
   "metadata": {},
   "outputs": [],
   "source": [
    "#df = pd.read_csv(\"../../Data/data_Brain.csv\", delimiter=';')\n",
    "df = pd.read_csv(\"../../Data/test_Brain.csv\", delimiter=';')\n",
    "df.tail()"
   ]
  },
  {
   "cell_type": "code",
   "execution_count": null,
   "metadata": {},
   "outputs": [],
   "source": [
    "df.loc[130]"
   ]
  },
  {
   "cell_type": "raw",
   "metadata": {},
   "source": [
    "df2 = df[df['PatientID']==1]\n",
    "df2.tail()"
   ]
  },
  {
   "cell_type": "code",
   "execution_count": null,
   "metadata": {},
   "outputs": [],
   "source": [
    "df2 = df[df['PatientID']==15]\n",
    "df2.tail()"
   ]
  },
  {
   "cell_type": "code",
   "execution_count": null,
   "metadata": {},
   "outputs": [],
   "source": [
    "list_of_gt_mask = [cv2.imread(x, cv2.IMREAD_GRAYSCALE) for x in df2['Init']]\n",
    "list_of_pred_mask = [cv2.imread(x, cv2.IMREAD_GRAYSCALE) for x in df2['Segm']]\n",
    "list_of_img = [cv2.imread(x, cv2.IMREAD_GRAYSCALE) for x in df2['Img']]"
   ]
  },
  {
   "cell_type": "code",
   "execution_count": null,
   "metadata": {},
   "outputs": [],
   "source": [
    "len(list_of_gt_mask), len(list_of_img), len(list_of_pred_mask)"
   ]
  },
  {
   "cell_type": "code",
   "execution_count": null,
   "metadata": {},
   "outputs": [],
   "source": [
    "plt.imshow(list_of_img[2])"
   ]
  },
  {
   "cell_type": "code",
   "execution_count": null,
   "metadata": {},
   "outputs": [],
   "source": [
    "idx = 2\n",
    "segm = list_of_gt_mask[idx]\n",
    "img = list_of_img[idx].copy()\n",
    "plt.imshow(img, cmap='gray')\n",
    "plt.show()\n",
    "img[segm==0] = 0\n",
    "plt.imshow(img, cmap='gray')"
   ]
  },
  {
   "cell_type": "code",
   "execution_count": null,
   "metadata": {},
   "outputs": [],
   "source": [
    "np.unique(img)"
   ]
  },
  {
   "cell_type": "code",
   "execution_count": null,
   "metadata": {},
   "outputs": [],
   "source": [
    "mask = img.copy()"
   ]
  },
  {
   "cell_type": "markdown",
   "metadata": {},
   "source": [
    "# Features"
   ]
  },
  {
   "cell_type": "code",
   "execution_count": null,
   "metadata": {},
   "outputs": [],
   "source": [
    "from SVMFeatures import SVMFeatures"
   ]
  },
  {
   "cell_type": "raw",
   "metadata": {},
   "source": [
    "all_files = [ filename for filename in os.listdir(\"../../Data/\") if filename.endswith( \"csv\" ) ]"
   ]
  },
  {
   "cell_type": "code",
   "execution_count": null,
   "metadata": {},
   "outputs": [],
   "source": [
    "all_files = [ filename for filename in os.listdir(\"../../Data/\") if filename.endswith( \"csv\" ) and 'test' in filename ]\n",
    "all_files"
   ]
  },
  {
   "cell_type": "code",
   "execution_count": null,
   "metadata": {
    "scrolled": true
   },
   "outputs": [],
   "source": [
    "for file in all_files:\n",
    "    df = pd.read_csv(os.path.join(\"../../Data/\",file), delimiter=';')\n",
    "    print(file)\n",
    "    list_of_gt_mask = [cv2.imread(x, cv2.IMREAD_GRAYSCALE) for x in df['Init']]\n",
    "    list_of_pred_mask = [cv2.imread(x, cv2.IMREAD_GRAYSCALE) for x in df['Segm']]\n",
    "    list_of_img = [cv2.imread(x, cv2.IMREAD_GRAYSCALE) for x in df['Img']]\n",
    "    indep_features, dep_features = SVMFeatures(list_of_img, list_of_gt_mask, list_of_pred_mask, 1).calculate(standardize=False)\n",
    "    indep_features.to_csv(os.path.join(\"../../Data/features_standardized_test\",file.replace('test','features')), index=False, sep=';')  \n",
    "    dep_features.to_csv(os.path.join(\"../../Data/features_standardized_test\",file.replace('test','error_metrics')), index=False, sep=';')\n",
    "    #indep_features.to_csv(os.path.join(\"../../Data/features_standardized\",file.replace('data','features')), index=False, sep=';')  \n",
    "    #dep_features.to_csv(os.path.join(\"../../Data/features_standardized\",file.replace('data','error_metrics')), index=False, sep=';')"
   ]
  },
  {
   "cell_type": "code",
   "execution_count": null,
   "metadata": {},
   "outputs": [],
   "source": [
    "indep_features"
   ]
  },
  {
   "cell_type": "code",
   "execution_count": null,
   "metadata": {},
   "outputs": [],
   "source": [
    "indep_features.columns"
   ]
  },
  {
   "cell_type": "code",
   "execution_count": null,
   "metadata": {},
   "outputs": [],
   "source": [
    "len(list_of_gt_mask), len(list_of_img), len(list_of_pred_mask)"
   ]
  },
  {
   "cell_type": "code",
   "execution_count": null,
   "metadata": {},
   "outputs": [],
   "source": []
  },
  {
   "cell_type": "code",
   "execution_count": null,
   "metadata": {},
   "outputs": [],
   "source": []
  },
  {
   "cell_type": "code",
   "execution_count": null,
   "metadata": {},
   "outputs": [],
   "source": [
    "test = pd.read_csv(os.path.join(\"../../Data/features_standardized_test\",file.replace('test','features')), sep=';')\n",
    "#test = pd.read_csv(os.path.join(\"../../Data/features_standardized\",file.replace('data','features')), sep=';')"
   ]
  },
  {
   "cell_type": "code",
   "execution_count": null,
   "metadata": {},
   "outputs": [],
   "source": [
    "np.shape(test)"
   ]
  },
  {
   "cell_type": "code",
   "execution_count": null,
   "metadata": {},
   "outputs": [],
   "source": []
  }
 ],
 "metadata": {
  "kernelspec": {
   "display_name": "Python 3",
   "language": "python",
   "name": "python3"
  },
  "language_info": {
   "codemirror_mode": {
    "name": "ipython",
    "version": 3
   },
   "file_extension": ".py",
   "mimetype": "text/x-python",
   "name": "python",
   "nbconvert_exporter": "python",
   "pygments_lexer": "ipython3",
   "version": "3.6.10"
  }
 },
 "nbformat": 4,
 "nbformat_minor": 4
}
