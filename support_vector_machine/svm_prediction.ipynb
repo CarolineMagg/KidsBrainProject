{
 "cells": [
  {
   "cell_type": "markdown",
   "metadata": {},
   "source": [
    "# SVM Predictions\n",
    "\n",
    "author = c.magg <br>\n",
    "date = October 26, 2020 <br>"
   ]
  },
  {
   "cell_type": "markdown",
   "metadata": {},
   "source": [
    "## Add dependencies and imports"
   ]
  },
  {
   "cell_type": "code",
   "execution_count": null,
   "metadata": {},
   "outputs": [],
   "source": [
    "import os\n",
    "import sys\n",
    "import numpy as np\n",
    "import matplotlib.pyplot as plt\n",
    "import pandas as pd#\n",
    "import cv2\n",
    "import scipy\n",
    "import logging as log\n",
    "import skimage.segmentation as segmentation\n",
    "from scipy.spatial.distance import cdist"
   ]
  },
  {
   "cell_type": "code",
   "execution_count": null,
   "metadata": {},
   "outputs": [],
   "source": [
    "log.basicConfig(format='%(levelname)s:%(message)s', level=log.INFO)"
   ]
  },
  {
   "cell_type": "code",
   "execution_count": null,
   "metadata": {},
   "outputs": [],
   "source": [
    "# add KidsBrainProject main folder to paths\n",
    "sys.path.append(os.path.abspath('../../'))\n",
    "sys.path.append(os.path.abspath('../utils/'))"
   ]
  },
  {
   "cell_type": "code",
   "execution_count": null,
   "metadata": {},
   "outputs": [],
   "source": [
    "path_data = \"../../Data/features_standardized/\""
   ]
  },
  {
   "cell_type": "code",
   "execution_count": null,
   "metadata": {},
   "outputs": [],
   "source": [
    "from sklearn import svm\n",
    "from sklearn.model_selection import KFold\n",
    "import random\n",
    "from sklearn.multioutput import MultiOutputRegressor"
   ]
  },
  {
   "cell_type": "code",
   "execution_count": null,
   "metadata": {},
   "outputs": [],
   "source": [
    "from SVMSearch import SVMSearch\n",
    "from SVRPrediction import SVRPrediction\n",
    "from SVMFeatures import SVMFeatures"
   ]
  },
  {
   "cell_type": "code",
   "execution_count": null,
   "metadata": {},
   "outputs": [],
   "source": [
    "all_files = [ filename for filename in os.listdir(path_data) if filename.endswith( \"csv\" ) ]\n",
    "all_files_error = [os.path.join(path_data,fn) for fn in all_files if 'error_metrics' in fn]\n",
    "all_files_features = [os.path.join(path_data,fn) for fn in all_files if 'features' in fn]\n",
    "len(all_files_error), len(all_files_features)"
   ]
  },
  {
   "cell_type": "code",
   "execution_count": null,
   "metadata": {},
   "outputs": [],
   "source": [
    "[x.split('/features_')[-1].split('.')[0] for x in all_files_features]"
   ]
  },
  {
   "cell_type": "code",
   "execution_count": null,
   "metadata": {},
   "outputs": [],
   "source": [
    "idx = 0\n",
    "all_files_error[idx], all_files_features[idx]"
   ]
  },
  {
   "cell_type": "code",
   "execution_count": null,
   "metadata": {},
   "outputs": [],
   "source": [
    "structures = ['Brain',\n",
    "                           'CerebellPOSTYL',\n",
    "                           'Cingulumleft',\n",
    "                           'Cingulumright',\n",
    "                           'Corpuscallosum',\n",
    "                           'CTV',\n",
    "                           'CTV1',\n",
    "                           'CTV2',\n",
    "                           'Fornix',\n",
    "                           'GTV',\n",
    "                           'Hypothalamus',\n",
    "                           'PapezCircle',\n",
    "                           'PTV1',\n",
    "                           'PTV2',\n",
    "                           'Scalp',\n",
    "                           'TemporalLobeLt',\n",
    "                           'TemporalLobeRt',\n",
    "                           'ThalamusantL',\n",
    "                           'ThalamusantR',\n",
    "                           'Thalamusleft',\n",
    "                           'Thalamusright']\n",
    "C = [85, 99, 9, 1, 5, 13, 14, 13, 99, 6, 1, 99, 3, 21, 64, 74, 89, 1, 99, 1, 1]"
   ]
  },
  {
   "cell_type": "code",
   "execution_count": null,
   "metadata": {},
   "outputs": [],
   "source": [
    "dict(zip(structures, C))"
   ]
  },
  {
   "cell_type": "markdown",
   "metadata": {},
   "source": [
    "## SVR Prediction"
   ]
  },
  {
   "cell_type": "code",
   "execution_count": null,
   "metadata": {},
   "outputs": [],
   "source": [
    "pred = SVRPrediction()"
   ]
  },
  {
   "cell_type": "code",
   "execution_count": null,
   "metadata": {},
   "outputs": [],
   "source": [
    "np.shape(pred.X[0])"
   ]
  },
  {
   "cell_type": "code",
   "execution_count": null,
   "metadata": {},
   "outputs": [],
   "source": [
    "mask = cv2.imread(\"../../Data/1/Segmentation/t0/Brain/1_t0_Brain_slice28.png\", cv2.IMREAD_GRAYSCALE)\n",
    "img = cv2.imread(\"../../Data/1/Segmentation/png/1_slice28.png\", cv2.IMREAD_GRAYSCALE)\n",
    "plt.imshow(img)\n",
    "plt.show()\n",
    "plt.imshow(mask)\n",
    "plt.show()"
   ]
  },
  {
   "cell_type": "code",
   "execution_count": null,
   "metadata": {},
   "outputs": [],
   "source": [
    "features, tmp = SVMFeatures([img], preds=[mask]).calculate(standardize=True)"
   ]
  },
  {
   "cell_type": "code",
   "execution_count": null,
   "metadata": {},
   "outputs": [],
   "source": [
    "np.shape(features.values[0])"
   ]
  },
  {
   "cell_type": "code",
   "execution_count": null,
   "metadata": {},
   "outputs": [],
   "source": [
    "pred.X[0][0] == features.values[0]"
   ]
  },
  {
   "cell_type": "code",
   "execution_count": null,
   "metadata": {},
   "outputs": [],
   "source": [
    "f = features.values[0].reshape(1,-1)\n",
    "print(f.shape)\n",
    "pred.regressions['Brain'].predict(f)"
   ]
  },
  {
   "cell_type": "code",
   "execution_count": null,
   "metadata": {},
   "outputs": [],
   "source": [
    "pred.make_prediction(img, mask, 'Brain')"
   ]
  },
  {
   "cell_type": "code",
   "execution_count": null,
   "metadata": {},
   "outputs": [],
   "source": []
  },
  {
   "cell_type": "markdown",
   "metadata": {},
   "source": [
    "## SVM\n",
    "\n",
    "best SVM was with jaccard distance"
   ]
  },
  {
   "cell_type": "code",
   "execution_count": null,
   "metadata": {},
   "outputs": [],
   "source": [
    "search = SVMSearch(all_files_features, all_files_error)"
   ]
  },
  {
   "cell_type": "code",
   "execution_count": null,
   "metadata": {},
   "outputs": [],
   "source": [
    "svrs = dict().fromkeys(structures)\n",
    "for idx in range(len(search.X)):\n",
    "    X = search.X[idx]\n",
    "    y = search.y[idx][:,1]  # jaccard distance\n",
    "    print(np.shape(X), np.shape(y))\n",
    "    regr = svm.SVR(kernel='rbf', C=85, epsilon=0.1)\n",
    "    regr.fit(X, y)\n",
    "    svrs[structures[idx]]= regr"
   ]
  },
  {
   "cell_type": "code",
   "execution_count": null,
   "metadata": {},
   "outputs": [],
   "source": [
    "sv = regr.support_vectors_\n",
    "b = regr.intercept_\n",
    "dual_coeff = regr.dual_coef_\n",
    "gamma = regr._gamma\n",
    "print(\"gamma = \", gamma)\n",
    "print(\"b = \", b)\n",
    "print(\"support vectors = \", sv)\n",
    "print(\"dual_coeff = \", dual_coeff)"
   ]
  },
  {
   "cell_type": "code",
   "execution_count": null,
   "metadata": {},
   "outputs": [],
   "source": [
    "def make_prediction(X, dual_coeff, sv, gamma, b):\n",
    "    return np.sum(dual_coeff.T*np.exp(-gamma*(np.abs(sv-X)**2))) + b"
   ]
  },
  {
   "cell_type": "code",
   "execution_count": null,
   "metadata": {},
   "outputs": [],
   "source": [
    "np.shape(X)"
   ]
  },
  {
   "cell_type": "code",
   "execution_count": null,
   "metadata": {},
   "outputs": [],
   "source": [
    "test= X[0,:].reshape(1,-1)\n",
    "test_gt = y[-1]\n",
    "print(np.shape(test), np.shape(test_gt))"
   ]
  },
  {
   "cell_type": "code",
   "execution_count": null,
   "metadata": {},
   "outputs": [],
   "source": [
    "make_prediction(test, dual_coeff, sv, gamma, b)"
   ]
  },
  {
   "cell_type": "code",
   "execution_count": null,
   "metadata": {},
   "outputs": [],
   "source": [
    "regr.predict(test)[0]"
   ]
  },
  {
   "cell_type": "code",
   "execution_count": null,
   "metadata": {},
   "outputs": [],
   "source": [
    "svrs[\"Brain\"].predict(test)"
   ]
  },
  {
   "cell_type": "code",
   "execution_count": null,
   "metadata": {},
   "outputs": [],
   "source": [
    "sys.getsizeof(svrs)"
   ]
  },
  {
   "cell_type": "code",
   "execution_count": null,
   "metadata": {},
   "outputs": [],
   "source": []
  }
 ],
 "metadata": {
  "kernelspec": {
   "display_name": "Python 3",
   "language": "python",
   "name": "python3"
  },
  "language_info": {
   "codemirror_mode": {
    "name": "ipython",
    "version": 3
   },
   "file_extension": ".py",
   "mimetype": "text/x-python",
   "name": "python",
   "nbconvert_exporter": "python",
   "pygments_lexer": "ipython3",
   "version": "3.6.10"
  }
 },
 "nbformat": 4,
 "nbformat_minor": 4
}
