{
 "cells": [
  {
   "cell_type": "markdown",
   "metadata": {},
   "source": [
    "# Support Vector Machine - Find best one\n",
    "This notebook tests which SVM works best for our data\n",
    "\n",
    "author = Caroline Magg <br>\n",
    "date = 30 August 2020 <br> \n",
    "\n",
    "______________________________________\n",
    "history: <br>\n",
    "2020-03-09 SVM KFold test <br>\n",
    "2020-11-09 SVM KFold test with fixed bug <br>\n",
    "2020-13-09 Get best SVM for KFold <br>\n",
    "2020-13-09 Test best SVM for KFold with Testset <br>\n",
    "2020-13-09 Extract best SVM <br>"
   ]
  },
  {
   "cell_type": "code",
   "execution_count": 1,
   "metadata": {},
   "outputs": [],
   "source": [
    "import os\n",
    "import sys\n",
    "import numpy as np\n",
    "import matplotlib.pyplot as plt\n",
    "import pandas as pd#\n",
    "import cv2\n",
    "import scipy\n",
    "import logging as log\n",
    "import skimage.segmentation as segmentation\n",
    "from scipy.spatial.distance import cdist"
   ]
  },
  {
   "cell_type": "code",
   "execution_count": 2,
   "metadata": {},
   "outputs": [],
   "source": [
    "log.basicConfig(format='%(levelname)s:%(message)s', level=log.INFO)"
   ]
  },
  {
   "cell_type": "markdown",
   "metadata": {},
   "source": [
    "### Add dependencies"
   ]
  },
  {
   "cell_type": "code",
   "execution_count": 3,
   "metadata": {},
   "outputs": [],
   "source": [
    "# add KidsBrainProject main folder to paths\n",
    "sys.path.append(os.path.abspath('../../'))\n",
    "sys.path.append(os.path.abspath('../utils/'))"
   ]
  },
  {
   "cell_type": "code",
   "execution_count": 4,
   "metadata": {},
   "outputs": [],
   "source": [
    "# add path to data here\n",
    "#path_data = \"../../Data/features/\"\n",
    "#path_data = \"../support_vector_machine/\"\n",
    "path_data = \"../../Data/features_standardized/\""
   ]
  },
  {
   "cell_type": "code",
   "execution_count": 5,
   "metadata": {},
   "outputs": [],
   "source": [
    "from sklearn import svm\n",
    "from sklearn.model_selection import KFold\n",
    "import random\n",
    "from sklearn.multioutput import MultiOutputRegressor"
   ]
  },
  {
   "cell_type": "code",
   "execution_count": 6,
   "metadata": {},
   "outputs": [],
   "source": [
    "from SVMSearch import SVMSearch"
   ]
  },
  {
   "cell_type": "code",
   "execution_count": 7,
   "metadata": {},
   "outputs": [
    {
     "data": {
      "text/plain": [
       "(21, 21)"
      ]
     },
     "execution_count": 7,
     "metadata": {},
     "output_type": "execute_result"
    }
   ],
   "source": [
    "all_files = [ filename for filename in os.listdir(path_data) if filename.endswith( \"csv\" ) ]\n",
    "all_files_error = [os.path.join(path_data,fn) for fn in all_files if 'error_metrics' in fn]\n",
    "all_files_features = [os.path.join(path_data,fn) for fn in all_files if 'features' in fn]\n",
    "len(all_files_error), len(all_files_features)"
   ]
  },
  {
   "cell_type": "code",
   "execution_count": 8,
   "metadata": {},
   "outputs": [
    {
     "data": {
      "text/plain": [
       "('../../Data/features_standardized/error_metrics_Brain.csv',\n",
       " '../../Data/features_standardized/features_Brain.csv')"
      ]
     },
     "execution_count": 8,
     "metadata": {},
     "output_type": "execute_result"
    }
   ],
   "source": [
    "idx = 0\n",
    "all_files_error[idx], all_files_features[idx]"
   ]
  },
  {
   "cell_type": "code",
   "execution_count": null,
   "metadata": {},
   "outputs": [],
   "source": []
  },
  {
   "cell_type": "markdown",
   "metadata": {},
   "source": [
    "# Get data range"
   ]
  },
  {
   "cell_type": "code",
   "execution_count": 9,
   "metadata": {},
   "outputs": [
    {
     "name": "stdout",
     "output_type": "stream",
     "text": [
      "../../Data/features_standardized/features_Brain.csv\n",
      " feature numbers 1861 1861\n",
      " splits (1861, 35) (1861, 5)\n",
      "  error metrics: 0 dice_coeff\n",
      "    0.3103448275862069 0.9911136320665532 0.6807688044803464\n",
      "  error metrics: 1 jaccard_dist\n",
      "    0.1836734693877551 0.9823838080959519 0.7987103387081969\n",
      "  error metrics: 2 hausdorff_dist\n",
      "    1.7320508075688772 6.855654600401044 5.123603792832167\n",
      "  error metrics: 3 mod_hausdorff_dist\n",
      "    0.023861976917592672 0.487461903968971 0.4635999270513783\n",
      "  error metrics: 4 avg_surface_error\n",
      "    0.243485663905788 0.6702207501816134 0.42673508627582546\n"
     ]
    }
   ],
   "source": [
    "for idx, fn_features, fn_errors in zip(range(len(all_files_features)), all_files_features, all_files_error):\n",
    "    # get data\n",
    "    features = pd.read_csv(fn_features, sep=';')\n",
    "    errors = pd.read_csv(fn_errors, sep=';')\n",
    "    print(fn_features)\n",
    "    print(' feature numbers', len(features), len(errors))\n",
    "    X = np.array(features)\n",
    "    y = np.array(errors)\n",
    "    print(' splits', np.shape(X), np.shape(y))\n",
    "    for i in range(5): # go through all error metrics\n",
    "        print('  error metrics:', i, errors.keys()[i])\n",
    "        print('   ', np.min(y[:,i]), max(y[:,i]), max(y[:,i])- np.min(y[:,i]))\n",
    "    break"
   ]
  },
  {
   "cell_type": "code",
   "execution_count": 10,
   "metadata": {},
   "outputs": [
    {
     "name": "stdout",
     "output_type": "stream",
     "text": [
      "../../Data/features_standardized/features_Brain.csv\n",
      " feature numbers 1861 1861\n",
      " splits (1861, 35) (1861, 5)\n",
      "  feature: 0 volume\n",
      "    9.0 27955.0 27946.0\n",
      "  feature: 1 surface_area\n",
      "    8.0 552.0 544.0\n",
      "  feature: 2 weighted_volume\n",
      "    3.617714325680296 22150.08145711995 22146.463742794273\n",
      "  feature: 3 weighted_cut\n",
      "    3.3676357783789985 355.12392218901977 351.75628641064077\n",
      "  feature: 4 lh_weighted_cut\n",
      "    14.276923076923074 783.4291794665502 769.1522563896272\n",
      "  feature: 5 hl_weighted_cut\n",
      "    4.00040413996092 368.36058544511695 364.36018130515606\n",
      "  feature: 6 mean_intensity\n",
      "    65.56734693877551 123.79337803855827 58.22603109978276\n",
      "  feature: 7 median_intensity\n",
      "    65.0 123.0 58.0\n",
      "  feature: 8 sum_intensity\n",
      "    987.0 3138573.0 3137586.0\n",
      "  feature: 9 min_intensity\n",
      "    0.0 120.0 120.0\n",
      "  feature: 10 max_intensity\n",
      "    69.0 255.0 186.0\n",
      "  feature: 11 iqr_distance\n",
      "    0.0 2.0 2.0\n",
      "  feature: 12 std\n",
      "    0.5665577237325317 32.03185793092913 31.465300207196595\n",
      "  feature: 13 sum_l1\n",
      "    5.5 62934.5 62929.0\n",
      "  feature: 14 sum_l2\n",
      "    4.239354332309538 49828.01337974914 49823.77402541683\n",
      "  feature: 15 mean_l1\n",
      "    0.44371727748691103 9.878409976617306 9.434692699130395\n",
      "  feature: 16 mean_l2\n",
      "    0.38624773602766604 7.790190545411552 7.403942809383886\n",
      "  feature: 17 std_l1\n",
      "    0.3760008591251971 19.112387220085022 18.736386360959827\n",
      "  feature: 18 std_l2\n",
      "    0.2754702841346356 14.833710392277313 14.558240108142677\n",
      "  feature: 19 median_l1\n",
      "    0.5 2.0 1.5\n",
      "  feature: 20 min_l1\n",
      "    0.0 0.5 0.5\n",
      "  feature: 21 max_l1\n",
      "    1.5 159.5 158.0\n",
      "  feature: 22 iqr_l1\n",
      "    0.1875 1.75 1.5625\n",
      "  feature: 23 blur_index_ratio\n",
      "    0.7608138560917176 0.8730806340482162 0.11226677795649864\n",
      "  feature: 24 lh_volume_ratio\n",
      "    0.023920011633630053 1.7074701820464533 1.6835501704128233\n",
      "  feature: 25 lh_weighted_volume_ratio\n",
      "    0.03188937982317835 4.247773664530113 4.215884284706934\n",
      "  feature: 26 hl_volume_ratio\n",
      "    0.002299659746849847 1.2222235953170877 1.2199239355702378\n",
      "  feature: 27 hl_weighted_volume_ratio\n",
      "    0.0030681635152276718 2.0155040866013554 2.0124359230861275\n",
      "  feature: 28 lh_weighted_cut_ratio\n",
      "    1.31000546722162 18.696584695526134 17.386579228304512\n",
      "  feature: 29 lh_surface_area_ratio\n",
      "    1.012362057773451 1.9766666666666663 0.9643046088932155\n",
      "  feature: 30 hl_weighted_cut_ratio\n",
      "    1.0 1.6976560376613192 0.6976560376613192\n",
      "  feature: 31 hl_surface_area_ratio\n",
      "    0.07413728660629304 1.3750015447317236 1.3008642581254306\n",
      "  feature: 32 weighted_cut_unweighted_cut_ratio\n",
      "    0.07400205554675984 1.159616929347108 1.0856148738003482\n",
      "  feature: 33 weighted_cut_volume_ratio\n",
      "    0.0022954650232719013 1.030770603864096 1.0284751388408242\n",
      "  feature: 34 surface_area_volume_ratio\n",
      "    0.01952355364499373 0.8888888888888888 0.8693653352438951\n"
     ]
    }
   ],
   "source": [
    "for idx, fn_features, fn_errors in zip(range(len(all_files_features)), all_files_features, all_files_error):\n",
    "    # get data\n",
    "    features = pd.read_csv(fn_features, sep=';')\n",
    "    errors = pd.read_csv(fn_errors, sep=';')\n",
    "    print(fn_features)\n",
    "    print(' feature numbers', len(features), len(errors))\n",
    "    X = np.array(features)\n",
    "    y = np.array(errors)\n",
    "    print(' splits', np.shape(X), np.shape(y))\n",
    "    for i in range(X.shape[1]): # go through all error metrics\n",
    "        print('  feature:', i, features.keys()[i])\n",
    "        print('   ', np.min(X[:,i]), max(X[:,i]), max(X[:,i])- np.min(X[:,i]))\n",
    "    break"
   ]
  },
  {
   "cell_type": "code",
   "execution_count": 11,
   "metadata": {},
   "outputs": [
    {
     "name": "stdout",
     "output_type": "stream",
     "text": [
      "../../Data/features_standardized/features_Brain.csv\n"
     ]
    }
   ],
   "source": [
    "for idx, fn_features, fn_errors in zip(range(len(all_files_features)), all_files_features, all_files_error):\n",
    "    print(fn_features)\n",
    "    break"
   ]
  },
  {
   "cell_type": "code",
   "execution_count": 12,
   "metadata": {},
   "outputs": [
    {
     "data": {
      "text/plain": [
       "['../../Data/features_standardized/features_Brain.csv',\n",
       " '../../Data/features_standardized/features_CerebellPOSTYL.csv',\n",
       " '../../Data/features_standardized/features_Cingulumleft.csv',\n",
       " '../../Data/features_standardized/features_Cingulumright.csv',\n",
       " '../../Data/features_standardized/features_Corpuscallosum.csv',\n",
       " '../../Data/features_standardized/features_CTV.csv',\n",
       " '../../Data/features_standardized/features_CTV1.csv',\n",
       " '../../Data/features_standardized/features_CTV2.csv',\n",
       " '../../Data/features_standardized/features_Fornix.csv',\n",
       " '../../Data/features_standardized/features_GTV.csv',\n",
       " '../../Data/features_standardized/features_Hypothalamus.csv',\n",
       " '../../Data/features_standardized/features_PapezCircle.csv',\n",
       " '../../Data/features_standardized/features_PTV1.csv',\n",
       " '../../Data/features_standardized/features_PTV2.csv',\n",
       " '../../Data/features_standardized/features_Scalp.csv',\n",
       " '../../Data/features_standardized/features_TemporalLobeLt.csv',\n",
       " '../../Data/features_standardized/features_TemporalLobeRt.csv',\n",
       " '../../Data/features_standardized/features_ThalamusantL.csv',\n",
       " '../../Data/features_standardized/features_ThalamusantR.csv',\n",
       " '../../Data/features_standardized/features_Thalamusleft.csv',\n",
       " '../../Data/features_standardized/features_Thalamusright.csv']"
      ]
     },
     "execution_count": 12,
     "metadata": {},
     "output_type": "execute_result"
    }
   ],
   "source": [
    "all_files_features"
   ]
  },
  {
   "cell_type": "markdown",
   "metadata": {},
   "source": [
    "# Single-output regression"
   ]
  },
  {
   "cell_type": "raw",
   "metadata": {},
   "source": [
    "# rbf\n",
    "search = SVMSearch(all_files_features, all_files_error)\n",
    "df2 = search.single_output_svm_kfold(n_splits=5, kernel = 'rbf', nc=100, seed=13771, path=\"../support_vector_machine/5-fold_rbf\")"
   ]
  },
  {
   "cell_type": "raw",
   "metadata": {
    "scrolled": true
   },
   "source": [
    "# sigmoid \n",
    "search = SVMSearch(all_files_features, all_files_error)\n",
    "df2 = search.single_output_svm_kfold(n_splits=5, kernel = 'sigmoid', nc=100, seed=13771, path=\"../support_vector_machine/5-fold_sigmoid\")"
   ]
  },
  {
   "cell_type": "raw",
   "metadata": {},
   "source": [
    "df2[df2['error_metrics']=='mod_hausdorff_dist'].sort_values('score_test',axis=0)"
   ]
  },
  {
   "cell_type": "raw",
   "metadata": {},
   "source": [
    "df2[df2['error_metrics']=='jaccard_dist'].sort_values('score_test',axis=0)"
   ]
  },
  {
   "cell_type": "raw",
   "metadata": {},
   "source": [
    "df2.sort_values('score_test',axis=0)"
   ]
  },
  {
   "cell_type": "code",
   "execution_count": null,
   "metadata": {},
   "outputs": [],
   "source": []
  },
  {
   "cell_type": "markdown",
   "metadata": {},
   "source": [
    "# Multi-output regression"
   ]
  },
  {
   "cell_type": "raw",
   "metadata": {
    "scrolled": true
   },
   "source": [
    "# rbf\n",
    "search = SVMSearch(all_files_features, all_files_error)\n",
    "df = search.multi_output_svm_kfold(n_splits = 5, kernel = 'rbf', nc=100, seed = 13771, path=\"../support_vector_machine/5-fold_rbf\")"
   ]
  },
  {
   "cell_type": "raw",
   "metadata": {},
   "source": [
    "df.sort_values('score_test',axis=0)"
   ]
  },
  {
   "cell_type": "raw",
   "metadata": {},
   "source": [
    "len(df)"
   ]
  },
  {
   "cell_type": "raw",
   "metadata": {},
   "source": [
    "# simgoid\n",
    "search = SVMSearch(all_files_features, all_files_error)\n",
    "df = search.multi_output_svm_kfold(n_splits = 5, kernel = 'sigmoid', nc=100, seed = 13771, path=\"../support_vector_machine/5-fold_sigmoid\")"
   ]
  },
  {
   "cell_type": "raw",
   "metadata": {},
   "source": [
    "len(df)"
   ]
  },
  {
   "cell_type": "code",
   "execution_count": null,
   "metadata": {},
   "outputs": [],
   "source": []
  },
  {
   "cell_type": "markdown",
   "metadata": {},
   "source": [
    "# Find best 10 in each category"
   ]
  },
  {
   "cell_type": "markdown",
   "metadata": {},
   "source": [
    "### Single-output best "
   ]
  },
  {
   "cell_type": "markdown",
   "metadata": {},
   "source": [
    "results:<br>\n",
    "* kernel rbf is better than sigmoid kernel <br>\n",
    "* average surface error and hausdorff dist are negative (Cingulum, Thalamusant - both sides) <br>\n",
    "* jaccard distance is often the best one, followed by dice coeff <br>\n",
    "* C value is either low or high"
   ]
  },
  {
   "cell_type": "code",
   "execution_count": 13,
   "metadata": {},
   "outputs": [
    {
     "data": {
      "text/plain": [
       "(21, 21)"
      ]
     },
     "execution_count": 13,
     "metadata": {},
     "output_type": "execute_result"
    }
   ],
   "source": [
    "path_rbf=\"../support_vector_machine/5-fold_rbf\"\n",
    "path_sigmoid=\"../support_vector_machine/5-fold_sigmoid\"\n",
    "\n",
    "all_files_rbf_single = [os.path.join(path_rbf,x) for x in os.listdir(path_rbf) if '_kfold' in x and 'singleoutput' in x]\n",
    "all_files_sigmoid_single = [os.path.join(path_sigmoid,x) for x in os.listdir(path_sigmoid) if '_kfold' in x and 'singleoutput' in x]\n",
    "len(all_files_rbf_single), len(all_files_sigmoid_single)"
   ]
  },
  {
   "cell_type": "code",
   "execution_count": 14,
   "metadata": {},
   "outputs": [],
   "source": [
    "best_single_metrics_rbf = []\n",
    "best_single_score_rbf = []\n",
    "best_single_c_rbf = []\n",
    "single_rbf_jaccard = []\n",
    "best_single_metrics_sigmoid = []\n",
    "best_single_score_sigmoid = []\n",
    "best_single_c_sigmoid = []\n",
    "for fn_rbf, fn_sigmoid in zip(all_files_rbf_single, all_files_sigmoid_single):\n",
    "    df = pd.read_csv(fn_rbf, sep=';')\n",
    "    df2 = df.sort_values('score_test',axis=0)\n",
    "    best_single_metrics_rbf.append(df2.tail(1)['error_metrics'].values[0])\n",
    "    best_single_score_rbf.append(df2.tail(1)['score_test'].values[0])\n",
    "    best_single_c_rbf.append(df2.tail(1)['C'].values[0])\n",
    "    single_rbf_jaccard.append(df2[df2['error_metrics']=='jaccard_dist'].tail(1)['score_test'].values[0])\n",
    "    df3 = pd.read_csv(fn_sigmoid, sep=';')\n",
    "    df4 = df3.sort_values('score_test',axis=0)\n",
    "    best_single_metrics_sigmoid.append(df4.tail(1)['error_metrics'].values[0])\n",
    "    best_single_score_sigmoid.append(df4.tail(1)['score_test'].values[0])\n",
    "    best_single_c_sigmoid.append(df4.tail(1)['C'].values[0])"
   ]
  },
  {
   "cell_type": "code",
   "execution_count": 15,
   "metadata": {},
   "outputs": [
    {
     "name": "stdout",
     "output_type": "stream",
     "text": [
      "0 mod_hausdorff_dist 0.7106223995241757 85 0.025325329763119787\n",
      "1 jaccard_dist 0.7197287286093946 99 0.7197287286093946\n",
      "2 avg_surface_error -0.09762146547488217 9 -17.324660182478535\n",
      "3 avg_surface_error -0.018748670470431338 1 -5.652412343177668\n",
      "4 jaccard_dist 0.5296321356890765 5 0.5296321356890765\n",
      "5 jaccard_dist 0.7480240503410809 13 0.7480240503410809\n",
      "6 dice_coeff 0.6297188939248832 14 0.5564308005518022\n",
      "7 jaccard_dist 0.741645415674713 13 0.741645415674713\n",
      "8 jaccard_dist 0.8475274544259566 99 0.8475274544259566\n",
      "9 dice_coeff 0.6595015088098464 6 0.5924195855362899\n",
      "10 dice_coeff 0.503507519743406 1 0.3675266742102228\n",
      "11 dice_coeff 0.7997678013437689 99 0.7789868462390684\n",
      "12 jaccard_dist 0.8976360849410966 3 0.8976360849410966\n",
      "13 jaccard_dist 0.8652499281307302 21 0.8652499281307302\n",
      "14 jaccard_dist 0.8898030532868683 64 0.8898030532868683\n",
      "15 jaccard_dist 0.9249458228641748 74 0.9249458228641748\n",
      "16 jaccard_dist 0.7198157627138175 89 0.7198157627138175\n",
      "17 hausdorff_dist -0.656770916266681 1 -18.286815218114352\n",
      "18 hausdorff_dist -0.3832907602268648 99 -47.151865892722064\n",
      "19 dice_coeff 0.8624658550078254 1 0.7833517860967885\n",
      "20 dice_coeff 0.8355549690363926 1 0.8169288673293487\n"
     ]
    }
   ],
   "source": [
    "for idx, m, s,c,b in zip(range(len(best_single_metrics_rbf)), best_single_metrics_rbf, best_single_score_rbf, best_single_c_rbf, single_rbf_jaccard):\n",
    "    print(idx, m,s,c,b)"
   ]
  },
  {
   "cell_type": "code",
   "execution_count": 16,
   "metadata": {},
   "outputs": [
    {
     "name": "stdout",
     "output_type": "stream",
     "text": [
      "2 avg_surface_error\n",
      "6 dice_coeff\n",
      "2 hausdorff_dist\n",
      "10 jaccard_dist\n",
      "1 mod_hausdorff_dist\n",
      "5 1\n",
      "1 3\n",
      "1 5\n",
      "1 6\n",
      "1 9\n",
      "2 13\n",
      "1 14\n",
      "1 21\n",
      "1 64\n",
      "1 74\n",
      "1 85\n",
      "1 89\n",
      "4 99\n"
     ]
    }
   ],
   "source": [
    "for m in np.unique(best_single_metrics_rbf):\n",
    "    print(best_single_metrics_rbf.count(m), m)\n",
    "for c in np.unique(best_single_c_rbf):\n",
    "    print(best_single_c_rbf.count(c), c)"
   ]
  },
  {
   "cell_type": "code",
   "execution_count": 17,
   "metadata": {},
   "outputs": [
    {
     "data": {
      "text/plain": [
       "(array([9., 3., 1., 0., 0., 0., 1., 1., 2., 4.]),\n",
       " array([ 1. , 10.8, 20.6, 30.4, 40.2, 50. , 59.8, 69.6, 79.4, 89.2, 99. ]),\n",
       " <a list of 10 Patch objects>)"
      ]
     },
     "execution_count": 17,
     "metadata": {},
     "output_type": "execute_result"
    },
    {
     "data": {
      "image/png": "[encoded data removed]",
      "text/plain": [
       "<Figure size 432x288 with 1 Axes>"
      ]
     },
     "metadata": {
      "needs_background": "light"
     },
     "output_type": "display_data"
    }
   ],
   "source": [
    "plt.hist(best_single_c_rbf)"
   ]
  },
  {
   "cell_type": "code",
   "execution_count": 18,
   "metadata": {},
   "outputs": [],
   "source": [
    "df = pd.read_csv(all_files_rbf_single[2], sep=';')\n",
    "df2 = df.sort_values('score_test',axis=0)"
   ]
  },
  {
   "cell_type": "code",
   "execution_count": 19,
   "metadata": {},
   "outputs": [
    {
     "data": {
      "text/html": [
       "<div>\n",
       "<style scoped>\n",
       "    .dataframe tbody tr th:only-of-type {\n",
       "        vertical-align: middle;\n",
       "    }\n",
       "\n",
       "    .dataframe tbody tr th {\n",
       "        vertical-align: top;\n",
       "    }\n",
       "\n",
       "    .dataframe thead th {\n",
       "        text-align: right;\n",
       "    }\n",
       "</style>\n",
       "<table border=\"1\" class=\"dataframe\">\n",
       "  <thead>\n",
       "    <tr style=\"text-align: right;\">\n",
       "      <th></th>\n",
       "      <th>error_metrics</th>\n",
       "      <th>C</th>\n",
       "      <th>score_train</th>\n",
       "      <th>score_test</th>\n",
       "      <th>mean_error_train</th>\n",
       "      <th>mean_error_test</th>\n",
       "    </tr>\n",
       "  </thead>\n",
       "  <tbody>\n",
       "    <tr>\n",
       "      <th>145</th>\n",
       "      <td>jaccard_dist</td>\n",
       "      <td>47</td>\n",
       "      <td>-3.608281</td>\n",
       "      <td>-17.604042</td>\n",
       "      <td>0.072316</td>\n",
       "      <td>0.072391</td>\n",
       "    </tr>\n",
       "    <tr>\n",
       "      <th>144</th>\n",
       "      <td>jaccard_dist</td>\n",
       "      <td>46</td>\n",
       "      <td>-3.607193</td>\n",
       "      <td>-17.590407</td>\n",
       "      <td>0.072289</td>\n",
       "      <td>0.072363</td>\n",
       "    </tr>\n",
       "    <tr>\n",
       "      <th>197</th>\n",
       "      <td>jaccard_dist</td>\n",
       "      <td>99</td>\n",
       "      <td>-3.606550</td>\n",
       "      <td>-17.585859</td>\n",
       "      <td>0.072274</td>\n",
       "      <td>0.072362</td>\n",
       "    </tr>\n",
       "    <tr>\n",
       "      <th>196</th>\n",
       "      <td>jaccard_dist</td>\n",
       "      <td>98</td>\n",
       "      <td>-3.606525</td>\n",
       "      <td>-17.585482</td>\n",
       "      <td>0.072273</td>\n",
       "      <td>0.072361</td>\n",
       "    </tr>\n",
       "    <tr>\n",
       "      <th>195</th>\n",
       "      <td>jaccard_dist</td>\n",
       "      <td>97</td>\n",
       "      <td>-3.606501</td>\n",
       "      <td>-17.585105</td>\n",
       "      <td>0.072273</td>\n",
       "      <td>0.072360</td>\n",
       "    </tr>\n",
       "    <tr>\n",
       "      <th>...</th>\n",
       "      <td>...</td>\n",
       "      <td>...</td>\n",
       "      <td>...</td>\n",
       "      <td>...</td>\n",
       "      <td>...</td>\n",
       "      <td>...</td>\n",
       "    </tr>\n",
       "    <tr>\n",
       "      <th>103</th>\n",
       "      <td>jaccard_dist</td>\n",
       "      <td>5</td>\n",
       "      <td>-3.586397</td>\n",
       "      <td>-17.334102</td>\n",
       "      <td>0.071761</td>\n",
       "      <td>0.071834</td>\n",
       "    </tr>\n",
       "    <tr>\n",
       "      <th>102</th>\n",
       "      <td>jaccard_dist</td>\n",
       "      <td>4</td>\n",
       "      <td>-3.586195</td>\n",
       "      <td>-17.331740</td>\n",
       "      <td>0.071756</td>\n",
       "      <td>0.071829</td>\n",
       "    </tr>\n",
       "    <tr>\n",
       "      <th>101</th>\n",
       "      <td>jaccard_dist</td>\n",
       "      <td>3</td>\n",
       "      <td>-3.585994</td>\n",
       "      <td>-17.329380</td>\n",
       "      <td>0.071751</td>\n",
       "      <td>0.071824</td>\n",
       "    </tr>\n",
       "    <tr>\n",
       "      <th>100</th>\n",
       "      <td>jaccard_dist</td>\n",
       "      <td>2</td>\n",
       "      <td>-3.585793</td>\n",
       "      <td>-17.327020</td>\n",
       "      <td>0.071746</td>\n",
       "      <td>0.071819</td>\n",
       "    </tr>\n",
       "    <tr>\n",
       "      <th>99</th>\n",
       "      <td>jaccard_dist</td>\n",
       "      <td>1</td>\n",
       "      <td>-3.585591</td>\n",
       "      <td>-17.324660</td>\n",
       "      <td>0.071741</td>\n",
       "      <td>0.071814</td>\n",
       "    </tr>\n",
       "  </tbody>\n",
       "</table>\n",
       "<p>99 rows × 6 columns</p>\n",
       "</div>"
      ],
      "text/plain": [
       "    error_metrics   C  score_train  score_test  mean_error_train  \\\n",
       "145  jaccard_dist  47    -3.608281  -17.604042          0.072316   \n",
       "144  jaccard_dist  46    -3.607193  -17.590407          0.072289   \n",
       "197  jaccard_dist  99    -3.606550  -17.585859          0.072274   \n",
       "196  jaccard_dist  98    -3.606525  -17.585482          0.072273   \n",
       "195  jaccard_dist  97    -3.606501  -17.585105          0.072273   \n",
       "..            ...  ..          ...         ...               ...   \n",
       "103  jaccard_dist   5    -3.586397  -17.334102          0.071761   \n",
       "102  jaccard_dist   4    -3.586195  -17.331740          0.071756   \n",
       "101  jaccard_dist   3    -3.585994  -17.329380          0.071751   \n",
       "100  jaccard_dist   2    -3.585793  -17.327020          0.071746   \n",
       "99   jaccard_dist   1    -3.585591  -17.324660          0.071741   \n",
       "\n",
       "     mean_error_test  \n",
       "145         0.072391  \n",
       "144         0.072363  \n",
       "197         0.072362  \n",
       "196         0.072361  \n",
       "195         0.072360  \n",
       "..               ...  \n",
       "103         0.071834  \n",
       "102         0.071829  \n",
       "101         0.071824  \n",
       "100         0.071819  \n",
       "99          0.071814  \n",
       "\n",
       "[99 rows x 6 columns]"
      ]
     },
     "execution_count": 19,
     "metadata": {},
     "output_type": "execute_result"
    }
   ],
   "source": [
    "df2[df2['error_metrics']=='jaccard_dist']"
   ]
  },
  {
   "cell_type": "markdown",
   "metadata": {},
   "source": [
    "### Multioutput best"
   ]
  },
  {
   "cell_type": "markdown",
   "metadata": {},
   "source": [
    "results <br>\n",
    "* rbf in most cases better or not really worse than sigmoid kernel <br>\n",
    "* ['dice_coeff', 'jaccard_dist'] is the best combi <br>\n",
    "* C value is well distributed <br>"
   ]
  },
  {
   "cell_type": "code",
   "execution_count": 20,
   "metadata": {},
   "outputs": [
    {
     "data": {
      "text/plain": [
       "(21, 21)"
      ]
     },
     "execution_count": 20,
     "metadata": {},
     "output_type": "execute_result"
    }
   ],
   "source": [
    "path_rbf=\"../support_vector_machine/5-fold_rbf\"\n",
    "path_sigmoid=\"../support_vector_machine/5-fold_sigmoid\"\n",
    "\n",
    "all_files_rbf_multi = [os.path.join(path_rbf,x) for x in os.listdir(path_rbf) if '_kfold' in x and 'multi' in x]\n",
    "all_files_sigmoid_multi = [os.path.join(path_sigmoid,x) for x in os.listdir(path_sigmoid) if '_kfold' in x and 'multi' in x]\n",
    "len(all_files_rbf_multi), len(all_files_sigmoid_multi)"
   ]
  },
  {
   "cell_type": "code",
   "execution_count": 28,
   "metadata": {},
   "outputs": [],
   "source": [
    "best_multi_metrics_rbf = []\n",
    "best_multi_score_rbf = []\n",
    "dice_jaccard_multi_score_rbf = []\n",
    "best_multi_c_rbf = []\n",
    "best_multi_metrics_sigmoid = []\n",
    "best_multi_score_sigmoid = []\n",
    "best_multi_c_sigmoid = []\n",
    "for fn_rbf, fn_sigmoid in zip(all_files_rbf_multi, all_files_sigmoid_multi):\n",
    "    df = pd.read_csv(fn_rbf, sep=';')\n",
    "    df2 = df.sort_values('score_test',axis=0)\n",
    "    best_multi_metrics_rbf.append(df2.tail(1)['error_metrics'].values[0])\n",
    "    best_multi_score_rbf.append(df2.tail(1)['score_test'].values[0])\n",
    "    best_multi_c_rbf.append(df2.tail(1)['C'].values[0])\n",
    "    dice_jaccard_multi_score_rbf.append(df2[df2['error_metrics']==\"['dice_coeff', 'jaccard_dist']\"].tail(1)['score_test'].values[0])\n",
    "    df3 = pd.read_csv(fn_sigmoid, sep=';')\n",
    "    df4 = df3.sort_values('score_test',axis=0)\n",
    "    best_multi_metrics_sigmoid.append(df4.tail(1)['error_metrics'].values[0])\n",
    "    best_multi_score_sigmoid.append(df4.tail(1)['score_test'].values[0])\n",
    "    best_multi_c_sigmoid.append(df4.tail(1)['C'].values[0])"
   ]
  },
  {
   "cell_type": "code",
   "execution_count": 29,
   "metadata": {},
   "outputs": [
    {
     "data": {
      "text/plain": [
       "\"['dice_coeff', 'jaccard_dist']\""
      ]
     },
     "execution_count": 29,
     "metadata": {},
     "output_type": "execute_result"
    }
   ],
   "source": [
    "df2['error_metrics'][0]"
   ]
  },
  {
   "cell_type": "code",
   "execution_count": 30,
   "metadata": {},
   "outputs": [
    {
     "name": "stdout",
     "output_type": "stream",
     "text": [
      "0 ['mod_hausdorff_dist', 'avg_surface_error'] 0.35280243095251823 7 -0.3207742291492865\n",
      "1 ['jaccard_dist', 'hausdorff_dist'] 0.7071334603193096 99 0.6580168809061999\n",
      "2 ['hausdorff_dist', 'avg_surface_error'] -0.5087518678402231 97 -10.202809089303418\n",
      "3 ['hausdorff_dist', 'avg_surface_error'] -0.9822243101379976 59 -4.586708328355469\n",
      "4 ['dice_coeff', 'jaccard_dist'] 0.521805345934063 5 0.521805345934063\n",
      "5 ['dice_coeff', 'jaccard_dist'] 0.7390143644002649 7 0.7390143644002649\n",
      "6 ['dice_coeff', 'jaccard_dist'] 0.5815702139782715 91 0.5815702139782715\n",
      "7 ['dice_coeff', 'jaccard_dist'] 0.7144366677732332 13 0.7144366677732332\n",
      "8 ['dice_coeff', 'jaccard_dist'] 0.8419964242200016 33 0.8419964242200016\n",
      "9 ['dice_coeff', 'jaccard_dist'] 0.6171693758803131 96 0.6171693758803131\n",
      "10 ['dice_coeff', 'jaccard_dist'] 0.4328615520169647 2 0.4328615520169647\n",
      "11 ['dice_coeff', 'jaccard_dist'] 0.7893701417134622 99 0.7893701417134622\n",
      "12 ['dice_coeff', 'jaccard_dist'] 0.8759914309858153 3 0.8759914309858153\n",
      "13 ['dice_coeff', 'jaccard_dist'] 0.8608249559162748 5 0.8608249559162748\n",
      "14 ['dice_coeff', 'jaccard_dist'] 0.8565852495809964 45 0.8565852495809964\n",
      "15 ['dice_coeff', 'jaccard_dist'] 0.9058648847003604 57 0.9058648847003604\n",
      "16 ['jaccard_dist', 'mod_hausdorff_dist'] 0.6488166518601428 89 0.5001708723200307\n",
      "17 ['hausdorff_dist', 'mod_hausdorff_dist'] -1.1624288897537054 1 -12.522562330486455\n",
      "18 ['hausdorff_dist', 'avg_surface_error'] -1.0163366525771256 99 -29.226016176446954\n",
      "19 ['dice_coeff', 'jaccard_dist'] 0.8176604007619522 16 0.8176604007619522\n",
      "20 ['dice_coeff', 'jaccard_dist'] 0.8262419181828706 1 0.8262419181828706\n"
     ]
    }
   ],
   "source": [
    "for idx, m, s,c,b in zip(range(len(best_multi_metrics_rbf)), best_multi_metrics_rbf, best_multi_score_rbf, best_multi_c_rbf, dice_jaccard_multi_score_rbf):\n",
    "    print(idx, m,s,c,b)"
   ]
  },
  {
   "cell_type": "code",
   "execution_count": 32,
   "metadata": {},
   "outputs": [
    {
     "name": "stdout",
     "output_type": "stream",
     "text": [
      "14 ['dice_coeff', 'jaccard_dist']\n",
      "3 ['hausdorff_dist', 'avg_surface_error']\n",
      "1 ['hausdorff_dist', 'mod_hausdorff_dist']\n",
      "1 ['jaccard_dist', 'hausdorff_dist']\n",
      "1 ['jaccard_dist', 'mod_hausdorff_dist']\n",
      "1 ['mod_hausdorff_dist', 'avg_surface_error']\n",
      "2 1\n",
      "1 2\n",
      "1 3\n",
      "2 5\n",
      "2 7\n",
      "1 13\n",
      "1 16\n",
      "1 33\n",
      "1 45\n",
      "1 57\n",
      "1 59\n",
      "1 89\n",
      "1 91\n",
      "1 96\n",
      "1 97\n",
      "3 99\n"
     ]
    }
   ],
   "source": [
    "for m in np.unique(best_multi_metrics_rbf):\n",
    "    print(best_multi_metrics_rbf.count(m), m)\n",
    "for c in np.unique(best_multi_c_rbf):\n",
    "    print(best_multi_c_rbf.count(c), c)"
   ]
  },
  {
   "cell_type": "code",
   "execution_count": 33,
   "metadata": {},
   "outputs": [
    {
     "data": {
      "text/plain": [
       "(array([8., 2., 0., 1., 1., 2., 0., 0., 1., 6.]),\n",
       " array([ 1. , 10.8, 20.6, 30.4, 40.2, 50. , 59.8, 69.6, 79.4, 89.2, 99. ]),\n",
       " <a list of 10 Patch objects>)"
      ]
     },
     "execution_count": 33,
     "metadata": {},
     "output_type": "execute_result"
    },
    {
     "data": {
      "image/png": "[encoded data removed]",
      "text/plain": [
       "<Figure size 432x288 with 1 Axes>"
      ]
     },
     "metadata": {
      "needs_background": "light"
     },
     "output_type": "display_data"
    }
   ],
   "source": [
    "plt.hist(best_multi_c_rbf)"
   ]
  },
  {
   "cell_type": "markdown",
   "metadata": {},
   "source": [
    "### Compare single and multi"
   ]
  },
  {
   "cell_type": "code",
   "execution_count": 34,
   "metadata": {},
   "outputs": [
    {
     "name": "stdout",
     "output_type": "stream",
     "text": [
      "0 0.7106223995241757 0.35280243095251823\n",
      "1 0.7197287286093946 0.7071334603193096\n",
      "2 -0.09762146547488217 -0.5087518678402231\n",
      "3 -0.018748670470431338 -0.9822243101379976\n",
      "4 0.5296321356890765 0.521805345934063\n",
      "5 0.7480240503410809 0.7390143644002649\n",
      "6 0.6297188939248832 0.5815702139782715\n",
      "7 0.741645415674713 0.7144366677732332\n",
      "8 0.8475274544259566 0.8419964242200016\n",
      "9 0.6595015088098464 0.6171693758803131\n",
      "10 0.503507519743406 0.4328615520169647\n",
      "11 0.7997678013437689 0.7893701417134622\n",
      "12 0.8976360849410966 0.8759914309858153\n",
      "13 0.8652499281307302 0.8608249559162748\n",
      "14 0.8898030532868683 0.8565852495809964\n",
      "15 0.9249458228641748 0.9058648847003604\n",
      "16 0.7198157627138175 0.6488166518601428\n",
      "17 -0.656770916266681 -1.1624288897537054\n",
      "18 -0.3832907602268648 -1.0163366525771256\n",
      "19 0.8624658550078254 0.8176604007619522\n",
      "20 0.8355549690363926 0.8262419181828706\n"
     ]
    }
   ],
   "source": [
    "for idx, s, m in zip(range(len(best_single_score_rbf)), best_single_score_rbf, best_multi_score_rbf):\n",
    "    print(idx, s, m)"
   ]
  },
  {
   "cell_type": "code",
   "execution_count": null,
   "metadata": {},
   "outputs": [],
   "source": []
  },
  {
   "cell_type": "code",
   "execution_count": null,
   "metadata": {},
   "outputs": [],
   "source": []
  }
 ],
 "metadata": {
  "kernelspec": {
   "display_name": "Python 3",
   "language": "python",
   "name": "python3"
  },
  "language_info": {
   "codemirror_mode": {
    "name": "ipython",
    "version": 3
   },
   "file_extension": ".py",
   "mimetype": "text/x-python",
   "name": "python",
   "nbconvert_exporter": "python",
   "pygments_lexer": "ipython3",
   "version": "3.6.10"
  }
 },
 "nbformat": 4,
 "nbformat_minor": 4
}
