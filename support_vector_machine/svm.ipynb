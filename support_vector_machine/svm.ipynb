{
 "cells": [
  {
   "cell_type": "markdown",
   "metadata": {},
   "source": [
    "# Support Vector Machine - Find best one\n",
    "This notebook tests which SVM works best for our data\n",
    "\n",
    "author = Caroline Magg <br>\n",
    "date = 30 August 2020 <br> \n",
    "\n",
    "______________________________________\n",
    "history: <br>\n",
    "2020-03-09 SVM KFold test <br>\n",
    "2020-11-09 SVM KFold test with fixed bug <br>\n",
    "2020-13-09 Get best SVM for KFold <br>\n",
    "2020-13-09 Test best SVM for KFold with Testset <br>\n",
    "2020-13-09 Extract best SVM <br>"
   ]
  },
  {
   "cell_type": "code",
   "execution_count": null,
   "metadata": {},
   "outputs": [],
   "source": [
    "import os\n",
    "import sys\n",
    "import numpy as np\n",
    "import matplotlib.pyplot as plt\n",
    "import pandas as pd#\n",
    "import cv2\n",
    "import scipy\n",
    "import logging as log\n",
    "import skimage.segmentation as segmentation\n",
    "from scipy.spatial.distance import cdist"
   ]
  },
  {
   "cell_type": "code",
   "execution_count": null,
   "metadata": {},
   "outputs": [],
   "source": [
    "log.basicConfig(format='%(levelname)s:%(message)s', level=log.INFO)"
   ]
  },
  {
   "cell_type": "markdown",
   "metadata": {},
   "source": [
    "### Add dependencies"
   ]
  },
  {
   "cell_type": "code",
   "execution_count": null,
   "metadata": {},
   "outputs": [],
   "source": [
    "# add KidsBrainProject main folder to paths\n",
    "sys.path.append(os.path.abspath('../../'))\n",
    "sys.path.append(os.path.abspath('../utils/'))"
   ]
  },
  {
   "cell_type": "code",
   "execution_count": null,
   "metadata": {},
   "outputs": [],
   "source": [
    "# add path to data here\n",
    "#path_data = \"../../Data/features/\"\n",
    "#path_data = \"../support_vector_machine/\"\n",
    "path_data = \"../../Data/features_standardized/\""
   ]
  },
  {
   "cell_type": "code",
   "execution_count": null,
   "metadata": {},
   "outputs": [],
   "source": [
    "from sklearn import svm\n",
    "from sklearn.model_selection import KFold\n",
    "import random\n",
    "from sklearn.multioutput import MultiOutputRegressor"
   ]
  },
  {
   "cell_type": "code",
   "execution_count": null,
   "metadata": {},
   "outputs": [],
   "source": [
    "from SVMSearch import SVMSearch"
   ]
  },
  {
   "cell_type": "code",
   "execution_count": null,
   "metadata": {},
   "outputs": [],
   "source": [
    "all_files = [ filename for filename in os.listdir(path_data) if filename.endswith( \"csv\" ) ]\n",
    "all_files_error = [os.path.join(path_data,fn) for fn in all_files if 'error_metrics' in fn]\n",
    "all_files_features = [os.path.join(path_data,fn) for fn in all_files if 'features' in fn]\n",
    "len(all_files_error), len(all_files_features)"
   ]
  },
  {
   "cell_type": "code",
   "execution_count": null,
   "metadata": {},
   "outputs": [],
   "source": [
    "idx = 0\n",
    "all_files_error[idx], all_files_features[idx]"
   ]
  },
  {
   "cell_type": "code",
   "execution_count": null,
   "metadata": {},
   "outputs": [],
   "source": []
  },
  {
   "cell_type": "markdown",
   "metadata": {},
   "source": [
    "# Get data range"
   ]
  },
  {
   "cell_type": "code",
   "execution_count": null,
   "metadata": {},
   "outputs": [],
   "source": [
    "for idx, fn_features, fn_errors in zip(range(len(all_files_features)), all_files_features, all_files_error):\n",
    "    # get data\n",
    "    features = pd.read_csv(fn_features, sep=';')\n",
    "    errors = pd.read_csv(fn_errors, sep=';')\n",
    "    print(fn_features)\n",
    "    print(' feature numbers', len(features), len(errors))\n",
    "    X = np.array(features)\n",
    "    y = np.array(errors)\n",
    "    print(' splits', np.shape(X), np.shape(y))\n",
    "    for i in range(5): # go through all error metrics\n",
    "        print('  error metrics:', i, errors.keys()[i])\n",
    "        print('   ', np.min(y[:,i]), max(y[:,i]), max(y[:,i])- np.min(y[:,i]))\n",
    "    break"
   ]
  },
  {
   "cell_type": "code",
   "execution_count": null,
   "metadata": {},
   "outputs": [],
   "source": [
    "for idx, fn_features, fn_errors in zip(range(len(all_files_features)), all_files_features, all_files_error):\n",
    "    # get data\n",
    "    features = pd.read_csv(fn_features, sep=';')\n",
    "    errors = pd.read_csv(fn_errors, sep=';')\n",
    "    print(fn_features)\n",
    "    print(' feature numbers', len(features), len(errors))\n",
    "    X = np.array(features)\n",
    "    y = np.array(errors)\n",
    "    print(' splits', np.shape(X), np.shape(y))\n",
    "    for i in range(X.shape[1]): # go through all error metrics\n",
    "        print('  feature:', i, features.keys()[i])\n",
    "        print('   ', np.min(X[:,i]), max(X[:,i]), max(X[:,i])- np.min(X[:,i]))\n",
    "    break"
   ]
  },
  {
   "cell_type": "code",
   "execution_count": null,
   "metadata": {},
   "outputs": [],
   "source": [
    "for idx, fn_features, fn_errors in zip(range(len(all_files_features)), all_files_features, all_files_error):\n",
    "    print(fn_features)\n",
    "    break"
   ]
  },
  {
   "cell_type": "code",
   "execution_count": null,
   "metadata": {},
   "outputs": [],
   "source": [
    "all_files_features"
   ]
  },
  {
   "cell_type": "markdown",
   "metadata": {},
   "source": [
    "# Single-output regression"
   ]
  },
  {
   "cell_type": "raw",
   "metadata": {},
   "source": [
    "# rbf\n",
    "search = SVMSearch(all_files_features, all_files_error)\n",
    "df2 = search.single_output_svm_kfold(n_splits=5, kernel = 'rbf', nc=100, seed=13771, path=\"../support_vector_machine/5-fold_rbf\")"
   ]
  },
  {
   "cell_type": "raw",
   "metadata": {
    "scrolled": true
   },
   "source": [
    "# sigmoid \n",
    "search = SVMSearch(all_files_features, all_files_error)\n",
    "df2 = search.single_output_svm_kfold(n_splits=5, kernel = 'sigmoid', nc=100, seed=13771, path=\"../support_vector_machine/5-fold_sigmoid\")"
   ]
  },
  {
   "cell_type": "raw",
   "metadata": {},
   "source": [
    "df2[df2['error_metrics']=='mod_hausdorff_dist'].sort_values('score_test',axis=0)"
   ]
  },
  {
   "cell_type": "raw",
   "metadata": {},
   "source": [
    "df2[df2['error_metrics']=='jaccard_dist'].sort_values('score_test',axis=0)"
   ]
  },
  {
   "cell_type": "raw",
   "metadata": {},
   "source": [
    "df2.sort_values('score_test',axis=0)"
   ]
  },
  {
   "cell_type": "code",
   "execution_count": null,
   "metadata": {},
   "outputs": [],
   "source": []
  },
  {
   "cell_type": "markdown",
   "metadata": {},
   "source": [
    "# Multi-output regression"
   ]
  },
  {
   "cell_type": "raw",
   "metadata": {
    "scrolled": true
   },
   "source": [
    "# rbf\n",
    "search = SVMSearch(all_files_features, all_files_error)\n",
    "df = search.multi_output_svm_kfold(n_splits = 5, kernel = 'rbf', nc=100, seed = 13771, path=\"../support_vector_machine/5-fold_rbf\")"
   ]
  },
  {
   "cell_type": "raw",
   "metadata": {},
   "source": [
    "df.sort_values('score_test',axis=0)"
   ]
  },
  {
   "cell_type": "raw",
   "metadata": {},
   "source": [
    "len(df)"
   ]
  },
  {
   "cell_type": "raw",
   "metadata": {},
   "source": [
    "# simgoid\n",
    "search = SVMSearch(all_files_features, all_files_error)\n",
    "df = search.multi_output_svm_kfold(n_splits = 5, kernel = 'sigmoid', nc=100, seed = 13771, path=\"../support_vector_machine/5-fold_sigmoid\")"
   ]
  },
  {
   "cell_type": "raw",
   "metadata": {},
   "source": [
    "len(df)"
   ]
  },
  {
   "cell_type": "code",
   "execution_count": null,
   "metadata": {},
   "outputs": [],
   "source": []
  },
  {
   "cell_type": "markdown",
   "metadata": {},
   "source": [
    "# Find best 10 in each category"
   ]
  },
  {
   "cell_type": "markdown",
   "metadata": {},
   "source": [
    "### Single-output best "
   ]
  },
  {
   "cell_type": "markdown",
   "metadata": {},
   "source": [
    "results:<br>\n",
    "* kernel rbf is better than sigmoid kernel <br>\n",
    "* average surface error and hausdorff dist are negative (Cingulum, Thalamusant - both sides) <br>\n",
    "* jaccard distance is often the best one, followed by dice coeff <br>\n",
    "* C value is either low or high"
   ]
  },
  {
   "cell_type": "code",
   "execution_count": null,
   "metadata": {},
   "outputs": [],
   "source": [
    "path_rbf=\"../support_vector_machine/5-fold_rbf\"\n",
    "path_sigmoid=\"../support_vector_machine/5-fold_sigmoid\"\n",
    "\n",
    "all_files_rbf_single = [os.path.join(path_rbf,x) for x in os.listdir(path_rbf) if '_kfold' in x and 'singleoutput' in x]\n",
    "all_files_sigmoid_single = [os.path.join(path_sigmoid,x) for x in os.listdir(path_sigmoid) if '_kfold' in x and 'singleoutput' in x]\n",
    "len(all_files_rbf_single), len(all_files_sigmoid_single)"
   ]
  },
  {
   "cell_type": "code",
   "execution_count": null,
   "metadata": {},
   "outputs": [],
   "source": [
    "all_files_rbf_single"
   ]
  },
  {
   "cell_type": "code",
   "execution_count": null,
   "metadata": {},
   "outputs": [],
   "source": [
    "best_single_metrics_rbf = []\n",
    "best_single_score_rbf = []\n",
    "best_single_c_rbf = []\n",
    "single_rbf_jaccard = []\n",
    "best_single_metrics_sigmoid = []\n",
    "best_single_score_sigmoid = []\n",
    "best_single_c_sigmoid = []\n",
    "for fn_rbf, fn_sigmoid in zip(all_files_rbf_single, all_files_sigmoid_single):\n",
    "    print(fn_rbf.split('/')[-1])\n",
    "    df = pd.read_csv(fn_rbf, sep=';')\n",
    "    df2 = df.sort_values('score_test',axis=0)\n",
    "    best_single_metrics_rbf.append(df2.tail(1)['error_metrics'].values[0])\n",
    "    best_single_score_rbf.append(df2.tail(1)['score_test'].values[0])\n",
    "    best_single_c_rbf.append(df2.tail(1)['C'].values[0])\n",
    "    single_rbf_jaccard.append(df2[df2['error_metrics']=='jaccard_dist'].tail(1)['score_test'].values[0])\n",
    "    df3 = pd.read_csv(fn_sigmoid, sep=';')\n",
    "    df4 = df3.sort_values('score_test',axis=0)\n",
    "    best_single_metrics_sigmoid.append(df4.tail(1)['error_metrics'].values[0])\n",
    "    best_single_score_sigmoid.append(df4.tail(1)['score_test'].values[0])\n",
    "    best_single_c_sigmoid.append(df4.tail(1)['C'].values[0])"
   ]
  },
  {
   "cell_type": "code",
   "execution_count": null,
   "metadata": {},
   "outputs": [],
   "source": [
    "for idx, m, s,c,b in zip(range(len(best_single_metrics_rbf)), best_single_metrics_rbf, best_single_score_rbf, best_single_c_rbf, single_rbf_jaccard):\n",
    "    print(\"{0} & {1} & {2} & {3} & {4} \\\\\\\\\".format(all_files_rbf_single[idx].split('/')[-1].split('_')[-2], m.replace('_','\\\\_'),s.round(3),c,b.round(3)))"
   ]
  },
  {
   "cell_type": "code",
   "execution_count": null,
   "metadata": {},
   "outputs": [],
   "source": [
    "for m in np.unique(best_single_metrics_rbf):\n",
    "    print(best_single_metrics_rbf.count(m), m)\n",
    "for c in np.unique(best_single_c_rbf):\n",
    "    print(best_single_c_rbf.count(c), c)"
   ]
  },
  {
   "cell_type": "code",
   "execution_count": null,
   "metadata": {},
   "outputs": [],
   "source": [
    "plt.hist(best_single_c_rbf)"
   ]
  },
  {
   "cell_type": "code",
   "execution_count": null,
   "metadata": {},
   "outputs": [],
   "source": [
    "df = pd.read_csv(all_files_rbf_single[2], sep=';')\n",
    "df2 = df.sort_values('score_test',axis=0)"
   ]
  },
  {
   "cell_type": "code",
   "execution_count": null,
   "metadata": {},
   "outputs": [],
   "source": [
    "df2[df2['error_metrics']=='jaccard_dist']"
   ]
  },
  {
   "cell_type": "markdown",
   "metadata": {},
   "source": [
    "### Multioutput best"
   ]
  },
  {
   "cell_type": "markdown",
   "metadata": {},
   "source": [
    "results <br>\n",
    "* rbf in most cases better or not really worse than sigmoid kernel <br>\n",
    "* ['dice_coeff', 'jaccard_dist'] is the best combi <br>\n",
    "* C value is well distributed <br>"
   ]
  },
  {
   "cell_type": "code",
   "execution_count": null,
   "metadata": {},
   "outputs": [],
   "source": [
    "path_rbf=\"../support_vector_machine/5-fold_rbf\"\n",
    "path_sigmoid=\"../support_vector_machine/5-fold_sigmoid\"\n",
    "\n",
    "all_files_rbf_multi = [os.path.join(path_rbf,x) for x in os.listdir(path_rbf) if '_kfold' in x and 'multi' in x]\n",
    "all_files_sigmoid_multi = [os.path.join(path_sigmoid,x) for x in os.listdir(path_sigmoid) if '_kfold' in x and 'multi' in x]\n",
    "len(all_files_rbf_multi), len(all_files_sigmoid_multi)"
   ]
  },
  {
   "cell_type": "code",
   "execution_count": null,
   "metadata": {},
   "outputs": [],
   "source": [
    "best_multi_metrics_rbf = []\n",
    "best_multi_score_rbf = []\n",
    "dice_jaccard_multi_score_rbf = []\n",
    "best_multi_c_rbf = []\n",
    "best_multi_metrics_sigmoid = []\n",
    "best_multi_score_sigmoid = []\n",
    "best_multi_c_sigmoid = []\n",
    "for fn_rbf, fn_sigmoid in zip(all_files_rbf_multi, all_files_sigmoid_multi):\n",
    "    df = pd.read_csv(fn_rbf, sep=';')\n",
    "    df2 = df.sort_values('score_test',axis=0)\n",
    "    best_multi_metrics_rbf.append(df2.tail(1)['error_metrics'].values[0])\n",
    "    best_multi_score_rbf.append(df2.tail(1)['score_test'].values[0])\n",
    "    best_multi_c_rbf.append(df2.tail(1)['C'].values[0])\n",
    "    dice_jaccard_multi_score_rbf.append(df2[df2['error_metrics']==\"['dice_coeff', 'jaccard_dist']\"].tail(1)['score_test'].values[0])\n",
    "    df3 = pd.read_csv(fn_sigmoid, sep=';')\n",
    "    df4 = df3.sort_values('score_test',axis=0)\n",
    "    best_multi_metrics_sigmoid.append(df4.tail(1)['error_metrics'].values[0])\n",
    "    best_multi_score_sigmoid.append(df4.tail(1)['score_test'].values[0])\n",
    "    best_multi_c_sigmoid.append(df4.tail(1)['C'].values[0])"
   ]
  },
  {
   "cell_type": "code",
   "execution_count": null,
   "metadata": {},
   "outputs": [],
   "source": [
    "df2['error_metrics'][0]"
   ]
  },
  {
   "cell_type": "code",
   "execution_count": null,
   "metadata": {},
   "outputs": [],
   "source": [
    "for idx, m, s,c,b in zip(range(len(best_multi_metrics_rbf)), best_multi_metrics_rbf, best_multi_score_rbf, best_multi_c_rbf, dice_jaccard_multi_score_rbf):\n",
    "    print(\"{0} & {1} & {2} & {3} & {4} \\\\\\\\\".format(all_files_rbf_single[idx].split('/')[-1].split('_')[-2], m.replace('_','\\\\_').replace(\"'\",\"\"),s.round(3),c,b.round(3)))"
   ]
  },
  {
   "cell_type": "code",
   "execution_count": null,
   "metadata": {},
   "outputs": [],
   "source": [
    "for m in np.unique(best_multi_metrics_rbf):\n",
    "    print(best_multi_metrics_rbf.count(m), m)\n",
    "for c in np.unique(best_multi_c_rbf):\n",
    "    print(best_multi_c_rbf.count(c), c)"
   ]
  },
  {
   "cell_type": "code",
   "execution_count": null,
   "metadata": {},
   "outputs": [],
   "source": [
    "plt.hist(best_multi_c_rbf)"
   ]
  },
  {
   "cell_type": "markdown",
   "metadata": {},
   "source": [
    "### Compare single and multi"
   ]
  },
  {
   "cell_type": "code",
   "execution_count": null,
   "metadata": {},
   "outputs": [],
   "source": [
    "for idx, s, m in zip(range(len(best_single_score_rbf)), best_single_score_rbf, best_multi_score_rbf):\n",
    "    print(idx, s, m)"
   ]
  },
  {
   "cell_type": "code",
   "execution_count": null,
   "metadata": {},
   "outputs": [],
   "source": []
  },
  {
   "cell_type": "markdown",
   "metadata": {},
   "source": [
    "# Extract SVM"
   ]
  },
  {
   "cell_type": "code",
   "execution_count": null,
   "metadata": {},
   "outputs": [],
   "source": [
    "search = SVMSearch(all_files_features, all_files_error)"
   ]
  },
  {
   "cell_type": "code",
   "execution_count": null,
   "metadata": {},
   "outputs": [],
   "source": [
    "np.shape(search.X[0]), np.shape(search.y[0])"
   ]
  },
  {
   "cell_type": "code",
   "execution_count": null,
   "metadata": {},
   "outputs": [],
   "source": [
    "search.y[0]"
   ]
  },
  {
   "cell_type": "code",
   "execution_count": null,
   "metadata": {},
   "outputs": [],
   "source": []
  }
 ],
 "metadata": {
  "kernelspec": {
   "display_name": "Python 3",
   "language": "python",
   "name": "python3"
  },
  "language_info": {
   "codemirror_mode": {
    "name": "ipython",
    "version": 3
   },
   "file_extension": ".py",
   "mimetype": "text/x-python",
   "name": "python",
   "nbconvert_exporter": "python",
   "pygments_lexer": "ipython3",
   "version": "3.6.10"
  }
 },
 "nbformat": 4,
 "nbformat_minor": 4
}
