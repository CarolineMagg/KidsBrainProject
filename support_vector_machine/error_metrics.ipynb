{
 "cells": [
  {
   "cell_type": "markdown",
   "metadata": {},
   "source": [
    "# Support Vector Machine - Test Features and Error Metrics\n",
    "This notebook tests features, error metrics and ideas from 'Evaluating Segmentation Error Without Ground Truth' by Kohlberger et al.\n",
    "\n",
    "author = Caroline Magg <br>\n",
    "date = 29 July 2020 <br> \n",
    "\n",
    "______________________________________\n",
    "history: <br>\n",
    "2020-29-07 Dice, Volume Overlap, Hausdorff <br>\n",
    "2020-30-07 Jaccard <br>\n",
    "2020-18-08 Average surface error and modified Hausdorff <br>\n",
    "2020-27-08 Testing SVM dependent features <br> <br>\n"
   ]
  },
  {
   "cell_type": "code",
   "execution_count": null,
   "metadata": {},
   "outputs": [],
   "source": [
    "import os\n",
    "import sys\n",
    "import numpy as np\n",
    "import matplotlib.pyplot as plt\n",
    "import pandas as pd\n",
    "import cv2\n",
    "import scipy\n",
    "import logging as log\n",
    "import skimage.segmentation as segmentation\n",
    "from scipy.spatial.distance import cdist"
   ]
  },
  {
   "cell_type": "code",
   "execution_count": null,
   "metadata": {},
   "outputs": [],
   "source": [
    "log.basicConfig(format='%(levelname)s:%(message)s', level=log.INFO)"
   ]
  },
  {
   "cell_type": "markdown",
   "metadata": {},
   "source": [
    "### Add dependencies"
   ]
  },
  {
   "cell_type": "code",
   "execution_count": null,
   "metadata": {},
   "outputs": [],
   "source": [
    "# add KidsBrainProject main folder to paths\n",
    "sys.path.append(os.path.abspath('../../'))\n",
    "sys.path.append(os.path.abspath('../utils/'))"
   ]
  },
  {
   "cell_type": "code",
   "execution_count": null,
   "metadata": {},
   "outputs": [],
   "source": [
    "# add path to data here\n",
    "path_data = \"../../Data/\" "
   ]
  },
  {
   "cell_type": "markdown",
   "metadata": {},
   "source": [
    "data_brain = pd.read_csv(\"../../Data/data_Brain.csv\")"
   ]
  },
  {
   "cell_type": "markdown",
   "metadata": {},
   "source": [
    "# Segmentation Error Metrics"
   ]
  },
  {
   "cell_type": "markdown",
   "metadata": {},
   "source": [
    "## Synthetic Test Data"
   ]
  },
  {
   "cell_type": "code",
   "execution_count": null,
   "metadata": {},
   "outputs": [],
   "source": [
    "groundtruth = np.zeros((100,100))\n",
    "cv2.rectangle(groundtruth, (0,0), (49,49), 255, -1)\n",
    "plt.imshow(groundtruth), np.sum(groundtruth==255)"
   ]
  },
  {
   "cell_type": "code",
   "execution_count": null,
   "metadata": {},
   "outputs": [],
   "source": [
    "# smaller prediction\n",
    "predicted1 = np.zeros((100,100))\n",
    "cv2.rectangle(predicted1, (0,0), (39,39), 255, -1)\n",
    "plt.imshow(predicted1), np.sum(predicted1==255)"
   ]
  },
  {
   "cell_type": "code",
   "execution_count": null,
   "metadata": {},
   "outputs": [],
   "source": [
    "# bigger prediction\n",
    "predicted2 = np.zeros((100,100))\n",
    "cv2.rectangle(predicted2, (0,0), (57,57), 255, -1)\n",
    "plt.imshow(predicted2), np.sum(predicted2==255)"
   ]
  },
  {
   "cell_type": "code",
   "execution_count": null,
   "metadata": {},
   "outputs": [],
   "source": [
    "# no overlap\n",
    "predicted3 = np.zeros((100,100))\n",
    "cv2.rectangle(predicted3, (50,50), (99,99), 255, -1)\n",
    "plt.imshow(predicted3), np.sum(predicted2==255)"
   ]
  },
  {
   "cell_type": "code",
   "execution_count": null,
   "metadata": {},
   "outputs": [],
   "source": [
    "plt.imshow(groundtruth+predicted1/255*200)\n",
    "plt.show()\n",
    "plt.imshow(groundtruth+predicted2/255*200)\n",
    "plt.show()\n",
    "plt.imshow(groundtruth+predicted3/255*200)\n",
    "plt.show()"
   ]
  },
  {
   "cell_type": "markdown",
   "metadata": {},
   "source": [
    "## Dice Coefficient\n",
    "1 - perfect segmentation, 0 - completely failed"
   ]
  },
  {
   "cell_type": "code",
   "execution_count": null,
   "metadata": {},
   "outputs": [],
   "source": [
    "def dice_coeff(gt, pred, k=255):\n",
    "    return np.sum(pred[gt==k])*2.0 / (np.sum(pred) + np.sum(gt))"
   ]
  },
  {
   "cell_type": "code",
   "execution_count": null,
   "metadata": {},
   "outputs": [],
   "source": [
    "dice_coeff(groundtruth, predicted1)"
   ]
  },
  {
   "cell_type": "code",
   "execution_count": null,
   "metadata": {},
   "outputs": [],
   "source": [
    "dice_coeff(groundtruth, predicted2)"
   ]
  },
  {
   "cell_type": "code",
   "execution_count": null,
   "metadata": {},
   "outputs": [],
   "source": [
    "dice_coeff(groundtruth, groundtruth)"
   ]
  },
  {
   "cell_type": "code",
   "execution_count": null,
   "metadata": {},
   "outputs": [],
   "source": [
    "dice_coeff(groundtruth, predicted3)"
   ]
  },
  {
   "cell_type": "markdown",
   "metadata": {},
   "source": [
    "## Jaccard Distance"
   ]
  },
  {
   "cell_type": "code",
   "execution_count": null,
   "metadata": {},
   "outputs": [],
   "source": [
    "def jaccard_coeff(gt, pred, k=255):\n",
    "    return np.sum(pred[gt==k]) / (np.sum(pred) + np.sum(gt) - np.sum(pred[gt==k]))"
   ]
  },
  {
   "cell_type": "code",
   "execution_count": null,
   "metadata": {},
   "outputs": [],
   "source": [
    "jaccard_coeff(groundtruth, predicted1)"
   ]
  },
  {
   "cell_type": "code",
   "execution_count": null,
   "metadata": {},
   "outputs": [],
   "source": [
    "jaccard_coeff(groundtruth, predicted2)"
   ]
  },
  {
   "cell_type": "code",
   "execution_count": null,
   "metadata": {},
   "outputs": [],
   "source": [
    "jaccard_coeff(groundtruth, groundtruth)"
   ]
  },
  {
   "cell_type": "code",
   "execution_count": null,
   "metadata": {},
   "outputs": [],
   "source": [
    "jaccard_coeff(groundtruth, predicted3)"
   ]
  },
  {
   "cell_type": "markdown",
   "metadata": {},
   "source": [
    "## Volumentric Overlap Error\n",
    "0% - perfect segmentation (pred==gt), 100% - no overlap at all"
   ]
  },
  {
   "cell_type": "code",
   "execution_count": null,
   "metadata": {},
   "outputs": [],
   "source": [
    "def vol_overlap_error(gt, pred, k=255):\n",
    "    return 1 - np.sum(pred[gt==k]) / (np.sum(pred) + np.sum(gt) - np.sum(pred[gt==k]))"
   ]
  },
  {
   "cell_type": "raw",
   "metadata": {},
   "source": [
    "def vol_overlap_error(gt, pred, k=255):\n",
    "    return 1- np.sum(pred[gt==k])*2.0 / (np.sum(gt+pred))"
   ]
  },
  {
   "cell_type": "code",
   "execution_count": null,
   "metadata": {},
   "outputs": [],
   "source": [
    "vol_overlap_error(groundtruth, predicted1)"
   ]
  },
  {
   "cell_type": "code",
   "execution_count": null,
   "metadata": {},
   "outputs": [],
   "source": [
    "vol_overlap_error(groundtruth, predicted2)"
   ]
  },
  {
   "cell_type": "code",
   "execution_count": null,
   "metadata": {},
   "outputs": [],
   "source": [
    "vol_overlap_error(groundtruth, groundtruth)"
   ]
  },
  {
   "cell_type": "code",
   "execution_count": null,
   "metadata": {},
   "outputs": [],
   "source": [
    "vol_overlap_error(groundtruth, predicted3)"
   ]
  },
  {
   "cell_type": "markdown",
   "metadata": {},
   "source": [
    "## Mask -> Surface"
   ]
  },
  {
   "cell_type": "code",
   "execution_count": null,
   "metadata": {},
   "outputs": [],
   "source": [
    "im3, contours, hierarchy = cv2.findContours(predicted1.astype(np.uint8),cv2.RETR_TREE, cv2.CHAIN_APPROX_NONE)"
   ]
  },
  {
   "cell_type": "code",
   "execution_count": null,
   "metadata": {},
   "outputs": [],
   "source": [
    "plt.imshow(cv2.drawContours(np.zeros_like(im3), contours, -1, 255, 1))"
   ]
  },
  {
   "cell_type": "markdown",
   "metadata": {},
   "source": [
    "## Hausdorff Distance\n",
    "symmetric surface-to-surface metric <br>\n",
    "the bigger, the more distinct are the surfaces, 0 - perfect overlap <br>\n",
    "due to max min, it makes no difference if the contour or the mask is used <br>\n",
    "for the modified version, it makes a difference, due to the mean <br>"
   ]
  },
  {
   "cell_type": "code",
   "execution_count": null,
   "metadata": {},
   "outputs": [],
   "source": [
    "def hausdorff_distance(gt, pred):\n",
    "    gt3, contours, hierarchy = cv2.findContours(gt.astype(np.uint8),cv2.RETR_TREE, cv2.CHAIN_APPROX_NONE)\n",
    "    gt_contour = cv2.drawContours(np.zeros_like(gt3), contours, -1, 255, 1)\n",
    "    pred3, contours, hierarchy = cv2.findContours(pred.astype(np.uint8),cv2.RETR_TREE, cv2.CHAIN_APPROX_NONE)\n",
    "    pred_contour = cv2.drawContours(np.zeros_like(pred3), contours, -1, 255, 1)    \n",
    "    distance = cdist(gt_contour, pred_contour, 'euclidean')\n",
    "    dist1 = np.max(np.min(distance, axis=0))\n",
    "    dist2 = np.max(np.min(distance, axis=1))\n",
    "    return max(dist1, dist2)"
   ]
  },
  {
   "cell_type": "code",
   "execution_count": null,
   "metadata": {},
   "outputs": [],
   "source": [
    "hausdorff_distance(groundtruth, predicted1)"
   ]
  },
  {
   "cell_type": "code",
   "execution_count": null,
   "metadata": {},
   "outputs": [],
   "source": [
    "hausdorff_distance(groundtruth, predicted2)"
   ]
  },
  {
   "cell_type": "code",
   "execution_count": null,
   "metadata": {},
   "outputs": [],
   "source": [
    "hausdorff_distance(groundtruth, groundtruth)"
   ]
  },
  {
   "cell_type": "code",
   "execution_count": null,
   "metadata": {},
   "outputs": [],
   "source": [
    "hausdorff_distance(groundtruth, predicted3)"
   ]
  },
  {
   "cell_type": "code",
   "execution_count": null,
   "metadata": {},
   "outputs": [],
   "source": [
    "def hausdorff_distance(gt, pred):   \n",
    "    distance = cdist(gt, pred, 'euclidean')\n",
    "    dist1 = np.max(np.min(distance, axis=0))\n",
    "    dist2 = np.max(np.min(distance, axis=1))\n",
    "    return max(dist1, dist2)"
   ]
  },
  {
   "cell_type": "code",
   "execution_count": null,
   "metadata": {},
   "outputs": [],
   "source": [
    "hausdorff_distance(groundtruth, predicted1)"
   ]
  },
  {
   "cell_type": "code",
   "execution_count": null,
   "metadata": {},
   "outputs": [],
   "source": [
    "hausdorff_distance(groundtruth, predicted2)"
   ]
  },
  {
   "cell_type": "code",
   "execution_count": null,
   "metadata": {},
   "outputs": [],
   "source": [
    "hausdorff_distance(groundtruth, groundtruth)"
   ]
  },
  {
   "cell_type": "code",
   "execution_count": null,
   "metadata": {},
   "outputs": [],
   "source": [
    "hausdorff_distance(groundtruth, predicted3)"
   ]
  },
  {
   "cell_type": "code",
   "execution_count": null,
   "metadata": {},
   "outputs": [],
   "source": [
    "def mod_hausdorff_distance(gt, pred):\n",
    "    gt3, contours, hierarchy = cv2.findContours(gt.astype(np.uint8),cv2.RETR_TREE, cv2.CHAIN_APPROX_NONE)\n",
    "    gt_contour = cv2.drawContours(np.zeros_like(gt3), contours, -1, 255, 1)\n",
    "    pred3, contours, hierarchy = cv2.findContours(pred.astype(np.uint8),cv2.RETR_TREE, cv2.CHAIN_APPROX_NONE)\n",
    "    pred_contour = cv2.drawContours(np.zeros_like(pred3), contours, -1, 255, 1)    \n",
    "    distance = cdist(gt_contour, pred_contour, 'euclidean')\n",
    "    dist1 = np.mean(np.min(distance, axis=0))\n",
    "    dist2 = np.mean(np.min(distance, axis=1))\n",
    "    return max(dist1, dist2)"
   ]
  },
  {
   "cell_type": "code",
   "execution_count": null,
   "metadata": {},
   "outputs": [],
   "source": [
    "mod_hausdorff_distance(groundtruth, predicted1)"
   ]
  },
  {
   "cell_type": "code",
   "execution_count": null,
   "metadata": {},
   "outputs": [],
   "source": [
    "mod_hausdorff_distance(groundtruth, predicted2)"
   ]
  },
  {
   "cell_type": "code",
   "execution_count": null,
   "metadata": {},
   "outputs": [],
   "source": [
    "mod_hausdorff_distance(groundtruth, groundtruth)"
   ]
  },
  {
   "cell_type": "code",
   "execution_count": null,
   "metadata": {},
   "outputs": [],
   "source": [
    "mod_hausdorff_distance(groundtruth, predicted3)"
   ]
  },
  {
   "cell_type": "code",
   "execution_count": null,
   "metadata": {},
   "outputs": [],
   "source": [
    "def mod_hausdorff_distance(gt, pred):\n",
    "    distance = cdist(gt, pred, 'euclidean')\n",
    "    dist1 = np.mean(np.min(distance, axis=0))\n",
    "    dist2 = np.mean(np.min(distance, axis=1))\n",
    "    return max(dist1, dist2)"
   ]
  },
  {
   "cell_type": "code",
   "execution_count": null,
   "metadata": {},
   "outputs": [],
   "source": [
    "mod_hausdorff_distance(groundtruth, predicted1)"
   ]
  },
  {
   "cell_type": "code",
   "execution_count": null,
   "metadata": {},
   "outputs": [],
   "source": [
    "mod_hausdorff_distance(groundtruth, predicted2)"
   ]
  },
  {
   "cell_type": "code",
   "execution_count": null,
   "metadata": {},
   "outputs": [],
   "source": [
    "mod_hausdorff_distance(groundtruth, groundtruth)"
   ]
  },
  {
   "cell_type": "code",
   "execution_count": null,
   "metadata": {},
   "outputs": [],
   "source": [
    "mod_hausdorff_distance(groundtruth, predicted3)"
   ]
  },
  {
   "cell_type": "markdown",
   "metadata": {},
   "source": [
    "using the scipy implementation of directed_hausdorff"
   ]
  },
  {
   "cell_type": "code",
   "execution_count": null,
   "metadata": {},
   "outputs": [],
   "source": [
    "from scipy.spatial.distance import directed_hausdorff"
   ]
  },
  {
   "cell_type": "code",
   "execution_count": null,
   "metadata": {},
   "outputs": [],
   "source": [
    "directed_hausdorff(groundtruth, predicted1)[0]"
   ]
  },
  {
   "cell_type": "code",
   "execution_count": null,
   "metadata": {},
   "outputs": [],
   "source": [
    "max(directed_hausdorff(groundtruth, predicted1)[0], directed_hausdorff(predicted1, groundtruth)[0])"
   ]
  },
  {
   "cell_type": "markdown",
   "metadata": {},
   "source": [
    "## Average surface error\n",
    "mean of minimum per-vertex surface distances"
   ]
  },
  {
   "cell_type": "code",
   "execution_count": null,
   "metadata": {},
   "outputs": [],
   "source": [
    "def average_surface_error(gt, pred):\n",
    "    gt3, contours, hierarchy = cv2.findContours(gt.astype(np.uint8),cv2.RETR_TREE, cv2.CHAIN_APPROX_NONE)\n",
    "    gt_contour = cv2.drawContours(np.zeros_like(gt3), contours, -1, 255, 1)\n",
    "    pred3, contours, hierarchy = cv2.findContours(pred.astype(np.uint8),cv2.RETR_TREE, cv2.CHAIN_APPROX_NONE)\n",
    "    pred_contour = cv2.drawContours(np.zeros_like(pred3), contours, -1, 255, 1)    \n",
    "    distance = cdist(gt_contour, pred_contour, 'euclidean')\n",
    "    dist1 = np.sum(np.min(distance, axis=0))/np.sum(pred_contour==255) # first term\n",
    "    dist2 = np.sum(np.min(distance, axis=1))/np.sum(gt_contour==255) # second term\n",
    "    return 1/2*(dist1+dist2)"
   ]
  },
  {
   "cell_type": "code",
   "execution_count": null,
   "metadata": {},
   "outputs": [],
   "source": [
    "average_surface_error(groundtruth, predicted1)"
   ]
  },
  {
   "cell_type": "code",
   "execution_count": null,
   "metadata": {},
   "outputs": [],
   "source": [
    "average_surface_error(groundtruth, predicted2)"
   ]
  },
  {
   "cell_type": "code",
   "execution_count": null,
   "metadata": {},
   "outputs": [],
   "source": [
    "average_surface_error(groundtruth, groundtruth)"
   ]
  },
  {
   "cell_type": "code",
   "execution_count": null,
   "metadata": {},
   "outputs": [],
   "source": [
    "average_surface_error(groundtruth, predicted3)"
   ]
  },
  {
   "cell_type": "code",
   "execution_count": null,
   "metadata": {},
   "outputs": [],
   "source": [
    "def average_surface_error(gt, pred, k=255):\n",
    "    distance = cdist(gt, pred, 'euclidean')\n",
    "    dist1 = np.sum(np.min(distance, axis=0))/np.sum(pred==k) # first term\n",
    "    dist2 = np.sum(np.min(distance, axis=1))/np.sum(gt==k) # second term\n",
    "    return 1/2*(dist1+dist2)"
   ]
  },
  {
   "cell_type": "code",
   "execution_count": null,
   "metadata": {},
   "outputs": [],
   "source": [
    "average_surface_error(groundtruth, predicted1)"
   ]
  },
  {
   "cell_type": "code",
   "execution_count": null,
   "metadata": {},
   "outputs": [],
   "source": [
    "average_surface_error(groundtruth, predicted2)"
   ]
  },
  {
   "cell_type": "code",
   "execution_count": null,
   "metadata": {},
   "outputs": [],
   "source": [
    "average_surface_error(groundtruth, groundtruth)"
   ]
  },
  {
   "cell_type": "code",
   "execution_count": null,
   "metadata": {},
   "outputs": [],
   "source": [
    "average_surface_error(groundtruth, predicted3)"
   ]
  },
  {
   "cell_type": "code",
   "execution_count": null,
   "metadata": {},
   "outputs": [],
   "source": []
  },
  {
   "cell_type": "markdown",
   "metadata": {},
   "source": [
    "## Test SVM Features"
   ]
  },
  {
   "cell_type": "code",
   "execution_count": null,
   "metadata": {},
   "outputs": [],
   "source": [
    "from SVMFeatures import SVMFeatures"
   ]
  },
  {
   "cell_type": "code",
   "execution_count": null,
   "metadata": {},
   "outputs": [],
   "source": [
    "features = SVMFeatures([predicted2], [groundtruth], [predicted1], k=255)\n",
    "features.segm_value"
   ]
  },
  {
   "cell_type": "code",
   "execution_count": null,
   "metadata": {},
   "outputs": [],
   "source": [
    "features.calculate_dependent_features()"
   ]
  },
  {
   "cell_type": "code",
   "execution_count": null,
   "metadata": {},
   "outputs": [],
   "source": [
    "features.dice_coeff([groundtruth], [predicted1], k=255)"
   ]
  },
  {
   "cell_type": "code",
   "execution_count": null,
   "metadata": {},
   "outputs": [],
   "source": [
    "features.jaccard_distance([groundtruth], [predicted1], k=255)"
   ]
  },
  {
   "cell_type": "code",
   "execution_count": null,
   "metadata": {},
   "outputs": [],
   "source": [
    "features.hausdorff_distance([groundtruth], [predicted1])"
   ]
  },
  {
   "cell_type": "code",
   "execution_count": null,
   "metadata": {},
   "outputs": [],
   "source": [
    "features.mod_hausdorff_distance([groundtruth], [predicted1], k=255)"
   ]
  },
  {
   "cell_type": "code",
   "execution_count": null,
   "metadata": {},
   "outputs": [],
   "source": [
    "features.average_surface_error([groundtruth], [predicted1], k=255)"
   ]
  },
  {
   "cell_type": "code",
   "execution_count": null,
   "metadata": {},
   "outputs": [],
   "source": []
  }
 ],
 "metadata": {
  "kernelspec": {
   "display_name": "Python 3",
   "language": "python",
   "name": "python3"
  },
  "language_info": {
   "codemirror_mode": {
    "name": "ipython",
    "version": 3
   },
   "file_extension": ".py",
   "mimetype": "text/x-python",
   "name": "python",
   "nbconvert_exporter": "python",
   "pygments_lexer": "ipython3",
   "version": "3.6.10"
  }
 },
 "nbformat": 4,
 "nbformat_minor": 4
}
