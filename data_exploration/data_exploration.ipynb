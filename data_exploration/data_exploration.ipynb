{
 "cells": [
  {
   "cell_type": "markdown",
   "metadata": {},
   "source": [
    "# Data Exploration\n",
    "\n",
    "author = Caroline Magg <br>\n",
    "date = 31 March 2020 <br>\n",
    "\n",
    "___________________________________\n",
    "history: <br>\n",
    "2020-03-31 <br>\n",
    "inspect single folder content <br>\n",
    "write methods for reading structure, contour names and contour content <br>\n",
    "2020-04-02 <br>\n",
    "generate list of contours <br>\n",
    "2020-04-12 <br>\n",
    "change utils_read to utils_explore and adapt to folderstructure"
   ]
  },
  {
   "cell_type": "code",
   "execution_count": 1,
   "metadata": {},
   "outputs": [],
   "source": [
    "import os\n",
    "import sys\n",
    "import numpy as np\n",
    "import matplotlib.pyplot as plt\n",
    "import pandas as pd\n",
    "import cv2\n",
    "import pydicom\n",
    "import vtk"
   ]
  },
  {
   "cell_type": "code",
   "execution_count": 2,
   "metadata": {},
   "outputs": [],
   "source": [
    "%matplotlib inline"
   ]
  },
  {
   "cell_type": "markdown",
   "metadata": {},
   "source": [
    "### Add paths and dependencies\n",
    "This can vary depending on your environment"
   ]
  },
  {
   "cell_type": "code",
   "execution_count": 7,
   "metadata": {},
   "outputs": [],
   "source": [
    "# add KidsBrainProject main folder to paths\n",
    "sys.path.append(os.path.abspath('../../'))\n",
    "sys.path.append(os.path.abspath('../utils/'))"
   ]
  },
  {
   "cell_type": "code",
   "execution_count": 8,
   "metadata": {},
   "outputs": [],
   "source": [
    "# add path to data here\n",
    "path_data = \"../../Data/\" "
   ]
  },
  {
   "cell_type": "code",
   "execution_count": 10,
   "metadata": {},
   "outputs": [],
   "source": [
    "from utils_explore import read_structure,read_contour,read_contour_names,read_contour_row"
   ]
  },
  {
   "cell_type": "markdown",
   "metadata": {},
   "source": [
    "# Inspect single folder content"
   ]
  },
  {
   "cell_type": "code",
   "execution_count": 11,
   "metadata": {},
   "outputs": [
    {
     "data": {
      "text/plain": [
       "['CT',\n",
       " 'RD.Jacks1IMPT.dcm',\n",
       " 'RD.Jacks1IMPTb.dcm',\n",
       " 'RS.Jacks1.dcm',\n",
       " 'T1 +C 3-15-16',\n",
       " 'T1 +C 3-23-16',\n",
       " 'T1 +C 4-29-16',\n",
       " 'T2 CISS 3-15-16',\n",
       " 'T2 CUBE 4-29-16']"
      ]
     },
     "execution_count": 11,
     "metadata": {},
     "output_type": "execute_result"
    }
   ],
   "source": [
    "idx = 1\n",
    "folder_name = os.path.join(path_data, str(idx))\n",
    "folder = os.listdir(folder_name)\n",
    "folder"
   ]
  },
  {
   "cell_type": "markdown",
   "metadata": {},
   "source": [
    "### CT"
   ]
  },
  {
   "cell_type": "code",
   "execution_count": 12,
   "metadata": {},
   "outputs": [
    {
     "data": {
      "text/plain": [
       "['CT.1.1.dcm', 'CT.1.10.dcm', 'CT.1.100.dcm', 'CT.1.101.dcm', 'CT.1.102.dcm']"
      ]
     },
     "execution_count": 12,
     "metadata": {},
     "output_type": "execute_result"
    }
   ],
   "source": [
    "folder_ct_name = os.path.join(path_data, str(idx),'CT')\n",
    "folder_ct = os.listdir(folder_ct_name)\n",
    "folder_ct[:5]"
   ]
  },
  {
   "cell_type": "code",
   "execution_count": 13,
   "metadata": {},
   "outputs": [
    {
     "data": {
      "text/plain": [
       "292"
      ]
     },
     "execution_count": 13,
     "metadata": {},
     "output_type": "execute_result"
    }
   ],
   "source": [
    "df_ct = read_structure(folder_ct_name)\n",
    "len(df_ct)"
   ]
  },
  {
   "cell_type": "markdown",
   "metadata": {},
   "source": [
    "### MRI"
   ]
  },
  {
   "cell_type": "code",
   "execution_count": 14,
   "metadata": {},
   "outputs": [
    {
     "data": {
      "text/plain": [
       "['MR.1.1.dcm', 'MR.1.10.dcm', 'MR.1.100.dcm', 'MR.1.101.dcm', 'MR.1.102.dcm']"
      ]
     },
     "execution_count": 14,
     "metadata": {},
     "output_type": "execute_result"
    }
   ],
   "source": [
    "folder_mri_name = os.path.join(path_data, str(idx),'T1 +C 3-15-16')\n",
    "folder_mri = os.listdir(folder_mri_name)\n",
    "folder_mri[:5]"
   ]
  },
  {
   "cell_type": "code",
   "execution_count": 15,
   "metadata": {},
   "outputs": [
    {
     "data": {
      "text/plain": [
       "292"
      ]
     },
     "execution_count": 15,
     "metadata": {},
     "output_type": "execute_result"
    }
   ],
   "source": [
    "df_mri = read_structure(folder_mri_name)\n",
    "len(df_mri)"
   ]
  },
  {
   "cell_type": "markdown",
   "metadata": {},
   "source": [
    "### Contours"
   ]
  },
  {
   "cell_type": "code",
   "execution_count": 16,
   "metadata": {},
   "outputs": [],
   "source": [
    "path_contours = os.path.join(path_data, str(idx), 'RS.Jacks1.dcm')"
   ]
  },
  {
   "cell_type": "code",
   "execution_count": 17,
   "metadata": {},
   "outputs": [
    {
     "name": "stdout",
     "output_type": "stream",
     "text": [
      "number of ROIs 104\n"
     ]
    },
    {
     "data": {
      "text/plain": [
       "104"
      ]
     },
     "execution_count": 17,
     "metadata": {},
     "output_type": "execute_result"
    }
   ],
   "source": [
    "df_contours = read_contour_names(path_contours)\n",
    "len(df_contours)"
   ]
  },
  {
   "cell_type": "code",
   "execution_count": 18,
   "metadata": {
    "scrolled": true
   },
   "outputs": [
    {
     "name": "stdout",
     "output_type": "stream",
     "text": [
      "number of ROIs 104\n",
      "0 Body\n",
      "number of contour 293\n",
      "1 Brain\n",
      "number of contour 177\n",
      "2 Brainstem\n",
      "number of contour 51\n",
      "3 BrainstemCore\n",
      "number of contour 51\n",
      "4 BrainstemSurf\n",
      "number of contour 102\n",
      "5 BrainSupraTent\n",
      "number of contour 248\n",
      "6 CochleaLt\n",
      "number of contour 5\n",
      "7 CochleaRt\n",
      "number of contour 4\n",
      "8 CTV\n",
      "number of contour 38\n",
      "9 GTV\n",
      "number of contour 34\n",
      "10 HippoHeadLt\n",
      "number of contour 17\n",
      "11 HippoHeadRt\n",
      "number of contour 16\n",
      "12 HippoTailLt\n",
      "number of contour 21\n",
      "13 HippoTailRt\n",
      "number of contour 21\n",
      "14 Hypothalamus\n",
      "number of contour 20\n",
      "15 LacrimalLt\n",
      "number of contour 17\n",
      "16 LacrimalRt\n",
      "number of contour 19\n",
      "17 LensLt\n",
      "number of contour 9\n",
      "18 LensRt\n",
      "number of contour 8\n",
      "19 MastoidLt\n",
      "number of contour 36\n",
      "20 MastoidRt\n",
      "number of contour 37\n",
      "21 NonTargetBody\n",
      "number of contour 337\n",
      "22 NonTargetBrain\n",
      "number of contour 194\n",
      "23 NPX\n",
      "number of contour 16\n",
      "24 OpticChiasm\n",
      "number of contour 3\n",
      "25 OpticNerveLt\n",
      "number of contour 16\n",
      "26 OpticNerveRt\n",
      "number of contour 14\n",
      "27 Pituitary\n",
      "number of contour 4\n",
      "28 zPlanBody\n",
      "number of contour 340\n",
      "29 Preop tumor\n",
      "number of contour 42\n",
      "30 PTV1\n",
      "number of contour 44\n",
      "31 PTV2\n",
      "number of contour 40\n",
      "32 RetinaLt\n",
      "number of contour 25\n",
      "33 RetinaRt\n",
      "number of contour 24\n",
      "34 Scalp\n",
      "number of contour 317\n",
      "35 SpinalCord\n",
      "number of contour 60\n",
      "36 TemporalLobeLt\n",
      "number of contour 63\n",
      "37 TemporalLobeRt\n",
      "number of contour 66\n",
      "38 Z_Area of  conce\n",
      "number of contour 33\n",
      "39 zBS+3mm\n",
      "number of contour 57\n",
      "40 zCord+3mm\n",
      "number of contour 66\n",
      "41 C1A\n",
      "number of contour 1\n",
      "42 PCL\n",
      "number of contour 1\n",
      "43 FS\n",
      "number of contour 1\n",
      "44 HP\n",
      "number of contour 1\n",
      "45 LSW\n",
      "number of contour 1\n",
      "46 RSW\n",
      "number of contour 1\n",
      "47 LM\n",
      "number of contour 1\n",
      "48 RM\n",
      "number of contour 1\n",
      "49 RIP\n",
      "number of contour 1\n",
      "50 LIP\n",
      "number of contour 1\n",
      "51 BrainInfratent\n",
      "number of contour 188\n",
      "52 HippocampusRt\n",
      "number of contour 29\n",
      "53 HippocampusLt\n",
      "number of contour 31\n",
      "54 Corpus callosum\n",
      "number of contour 55\n",
      "55 LFWM\n",
      "number of contour 36\n",
      "56 oPTV1\n",
      "number of contour 44\n",
      "57 oPTV2\n",
      "number of contour 40\n",
      "58 SVZ L\n",
      "number of contour 82\n",
      "59 SVZ R\n",
      "number of contour 83\n",
      "60 Dose 102.8[%]\n",
      "number of contour 28\n",
      "61 Dentate nucleus\n",
      "number of contour 11\n",
      "62 FrontalLobe_L\n",
      "number of contour 120\n",
      "63 Thalamus right\n",
      "number of contour 18\n",
      "64 Thalamus ant R\n",
      "number of contour 5\n",
      "65 Mam. bodies\n",
      "number of contour 5\n",
      "66 Mam.thal.tract R\n",
      "number of contour 17\n",
      "67 Cingulum right\n",
      "number of contour 69\n",
      "68 Entorhinal cor.R\n",
      "number of contour 29\n",
      "69 Fornix\n",
      "number of contour 61\n",
      "70 Amydgala right\n",
      "number of contour 18\n",
      "71 Thalamus left\n",
      "number of contour 20\n",
      "72 Cingulum left\n",
      "number of contour 70\n",
      "73 Thalamus ant L\n",
      "number of contour 5\n",
      "74 Mam.thal.tract L\n",
      "number of contour 17\n",
      "75 Amydgala left\n",
      "number of contour 18\n",
      "76 Entorhinal cor.L\n",
      "number of contour 37\n",
      "77 ovrlp-BS_PTV2\n",
      "number of contour 39\n",
      "78 ovrlp-BS_PTV1\n",
      "number of contour 40\n",
      "79 ovrlp-SC_PTV1\n",
      "number of contour 4\n",
      "80 Dose 104[%]\n",
      "number of contour 5\n",
      "81 Dose 103.7[%]\n",
      "number of contour 18\n",
      "82 Medulla C1\n",
      "number of contour 20\n",
      "83 Medulla C2C3\n",
      "number of contour 23\n",
      "84 Parietal L R\n",
      "number of contour 65\n",
      "85 Dose 95[%]\n",
      "number of contour 42\n",
      "86 Ant Thalamus R\n",
      "number of contour 18\n",
      "87 Ant Thalamus L\n",
      "number of contour 20\n",
      "88 ExtraThalamic R\n",
      "number of contour 7\n",
      "89 ExtraThalamic L\n",
      "number of contour 7\n",
      "90 Cerebellum Jacks\n",
      "number of contour 70\n",
      "91 ovrlpPTV2\n",
      "number of contour 40\n",
      "92 ovrlpPTV1\n",
      "number of contour 44\n",
      "93 CerebellumAnt LT\n",
      "number of contour 50\n",
      "94 sulci\n",
      "number of contour 56\n",
      "95 sulci1\n",
      "number of contour 76\n",
      "96 Parietal L L2\n",
      "number of contour 67\n",
      "97 sulci2\n",
      "number of contour 212\n",
      "98 FrontalLobe_R2\n",
      "number of contour 109\n",
      "99 CG L\n",
      "number of contour 117\n",
      "100 CG R\n",
      "number of contour 113\n",
      "101 Cerebel ANT YL\n",
      "number of contour 53\n",
      "102 Cerebell POST YL\n",
      "number of contour 72\n",
      "103 PapezCircle\n",
      "number of contour 455\n",
      "5973 (5973,)\n"
     ]
    },
    {
     "data": {
      "text/plain": [
       "5973"
      ]
     },
     "execution_count": 18,
     "metadata": {},
     "output_type": "execute_result"
    }
   ],
   "source": [
    "contours = read_contour(path_contours, df_contours)\n",
    "len(contours)"
   ]
  },
  {
   "cell_type": "code",
   "execution_count": null,
   "metadata": {},
   "outputs": [],
   "source": []
  },
  {
   "cell_type": "markdown",
   "metadata": {},
   "source": [
    "# Inspect first 10 folders and generate contours list"
   ]
  },
  {
   "cell_type": "code",
   "execution_count": null,
   "metadata": {},
   "outputs": [],
   "source": [
    "contours_all = []\n",
    "for idx in range(1,11):\n",
    "    folder_name = os.path.join(path_data, str(idx))\n",
    "    rs_file = [x for x in os.listdir(folder_name) if 'RS' in x]    \n",
    "    path_contours = os.path.join(path_data, str(idx), rs_file[0])\n",
    "    contours_all.append(read_contour_names(path_contours))\n",
    "len(contours_all)"
   ]
  },
  {
   "cell_type": "code",
   "execution_count": null,
   "metadata": {
    "scrolled": true
   },
   "outputs": [],
   "source": [
    "df_all = pd.DataFrame(columns=['ID','RoiNumber','RoiName','Count'])\n",
    "for i in range(len(contours_all)):\n",
    "    df_single = contours_all[i]\n",
    "    for j in range(len(df_single)):\n",
    "        row = df_single.loc[j]\n",
    "        if row['RoiName'] not in df_all['RoiName'].values:\n",
    "            row['Count'] = [i+1]\n",
    "            df_all = df_all.append(row)\n",
    "        else:\n",
    "            idx = np.where(df_all['RoiName'] == row['RoiName'])[0][0]\n",
    "            row = df_all.iloc[idx]\n",
    "            row['Count'].append(i+1)"
   ]
  },
  {
   "cell_type": "code",
   "execution_count": null,
   "metadata": {},
   "outputs": [],
   "source": [
    "len(df_all)"
   ]
  },
  {
   "cell_type": "code",
   "execution_count": null,
   "metadata": {},
   "outputs": [],
   "source": [
    "df_all"
   ]
  },
  {
   "cell_type": "code",
   "execution_count": null,
   "metadata": {},
   "outputs": [],
   "source": [
    "np.unique(df_all['RoiName'])"
   ]
  },
  {
   "cell_type": "code",
   "execution_count": null,
   "metadata": {},
   "outputs": [],
   "source": [
    "df_all.to_csv('all_unique_contours.csv',index=False)"
   ]
  },
  {
   "cell_type": "code",
   "execution_count": null,
   "metadata": {},
   "outputs": [],
   "source": []
  },
  {
   "cell_type": "code",
   "execution_count": null,
   "metadata": {},
   "outputs": [],
   "source": []
  },
  {
   "cell_type": "code",
   "execution_count": null,
   "metadata": {},
   "outputs": [],
   "source": []
  }
 ],
 "metadata": {
  "kernelspec": {
   "display_name": "Python 3",
   "language": "python",
   "name": "python3"
  },
  "language_info": {
   "codemirror_mode": {
    "name": "ipython",
    "version": 3
   },
   "file_extension": ".py",
   "mimetype": "text/x-python",
   "name": "python",
   "nbconvert_exporter": "python",
   "pygments_lexer": "ipython3",
   "version": "3.6.5"
  }
 },
 "nbformat": 4,
 "nbformat_minor": 2
}
