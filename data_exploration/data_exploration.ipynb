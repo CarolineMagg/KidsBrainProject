{
 "cells": [
  {
   "cell_type": "markdown",
   "metadata": {},
   "source": [
    "# Data Exploration\n",
    "\n",
    "author = Caroline Magg <br>\n",
    "date = 31 March 2020 <br>\n",
    "\n",
    "___________________________________\n",
    "history: <br>\n",
    "2020-03-31 <br>\n",
    "inspect single folder content <br>\n",
    "write methods for reading structure, contour names and contour content <br>\n",
    "2020-04-02 <br>\n",
    "generate list of contours <br>\n",
    "2020-04-12 <br>\n",
    "change utils_read to utils_explore and adapt to folderstructure\n",
    "2020-09-16 <br>\n",
    "generate list of contours for all folders <br>"
   ]
  },
  {
   "cell_type": "code",
   "execution_count": 1,
   "metadata": {},
   "outputs": [],
   "source": [
    "import os\n",
    "import sys\n",
    "import numpy as np\n",
    "import matplotlib.pyplot as plt\n",
    "import pandas as pd\n",
    "import cv2\n",
    "import pydicom\n",
    "import vtk"
   ]
  },
  {
   "cell_type": "code",
   "execution_count": 2,
   "metadata": {},
   "outputs": [],
   "source": [
    "%matplotlib inline"
   ]
  },
  {
   "cell_type": "markdown",
   "metadata": {},
   "source": [
    "### Add paths and dependencies\n",
    "This can vary depending on your environment"
   ]
  },
  {
   "cell_type": "code",
   "execution_count": 3,
   "metadata": {},
   "outputs": [],
   "source": [
    "# add KidsBrainProject main folder to paths\n",
    "sys.path.append(os.path.abspath('../../'))\n",
    "sys.path.append(os.path.abspath('../utils/'))"
   ]
  },
  {
   "cell_type": "code",
   "execution_count": 4,
   "metadata": {},
   "outputs": [],
   "source": [
    "# add path to data here\n",
    "path_data = \"../../Data/\" "
   ]
  },
  {
   "cell_type": "code",
   "execution_count": 5,
   "metadata": {},
   "outputs": [],
   "source": [
    "from utils_explore import read_structure,read_contour,read_contour_names,read_contour_row"
   ]
  },
  {
   "cell_type": "markdown",
   "metadata": {},
   "source": [
    "# Inspect single folder content"
   ]
  },
  {
   "cell_type": "code",
   "execution_count": 6,
   "metadata": {},
   "outputs": [
    {
     "data": {
      "text/plain": [
       "['CT',\n",
       " 'RD.Jacks1IMPT.dcm',\n",
       " 'RD.Jacks1IMPTb.dcm',\n",
       " 'RS.Jacks1.dcm',\n",
       " 'Segmentation',\n",
       " 'T1 +C 3-15-16',\n",
       " 'T1 +C 3-23-16',\n",
       " 'T1 +C 4-29-16',\n",
       " 'T2 CISS 3-15-16',\n",
       " 'T2 CUBE 4-29-16']"
      ]
     },
     "execution_count": 6,
     "metadata": {},
     "output_type": "execute_result"
    }
   ],
   "source": [
    "idx = 1\n",
    "folder_name = os.path.join(path_data, str(idx))\n",
    "folder = os.listdir(folder_name)\n",
    "folder"
   ]
  },
  {
   "cell_type": "markdown",
   "metadata": {},
   "source": [
    "### CT"
   ]
  },
  {
   "cell_type": "code",
   "execution_count": 7,
   "metadata": {},
   "outputs": [
    {
     "data": {
      "text/plain": [
       "['CT.1.1.dcm', 'CT.1.10.dcm', 'CT.1.100.dcm', 'CT.1.101.dcm', 'CT.1.102.dcm']"
      ]
     },
     "execution_count": 7,
     "metadata": {},
     "output_type": "execute_result"
    }
   ],
   "source": [
    "folder_ct_name = os.path.join(path_data, str(idx),'CT')\n",
    "folder_ct = os.listdir(folder_ct_name)\n",
    "folder_ct[:5]"
   ]
  },
  {
   "cell_type": "code",
   "execution_count": 8,
   "metadata": {},
   "outputs": [
    {
     "data": {
      "text/plain": [
       "292"
      ]
     },
     "execution_count": 8,
     "metadata": {},
     "output_type": "execute_result"
    }
   ],
   "source": [
    "df_ct = read_structure(folder_ct_name)\n",
    "len(df_ct)"
   ]
  },
  {
   "cell_type": "markdown",
   "metadata": {},
   "source": [
    "### MRI"
   ]
  },
  {
   "cell_type": "code",
   "execution_count": 9,
   "metadata": {},
   "outputs": [
    {
     "data": {
      "text/plain": [
       "['MR.1.1.dcm', 'MR.1.10.dcm', 'MR.1.100.dcm', 'MR.1.101.dcm', 'MR.1.102.dcm']"
      ]
     },
     "execution_count": 9,
     "metadata": {},
     "output_type": "execute_result"
    }
   ],
   "source": [
    "folder_mri_name = os.path.join(path_data, str(idx),'T1 +C 3-15-16')\n",
    "folder_mri = os.listdir(folder_mri_name)\n",
    "folder_mri[:5]"
   ]
  },
  {
   "cell_type": "code",
   "execution_count": 10,
   "metadata": {},
   "outputs": [
    {
     "data": {
      "text/plain": [
       "292"
      ]
     },
     "execution_count": 10,
     "metadata": {},
     "output_type": "execute_result"
    }
   ],
   "source": [
    "df_mri = read_structure(folder_mri_name)\n",
    "len(df_mri)"
   ]
  },
  {
   "cell_type": "markdown",
   "metadata": {},
   "source": [
    "### Contours"
   ]
  },
  {
   "cell_type": "code",
   "execution_count": 11,
   "metadata": {},
   "outputs": [],
   "source": [
    "path_contours = os.path.join(path_data, str(idx), 'RS.Jacks1.dcm')"
   ]
  },
  {
   "cell_type": "code",
   "execution_count": 12,
   "metadata": {},
   "outputs": [
    {
     "name": "stdout",
     "output_type": "stream",
     "text": [
      "number of ROIs 104\n"
     ]
    },
    {
     "data": {
      "text/plain": [
       "104"
      ]
     },
     "execution_count": 12,
     "metadata": {},
     "output_type": "execute_result"
    }
   ],
   "source": [
    "df_contours = read_contour_names(path_contours)\n",
    "len(df_contours)"
   ]
  },
  {
   "cell_type": "code",
   "execution_count": 13,
   "metadata": {
    "scrolled": true
   },
   "outputs": [
    {
     "name": "stdout",
     "output_type": "stream",
     "text": [
      "number of ROIs 104\n",
      "0 Body\n",
      "number of contour 293\n",
      "1 Brain\n",
      "number of contour 177\n",
      "2 Brainstem\n",
      "number of contour 51\n",
      "3 BrainstemCore\n",
      "number of contour 51\n",
      "4 BrainstemSurf\n",
      "number of contour 102\n",
      "5 BrainSupraTent\n",
      "number of contour 248\n",
      "6 CochleaLt\n",
      "number of contour 5\n",
      "7 CochleaRt\n",
      "number of contour 4\n",
      "8 CTV\n",
      "number of contour 38\n",
      "9 GTV\n",
      "number of contour 34\n",
      "10 HippoHeadLt\n",
      "number of contour 17\n",
      "11 HippoHeadRt\n",
      "number of contour 16\n",
      "12 HippoTailLt\n",
      "number of contour 21\n",
      "13 HippoTailRt\n",
      "number of contour 21\n",
      "14 Hypothalamus\n",
      "number of contour 20\n",
      "15 LacrimalLt\n",
      "number of contour 17\n",
      "16 LacrimalRt\n",
      "number of contour 19\n",
      "17 LensLt\n",
      "number of contour 9\n",
      "18 LensRt\n",
      "number of contour 8\n",
      "19 MastoidLt\n",
      "number of contour 36\n",
      "20 MastoidRt\n",
      "number of contour 37\n",
      "21 NonTargetBody\n",
      "number of contour 337\n",
      "22 NonTargetBrain\n",
      "number of contour 194\n",
      "23 NPX\n",
      "number of contour 16\n",
      "24 OpticChiasm\n",
      "number of contour 3\n",
      "25 OpticNerveLt\n",
      "number of contour 16\n",
      "26 OpticNerveRt\n",
      "number of contour 14\n",
      "27 Pituitary\n",
      "number of contour 4\n",
      "28 zPlanBody\n",
      "number of contour 340\n",
      "29 Preop tumor\n",
      "number of contour 42\n",
      "30 PTV1\n",
      "number of contour 44\n",
      "31 PTV2\n",
      "number of contour 40\n",
      "32 RetinaLt\n",
      "number of contour 25\n",
      "33 RetinaRt\n",
      "number of contour 24\n",
      "34 Scalp\n",
      "number of contour 317\n",
      "35 SpinalCord\n",
      "number of contour 60\n",
      "36 TemporalLobeLt\n",
      "number of contour 63\n",
      "37 TemporalLobeRt\n",
      "number of contour 66\n",
      "38 Z_Area of  conce\n",
      "number of contour 33\n",
      "39 zBS+3mm\n",
      "number of contour 57\n",
      "40 zCord+3mm\n",
      "number of contour 66\n",
      "41 C1A\n",
      "number of contour 1\n",
      "42 PCL\n",
      "number of contour 1\n",
      "43 FS\n",
      "number of contour 1\n",
      "44 HP\n",
      "number of contour 1\n",
      "45 LSW\n",
      "number of contour 1\n",
      "46 RSW\n",
      "number of contour 1\n",
      "47 LM\n",
      "number of contour 1\n",
      "48 RM\n",
      "number of contour 1\n",
      "49 RIP\n",
      "number of contour 1\n",
      "50 LIP\n",
      "number of contour 1\n",
      "51 BrainInfratent\n",
      "number of contour 188\n",
      "52 HippocampusRt\n",
      "number of contour 29\n",
      "53 HippocampusLt\n",
      "number of contour 31\n",
      "54 Corpus callosum\n",
      "number of contour 55\n",
      "55 LFWM\n",
      "number of contour 36\n",
      "56 oPTV1\n",
      "number of contour 44\n",
      "57 oPTV2\n",
      "number of contour 40\n",
      "58 SVZ L\n",
      "number of contour 82\n",
      "59 SVZ R\n",
      "number of contour 83\n",
      "60 Dose 102.8[%]\n",
      "number of contour 28\n",
      "61 Dentate nucleus\n",
      "number of contour 11\n",
      "62 FrontalLobe_L\n",
      "number of contour 120\n",
      "63 Thalamus right\n",
      "number of contour 18\n",
      "64 Thalamus ant R\n",
      "number of contour 5\n",
      "65 Mam. bodies\n",
      "number of contour 5\n",
      "66 Mam.thal.tract R\n",
      "number of contour 17\n",
      "67 Cingulum right\n",
      "number of contour 69\n",
      "68 Entorhinal cor.R\n",
      "number of contour 29\n",
      "69 Fornix\n",
      "number of contour 61\n",
      "70 Amydgala right\n",
      "number of contour 18\n",
      "71 Thalamus left\n",
      "number of contour 20\n",
      "72 Cingulum left\n",
      "number of contour 70\n",
      "73 Thalamus ant L\n",
      "number of contour 5\n",
      "74 Mam.thal.tract L\n",
      "number of contour 17\n",
      "75 Amydgala left\n",
      "number of contour 18\n",
      "76 Entorhinal cor.L\n",
      "number of contour 37\n",
      "77 ovrlp-BS_PTV2\n",
      "number of contour 39\n",
      "78 ovrlp-BS_PTV1\n",
      "number of contour 40\n",
      "79 ovrlp-SC_PTV1\n",
      "number of contour 4\n",
      "80 Dose 104[%]\n",
      "number of contour 5\n",
      "81 Dose 103.7[%]\n",
      "number of contour 18\n",
      "82 Medulla C1\n",
      "number of contour 20\n",
      "83 Medulla C2C3\n",
      "number of contour 23\n",
      "84 Parietal L R\n",
      "number of contour 65\n",
      "85 Dose 95[%]\n",
      "number of contour 42\n",
      "86 Ant Thalamus R\n",
      "number of contour 18\n",
      "87 Ant Thalamus L\n",
      "number of contour 20\n",
      "88 ExtraThalamic R\n",
      "number of contour 7\n",
      "89 ExtraThalamic L\n",
      "number of contour 7\n",
      "90 Cerebellum Jacks\n",
      "number of contour 70\n",
      "91 ovrlpPTV2\n",
      "number of contour 40\n",
      "92 ovrlpPTV1\n",
      "number of contour 44\n",
      "93 CerebellumAnt LT\n",
      "number of contour 50\n",
      "94 sulci\n",
      "number of contour 56\n",
      "95 sulci1\n",
      "number of contour 76\n",
      "96 Parietal L L2\n",
      "number of contour 67\n",
      "97 sulci2\n",
      "number of contour 212\n",
      "98 FrontalLobe_R2\n",
      "number of contour 109\n",
      "99 CG L\n",
      "number of contour 117\n",
      "100 CG R\n",
      "number of contour 113\n",
      "101 Cerebel ANT YL\n",
      "number of contour 53\n",
      "102 Cerebell POST YL\n",
      "number of contour 72\n",
      "103 PapezCircle\n",
      "number of contour 455\n",
      "5973 (5973,)\n"
     ]
    },
    {
     "data": {
      "text/plain": [
       "5973"
      ]
     },
     "execution_count": 13,
     "metadata": {},
     "output_type": "execute_result"
    }
   ],
   "source": [
    "contours = read_contour(path_contours, df_contours)\n",
    "len(contours)"
   ]
  },
  {
   "cell_type": "code",
   "execution_count": null,
   "metadata": {},
   "outputs": [],
   "source": []
  },
  {
   "cell_type": "markdown",
   "metadata": {},
   "source": [
    "# Inspect 20 folders and generate contours list"
   ]
  },
  {
   "cell_type": "code",
   "execution_count": 14,
   "metadata": {},
   "outputs": [
    {
     "name": "stdout",
     "output_type": "stream",
     "text": [
      "number of ROIs 104\n",
      "number of ROIs 87\n",
      "number of ROIs 97\n",
      "number of ROIs 95\n",
      "number of ROIs 84\n",
      "number of ROIs 85\n",
      "number of ROIs 90\n",
      "number of ROIs 94\n",
      "number of ROIs 92\n",
      "number of ROIs 84\n",
      "number of ROIs 96\n",
      "number of ROIs 92\n",
      "number of ROIs 90\n",
      "number of ROIs 91\n",
      "number of ROIs 92\n",
      "number of ROIs 92\n",
      "number of ROIs 93\n",
      "number of ROIs 90\n",
      "number of ROIs 87\n",
      "number of ROIs 92\n"
     ]
    },
    {
     "data": {
      "text/plain": [
       "20"
      ]
     },
     "execution_count": 14,
     "metadata": {},
     "output_type": "execute_result"
    }
   ],
   "source": [
    "contours_all = []\n",
    "for idx in range(1,21):\n",
    "    folder_name = os.path.join(path_data, str(idx))\n",
    "    rs_file = [x for x in os.listdir(folder_name) if 'RS' in x]    \n",
    "    path_contours = os.path.join(path_data, str(idx), rs_file[0])\n",
    "    contours_all.append(read_contour_names(path_contours))\n",
    "len(contours_all)"
   ]
  },
  {
   "cell_type": "code",
   "execution_count": 15,
   "metadata": {
    "scrolled": true
   },
   "outputs": [],
   "source": [
    "df_all = pd.DataFrame(columns=['ID','RoiNumber','RoiName','Count'])\n",
    "for i in range(len(contours_all)):\n",
    "    df_single = contours_all[i]\n",
    "    for j in range(len(df_single)):\n",
    "        row = df_single.loc[j]\n",
    "        if row['RoiName'] not in df_all['RoiName'].values:\n",
    "            row['Count'] = [i+1]\n",
    "            df_all = df_all.append(row)\n",
    "        else:\n",
    "            idx = np.where(df_all['RoiName'] == row['RoiName'])[0][0]\n",
    "            row = df_all.iloc[idx]\n",
    "            row['Count'].append(i+1)"
   ]
  },
  {
   "cell_type": "code",
   "execution_count": 16,
   "metadata": {},
   "outputs": [
    {
     "data": {
      "text/plain": [
       "298"
      ]
     },
     "execution_count": 16,
     "metadata": {},
     "output_type": "execute_result"
    }
   ],
   "source": [
    "len(df_all)"
   ]
  },
  {
   "cell_type": "code",
   "execution_count": 17,
   "metadata": {},
   "outputs": [
    {
     "data": {
      "text/html": [
       "<div>\n",
       "<style scoped>\n",
       "    .dataframe tbody tr th:only-of-type {\n",
       "        vertical-align: middle;\n",
       "    }\n",
       "\n",
       "    .dataframe tbody tr th {\n",
       "        vertical-align: top;\n",
       "    }\n",
       "\n",
       "    .dataframe thead th {\n",
       "        text-align: right;\n",
       "    }\n",
       "</style>\n",
       "<table border=\"1\" class=\"dataframe\">\n",
       "  <thead>\n",
       "    <tr style=\"text-align: right;\">\n",
       "      <th></th>\n",
       "      <th>ID</th>\n",
       "      <th>RoiNumber</th>\n",
       "      <th>RoiName</th>\n",
       "      <th>Count</th>\n",
       "    </tr>\n",
       "  </thead>\n",
       "  <tbody>\n",
       "    <tr>\n",
       "      <th>0</th>\n",
       "      <td>0</td>\n",
       "      <td>29</td>\n",
       "      <td>Body</td>\n",
       "      <td>[1, 2, 3, 4, 5, 6, 7, 8, 9, 10, 11, 12, 14, 15...</td>\n",
       "    </tr>\n",
       "    <tr>\n",
       "      <th>1</th>\n",
       "      <td>1</td>\n",
       "      <td>1</td>\n",
       "      <td>Brain</td>\n",
       "      <td>[1, 2, 3, 4, 5, 6, 7, 8, 9, 10, 11, 12, 13, 14...</td>\n",
       "    </tr>\n",
       "    <tr>\n",
       "      <th>2</th>\n",
       "      <td>2</td>\n",
       "      <td>28</td>\n",
       "      <td>Brainstem</td>\n",
       "      <td>[1, 2, 3, 4, 5, 6, 7, 8, 9, 10, 11, 12, 13, 14...</td>\n",
       "    </tr>\n",
       "    <tr>\n",
       "      <th>3</th>\n",
       "      <td>3</td>\n",
       "      <td>3</td>\n",
       "      <td>BrainstemCore</td>\n",
       "      <td>[1, 2, 3, 4, 5, 6, 7, 8, 9, 10, 11, 12, 13, 14...</td>\n",
       "    </tr>\n",
       "    <tr>\n",
       "      <th>4</th>\n",
       "      <td>4</td>\n",
       "      <td>4</td>\n",
       "      <td>BrainstemSurf</td>\n",
       "      <td>[1, 2, 3, 4, 5, 6, 7, 8, 9, 10, 11, 12, 13, 14...</td>\n",
       "    </tr>\n",
       "    <tr>\n",
       "      <th>...</th>\n",
       "      <td>...</td>\n",
       "      <td>...</td>\n",
       "      <td>...</td>\n",
       "      <td>...</td>\n",
       "    </tr>\n",
       "    <tr>\n",
       "      <th>40</th>\n",
       "      <td>40</td>\n",
       "      <td>43</td>\n",
       "      <td>RMP</td>\n",
       "      <td>[20]</td>\n",
       "    </tr>\n",
       "    <tr>\n",
       "      <th>41</th>\n",
       "      <td>41</td>\n",
       "      <td>44</td>\n",
       "      <td>RMA</td>\n",
       "      <td>[20]</td>\n",
       "    </tr>\n",
       "    <tr>\n",
       "      <th>42</th>\n",
       "      <td>42</td>\n",
       "      <td>45</td>\n",
       "      <td>RIM</td>\n",
       "      <td>[20]</td>\n",
       "    </tr>\n",
       "    <tr>\n",
       "      <th>56</th>\n",
       "      <td>56</td>\n",
       "      <td>59</td>\n",
       "      <td>Dose 104b[%]</td>\n",
       "      <td>[20]</td>\n",
       "    </tr>\n",
       "    <tr>\n",
       "      <th>70</th>\n",
       "      <td>70</td>\n",
       "      <td>73</td>\n",
       "      <td>Mamillary bodies</td>\n",
       "      <td>[20]</td>\n",
       "    </tr>\n",
       "  </tbody>\n",
       "</table>\n",
       "<p>298 rows × 4 columns</p>\n",
       "</div>"
      ],
      "text/plain": [
       "    ID RoiNumber           RoiName  \\\n",
       "0    0        29              Body   \n",
       "1    1         1             Brain   \n",
       "2    2        28         Brainstem   \n",
       "3    3         3     BrainstemCore   \n",
       "4    4         4     BrainstemSurf   \n",
       "..  ..       ...               ...   \n",
       "40  40        43               RMP   \n",
       "41  41        44               RMA   \n",
       "42  42        45               RIM   \n",
       "56  56        59      Dose 104b[%]   \n",
       "70  70        73  Mamillary bodies   \n",
       "\n",
       "                                                Count  \n",
       "0   [1, 2, 3, 4, 5, 6, 7, 8, 9, 10, 11, 12, 14, 15...  \n",
       "1   [1, 2, 3, 4, 5, 6, 7, 8, 9, 10, 11, 12, 13, 14...  \n",
       "2   [1, 2, 3, 4, 5, 6, 7, 8, 9, 10, 11, 12, 13, 14...  \n",
       "3   [1, 2, 3, 4, 5, 6, 7, 8, 9, 10, 11, 12, 13, 14...  \n",
       "4   [1, 2, 3, 4, 5, 6, 7, 8, 9, 10, 11, 12, 13, 14...  \n",
       "..                                                ...  \n",
       "40                                               [20]  \n",
       "41                                               [20]  \n",
       "42                                               [20]  \n",
       "56                                               [20]  \n",
       "70                                               [20]  \n",
       "\n",
       "[298 rows x 4 columns]"
      ]
     },
     "execution_count": 17,
     "metadata": {},
     "output_type": "execute_result"
    }
   ],
   "source": [
    "df_all"
   ]
  },
  {
   "cell_type": "code",
   "execution_count": 18,
   "metadata": {},
   "outputs": [
    {
     "data": {
      "text/plain": [
       "array(['ACL', 'Amydala L', 'Amydala R', 'Amydgala L', 'Amydgala LEFT',\n",
       "       'Amydgala R', 'Amydgala left', 'Amydgala right', 'Amygdala L',\n",
       "       'Amygdala R', 'Amygdala left', 'Amygdala right', 'Ant Thalamus L',\n",
       "       'Ant Thalamus R', 'AntThalamus L', 'AntThalamus R', 'BODY', 'BOS',\n",
       "       'Body', 'Body-CTV', 'Brain', 'Brain-CTV', 'BrainInfratent',\n",
       "       'BrainSupraTent', 'Brainstem', 'BrainstemCore', 'BrainstemSurf',\n",
       "       'C INF', 'C POST', 'C1', 'C1 L', 'C1A', 'C1P', 'C2', 'C3', 'CG L',\n",
       "       'CG R', 'CTV', 'CTV1', 'CTV2', 'Cerebel ANT YL', 'CerebelL ANT YL',\n",
       "       'Cerebell  ANT YL', 'Cerebell ANT YL', 'Cerebell POST YL',\n",
       "       'Cerebell YL', 'Cerebellum', 'Cerebellum Jacks', 'Cerebellum YL',\n",
       "       'Cerebellum ant', 'Cerebellum ant1', 'Cerebellum post',\n",
       "       'CerebellumAnt LT', 'CerebellumJacks', 'Cingulum L', 'Cingulum L2',\n",
       "       'Cingulum R', 'Cingulum left', 'Cingulum right',\n",
       "       'Circuit of papez', 'Clips Air', 'Clips Tissue', 'CochleaLt',\n",
       "       'CochleaRt', 'Corpus Callosum', 'Corpus callosum',\n",
       "       'Dentate nucleus', 'Dose 102.5[%]', 'Dose 102.8[%]', 'Dose 102[%]',\n",
       "       'Dose 103.2[%]', 'Dose 103.7[%]', 'Dose 103.8[%]', 'Dose 103[%]',\n",
       "       'Dose 104.7[%]', 'Dose 104[%]', 'Dose 104b[%]', 'Dose 105.8[%]',\n",
       "       'Dose 106.2[%]', 'Dose 106[%]', 'Dose 95[%]', 'Entorhinal C L',\n",
       "       'Entorhinal C L1', 'Entorhinal C R', 'Entorhinal c L',\n",
       "       'Entorhinal c L1', 'Entorhinal c L2', 'Entorhinal c R',\n",
       "       'Entorhinal cor L', 'Entorhinal cor l', 'Entorhinal cor.1',\n",
       "       'Entorhinal cor.L', 'Entorhinal cor.R', 'EntorhinalC L',\n",
       "       'EntorhinalC R', 'ExtraThalamic L', 'ExtraThalamic R', 'FS',\n",
       "       'FS L', 'Fornix', 'FrontalLobe L', 'FrontalLobe_L',\n",
       "       'FrontalLobe_L1', 'FrontalLobe_L2', 'FrontalLobe_R',\n",
       "       'FrontalLobe_R1', 'FrontalLobe_R2', 'GTV', 'HP', 'HP L',\n",
       "       'HippoHeadLt', 'HippoHeadRt', 'HippoTailLt', 'HippoTailRt',\n",
       "       'HippocampusLt', 'HippocampusRt', 'Hippocampus_L', 'Hippocampus_R',\n",
       "       'Hypothalamus', 'Hypothalamus-PV', 'ISO1', 'Iso', 'LFWM', 'LIA',\n",
       "       'LIP', 'LM', 'LM P', 'LMA', 'LSA', 'LSK LP', 'LSOM P', 'LSW',\n",
       "       'LacrimalLt', 'LacrimalRt', 'LensLt', 'LensRt', 'M1', 'M2', 'M3',\n",
       "       'MMG', 'Mam. bodies', 'Mam.thal.tract 1', 'Mam.thal.tract L',\n",
       "       'Mam.thal.tract R', 'Mamillary Bodies', 'Mamillary bodie1',\n",
       "       'Mamillary bodies', 'Mamillothal T L', 'Mamillothal T R',\n",
       "       'Mamithal t L', 'Mammilary Bodie1', 'Mammilary Bodies',\n",
       "       'Mammilary bodies', 'Mamthal T L', 'Mamthal T R', 'Mamthal t L',\n",
       "       'Mamthal t R', 'Mamthalamic T L', 'Mamthalamic T R',\n",
       "       'Mamthalamictr L', 'Mamthalamictr R', 'MastoidLt', 'MastoidRt',\n",
       "       'Medulla C1', 'Medulla C2C3', 'NPX', 'NonTargetBody',\n",
       "       'NonTargetBrain', 'Nontarget Body', 'Nontarget Brain',\n",
       "       'NontargetBody', 'NontargetBrain', 'OpticChiasm', 'OpticNerveLt',\n",
       "       'OpticNerveRt', 'PCL', 'PCL L', 'PL1', 'PL2', 'POC L', 'PTV1',\n",
       "       'PTV2', 'Papex Circle', 'Papez Circle', 'PapezCircle',\n",
       "       'Parietal L L', 'Parietal L L1', 'Parietal L L2', 'Parietal L R',\n",
       "       'Parietal L1', 'Parietal Lobe R1', 'Parietal R1', 'ParietalLobe R',\n",
       "       'ParietalLobe_L', 'ParietalLobe_L1', 'ParietalLobe_R',\n",
       "       'ParietalLobe_R1', 'Pituitary', 'PlanBody', 'Preop GTV',\n",
       "       'Preop Tumor', 'Preop tumor', 'Preop tumor 02-1',\n",
       "       'Preop tumor 08-1', 'PreopGTV', 'RI', 'RIM', 'RIP', 'RM', 'RM P',\n",
       "       'RMA', 'RMP', 'RP', 'RSA', 'RSK P', 'RSM', 'RSP', 'RSW',\n",
       "       'RetinaLt', 'RetinaRt', 'SULCUS', 'SVZ L', 'SVZ R', 'Scalp',\n",
       "       'SpinalCord', 'Sulci', 'Sulcil', 'Sulcus', 'Sulcus Centralis',\n",
       "       'Sulic', 'TemporalLobeLt', 'TemporalLobeRt', 'Thalamus Ant L',\n",
       "       'Thalamus Ant R', 'Thalamus L', 'Thalamus R', 'Thalamus ant L',\n",
       "       'Thalamus ant R', 'Thalamus left', 'Thalamus right', 'Thyroid',\n",
       "       'UT', 'ZDB1', 'ZDB2', 'Z_Area of  conce', 'Z_Area of Intere',\n",
       "       'Z_DB_BRAIN 1', 'Z_PLANBODY', 'Z_PreopTumor', 'Z_Tumor bed 9-18',\n",
       "       'iso1', 'mamthal t R', 'mamthal tract L', 'mamthal tract R',\n",
       "       'oDose 103[%]', 'oPTV', 'oPTV1', 'oPTV2', 'ovrlp-BS_PTV1',\n",
       "       'ovrlp-BS_PTV2', 'ovrlp-SC_PTV1', 'ovrlp-SC_PTV2', 'ovrlpPTV1',\n",
       "       'ovrlpPTV2', 'preop tumor', 'sulci', 'sulci1', 'sulci2', 'sulcus',\n",
       "       'zBS+3mm', 'zBrainstem-0.3', 'zCTV1', 'zCTV2', 'zCord+3mm',\n",
       "       'zDB_BS1', 'zPlanBODY', 'zPlanBody', 'zPreopGTV',\n",
       "       'zSpinalCord-0.3', 'zStop1', 'z_Bone', 'z_Bone+2mm',\n",
       "       'z_Brainstem_DB', 'z_Brainstem_DB2', 'z_Cord_5mm', 'z_DB',\n",
       "       'z_Original tumor', 'z_PTV1_planning', 'z_PTV5mm', 'z_Plan Body',\n",
       "       'z_PlanBody', 'z_Preop tumor', 'z_PreopGTV', 'z_Pseudomeningoc',\n",
       "       'z_Recurrent tumo', 'z_Skull', 'z_hotspot', 'z_ptv-BS'],\n",
       "      dtype=object)"
      ]
     },
     "execution_count": 18,
     "metadata": {},
     "output_type": "execute_result"
    }
   ],
   "source": [
    "np.unique(df_all['RoiName'])"
   ]
  },
  {
   "cell_type": "code",
   "execution_count": 19,
   "metadata": {},
   "outputs": [],
   "source": [
    "df_all.to_csv('all_unique_contours_all_folders.csv',index=False, sep=';')"
   ]
  },
  {
   "cell_type": "markdown",
   "metadata": {},
   "source": [
    "### Make overview of occurrence for report"
   ]
  },
  {
   "cell_type": "code",
   "execution_count": 38,
   "metadata": {},
   "outputs": [],
   "source": [
    "counts = [len(x) for x in df_all['Count'].values]"
   ]
  },
  {
   "cell_type": "code",
   "execution_count": 50,
   "metadata": {},
   "outputs": [
    {
     "data": {
      "text/plain": [
       "((array([149,  16,  10,  11,   7,   5,   2,   1,   8,  25,   3,   3,   1,\n",
       "           1,   5,   3,   2,   3,   4,  39], dtype=int64),\n",
       "  array([ 1,  2,  3,  4,  5,  6,  7,  8,  9, 10, 11, 12, 13, 14, 15, 16, 17,\n",
       "         18, 19, 20, 21])),\n",
       " 20,\n",
       " 21)"
      ]
     },
     "execution_count": 50,
     "metadata": {},
     "output_type": "execute_result"
    }
   ],
   "source": [
    "h = np.histogram(counts, bins=range(1,22))\n",
    "h, len(h[0]), len(h[1])"
   ]
  },
  {
   "cell_type": "code",
   "execution_count": 51,
   "metadata": {},
   "outputs": [
    {
     "name": "stdout",
     "output_type": "stream",
     "text": [
      "1 149\n",
      "2 16\n",
      "3 10\n",
      "4 11\n",
      "5 7\n",
      "6 5\n",
      "7 2\n",
      "8 1\n",
      "9 8\n",
      "10 25\n",
      "11 3\n",
      "12 3\n",
      "13 1\n",
      "14 1\n",
      "15 5\n",
      "16 3\n",
      "17 2\n",
      "18 3\n",
      "19 4\n",
      "20 39\n"
     ]
    }
   ],
   "source": [
    "for c, o in zip(h[0], h[1]):\n",
    "    print(o, c)"
   ]
  },
  {
   "cell_type": "code",
   "execution_count": 52,
   "metadata": {},
   "outputs": [
    {
     "data": {
      "text/plain": [
       "(array([149,  16,  10,  11,   7,   5,   2,   1,   8,  25,   3,   3,   1,\n",
       "          1,   5,   3,   2,   3,   4,  39], dtype=int64),\n",
       " array([ 1,  2,  3,  4,  5,  6,  7,  8,  9, 10, 11, 12, 13, 14, 15, 16, 17,\n",
       "        18, 19, 20, 21]))"
      ]
     },
     "execution_count": 52,
     "metadata": {},
     "output_type": "execute_result"
    }
   ],
   "source": [
    "h"
   ]
  },
  {
   "cell_type": "code",
   "execution_count": 53,
   "metadata": {},
   "outputs": [
    {
     "data": {
      "text/plain": [
       "193"
      ]
     },
     "execution_count": 53,
     "metadata": {},
     "output_type": "execute_result"
    }
   ],
   "source": [
    "149+16+10+11+7"
   ]
  },
  {
   "cell_type": "code",
   "execution_count": 54,
   "metadata": {},
   "outputs": [
    {
     "data": {
      "text/plain": [
       "48"
      ]
     },
     "execution_count": 54,
     "metadata": {},
     "output_type": "execute_result"
    }
   ],
   "source": [
    "43+3+2"
   ]
  },
  {
   "cell_type": "code",
   "execution_count": 57,
   "metadata": {},
   "outputs": [
    {
     "data": {
      "image/png": "[encoded data removed]",
      "text/plain": [
       "<Figure size 432x288 with 1 Axes>"
      ]
     },
     "metadata": {
      "needs_background": "light"
     },
     "output_type": "display_data"
    }
   ],
   "source": [
    "plt.hist(counts, bins=range(1,22))\n",
    "plt.xticks([x+0.5 for x in list(range(1,21))],range(1,22))\n",
    "plt.xlabel('# Occurrence')\n",
    "plt.ylabel('# Structures')\n",
    "plt.title('Occurrences of structures in dataset')\n",
    "plt.show()"
   ]
  },
  {
   "cell_type": "code",
   "execution_count": null,
   "metadata": {},
   "outputs": [],
   "source": []
  }
 ],
 "metadata": {
  "kernelspec": {
   "display_name": "Python 3",
   "language": "python",
   "name": "python3"
  },
  "language_info": {
   "codemirror_mode": {
    "name": "ipython",
    "version": 3
   },
   "file_extension": ".py",
   "mimetype": "text/x-python",
   "name": "python",
   "nbconvert_exporter": "python",
   "pygments_lexer": "ipython3",
   "version": "3.6.10"
  }
 },
 "nbformat": 4,
 "nbformat_minor": 2
}
