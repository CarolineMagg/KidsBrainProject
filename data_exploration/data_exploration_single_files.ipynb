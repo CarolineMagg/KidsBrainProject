{
 "cells": [
  {
   "cell_type": "markdown",
   "metadata": {},
   "source": [
    "# Data Exploration - First attempt\n",
    "\n",
    "author = Caroline Magg <br>\n",
    "date = 19 March 2020 <br>\n",
    "\n",
    "___________________________________\n",
    "history: <br>\n",
    "2020-03-19 creation, first try to read dicoms <br>"
   ]
  },
  {
   "cell_type": "code",
   "execution_count": null,
   "metadata": {},
   "outputs": [],
   "source": [
    "import os\n",
    "import sys\n",
    "import numpy as np\n",
    "import matplotlib.pyplot as plt\n",
    "import pandas as pd\n",
    "import cv2\n",
    "import pydicom\n",
    "from pydicom.filereader import read_dicomdir"
   ]
  },
  {
   "cell_type": "code",
   "execution_count": null,
   "metadata": {},
   "outputs": [],
   "source": [
    "%matplotlib inline"
   ]
  },
  {
   "cell_type": "markdown",
   "metadata": {},
   "source": [
    "## Inspect single DICOM image and test pydicom"
   ]
  },
  {
   "cell_type": "code",
   "execution_count": null,
   "metadata": {},
   "outputs": [],
   "source": [
    "path = \"/Users/Caroline/Documents/Studium/MSc_Visual Computing/Praktikum/Data\" # path to parent dir of data\n",
    "folders = os.listdir(os.path.join(path,'1'))\n",
    "folders, path"
   ]
  },
  {
   "cell_type": "code",
   "execution_count": null,
   "metadata": {},
   "outputs": [],
   "source": [
    "path_dicom1 = path+'/1/'+folders[8]+'/MR.1.13.dcm'\n",
    "path_dicom1"
   ]
  },
  {
   "cell_type": "code",
   "execution_count": null,
   "metadata": {},
   "outputs": [],
   "source": [
    "dataset = pydicom.dcmread(path_dicom1)\n",
    "dataset"
   ]
  },
  {
   "cell_type": "code",
   "execution_count": null,
   "metadata": {},
   "outputs": [],
   "source": [
    "# data info\n",
    "print(\"Patient's name...:\", path_dicom1)\n",
    "print(\"Patient id.......:\", dataset.PatientID)\n",
    "print(\"Modality.........:\", dataset.Modality)\n",
    "print(\"Study Date.......:\", dataset.StudyDate)\n",
    "if 'PixelData' in dataset:\n",
    "    rows = int(dataset.Rows)\n",
    "    cols = int(dataset.Columns)\n",
    "    print(\"Image size.......: {rows:d} x {cols:d}, {size:d} bytes\".format(\n",
    "        rows=rows, cols=cols, size=len(dataset.PixelData)))\n",
    "    if 'PixelSpacing' in dataset:\n",
    "        print(\"Pixel spacing....:\", dataset.PixelSpacing)\n",
    "print(\"Slice location...:\", dataset.get('SliceLocation', \"(missing)\"))"
   ]
  },
  {
   "cell_type": "code",
   "execution_count": null,
   "metadata": {},
   "outputs": [],
   "source": [
    "img = dataset.pixel_array\n",
    "np.shape(img)"
   ]
  },
  {
   "cell_type": "code",
   "execution_count": null,
   "metadata": {},
   "outputs": [],
   "source": [
    "# plot the image using matplotlib\n",
    "fig = plt.figure(figsize=(18,16))\n",
    "plt.imshow(img)\n",
    "plt.show()"
   ]
  },
  {
   "cell_type": "markdown",
   "metadata": {},
   "source": [
    "## Inspect folders"
   ]
  },
  {
   "cell_type": "code",
   "execution_count": null,
   "metadata": {},
   "outputs": [],
   "source": [
    "folders"
   ]
  },
  {
   "cell_type": "code",
   "execution_count": null,
   "metadata": {},
   "outputs": [],
   "source": [
    "#path_dicoms = '/Users/Caroline/Documents/Studium/MSc_Visual Computing/Praktikum/Data/1/T1 +C 3-15-16/'\n",
    "path_dicoms = path+'/1/'+folders[5]\n",
    "#path_dicoms = '/Users/Caroline/Documents/Studium/MSc_Visual Computing/Praktikum/Data/1/CT/'\n",
    "files = os.listdir(path_dicoms)\n",
    "print(len(files), files[0])"
   ]
  },
  {
   "cell_type": "code",
   "execution_count": null,
   "metadata": {},
   "outputs": [],
   "source": [
    "ds_list = [pydicom.read_file(os.path.join(path_dicoms, fn)) for fn in files]\n",
    "dicom_imgs = [fn.pixel_array for fn in ds_list]\n",
    "len(dicom_imgs), np.shape(dicom_imgs[1])"
   ]
  },
  {
   "cell_type": "code",
   "execution_count": null,
   "metadata": {},
   "outputs": [],
   "source": [
    "for idx,ds in enumerate(ds_list):\n",
    "    print(\"Slice location of \", idx, \"...:\", ds.get('SliceLocation', \"(missing)\"))"
   ]
  },
  {
   "cell_type": "code",
   "execution_count": null,
   "metadata": {},
   "outputs": [],
   "source": [
    "def show_images(imgs=None, row=1, col=1, counter=0):\n",
    "    \"\"\" \n",
    "    Method to plot several images in one plot\n",
    "    \"\"\"\n",
    "    if imgs is None:\n",
    "        return   \n",
    "    size = (2000,2000)\n",
    "    fig = plt.figure(figsize=(18, 16))\n",
    "    steps = (int(size[0]/row), int(size[1]/col))\n",
    "    toshow = np.zeros(size)\n",
    "    \n",
    "    for i in range(row):\n",
    "        for j in range(col):\n",
    "            if counter > np.shape(imgs)[0]:\n",
    "                img = np.zeros((steps))\n",
    "            else:\n",
    "                img = cv2.resize(imgs[counter], steps, interpolation = cv2.INTER_NEAREST)\n",
    "            cv2.putText(img,str(counter),(30,30),cv2.FONT_HERSHEY_SIMPLEX,1,(255,255,255),2)\n",
    "            toshow[i*steps[0]:int(i*steps[0]+steps[0]),j*steps[1]:int(j*steps[1]+steps[1])] = img\n",
    "            counter += 1\n",
    "            \n",
    "    plt.imshow(toshow)\n",
    "    plt.axis('off')"
   ]
  },
  {
   "cell_type": "code",
   "execution_count": null,
   "metadata": {},
   "outputs": [],
   "source": [
    "show_images(dicom_imgs,8,8)"
   ]
  },
  {
   "cell_type": "code",
   "execution_count": null,
   "metadata": {},
   "outputs": [],
   "source": [
    "folders"
   ]
  },
  {
   "cell_type": "code",
   "execution_count": null,
   "metadata": {},
   "outputs": [],
   "source": [
    "path_dicom1 = path+'/1/'+folders[3]\n",
    "path_dicom1"
   ]
  },
  {
   "cell_type": "code",
   "execution_count": null,
   "metadata": {},
   "outputs": [],
   "source": [
    "dataset = pydicom.dcmread(path_dicom1)\n",
    "dataset"
   ]
  },
  {
   "cell_type": "code",
   "execution_count": null,
   "metadata": {},
   "outputs": [],
   "source": []
  }
 ],
 "metadata": {
  "kernelspec": {
   "display_name": "Python 3",
   "language": "python",
   "name": "python3"
  },
  "language_info": {
   "codemirror_mode": {
    "name": "ipython",
    "version": 3
   },
   "file_extension": ".py",
   "mimetype": "text/x-python",
   "name": "python",
   "nbconvert_exporter": "python",
   "pygments_lexer": "ipython3",
   "version": "3.6.5"
  }
 },
 "nbformat": 4,
 "nbformat_minor": 2
}
