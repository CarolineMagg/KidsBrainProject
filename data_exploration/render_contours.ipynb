{
 "cells": [
  {
   "cell_type": "markdown",
   "metadata": {},
   "source": [
    "# Render Contours\n",
    "\n",
    "author = Caroline Magg <br>\n",
    "date = 01 April 2020 <br>\n",
    "\n",
    "___________________________________\n",
    "history: <br>\n",
    "2020-04-01 <br>"
   ]
  },
  {
   "cell_type": "code",
   "execution_count": null,
   "metadata": {},
   "outputs": [],
   "source": [
    "import os\n",
    "import sys\n",
    "import numpy as np\n",
    "import matplotlib.pyplot as plt\n",
    "import pandas as pd\n",
    "import cv2\n",
    "import pydicom\n",
    "import vtk"
   ]
  },
  {
   "cell_type": "code",
   "execution_count": null,
   "metadata": {},
   "outputs": [],
   "source": [
    "%matplotlib inline"
   ]
  },
  {
   "cell_type": "markdown",
   "metadata": {},
   "source": [
    "## Add path dependencies"
   ]
  },
  {
   "cell_type": "code",
   "execution_count": null,
   "metadata": {},
   "outputs": [],
   "source": [
    "# add KidsBrainProject main folder to paths\n",
    "sys.path.append(os.path.abspath('../../'))\n",
    "sys.path.append(os.path.abspath('../utils/'))"
   ]
  },
  {
   "cell_type": "code",
   "execution_count": null,
   "metadata": {},
   "outputs": [],
   "source": [
    "from utils_explore import read_structure,read_contour,read_contour_names,read_contour_row"
   ]
  },
  {
   "cell_type": "code",
   "execution_count": null,
   "metadata": {},
   "outputs": [],
   "source": [
    "# add path to data here\n",
    "path_data = \"../../Data/\" "
   ]
  },
  {
   "cell_type": "code",
   "execution_count": null,
   "metadata": {},
   "outputs": [],
   "source": [
    "idx = 1\n",
    "folder_name = os.path.join(path_data, str(idx))\n",
    "folder = os.listdir(folder_name)\n",
    "folder"
   ]
  },
  {
   "cell_type": "markdown",
   "metadata": {},
   "source": [
    "## Create Contour Information"
   ]
  },
  {
   "cell_type": "code",
   "execution_count": null,
   "metadata": {},
   "outputs": [],
   "source": [
    "path_contours = os.path.join(path_data, str(idx), 'RS.Jacks1.dcm')\n",
    "df_contours = read_contour_names(path_contours)\n",
    "#df_contours = df_contours.sort_values(by=['RoiNumber'])\n",
    "len(df_contours)"
   ]
  },
  {
   "cell_type": "code",
   "execution_count": null,
   "metadata": {},
   "outputs": [],
   "source": [
    "df_contours"
   ]
  },
  {
   "cell_type": "code",
   "execution_count": null,
   "metadata": {},
   "outputs": [],
   "source": [
    "df_test = df_contours.iloc[0:2]\n",
    "df_test"
   ]
  },
  {
   "cell_type": "code",
   "execution_count": null,
   "metadata": {},
   "outputs": [],
   "source": [
    "contour = read_contour_row(path_contours, df_test)"
   ]
  },
  {
   "cell_type": "code",
   "execution_count": null,
   "metadata": {},
   "outputs": [],
   "source": [
    "len(contour)"
   ]
  },
  {
   "cell_type": "code",
   "execution_count": null,
   "metadata": {},
   "outputs": [],
   "source": [
    "np.unique(contour[:,2])"
   ]
  },
  {
   "cell_type": "code",
   "execution_count": null,
   "metadata": {},
   "outputs": [],
   "source": [
    "test = []\n",
    "for i in range(len(contour)):\n",
    "    if contour[i][2] == 203.5:\n",
    "        test.append(contour[i])\n",
    "test = np.array(test)\n",
    "mask = np.zeros((500,200))\n",
    "for i in range(len(test)):\n",
    "    mask[int(test[i][0]),int(test[i][1])] = 1\n",
    "plt.imshow(mask)"
   ]
  },
  {
   "cell_type": "code",
   "execution_count": null,
   "metadata": {},
   "outputs": [],
   "source": [
    "test"
   ]
  },
  {
   "cell_type": "code",
   "execution_count": null,
   "metadata": {},
   "outputs": [],
   "source": []
  },
  {
   "cell_type": "code",
   "execution_count": null,
   "metadata": {},
   "outputs": [],
   "source": [
    "actors = []\n",
    "for i in range(len(df_test)): \n",
    "    # create contour coordinates\n",
    "    df_t = df_test[i:i+1]\n",
    "    contour = read_contour_row(path_contours, df_t)\n",
    "    # save points as vtkPolyData\n",
    "    points = vtk.vtkPoints()\n",
    "    for idx, point in enumerate(contour):\n",
    "        points.InsertPoint(idx, point[0], point[1], point[2])\n",
    "    pointCloud = vtk.vtkPolyData()\n",
    "    pointCloud.SetPoints(points)\n",
    "    # Create triangulation\n",
    "    delaunay = vtk.vtkDelaunay2D() # Vtk.vtkDelaunay3D() is not working\n",
    "    delaunay.SetInputData(pointCloud)\n",
    "    delaunay.SetTolerance(0.05)\n",
    "    delaunay.SetAlpha(0.2)\n",
    "    #delaunay.BoundingTriangulationOff()\n",
    "    delaunay.Update()\n",
    "    # extracts outer (polygonal) surface\n",
    "    surfaceFilter = vtk.vtkDataSetSurfaceFilter()\n",
    "    surfaceFilter.SetInputConnection(delaunay.GetOutputPort())\n",
    "    surfaceFilter.Update()\n",
    "    # Mapper\n",
    "    mapper = vtk.vtkPolyDataMapper()\n",
    "    mapper.SetInputData(surfaceFilter.GetOutput())\n",
    "    mapper.Update()\n",
    "\n",
    "    # Actor\n",
    "    actor = vtk.vtkActor()\n",
    "    actor.SetMapper(mapper)\n",
    "    actor.GetProperty().SetColor(i, 0, 0)\n",
    "    actors.append(actor)\n",
    "\n",
    "# Renderer\n",
    "renderer = vtk.vtkRenderer()\n",
    "for i in range(len(actors)):\n",
    "    renderer.AddActor(actors[i])\n",
    "renderer.SetBackground(.2, .3, .3)  #colour\n",
    "renderer.ResetCamera()\n",
    "\n",
    "# Render Window\n",
    "renderWindow = vtk.vtkRenderWindow()\n",
    "renderWindow.AddRenderer(renderer)\n",
    "\n",
    "# Interactor\n",
    "renderWindowInteractor = vtk.vtkRenderWindowInteractor()\n",
    "renderWindowInteractor.SetRenderWindow(renderWindow)\n",
    "\n",
    "# Begin Interaction\n",
    "renderWindow.Render()\n",
    "renderWindowInteractor.Start()"
   ]
  },
  {
   "cell_type": "code",
   "execution_count": null,
   "metadata": {},
   "outputs": [],
   "source": []
  },
  {
   "cell_type": "code",
   "execution_count": null,
   "metadata": {},
   "outputs": [],
   "source": [
    "#contour = read_contour_row(path_contours, df_test)"
   ]
  },
  {
   "cell_type": "code",
   "execution_count": null,
   "metadata": {},
   "outputs": [],
   "source": [
    "len(contour)"
   ]
  },
  {
   "cell_type": "code",
   "execution_count": null,
   "metadata": {},
   "outputs": [],
   "source": []
  },
  {
   "cell_type": "code",
   "execution_count": null,
   "metadata": {},
   "outputs": [],
   "source": [
    "## Single contour\n",
    "\n",
    "# save points as vtkPolyData\n",
    "points = vtk.vtkPoints()\n",
    "for idx, point in enumerate(contour):\n",
    "    points.InsertPoint(idx, point[0], point[1], point[2])\n",
    "pointCloud = vtk.vtkPolyData()\n",
    "pointCloud.SetPoints(points)\n",
    "\n",
    "# Create triangulation\n",
    "delaunay = vtk.vtkDelaunay2D() # Vtk.vtkDelaunay3D() is not working\n",
    "delaunay.SetInputData(pointCloud)\n",
    "delaunay.SetTolerance(0.05)\n",
    "delaunay.SetAlpha(0.2)\n",
    "#delaunay.BoundingTriangulationOff()\n",
    "delaunay.Update()\n",
    "\n",
    "# extracts outer (polygonal) surface\n",
    "surfaceFilter = vtk.vtkDataSetSurfaceFilter()\n",
    "surfaceFilter.SetInputConnection(delaunay.GetOutputPort())\n",
    "surfaceFilter.Update()\n",
    "\n",
    "# Mapper\n",
    "mapper = vtk.vtkPolyDataMapper()\n",
    "mapper.SetInputData(surfaceFilter.GetOutput())\n",
    "mapper.Update()\n",
    "\n",
    "# Actor\n",
    "actor = vtk.vtkActor()\n",
    "actor.SetMapper(mapper)\n",
    "actor.GetProperty().SetColor(1, 0, 0)\n",
    "\n",
    "# Renderer\n",
    "renderer = vtk.vtkRenderer()\n",
    "renderer.AddActor(actor)\n",
    "renderer.SetBackground(.2, .3, .3)  #colour\n",
    "renderer.ResetCamera()\n",
    "\n",
    "# Render Window\n",
    "renderWindow = vtk.vtkRenderWindow()\n",
    "renderWindow.AddRenderer(renderer)\n",
    "\n",
    "# Interactor\n",
    "renderWindowInteractor = vtk.vtkRenderWindowInteractor()\n",
    "renderWindowInteractor.SetRenderWindow(renderWindow)\n",
    "\n",
    "# Begin Interaction\n",
    "renderWindow.Render()\n",
    "renderWindowInteractor.Start()"
   ]
  },
  {
   "cell_type": "code",
   "execution_count": null,
   "metadata": {},
   "outputs": [],
   "source": []
  },
  {
   "cell_type": "code",
   "execution_count": null,
   "metadata": {},
   "outputs": [],
   "source": [
    "# This example shows how to use Delaunay3D with alpha shapes.\n",
    "\n",
    "import vtk\n",
    "\n",
    "# The points to be triangulated are generated randomly in the unit\n",
    "# cube located at the origin. The points are then associated with a\n",
    "# vtkPolyData.\n",
    "math = vtk.vtkMath()\n",
    "points = vtk.vtkPoints()\n",
    "for i in range(0, 25):\n",
    "    points.InsertPoint(i, math.Random(0, 1), math.Random(0, 1),\n",
    "                       math.Random(0, 1))\n",
    "\n",
    "profile = vtk.vtkPolyData()\n",
    "profile.SetPoints(points)\n",
    "\n",
    "# Delaunay3D is used to triangulate the points. The Tolerance is the\n",
    "# distance that nearly coincident points are merged\n",
    "# together. (Delaunay does better if points are well spaced.) The\n",
    "# alpha value is the radius of circumcircles, circumspheres. Any mesh\n",
    "# entity whose circumcircle is smaller than this value is output.\n",
    "delny = vtk.vtkDelaunay3D()\n",
    "delny.SetInputData(profile)\n",
    "delny.SetTolerance(0.01)\n",
    "delny.SetAlpha(0.2)\n",
    "delny.BoundingTriangulationOff()\n",
    "\n",
    "# Shrink the result to help see it better.\n",
    "shrink = vtk.vtkShrinkFilter()\n",
    "shrink.SetInputConnection(delny.GetOutputPort())\n",
    "shrink.SetShrinkFactor(0.9)\n",
    "\n",
    "map = vtk.vtkDataSetMapper()\n",
    "map.SetInputConnection(shrink.GetOutputPort())\n",
    "\n",
    "triangulation = vtk.vtkActor()\n",
    "triangulation.SetMapper(map)\n",
    "triangulation.GetProperty().SetColor(1, 0, 0)\n",
    "\n",
    "# Create graphics stuff\n",
    "ren = vtk.vtkRenderer()\n",
    "renWin = vtk.vtkRenderWindow()\n",
    "renWin.AddRenderer(ren)\n",
    "iren = vtk.vtkRenderWindowInteractor()\n",
    "iren.SetRenderWindow(renWin)\n",
    "\n",
    "# Add the actors to the renderer, set the background and size\n",
    "ren.AddActor(triangulation)\n",
    "ren.SetBackground(1, 1, 1)\n",
    "renWin.SetSize(250, 250)\n",
    "renWin.Render()\n",
    "\n",
    "cam1 = ren.GetActiveCamera()\n",
    "cam1.Zoom(1.5)\n",
    "\n",
    "iren.Initialize()\n",
    "renWin.Render()\n",
    "iren.Start()"
   ]
  },
  {
   "cell_type": "code",
   "execution_count": null,
   "metadata": {},
   "outputs": [],
   "source": []
  }
 ],
 "metadata": {
  "kernelspec": {
   "display_name": "Python 3",
   "language": "python",
   "name": "python3"
  },
  "language_info": {
   "codemirror_mode": {
    "name": "ipython",
    "version": 3
   },
   "file_extension": ".py",
   "mimetype": "text/x-python",
   "name": "python",
   "nbconvert_exporter": "python",
   "pygments_lexer": "ipython3",
   "version": "3.6.10"
  }
 },
 "nbformat": 4,
 "nbformat_minor": 2
}
