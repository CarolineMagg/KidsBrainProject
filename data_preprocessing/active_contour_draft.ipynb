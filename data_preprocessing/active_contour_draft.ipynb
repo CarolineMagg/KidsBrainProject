{
 "cells": [
  {
   "cell_type": "markdown",
   "metadata": {},
   "source": [
    "# Render Contours\n",
    "\n",
    "author = Caroline Magg <br>\n",
    "date = 01 April 2020 <br>\n",
    "\n",
    "___________________________________\n",
    "history: <br>\n",
    "2020-04-12 <br>\n",
    "build PatientData wrapper with convient methods for data processing <br>\n",
    "2020-04-05 <br>\n",
    "refactor PatientData to have object for PatientData (contour, pre and post treatment) and DicomFileWrapper <br>\n",
    "first tests with active contour methods form skikit-image <br>"
   ]
  },
  {
   "cell_type": "code",
   "execution_count": 1,
   "metadata": {},
   "outputs": [],
   "source": [
    "import os\n",
    "import sys\n",
    "import numpy as np\n",
    "import matplotlib.pyplot as plt\n",
    "import pandas as pd\n",
    "import cv2\n",
    "import pydicom\n",
    "from natsort import natsorted"
   ]
  },
  {
   "cell_type": "markdown",
   "metadata": {},
   "source": [
    "### Add dependencies"
   ]
  },
  {
   "cell_type": "code",
   "execution_count": 2,
   "metadata": {},
   "outputs": [],
   "source": [
    "# add KidsBrainProject main folder to paths\n",
    "sys.path.append(os.path.abspath('../../'))\n",
    "sys.path.append(os.path.abspath('../utils/'))"
   ]
  },
  {
   "cell_type": "code",
   "execution_count": 3,
   "metadata": {},
   "outputs": [],
   "source": [
    "#from utils_explore import read_structure,read_contour,read_contour_names,read_contour_row\n",
    "from PatientData import PatientData\n",
    "from DicomWrapper import DicomWrapper"
   ]
  },
  {
   "cell_type": "code",
   "execution_count": 4,
   "metadata": {},
   "outputs": [],
   "source": [
    "# add path to data here\n",
    "path_data = \"../../Data/\" "
   ]
  },
  {
   "cell_type": "code",
   "execution_count": 5,
   "metadata": {},
   "outputs": [
    {
     "data": {
      "text/plain": [
       "['CT',\n",
       " 'RD.Jacks1IMPT.dcm',\n",
       " 'RD.Jacks1IMPTb.dcm',\n",
       " 'RS.Jacks1.dcm',\n",
       " 'T1 +C 3-15-16',\n",
       " 'T1 +C 3-23-16',\n",
       " 'T1 +C 4-29-16',\n",
       " 'T2 CISS 3-15-16',\n",
       " 'T2 CUBE 4-29-16']"
      ]
     },
     "execution_count": 5,
     "metadata": {},
     "output_type": "execute_result"
    }
   ],
   "source": [
    "idx = 1\n",
    "folder_name = os.path.join(path_data, str(idx))\n",
    "folder = os.listdir(folder_name)\n",
    "folder"
   ]
  },
  {
   "cell_type": "code",
   "execution_count": 6,
   "metadata": {},
   "outputs": [
    {
     "data": {
      "text/html": [
       "<div>\n",
       "<style scoped>\n",
       "    .dataframe tbody tr th:only-of-type {\n",
       "        vertical-align: middle;\n",
       "    }\n",
       "\n",
       "    .dataframe tbody tr th {\n",
       "        vertical-align: top;\n",
       "    }\n",
       "\n",
       "    .dataframe thead th {\n",
       "        text-align: right;\n",
       "    }\n",
       "</style>\n",
       "<table border=\"1\" class=\"dataframe\">\n",
       "  <thead>\n",
       "    <tr style=\"text-align: right;\">\n",
       "      <th></th>\n",
       "      <th>Number</th>\n",
       "      <th>RoiName</th>\n",
       "    </tr>\n",
       "  </thead>\n",
       "  <tbody>\n",
       "    <tr>\n",
       "      <th>0</th>\n",
       "      <td>1</td>\n",
       "      <td>Brain</td>\n",
       "    </tr>\n",
       "    <tr>\n",
       "      <th>1</th>\n",
       "      <td>2</td>\n",
       "      <td>Cerebel</td>\n",
       "    </tr>\n",
       "    <tr>\n",
       "      <th>2</th>\n",
       "      <td>3</td>\n",
       "      <td>Cingulum</td>\n",
       "    </tr>\n",
       "    <tr>\n",
       "      <th>3</th>\n",
       "      <td>4</td>\n",
       "      <td>Corpus callosum</td>\n",
       "    </tr>\n",
       "    <tr>\n",
       "      <th>4</th>\n",
       "      <td>5</td>\n",
       "      <td>CTV</td>\n",
       "    </tr>\n",
       "    <tr>\n",
       "      <th>5</th>\n",
       "      <td>6</td>\n",
       "      <td>Entorhinal</td>\n",
       "    </tr>\n",
       "    <tr>\n",
       "      <th>6</th>\n",
       "      <td>7</td>\n",
       "      <td>Fornix</td>\n",
       "    </tr>\n",
       "    <tr>\n",
       "      <th>7</th>\n",
       "      <td>8</td>\n",
       "      <td>FrontalLobe</td>\n",
       "    </tr>\n",
       "    <tr>\n",
       "      <th>8</th>\n",
       "      <td>9</td>\n",
       "      <td>GTV</td>\n",
       "    </tr>\n",
       "    <tr>\n",
       "      <th>9</th>\n",
       "      <td>10</td>\n",
       "      <td>Hippocampus</td>\n",
       "    </tr>\n",
       "    <tr>\n",
       "      <th>10</th>\n",
       "      <td>11</td>\n",
       "      <td>Hypothalamus</td>\n",
       "    </tr>\n",
       "    <tr>\n",
       "      <th>11</th>\n",
       "      <td>12</td>\n",
       "      <td>Papez</td>\n",
       "    </tr>\n",
       "    <tr>\n",
       "      <th>12</th>\n",
       "      <td>13</td>\n",
       "      <td>Parietal</td>\n",
       "    </tr>\n",
       "    <tr>\n",
       "      <th>13</th>\n",
       "      <td>14</td>\n",
       "      <td>PTV</td>\n",
       "    </tr>\n",
       "    <tr>\n",
       "      <th>14</th>\n",
       "      <td>15</td>\n",
       "      <td>TemporalLobe</td>\n",
       "    </tr>\n",
       "    <tr>\n",
       "      <th>15</th>\n",
       "      <td>16</td>\n",
       "      <td>Thalamus</td>\n",
       "    </tr>\n",
       "    <tr>\n",
       "      <th>16</th>\n",
       "      <td>17</td>\n",
       "      <td>Tumor</td>\n",
       "    </tr>\n",
       "  </tbody>\n",
       "</table>\n",
       "</div>"
      ],
      "text/plain": [
       "    Number          RoiName\n",
       "0        1            Brain\n",
       "1        2          Cerebel\n",
       "2        3         Cingulum\n",
       "3        4  Corpus callosum\n",
       "4        5              CTV\n",
       "5        6       Entorhinal\n",
       "6        7           Fornix\n",
       "7        8      FrontalLobe\n",
       "8        9              GTV\n",
       "9       10      Hippocampus\n",
       "10      11     Hypothalamus\n",
       "11      12            Papez\n",
       "12      13         Parietal\n",
       "13      14              PTV\n",
       "14      15     TemporalLobe\n",
       "15      16         Thalamus\n",
       "16      17            Tumor"
      ]
     },
     "execution_count": 6,
     "metadata": {},
     "output_type": "execute_result"
    }
   ],
   "source": [
    "contours_list = pd.read_csv(\"list_contours.csv\",delimiter=';')\n",
    "contours_list"
   ]
  },
  {
   "cell_type": "code",
   "execution_count": 7,
   "metadata": {},
   "outputs": [],
   "source": [
    "contour_of_interest = [\"PTV\",\"GTV\",\"CTV\"]"
   ]
  },
  {
   "cell_type": "markdown",
   "metadata": {},
   "source": [
    "# PatientData"
   ]
  },
  {
   "cell_type": "code",
   "execution_count": 8,
   "metadata": {},
   "outputs": [
    {
     "data": {
      "text/plain": [
       "('../../Data/1\\\\RS.Jacks1.dcm',\n",
       " '../../Data/1\\\\CT',\n",
       " ['../../Data/1\\\\T1 +C 3-15-16',\n",
       "  '../../Data/1\\\\T1 +C 3-23-16',\n",
       "  '../../Data/1\\\\T1 +C 4-29-16'])"
      ]
     },
     "execution_count": 8,
     "metadata": {},
     "output_type": "execute_result"
    }
   ],
   "source": [
    "files = os.listdir(os.path.join(path_data, str(idx)))\n",
    "path_contour = os.path.join(path_data, str(idx), 'RS.Jacks1.dcm')\n",
    "path_preop = os.path.join(path_data, str(idx), 'CT')\n",
    "path_postop1 = [os.path.join(path_data, str(idx), fn) for fn in [x for x in files if 'T1' in x]]\n",
    "dcm = pydicom.dcmread(path_contour)\n",
    "path_contour, path_preop, path_postop1"
   ]
  },
  {
   "cell_type": "code",
   "execution_count": 9,
   "metadata": {},
   "outputs": [
    {
     "name": "stdout",
     "output_type": "stream",
     "text": [
      "\n",
      "Preop dicom\n",
      "Image size.......: (512, 512, 292)\n",
      "Pixel spacing....: (0.9765625, 0.9765625, 1.0)\n",
      "Slices number....: 292\n",
      "Slices location...: 346.5  -  55.5\n",
      "Position.........: (-250.0, -217.0, 346.5)\n",
      "Resulting correction: [251.0, 218.0, 0]\n",
      "\n",
      "Postop ../../Data/1\\T1 +C 3-15-16\n",
      "Image size.......: (512, 512, 292)\n",
      "Pixel spacing....: (0.9765625, 0.9765625, 1.0)\n",
      "Slices number....: 292\n",
      "Slices location...: 346.5  -  55.5\n",
      "Position.........: (-250.0, -217.0, 346.5)\n",
      "Resulting correction: [251.0, 218.0, 0]\n",
      "\n",
      "Postop ../../Data/1\\T1 +C 3-23-16\n",
      "Image size.......: (512, 512, 292)\n",
      "Pixel spacing....: (0.9765625, 0.9765625, 1.0)\n",
      "Slices number....: 292\n",
      "Slices location...: 346.5  -  55.5\n",
      "Position.........: (-250.0, -217.0, 346.5)\n",
      "Resulting correction: [251.0, 218.0, 0]\n",
      "\n",
      "Postop ../../Data/1\\T1 +C 4-29-16\n",
      "Image size.......: (512, 512, 292)\n",
      "Pixel spacing....: (0.9765625, 0.9765625, 1.0)\n",
      "Slices number....: 292\n",
      "Slices location...: 346.5  -  55.5\n",
      "Position.........: (-250.0, -217.0, 346.5)\n",
      "Resulting correction: [251.0, 218.0, 0]\n"
     ]
    }
   ],
   "source": [
    "data = PatientData(path_preop, path_postop1, path_contour)"
   ]
  },
  {
   "cell_type": "code",
   "execution_count": 10,
   "metadata": {},
   "outputs": [
    {
     "data": {
      "text/html": [
       "<div>\n",
       "<style scoped>\n",
       "    .dataframe tbody tr th:only-of-type {\n",
       "        vertical-align: middle;\n",
       "    }\n",
       "\n",
       "    .dataframe tbody tr th {\n",
       "        vertical-align: top;\n",
       "    }\n",
       "\n",
       "    .dataframe thead th {\n",
       "        text-align: right;\n",
       "    }\n",
       "</style>\n",
       "<table border=\"1\" class=\"dataframe\">\n",
       "  <thead>\n",
       "    <tr style=\"text-align: right;\">\n",
       "      <th></th>\n",
       "      <th>ID</th>\n",
       "      <th>RoiNumber</th>\n",
       "      <th>RoiName</th>\n",
       "    </tr>\n",
       "  </thead>\n",
       "  <tbody>\n",
       "    <tr>\n",
       "      <th>1</th>\n",
       "      <td>1</td>\n",
       "      <td>1</td>\n",
       "      <td>Brain</td>\n",
       "    </tr>\n",
       "    <tr>\n",
       "      <th>30</th>\n",
       "      <td>30</td>\n",
       "      <td>38</td>\n",
       "      <td>PTV1</td>\n",
       "    </tr>\n",
       "  </tbody>\n",
       "</table>\n",
       "</div>"
      ],
      "text/plain": [
       "    ID  RoiNumber RoiName\n",
       "1    1          1   Brain\n",
       "30  30         38    PTV1"
      ]
     },
     "execution_count": 10,
     "metadata": {},
     "output_type": "execute_result"
    }
   ],
   "source": [
    "struct = \"Brain\"\n",
    "data.filter_contour_list(roiname=[struct, 'PTV1'],mode=\"exact\")"
   ]
  },
  {
   "cell_type": "code",
   "execution_count": 11,
   "metadata": {},
   "outputs": [],
   "source": [
    "data.read_filtered_contour()"
   ]
  },
  {
   "cell_type": "code",
   "execution_count": null,
   "metadata": {},
   "outputs": [],
   "source": []
  },
  {
   "cell_type": "code",
   "execution_count": 12,
   "metadata": {
    "scrolled": true
   },
   "outputs": [
    {
     "data": {
      "image/png": "[encoded data removed]",
      "text/plain": [
       "<Figure size 432x288 with 1 Axes>"
      ]
     },
     "metadata": {},
     "output_type": "display_data"
    },
    {
     "data": {
      "image/png": "[encoded data removed]",
      "text/plain": [
       "<Figure size 432x288 with 1 Axes>"
      ]
     },
     "metadata": {},
     "output_type": "display_data"
    },
    {
     "data": {
      "image/png": "[encoded data removed]",
      "text/plain": [
       "<Figure size 432x288 with 1 Axes>"
      ]
     },
     "metadata": {},
     "output_type": "display_data"
    },
    {
     "data": {
      "image/png": "[encoded data removed]",
      "text/plain": [
       "<Figure size 432x288 with 1 Axes>"
      ]
     },
     "metadata": {},
     "output_type": "display_data"
    }
   ],
   "source": [
    "# visualise segmentation in 2D\n",
    "ind = 65\n",
    "data.show_overlays(ind,struct)"
   ]
  },
  {
   "cell_type": "code",
   "execution_count": 13,
   "metadata": {},
   "outputs": [],
   "source": [
    "#TODO: show 3D model with VTK"
   ]
  },
  {
   "cell_type": "code",
   "execution_count": null,
   "metadata": {},
   "outputs": [],
   "source": []
  },
  {
   "cell_type": "code",
   "execution_count": null,
   "metadata": {},
   "outputs": [],
   "source": []
  },
  {
   "cell_type": "markdown",
   "metadata": {},
   "source": [
    "# Segmentation"
   ]
  },
  {
   "cell_type": "code",
   "execution_count": 14,
   "metadata": {},
   "outputs": [],
   "source": [
    "import skimage.segmentation as segmentation\n",
    "snake_init = data.get_contour(ind,struct)"
   ]
  },
  {
   "cell_type": "code",
   "execution_count": 16,
   "metadata": {},
   "outputs": [
    {
     "data": {
      "image/png": "[encoded data removed]",
      "text/plain": [
       "<Figure size 432x288 with 1 Axes>"
      ]
     },
     "metadata": {},
     "output_type": "display_data"
    },
    {
     "data": {
      "image/png": "[encoded data removed]",
      "text/plain": [
       "<Figure size 432x288 with 1 Axes>"
      ]
     },
     "metadata": {},
     "output_type": "display_data"
    },
    {
     "data": {
      "image/png": "[encoded data removed]",
      "text/plain": [
       "<Figure size 432x288 with 1 Axes>"
      ]
     },
     "metadata": {},
     "output_type": "display_data"
    },
    {
     "data": {
      "text/plain": [
       "<matplotlib.image.AxesImage at 0x359add6f28>"
      ]
     },
     "execution_count": 16,
     "metadata": {},
     "output_type": "execute_result"
    },
    {
     "data": {
      "image/png": "[encoded data removed]",
      "text/plain": [
       "<Figure size 432x288 with 1 Axes>"
      ]
     },
     "metadata": {},
     "output_type": "display_data"
    }
   ],
   "source": [
    "# initial status\n",
    "ind = 65\n",
    "struct = \"Brain\"\n",
    "img_postop = data.get_post_images(ind)\n",
    "pts_init = data.get_contour(ind,struct)\n",
    "contour_init = data.create_contour_overlay(ind,struct)\n",
    "data.show_overlay_post(ind,struct)\n",
    "plt.imshow(contour_init,cmap='gray')"
   ]
  },
  {
   "cell_type": "code",
   "execution_count": 18,
   "metadata": {},
   "outputs": [
    {
     "data": {
      "image/png": "[encoded data removed]",
      "text/plain": [
       "<Figure size 432x288 with 1 Axes>"
      ]
     },
     "metadata": {},
     "output_type": "display_data"
    }
   ],
   "source": [
    "# active contours for first image without dilation - just testing if working->will not create better segmentation since not larger\n",
    "image = img_postop[0]\n",
    "segm = segmentation.active_contour(image, pts_init)\n",
    "\n",
    "contour_img = np.zeros_like(image)\n",
    "vertices = segm.astype(np.int32)\n",
    "if len(vertices) != 0:\n",
    "    cv2.drawContours(contour_img, [vertices], -1, (255,0,0), 5)\n",
    "    #cv2.drawContours(contour_img, [snake_init], -1, (255,0,0), 3)\n",
    "overlay_post = cv2.addWeighted(image.astype(np.int16), 1.0, contour_img, 1.0, 0)\n",
    "plt.imshow(overlay_post, cmap='jet')\n",
    "plt.show()"
   ]
  },
  {
   "cell_type": "code",
   "execution_count": 41,
   "metadata": {},
   "outputs": [
    {
     "data": {
      "image/png": "[encoded data removed]",
      "text/plain": [
       "<Figure size 432x288 with 1 Axes>"
      ]
     },
     "metadata": {},
     "output_type": "display_data"
    }
   ],
   "source": [
    "# dilate \n",
    "kernel = np.ones((15,15),np.uint8)\n",
    "contour_dilated = cv2.dilate(contour_init,kernel,iterations = 1)\n",
    "toshow = contour_init+contour_dilated\n",
    "plt.imshow(toshow)\n",
    "plt.show()\n",
    "tmp = cv2.findContours(contour_dilated.astype(np.uint8),cv2.RETR_TREE, cv2.CHAIN_APPROX_SIMPLE)\n",
    "pts_dilated = tmp[1][0]"
   ]
  },
  {
   "cell_type": "code",
   "execution_count": 45,
   "metadata": {},
   "outputs": [
    {
     "data": {
      "text/plain": [
       "((278, 2), (210, 1, 2))"
      ]
     },
     "execution_count": 45,
     "metadata": {},
     "output_type": "execute_result"
    }
   ],
   "source": [
    "np.shape(pts_init), np.shape(pts_dilated)"
   ]
  },
  {
   "cell_type": "code",
   "execution_count": 47,
   "metadata": {},
   "outputs": [
    {
     "data": {
      "text/plain": [
       "(210, 1, 2)"
      ]
     },
     "execution_count": 47,
     "metadata": {},
     "output_type": "execute_result"
    }
   ],
   "source": [
    "pts_dilated.shape"
   ]
  },
  {
   "cell_type": "code",
   "execution_count": 48,
   "metadata": {},
   "outputs": [
    {
     "data": {
      "text/plain": [
       "array([[235, 140],\n",
       "       [234, 141],\n",
       "       [224, 141],\n",
       "       [223, 142],\n",
       "       [222, 142],\n",
       "       [220, 144],\n",
       "       [219, 144],\n",
       "       [218, 145],\n",
       "       [217, 145],\n",
       "       [216, 146],\n",
       "       [214, 146],\n",
       "       [212, 148],\n",
       "       [210, 148],\n",
       "       [208, 150],\n",
       "       [206, 150],\n",
       "       [204, 152],\n",
       "       [203, 152],\n",
       "       [199, 156],\n",
       "       [198, 156],\n",
       "       [196, 158],\n",
       "       [195, 158],\n",
       "       [194, 159],\n",
       "       [193, 159],\n",
       "       [193, 160],\n",
       "       [192, 161],\n",
       "       [191, 161],\n",
       "       [188, 164],\n",
       "       [187, 164],\n",
       "       [184, 167],\n",
       "       [184, 168],\n",
       "       [183, 169],\n",
       "       [183, 170],\n",
       "       [182, 171],\n",
       "       [181, 171],\n",
       "       [181, 172],\n",
       "       [180, 173],\n",
       "       [180, 174],\n",
       "       [179, 175],\n",
       "       [179, 180],\n",
       "       [178, 181],\n",
       "       [178, 184],\n",
       "       [177, 185],\n",
       "       [177, 187],\n",
       "       [176, 188],\n",
       "       [176, 190],\n",
       "       [175, 191],\n",
       "       [174, 191],\n",
       "       [174, 192],\n",
       "       [172, 194],\n",
       "       [172, 197],\n",
       "       [171, 198],\n",
       "       [171, 199],\n",
       "       [170, 200],\n",
       "       [170, 203],\n",
       "       [169, 204],\n",
       "       [169, 205],\n",
       "       [168, 206],\n",
       "       [168, 207],\n",
       "       [167, 208],\n",
       "       [167, 213],\n",
       "       [166, 214],\n",
       "       [166, 217],\n",
       "       [165, 218],\n",
       "       [165, 223],\n",
       "       [164, 224],\n",
       "       [164, 241],\n",
       "       [165, 242],\n",
       "       [165, 251],\n",
       "       [166, 252],\n",
       "       [166, 253],\n",
       "       [167, 254],\n",
       "       [167, 257],\n",
       "       [168, 258],\n",
       "       [168, 261],\n",
       "       [169, 262],\n",
       "       [169, 265],\n",
       "       [170, 266],\n",
       "       [170, 267],\n",
       "       [172, 269],\n",
       "       [172, 271],\n",
       "       [174, 273],\n",
       "       [174, 275],\n",
       "       [177, 278],\n",
       "       [178, 278],\n",
       "       [179, 279],\n",
       "       [179, 280],\n",
       "       [180, 281],\n",
       "       [180, 282],\n",
       "       [183, 285],\n",
       "       [184, 285],\n",
       "       [185, 286],\n",
       "       [186, 286],\n",
       "       [187, 287],\n",
       "       [187, 288],\n",
       "       [188, 288],\n",
       "       [189, 289],\n",
       "       [190, 289],\n",
       "       [191, 290],\n",
       "       [192, 290],\n",
       "       [193, 291],\n",
       "       [194, 291],\n",
       "       [195, 292],\n",
       "       [196, 292],\n",
       "       [197, 293],\n",
       "       [202, 293],\n",
       "       [203, 294],\n",
       "       [206, 294],\n",
       "       [207, 295],\n",
       "       [236, 295],\n",
       "       [237, 294],\n",
       "       [265, 294],\n",
       "       [266, 293],\n",
       "       [267, 293],\n",
       "       [269, 291],\n",
       "       [271, 291],\n",
       "       [272, 290],\n",
       "       [273, 290],\n",
       "       [274, 289],\n",
       "       [277, 289],\n",
       "       [278, 288],\n",
       "       [278, 287],\n",
       "       [279, 286],\n",
       "       [280, 286],\n",
       "       [285, 281],\n",
       "       [286, 281],\n",
       "       [289, 278],\n",
       "       [289, 277],\n",
       "       [290, 276],\n",
       "       [290, 275],\n",
       "       [291, 274],\n",
       "       [292, 274],\n",
       "       [292, 273],\n",
       "       [295, 270],\n",
       "       [296, 270],\n",
       "       [296, 269],\n",
       "       [297, 268],\n",
       "       [297, 267],\n",
       "       [298, 266],\n",
       "       [298, 265],\n",
       "       [299, 264],\n",
       "       [299, 263],\n",
       "       [300, 262],\n",
       "       [300, 261],\n",
       "       [301, 260],\n",
       "       [301, 259],\n",
       "       [302, 258],\n",
       "       [302, 257],\n",
       "       [303, 256],\n",
       "       [303, 253],\n",
       "       [304, 252],\n",
       "       [304, 251],\n",
       "       [305, 250],\n",
       "       [305, 245],\n",
       "       [306, 244],\n",
       "       [306, 239],\n",
       "       [307, 238],\n",
       "       [307, 223],\n",
       "       [306, 222],\n",
       "       [306, 207],\n",
       "       [305, 206],\n",
       "       [305, 205],\n",
       "       [304, 204],\n",
       "       [304, 203],\n",
       "       [303, 202],\n",
       "       [303, 197],\n",
       "       [302, 196],\n",
       "       [302, 193],\n",
       "       [301, 192],\n",
       "       [301, 191],\n",
       "       [300, 190],\n",
       "       [300, 189],\n",
       "       [299, 188],\n",
       "       [299, 187],\n",
       "       [298, 186],\n",
       "       [298, 178],\n",
       "       [297, 177],\n",
       "       [297, 176],\n",
       "       [296, 175],\n",
       "       [296, 174],\n",
       "       [295, 173],\n",
       "       [295, 172],\n",
       "       [292, 169],\n",
       "       [292, 168],\n",
       "       [291, 167],\n",
       "       [291, 166],\n",
       "       [288, 163],\n",
       "       [288, 162],\n",
       "       [287, 161],\n",
       "       [287, 160],\n",
       "       [284, 157],\n",
       "       [283, 157],\n",
       "       [282, 156],\n",
       "       [281, 156],\n",
       "       [280, 155],\n",
       "       [279, 155],\n",
       "       [273, 149],\n",
       "       [272, 149],\n",
       "       [271, 148],\n",
       "       [270, 148],\n",
       "       [269, 147],\n",
       "       [268, 147],\n",
       "       [267, 146],\n",
       "       [266, 146],\n",
       "       [265, 145],\n",
       "       [264, 145],\n",
       "       [263, 144],\n",
       "       [260, 144],\n",
       "       [258, 142],\n",
       "       [256, 142],\n",
       "       [254, 140]], dtype=int32)"
      ]
     },
     "execution_count": 48,
     "metadata": {},
     "output_type": "execute_result"
    }
   ],
   "source": []
  },
  {
   "cell_type": "code",
   "execution_count": 42,
   "metadata": {},
   "outputs": [
    {
     "ename": "IndexError",
     "evalue": "index 1 is out of bounds for axis 1 with size 1",
     "output_type": "error",
     "traceback": [
      "\u001b[1;31m---------------------------------------------------------------------------\u001b[0m",
      "\u001b[1;31mIndexError\u001b[0m                                Traceback (most recent call last)",
      "\u001b[1;32m<ipython-input-42-bc10f97b3a75>\u001b[0m in \u001b[0;36m<module>\u001b[1;34m()\u001b[0m\n\u001b[0;32m      1\u001b[0m \u001b[1;31m# active contours for first image\u001b[0m\u001b[1;33m\u001b[0m\u001b[1;33m\u001b[0m\u001b[0m\n\u001b[0;32m      2\u001b[0m \u001b[0mimage\u001b[0m \u001b[1;33m=\u001b[0m \u001b[0mimg_postop\u001b[0m\u001b[1;33m[\u001b[0m\u001b[1;36m0\u001b[0m\u001b[1;33m]\u001b[0m\u001b[1;33m\u001b[0m\u001b[0m\n\u001b[1;32m----> 3\u001b[1;33m \u001b[0msegm\u001b[0m \u001b[1;33m=\u001b[0m \u001b[0msegmentation\u001b[0m\u001b[1;33m.\u001b[0m\u001b[0mactive_contour\u001b[0m\u001b[1;33m(\u001b[0m\u001b[0mimage\u001b[0m\u001b[1;33m,\u001b[0m \u001b[0mpts_dilated\u001b[0m\u001b[1;33m)\u001b[0m\u001b[1;33m\u001b[0m\u001b[0m\n\u001b[0m\u001b[0;32m      4\u001b[0m \u001b[1;33m\u001b[0m\u001b[0m\n\u001b[0;32m      5\u001b[0m \u001b[0mcontour_img\u001b[0m \u001b[1;33m=\u001b[0m \u001b[0mnp\u001b[0m\u001b[1;33m.\u001b[0m\u001b[0mzeros_like\u001b[0m\u001b[1;33m(\u001b[0m\u001b[0mimage\u001b[0m\u001b[1;33m)\u001b[0m\u001b[1;33m\u001b[0m\u001b[0m\n",
      "\u001b[1;32m~\\Anaconda3\\lib\\site-packages\\skimage\\segmentation\\active_contour_model.py\u001b[0m in \u001b[0;36mactive_contour\u001b[1;34m(image, snake, alpha, beta, w_line, w_edge, gamma, bc, max_px_move, max_iterations, convergence)\u001b[0m\n\u001b[0;32m    144\u001b[0m                         copy=False, bounds_error=False, fill_value=0))\n\u001b[0;32m    145\u001b[0m \u001b[1;33m\u001b[0m\u001b[0m\n\u001b[1;32m--> 146\u001b[1;33m     \u001b[0mx\u001b[0m\u001b[1;33m,\u001b[0m \u001b[0my\u001b[0m \u001b[1;33m=\u001b[0m \u001b[0msnake\u001b[0m\u001b[1;33m[\u001b[0m\u001b[1;33m:\u001b[0m\u001b[1;33m,\u001b[0m \u001b[1;36m0\u001b[0m\u001b[1;33m]\u001b[0m\u001b[1;33m.\u001b[0m\u001b[0mastype\u001b[0m\u001b[1;33m(\u001b[0m\u001b[0mnp\u001b[0m\u001b[1;33m.\u001b[0m\u001b[0mfloat\u001b[0m\u001b[1;33m)\u001b[0m\u001b[1;33m,\u001b[0m \u001b[0msnake\u001b[0m\u001b[1;33m[\u001b[0m\u001b[1;33m:\u001b[0m\u001b[1;33m,\u001b[0m \u001b[1;36m1\u001b[0m\u001b[1;33m]\u001b[0m\u001b[1;33m.\u001b[0m\u001b[0mastype\u001b[0m\u001b[1;33m(\u001b[0m\u001b[0mnp\u001b[0m\u001b[1;33m.\u001b[0m\u001b[0mfloat\u001b[0m\u001b[1;33m)\u001b[0m\u001b[1;33m\u001b[0m\u001b[0m\n\u001b[0m\u001b[0;32m    147\u001b[0m     \u001b[0mxsave\u001b[0m \u001b[1;33m=\u001b[0m \u001b[0mnp\u001b[0m\u001b[1;33m.\u001b[0m\u001b[0mempty\u001b[0m\u001b[1;33m(\u001b[0m\u001b[1;33m(\u001b[0m\u001b[0mconvergence_order\u001b[0m\u001b[1;33m,\u001b[0m \u001b[0mlen\u001b[0m\u001b[1;33m(\u001b[0m\u001b[0mx\u001b[0m\u001b[1;33m)\u001b[0m\u001b[1;33m)\u001b[0m\u001b[1;33m)\u001b[0m\u001b[1;33m\u001b[0m\u001b[0m\n\u001b[0;32m    148\u001b[0m     \u001b[0mysave\u001b[0m \u001b[1;33m=\u001b[0m \u001b[0mnp\u001b[0m\u001b[1;33m.\u001b[0m\u001b[0mempty\u001b[0m\u001b[1;33m(\u001b[0m\u001b[1;33m(\u001b[0m\u001b[0mconvergence_order\u001b[0m\u001b[1;33m,\u001b[0m \u001b[0mlen\u001b[0m\u001b[1;33m(\u001b[0m\u001b[0mx\u001b[0m\u001b[1;33m)\u001b[0m\u001b[1;33m)\u001b[0m\u001b[1;33m)\u001b[0m\u001b[1;33m\u001b[0m\u001b[0m\n",
      "\u001b[1;31mIndexError\u001b[0m: index 1 is out of bounds for axis 1 with size 1"
     ]
    }
   ],
   "source": [
    "# active contours for first image\n",
    "image = img_postop[0]\n",
    "segm = segmentation.active_contour(image, pts_dilated)\n",
    "\n",
    "contour_img = np.zeros_like(image)\n",
    "vertices = segm.astype(np.int32)\n",
    "if len(vertices) != 0:\n",
    "    cv2.drawContours(contour_img, [vertices], -1, 255, -1)\n",
    "    #cv2.drawContours(contour_img, [snake_init], -1, (255,0,0), 3)\n",
    "overlay_post = cv2.addWeighted(image.astype(np.int16), 1.0, contour_img, 1, 0)\n",
    "plt.imshow(overlay_post)\n",
    "plt.show()"
   ]
  },
  {
   "cell_type": "code",
   "execution_count": null,
   "metadata": {},
   "outputs": [],
   "source": []
  },
  {
   "cell_type": "code",
   "execution_count": null,
   "metadata": {},
   "outputs": [],
   "source": []
  },
  {
   "cell_type": "code",
   "execution_count": 92,
   "metadata": {},
   "outputs": [],
   "source": [
    "# random walker\n",
    "segm2 = segmentation.random_walker(image, snake_contour,beta = 3000)"
   ]
  },
  {
   "cell_type": "code",
   "execution_count": 93,
   "metadata": {},
   "outputs": [
    {
     "data": {
      "text/plain": [
       "((512, 512), 1, 1)"
      ]
     },
     "execution_count": 93,
     "metadata": {},
     "output_type": "execute_result"
    }
   ],
   "source": [
    "np.shape(segm2), segm2.min(), segm2.max()"
   ]
  },
  {
   "cell_type": "code",
   "execution_count": 94,
   "metadata": {},
   "outputs": [
    {
     "data": {
      "text/plain": [
       "<matplotlib.image.AxesImage at 0x73762314e0>"
      ]
     },
     "execution_count": 94,
     "metadata": {},
     "output_type": "execute_result"
    },
    {
     "data": {
      "image/png": "[encoded data removed]",
      "text/plain": [
       "<Figure size 432x288 with 1 Axes>"
      ]
     },
     "metadata": {},
     "output_type": "display_data"
    }
   ],
   "source": [
    "plt.imshow(segm2==1)"
   ]
  },
  {
   "cell_type": "code",
   "execution_count": 50,
   "metadata": {},
   "outputs": [
    {
     "data": {
      "text/plain": [
       "255"
      ]
     },
     "execution_count": 50,
     "metadata": {},
     "output_type": "execute_result"
    }
   ],
   "source": [
    "contour_img.max()"
   ]
  },
  {
   "cell_type": "code",
   "execution_count": null,
   "metadata": {},
   "outputs": [],
   "source": []
  },
  {
   "cell_type": "markdown",
   "metadata": {},
   "source": [
    "### TMP"
   ]
  },
  {
   "cell_type": "raw",
   "metadata": {},
   "source": [
    "class PatientData:\n",
    "\n",
    "    def __init__(self, preop_dicom_path, contours_dicom_path, debug=True):\n",
    "        self._debug = debug\n",
    "        self._preop_dicom_path = preop_dicom_path\n",
    "        self._contour_dicom_path = contours_dicom_path\n",
    "        self._preop_imgs = None\n",
    "        self._dcm_dimensions = None\n",
    "        self._pixel_spacing = None\n",
    "        self._position = None\n",
    "        self._correction = None\n",
    "        self._preop_imgs_z = None\n",
    "        self._contour_dcm = None\n",
    "        self.contour_list_names = pd.DataFrame(columns=['ID', 'RoiNumber', 'RoiName'])\n",
    "        self.contour_list_names_filtered = pd.DataFrame(columns=['ID', 'RoiNumber', 'RoiName'])\n",
    "        self.contour_dict_points_layerwise = {}\n",
    "        self._read_dicom_preop()\n",
    "        self._read_dicom_contour()\n",
    "        self._read_contour_list()\n",
    "\n",
    "    def _read_dicom_preop(self):\n",
    "        \"\"\"\n",
    "        Method to read dicom preop (CT) data and pixel array of dicoms\n",
    "        :return:\n",
    "        \"\"\"\n",
    "        files = natsorted(os.listdir(self._preop_dicom_path))\n",
    "        try:\n",
    "            preop_dcms_list = [pydicom.read_file(os.path.join(self._preop_dicom_path, fn)) for fn in files]\n",
    "            self._preop_imgs = [dcm.pixel_array for dcm in preop_dcms_list]\n",
    "            self._preop_imgs_z = [float(x.get('SliceLocation', '-100')) for x in preop_dcms_list]\n",
    "            \n",
    "            # reference frame\n",
    "            ds =  preop_dcms_list[0]\n",
    "            self._dcm_dimensions = (int(ds.Rows), int(ds.Columns), len(files))\n",
    "            self._pixel_spacing = (float(ds.PixelSpacing[0]), float(ds.PixelSpacing[1]), float(ds.SliceThickness))\n",
    "            self._position = tuple((float(p) for p in ds.ImagePositionPatient))\n",
    "            self._correction = [abs(0+self._position[0])+1,abs(0+self._position[1])+1,0]\n",
    "            #self.ref_x = np.arange(position[0], position[0]+(ConstPixelDims[0]+1)*ConstPixelSpacing[0], ConstPixelSpacing[0])\n",
    "            #self.ref_y = np.arange(position[1], position[1]+(ConstPixelDims[1]+1)*ConstPixelSpacing[1], ConstPixelSpacing[1])\n",
    "            #self.ref_z = np.arange(position[2], position[2]+(ConstPixelDims[2]+1)*ConstPixelSpacing[2], ConstPixelSpacing[2])\n",
    "            \n",
    "        except:\n",
    "            raise ImportError(\"Dicom-file preop couldn't be opened.\")\n",
    "        if self._debug:\n",
    "            print(\"Image size.......:\", self._dcm_dimensions)\n",
    "            print(\"Pixel spacing....:\", self._pixel_spacing)\n",
    "            print(\"Slices number....:\", len(self._preop_imgs_z))            \n",
    "            print(\"Slices location...:\", self._preop_imgs_z[0] , \" - \", self._preop_imgs_z[-1])\n",
    "            print(\"Position.........:\", self._position)\n",
    "            print(\"Resulting correction:\", self._correction)\n",
    "\n",
    "    def _read_dicom_contour(self):\n",
    "        \"\"\"\n",
    "        Method to read dicom contour file\n",
    "        :return:\n",
    "        \"\"\"\n",
    "        if \".dcm\" not in self._contour_dicom_path.lower():\n",
    "            raise TypeError(\"File needs to be dicom format.\")\n",
    "        try:\n",
    "            self._contour_dcm = pydicom.dcmread(self._contour_dicom_path)\n",
    "        except:\n",
    "            raise ImportError(\"Dicom-file contours couldn't be opened.\")\n",
    "\n",
    "        if self._debug:\n",
    "            if 'PixelSpacing' in self._contour_dcm:\n",
    "                print(\"Pixel spacing....:\", self._contour_dcm.PixelSpacing)\n",
    "\n",
    "    def _read_contour_list(self):\n",
    "        \"\"\"\n",
    "        Method to read contour information of dicom contour file and extract ROINumber and ROIName\n",
    "        :return:\n",
    "        \"\"\"\n",
    "        if len(self.contour_list_names) != 0:\n",
    "            raise Warning(\"Contour list is already initialized and will not be initialized again.\")\n",
    "        for i in range(self._contour_dcm.StructureSetROISequence.__len__()):\n",
    "            row = {'ID': i,\n",
    "                   'RoiNumber': self._contour_dcm.StructureSetROISequence.__getitem__(i).ROINumber,\n",
    "                   'RoiName': self._contour_dcm.StructureSetROISequence.__getitem__(i).ROIName}\n",
    "            self.contour_list_names = self.contour_list_names.append(row, ignore_index=True)\n",
    "\n",
    "    def filter_contour_list(self, roiname=None, roinumber=None, mode=\"approx\"):\n",
    "        \"\"\"\n",
    "        Method to filter entire contour list for specific ROI\n",
    "        :param roiname: list of ROINames to filter\n",
    "        :param roinumber: list of ROINumbers to filter\n",
    "        :param mode: either approx (default) - given roiname is part of ROIName\n",
    "                        or exact - names must exactly match\n",
    "        :return: subset of pandas dataframe with requested ROI\n",
    "        \"\"\"\n",
    "\n",
    "        if type(roiname) == str:\n",
    "            roiname = [roiname]\n",
    "        if roiname is not None:\n",
    "            if mode == 'approx':\n",
    "                self.contour_list_names_filtered = pd.DataFrame(\n",
    "                    [x for y in roiname for idx, x in self.contour_list_names.iterrows() if y in x['RoiName']])\n",
    "            if mode == 'exact':\n",
    "                self.contour_list_names_filtered = pd.DataFrame(\n",
    "                    [x for y in roiname for idx, x in self.contour_list_names.iterrows() if y == x['RoiName']])\n",
    "\n",
    "        if roinumber is not None:\n",
    "            self.contour_list_names_filtered = self.contour_list_names_filtered.append(pd.DataFrame(\n",
    "                [x for y in roinumber for idx, x in self.contour_list_names.iterrows() if y == x['RoiNumber']]))\n",
    "\n",
    "        if len(self.contour_list_names_filtered) != 0:\n",
    "            self.contour_list_names_filtered = self.contour_list_names_filtered.drop_duplicates()\n",
    "        return self.contour_list_names_filtered\n",
    "\n",
    "    def read_filtered_contour(self):\n",
    "        \"\"\"\n",
    "        Method to read the contour information of filtered roi names\n",
    "        :return: dict with roi names as keys and list of layer-wise coordinates\n",
    "        \"\"\"\n",
    "\n",
    "        if len(self.contour_list_names_filtered) == 0:\n",
    "            raise ValueError(\n",
    "                \"List of contours of interest is empty. Please run filter_contour_list before filter_contour.\")\n",
    "\n",
    "        contours_dict_point_layerwise = {x: [] for x in self.contour_list_names_filtered['RoiName']}\n",
    "        for idx, x in self.contour_list_names_filtered.iterrows():\n",
    "            contour_points_layerwise = []\n",
    "            i = x['ID']\n",
    "            name = x['RoiName']\n",
    "            for j in range(self._contour_dcm.ROIContourSequence.__getitem__(i).ContourSequence.__len__()):\n",
    "                contour = np.array(\n",
    "                    self._contour_dcm.ROIContourSequence.__getitem__(i).ContourSequence.__getitem__(j).ContourData)\n",
    "                contour = contour.reshape(int(contour.size / 3.), 3)+self._correction\n",
    "                contour_points_layerwise.append(contour)\n",
    "            contours_dict_point_layerwise[name] = contour_points_layerwise\n",
    "\n",
    "        self.contour_dict_points_layerwise = contours_dict_point_layerwise"
   ]
  },
  {
   "cell_type": "raw",
   "metadata": {},
   "source": [
    "def show_overlay_pre(ind):\n",
    "    loc = data.get_slice_location(ind)\n",
    "    img_preop = data.get_pre_images(ind)\n",
    "    img_preop = cv2.normalize(img_preop,img_preop,0,255,32)\n",
    "    contour_img = np.zeros_like(img_preop)\n",
    "    vertices = [x[:,0:2] for x in data.contour_dict_points_layerwise[struct] if x[0][2]==loc]\n",
    "    if len(vertices) != 0:\n",
    "        vertices = np.array(vertices[0]).astype(np.int32)\n",
    "        cv2.drawContours(contour_img, [vertices], -1, (255,255,255), -1)\n",
    "    else:\n",
    "        print('No contour')\n",
    "    overlay_pre = cv2.addWeighted(img_preop,1.0,contour_img,0.8,0)\n",
    "    plt.imshow(overlay_pre)\n",
    "    plt.show()\n",
    "def show_overlay_post(ind):\n",
    "    loc = data.get_slice_location(ind)\n",
    "    img_postop = data.get_post_images(ind)\n",
    "    img_postop = [cv2.normalize(x,x,0,255,32) for x in img_postop]\n",
    "    contour_img = np.zeros_like(img_postop[0])\n",
    "    vertices = [x[:,0:2] for x in data.contour_dict_points_layerwise[struct] if x[0][2]==loc]\n",
    "    if len(vertices) != 0:\n",
    "        vertices = np.array(vertices[0]).astype(np.int32)\n",
    "        cv2.drawContours(contour_img, [vertices], -1, (255,255,255), -1)\n",
    "    else:\n",
    "        print('No contour')\n",
    "    overlay_post = [cv2.addWeighted(x,1.0,contour_img,0.8,0) for x in img_postop]\n",
    "    for img in overlay_post:\n",
    "        plt.imshow(img)\n",
    "        plt.show()"
   ]
  }
 ],
 "metadata": {
  "kernelspec": {
   "display_name": "Python 3",
   "language": "python",
   "name": "python3"
  }
 },
 "nbformat": 4,
 "nbformat_minor": 2
}
